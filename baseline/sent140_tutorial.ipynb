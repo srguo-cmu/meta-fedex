{
 "cells": [
  {
   "cell_type": "markdown",
   "metadata": {
    "code_folding": [],
    "collapsed": true,
    "customInput": null,
    "hidden_ranges": [],
    "id": "1dwlL58esQ7x",
    "originalKey": "ef12966a-7e07-446b-b931-4235e269f994",
    "showInput": false
   },
   "source": [
    "# FLSim Tutorial: Sentiment Classification with LEAF's Sent140\n",
    "\n"
   ]
  },
  {
   "cell_type": "markdown",
   "metadata": {
    "code_folding": [],
    "customInput": null,
    "hidden_ranges": [],
    "id": "OP4Clr_PsQ70",
    "originalKey": "669ad0e3-282b-41be-aad0-2c111b3402be",
    "showInput": false
   },
   "source": [
    "## Introduction\n",
    "\n",
    "In this tutorial, we will train a binary sentiment classifier on LEAF's Sent140 dataset with federated learning using FLSim. \n"
   ]
  },
  {
   "cell_type": "markdown",
   "metadata": {
    "code_folding": [],
    "customInput": null,
    "hidden_ranges": [],
    "id": "yRlTlsNAsQ71",
    "originalKey": "bcb5f56d-908e-4978-9e60-73c794d1de79",
    "showInput": false
   },
   "source": [
    "### Prerequisites\n",
    "\n",
    "To get the most of this tutorial, you should be comfortable with training machine learning models with **PyTorch** and familiar with the concept of **federated learning (FL)**. If you are unfamiliar with either of them or could use a refresher, please take a look at the following resources before proceeding with the tutorial:\n",
    "\n",
    "- McMahan & Ramage (2017): [Federated Learning: Collaborative Machine Learning without Centralized Training Data](https://ai.googleblog.com/2017/04/federated-learning-collaborative.html). A short blog post from Google AI introducing the main idea of FL in a beginner-friendly way.\n",
    "- McMahan et al. (2017): [Communication-Efficient Learning of Deep Networks from Decentralized Data](https://arxiv.org/pdf/1602.05629.pdf). This paper first proposes the approach of federated learning. The described algorithm is now known as federated averaging (or FedAvg for short).\n",
    "- PyTorch has [extensive tutorials](https://pytorch.org/tutorials/) on their website.\n",
    "- If you're new to **sentiment classification**, you can find Pang and Lee's survey on the topic [here](https://www.cs.cornell.edu/home/llee/omsa/omsa-published.pdf). \n",
    "\n",
    "Now that you're familiar with PyTorch and FL and have a sense of sentiment classification, let's move on!"
   ]
  },
  {
   "cell_type": "markdown",
   "metadata": {
    "code_folding": [],
    "customInput": null,
    "hidden_ranges": [],
    "id": "uu57DhzisQ71",
    "originalKey": "6c37e934-b30b-4946-8acf-f308b487688f",
    "showInput": false
   },
   "source": [
    "### Objectives \n",
    "\n",
    "By the end of this tutorial, we will have learnt how to\n",
    "\n",
    "1. Build a data pipeline for federated learning with FLSim,\n",
    "2. Create a sentiment classification model compatible with FL training,\n",
    "3. Create a metrics reporter to collect and report metrics,\n",
    "4. Set hyperparameters for FL training, and\n",
    "5. Launch an FL training flow using FLSim."
   ]
  },
  {
   "cell_type": "markdown",
   "metadata": {
    "code_folding": [],
    "customInput": null,
    "hidden_ranges": [],
    "id": "N9gqo4t2sQ72",
    "originalKey": "b2a57ec9-bb33-4df6-9608-0abe10445108",
    "showInput": false
   },
   "source": [
    "## Training a sentiment classifier with FLSim"
   ]
  },
  {
   "cell_type": "markdown",
   "metadata": {
    "id": "4OwUiKzUaW0o"
   },
   "source": [
    "### Prerequisites\n",
    "First, let us install flsim via pip with the command below:"
   ]
  },
  {
   "cell_type": "code",
   "execution_count": 1,
   "metadata": {
    "colab": {
     "base_uri": "https://localhost:8080/"
    },
    "id": "tGWFqWOgaWlC",
    "outputId": "21dba039-0159-4368-a1d3-d09683c5aca5"
   },
   "outputs": [
    {
     "name": "stdout",
     "output_type": "stream",
     "text": [
      "\u001b[33mWARNING: Running pip as the 'root' user can result in broken permissions and conflicting behaviour with the system package manager. It is recommended to use a virtual environment instead: https://pip.pypa.io/warnings/venv\u001b[0m\r\n"
     ]
    }
   ],
   "source": [
    "!pip install --quiet flsim"
   ]
  },
  {
   "cell_type": "markdown",
   "metadata": {
    "id": "UKrpO_9QUTNi"
   },
   "source": [
    "Some useful parameters for later - no need to change these."
   ]
  },
  {
   "cell_type": "code",
   "execution_count": 2,
   "metadata": {},
   "outputs": [
    {
     "name": "stdout",
     "output_type": "stream",
     "text": [
      "nvcc: NVIDIA (R) Cuda compiler driver\r\n",
      "Copyright (c) 2005-2021 NVIDIA Corporation\r\n",
      "Built on Mon_Sep_13_19:13:29_PDT_2021\r\n",
      "Cuda compilation tools, release 11.5, V11.5.50\r\n",
      "Build cuda_11.5.r11.5/compiler.30411180_0\r\n"
     ]
    }
   ],
   "source": [
    "!nvcc --version\n"
   ]
  },
  {
   "cell_type": "code",
   "execution_count": 3,
   "metadata": {
    "id": "1CLgWoXk2Vqy"
   },
   "outputs": [],
   "source": [
    "USE_CUDA = True\n",
    "LOCAL_BATCH_SIZE = 32\n",
    "MAX_SEQ_LEN = 25\n",
    "\n",
    "# suppress large outputs\n",
    "VERBOSE = False"
   ]
  },
  {
   "cell_type": "markdown",
   "metadata": {
    "code_folding": [],
    "collapsed": true,
    "customInput": null,
    "hidden_ranges": [],
    "id": "4-obozTKsQ72",
    "originalKey": "5d2a8203-16cb-492a-a4cd-46b0a9456e21",
    "showInput": false
   },
   "source": [
    "### 0. About the dataset\n",
    "\n",
    "For this tutorial, we will use [LEAF's](https://leaf.cmu.edu/) [Sentiment140 (Sent140) dataset](https://leaf.cmu.edu/build/html/tutorials/sent140-md.html), which consists of 1.6 million tweets by 660k users. Note that the mean number of tweets per user is 2.42 and the standard deviation is 4.71.\n",
    "\n",
    "![Sent140 distribution of samples across users](https://leaf.cmu.edu/webpage/images/twitter_hist.png)\n",
    "\n",
    "Before the next step in this tutorial, we need to download the dataset and partition the data by users. \n",
    "In particular, we sample \n",
    "1% of the entire dataset (`--sf 0.01`) \n",
    "in a non-IID manner (`-s niid`) \n",
    "and partition 90% of sampled users into train and 10% of sampled users \n",
    "into test (`--tf 0.90`) as opposed to splitting individual samples into train and test (`-t 'user'`) .\n",
    "We require all users to have at least one sample (`-k 1`).\n",
    "\n",
    "For more information on the various preprocessing options, see [here](https://github.com/TalwalkarLab/leaf/tree/master/data/sent140). You can find the LEAF paper [here](https://arxiv.org/pdf/1812.01097.pdf).\n"
   ]
  },
  {
   "cell_type": "code",
   "execution_count": 4,
   "metadata": {
    "code_folding": [],
    "customInput": null,
    "executionStartTime": 1636676289207,
    "executionStopTime": 1636676290023,
    "hidden_ranges": [],
    "id": "GIk4gCUqsQ73",
    "originalKey": "59d5e611-102e-4d44-9478-cfd54f0ca81b",
    "requestMsgId": "5ab54fa9-8358-41b9-91c5-ed36729a10b2",
    "showInput": true
   },
   "outputs": [
    {
     "name": "stdout",
     "output_type": "stream",
     "text": [
      "/workspace/leaf/data/sent140\n"
     ]
    }
   ],
   "source": [
    "# Don't need to run this after the directory has been created once\n",
    "\n",
    "'''\n",
    "\n",
    "%%capture preprocess_output\n",
    "\n",
    "# Download and preprocess the data\n",
    "!git clone https://github.com/TalwalkarLab/leaf.git\n",
    "%cd leaf/data/sent140\n",
    "# !./preprocess.sh --sf 0.01 -s niid -t 'user' --tf 0.90 -k 1 --spltseed 1\n",
    "\n",
    "# change preprocess option (-t) so each user's data gets split into train/test\n",
    "!./preprocess.sh --sf 0.01 -s niid -t 'sample' --tf 0.90 -k 2 --spltseed 1\n",
    "\n",
    "if VERBOSE: print(preprocess_output)\n",
    "\n",
    "'''\n",
    "\n",
    "%cd leaf/data/sent140"
   ]
  },
  {
   "cell_type": "markdown",
   "metadata": {
    "code_folding": [],
    "customInput": null,
    "hidden_ranges": [],
    "id": "qtUAyO01sQ75",
    "originalKey": "6d9d0efd-fcaa-4017-beb6-c9da31b4094e",
    "showInput": false
   },
   "source": [
    "Let us now find our preprocessed data. Note that if you use different preprocessing options, you might need to change these!\n",
    "\n"
   ]
  },
  {
   "cell_type": "code",
   "execution_count": 5,
   "metadata": {
    "code_folding": [],
    "colab": {
     "base_uri": "https://localhost:8080/"
    },
    "customInput": null,
    "executionStartTime": 1636676290310,
    "executionStopTime": 1636676290315,
    "hidden_ranges": [],
    "id": "LZr-3AiXsQ76",
    "originalKey": "a27a936f-9c09-4884-a792-0cd118687116",
    "outputId": "987e5745-bca9-413f-c78c-ace5011306a4",
    "requestMsgId": "4fb9c5e3-9a89-4081-b589-f9e1286bce9e",
    "showInput": true
   },
   "outputs": [
    {
     "data": {
      "text/plain": [
       "('data/train/all_data_niid_01_keep_2_train_9.json',\n",
       " 'data/test/all_data_niid_01_keep_2_test_9.json')"
      ]
     },
     "execution_count": 5,
     "metadata": {},
     "output_type": "execute_result"
    }
   ],
   "source": [
    "TRAIN_DATA = !ls data/train\n",
    "TRAIN_DATA = \"data/train/\" + TRAIN_DATA[0]\n",
    "\n",
    "TEST_DATA = !ls data/test\n",
    "TEST_DATA = \"data/test/\" + TEST_DATA[0]\n",
    "\n",
    "TRAIN_DATA, TEST_DATA"
   ]
  },
  {
   "cell_type": "markdown",
   "metadata": {
    "code_folding": [],
    "customInput": null,
    "hidden_ranges": [],
    "id": "I19fSlqTsQ77",
    "originalKey": "20691777-83ab-4406-84c5-950fa4b2224f",
    "showInput": false
   },
   "source": [
    "We can now load the training data and get a sense of how samples are distributed across users in our subset of the Sent140 dataset.\n"
   ]
  },
  {
   "cell_type": "code",
   "execution_count": 6,
   "metadata": {
    "code_folding": [],
    "colab": {
     "base_uri": "https://localhost:8080/"
    },
    "executionStartTime": 1636676290335,
    "executionStopTime": 1636676290360,
    "hidden_ranges": [],
    "id": "rls5a-z9sQ77",
    "originalKey": "8cc146cc-61db-445c-9c8c-8528226d3b80",
    "outputId": "1b24b943-954b-4ab6-9dd1-8430da6bf012",
    "requestMsgId": "26f25906-c0a5-43fe-a025-e4b39a598570",
    "showInput": true
   },
   "outputs": [
    {
     "name": "stdout",
     "output_type": "stream",
     "text": [
      "\n",
      "Number of samples per user:\n",
      "  min=1, \n",
      "  max=123, \n",
      "  median=2.0, \n",
      "  mean=3.64, \n",
      "  std=6.37\n",
      "  \n"
     ]
    }
   ],
   "source": [
    "import json\n",
    "import numpy as np\n",
    "\n",
    "# load the training data\n",
    "with open(TRAIN_DATA, \"r\") as f:\n",
    "    training_data = json.load(f)\n",
    "\n",
    "# how samples are distributed across users\n",
    "n_samples = training_data['num_samples']\n",
    "print(f\"\"\"\\nNumber of samples per user:\n",
    "  min={np.min(n_samples)}, \n",
    "  max={np.max(n_samples)}, \n",
    "  median={np.median(n_samples)}, \n",
    "  mean={np.mean(n_samples):.2f}, \n",
    "  std={np.std(n_samples):.2f}\n",
    "  \"\"\")"
   ]
  },
  {
   "cell_type": "code",
   "execution_count": 7,
   "metadata": {
    "id": "OGg2m-HbNhy8"
   },
   "outputs": [],
   "source": [
    "# print(training_data.keys())\n",
    "# print(training_data[\"users\"])\n"
   ]
  },
  {
   "cell_type": "markdown",
   "metadata": {
    "id": "kTQjXxWha_AX"
   },
   "source": [
    "Let us also look at the data for an example user. Notice that there are multiple metadata fields in addition to the tweet itself and its sentiment label."
   ]
  },
  {
   "cell_type": "code",
   "execution_count": 8,
   "metadata": {
    "code_folding": [],
    "colab": {
     "base_uri": "https://localhost:8080/"
    },
    "customInput": null,
    "executionStartTime": 1636676290400,
    "executionStopTime": 1636676290432,
    "hidden_ranges": [],
    "id": "8_zPhV2DsQ78",
    "originalKey": "4d8c298b-b1c4-48e9-bf09-0217abe97393",
    "outputId": "33d62f5a-c519-44ab-d8d4-54a18f08f813",
    "requestMsgId": "a706da0d-e298-4e63-b2c0-c5ac97a43f64",
    "showInput": true
   },
   "outputs": [
    {
     "data": {
      "text/plain": [
       "{'x': [['2003370575',\n",
       "   'Tue Jun 02 06:24:38 PDT 2009',\n",
       "   'NO_QUERY',\n",
       "   'bricaligirl',\n",
       "   'Doin my hair for school... Sooo tired ',\n",
       "   'training']],\n",
       " 'y': [0]}"
      ]
     },
     "execution_count": 8,
     "metadata": {},
     "output_type": "execute_result"
    }
   ],
   "source": [
    "EXAMPLE_USER = training_data[\"users\"][0]\n",
    "training_data[\"user_data\"][EXAMPLE_USER]"
   ]
  },
  {
   "cell_type": "markdown",
   "metadata": {
    "code_folding": [],
    "collapsed": true,
    "customInput": null,
    "hidden_ranges": [],
    "id": "VVyMleGnsQ79",
    "originalKey": "7152ba71-9205-408c-a369-00308e75314a",
    "showInput": false
   },
   "source": [
    "### 1. Data pipeline\n",
    "\n",
    "Now, let us define how to build the data pipeline for federated learning:\n",
    "\n",
    "1. To load the training and test data, we define a new dataset class, `Sent140Dataset`, which converts each user's tweets (features) into a `torch.Tensor`, discarding tweet metadata such as the date and time of the tweet. It also stores each tweet's sentiment (label) as well.\n",
    "\n"
   ]
  },
  {
   "cell_type": "code",
   "execution_count": 9,
   "metadata": {
    "code_folding": [],
    "executionStartTime": 1636676290438,
    "executionStopTime": 1636676291421,
    "hidden_ranges": [],
    "id": "Y6hlQ2JKsQ79",
    "originalKey": "77651659-ce0a-48ef-947b-ca898bb3793f",
    "requestMsgId": "791e752f-82c1-444d-9ced-3716af1460c9"
   },
   "outputs": [],
   "source": [
    "import itertools\n",
    "import re\n",
    "import string\n",
    "import unicodedata\n",
    "\n",
    "import torch\n",
    "from torch.utils.data import Dataset\n",
    "\n",
    "\n",
    "# 1. The Sent140Dataset will store the tweets and corresponding sentiment for each user.\n",
    "\n",
    "class Sent140Dataset(Dataset):\n",
    "    def __init__(self, data_root, max_seq_len):\n",
    "        self.data_root = data_root\n",
    "        self.max_seq_len = max_seq_len\n",
    "        self.all_letters = {c: i for i, c in enumerate(string.printable)}\n",
    "        self.num_letters = len(self.all_letters)\n",
    "        self.UNK = self.num_letters\n",
    "\n",
    "        with open(data_root, \"r+\") as f:\n",
    "            self.dataset = json.load(f)\n",
    "\n",
    "        self.data = {}\n",
    "        self.targets = {}\n",
    "        self.num_classes = 2  # binary sentiment classification\n",
    "\n",
    "        # Populate self.data and self.targets\n",
    "        for user_id, user_data in self.dataset[\"user_data\"].items():\n",
    "            self.data[user_id] = self.process_x(list(user_data[\"x\"]))\n",
    "            self.targets[user_id] = self.process_y(list(user_data[\"y\"]))\n",
    "\n",
    "    def __len__(self):\n",
    "        return len(self.data)\n",
    "\n",
    "    def __iter__(self):\n",
    "        for user_id in self.data.keys():\n",
    "            yield self.__getitem__(user_id)\n",
    "\n",
    "    def __getitem__(self, user_id: str):\n",
    "        if user_id not in self.data or user_id not in self.targets:\n",
    "            raise IndexError(f\"User {user_id} is not in dataset\")\n",
    "        return self.data[user_id], self.targets[user_id]\n",
    "\n",
    "    def unicodeToAscii(self, s):\n",
    "        return \"\".join(\n",
    "            c for c in unicodedata.normalize(\"NFD\", s)\n",
    "            if unicodedata.category(c) != \"Mn\" and c in self.all_letters\n",
    "        )\n",
    "\n",
    "    def line_to_indices(self, line: str, max_seq_len: int):\n",
    "        line_list = self.split_line(line)  # split phrase in words\n",
    "        line_list = line_list\n",
    "        chars = self.flatten_list([list(word) for word in line_list])\n",
    "        indices = [\n",
    "            self.all_letters.get(letter, self.UNK)\n",
    "            for i, letter in enumerate(chars)\n",
    "            if i < max_seq_len\n",
    "        ]\n",
    "        # Add padding\n",
    "        indices = indices + [self.UNK] * (max_seq_len - len(indices))\n",
    "        return indices\n",
    "\n",
    "    def process_x(self, raw_x_batch):\n",
    "        x_batch = [e[4] for e in raw_x_batch]  # e[4] contains the actual tweet\n",
    "        x_batch = [self.line_to_indices(e, self.max_seq_len) for e in x_batch]\n",
    "        x_batch = torch.LongTensor(x_batch)\n",
    "        return x_batch\n",
    "\n",
    "    def process_y(self, raw_y_batch):\n",
    "        y_batch = [int(e) for e in raw_y_batch]\n",
    "        return y_batch\n",
    "\n",
    "    def split_line(self, line):\n",
    "        \"\"\"\n",
    "        Split given line/phrase (str) into list of words (List[str])\n",
    "        \"\"\"\n",
    "        return re.findall(r\"[\\w']+|[.,!?;]\", line)\n",
    "\n",
    "    def flatten_list(self, nested_list):\n",
    "        return list(itertools.chain.from_iterable(nested_list))"
   ]
  },
  {
   "cell_type": "markdown",
   "metadata": {
    "code_folding": [],
    "customInput": null,
    "hidden_ranges": [],
    "id": "SoqA5GkSsQ79",
    "originalKey": "f76ded33-fb91-4978-96ce-da9a65d8c7dc",
    "showInput": false
   },
   "source": [
    "2. We can now load the train and test dataset using `Sent140Dataset`.\n"
   ]
  },
  {
   "cell_type": "code",
   "execution_count": 10,
   "metadata": {
    "code_folding": [],
    "customInput": null,
    "executionStartTime": 1636676291516,
    "executionStopTime": 1636676292257,
    "hidden_ranges": [],
    "id": "tfRiZPphsQ79",
    "originalKey": "4f2e40f3-8e8d-4590-803a-6210cd4455c4",
    "requestMsgId": "5b6ad058-f5e0-4616-a05c-b9c1ec19fb01",
    "showInput": true
   },
   "outputs": [],
   "source": [
    "# 2. Load the train and test datasets.\n",
    "train_dataset = Sent140Dataset(\n",
    "    data_root=TRAIN_DATA,\n",
    "    max_seq_len=MAX_SEQ_LEN,\n",
    ")\n",
    "test_dataset = Sent140Dataset(\n",
    "    data_root=TEST_DATA,\n",
    "    max_seq_len=MAX_SEQ_LEN,\n",
    ")"
   ]
  },
  {
   "cell_type": "markdown",
   "metadata": {
    "code_folding": [],
    "customInput": null,
    "hidden_ranges": [],
    "id": "iHBiHkf3sQ7-",
    "originalKey": "63946b49-8f29-473a-a694-4aa68e982593",
    "showInput": false
   },
   "source": [
    "Recall our `EXAMPLE_USER` from earlier? Their data now looks like this:"
   ]
  },
  {
   "cell_type": "code",
   "execution_count": 11,
   "metadata": {
    "code_folding": [],
    "colab": {
     "base_uri": "https://localhost:8080/"
    },
    "customInput": null,
    "executionStartTime": 1636676292269,
    "executionStopTime": 1636676292273,
    "hidden_ranges": [],
    "id": "T3bVCtR4sQ7-",
    "originalKey": "8c2b0f96-2836-42b5-9d3b-cc468fb20a7a",
    "outputId": "49490198-29f6-4899-b94e-5361ea3c4689",
    "requestMsgId": "0ecb6209-5c9c-45a3-adb7-1abb17865411",
    "showInput": true
   },
   "outputs": [
    {
     "data": {
      "text/plain": [
       "(tensor([[39, 24, 18, 23, 22, 34, 17, 10, 18, 27, 15, 24, 27, 28, 12, 17, 24, 24,\n",
       "          21, 75, 75, 75, 54, 24, 24]]),\n",
       " [0])"
      ]
     },
     "execution_count": 11,
     "metadata": {},
     "output_type": "execute_result"
    }
   ],
   "source": [
    "train_dataset[EXAMPLE_USER]"
   ]
  },
  {
   "cell_type": "markdown",
   "metadata": {
    "code_folding": [],
    "customInput": null,
    "hidden_ranges": [],
    "id": "6xoU8ZcwsQ7-",
    "originalKey": "dd5a34ad-bf41-4b6b-82db-8dc528131310",
    "showInput": false
   },
   "source": [
    "To complete our data pipeline, we only need to\n",
    "\n",
    "3. Create a data loader, which will batchify training, eval, and test data. There is no need to create a sharder since each data sample is already associated with a user. For each dataset, the data loader splits each client's data into batches of size `batch_size`. We choose not to drop the last batch.\n",
    "\n",
    "4. Lastly, wrap the data loader with a data provider and return it. \n",
    "The data provider creates clients from the groupings in the data loader and adds metadata (e.g. number of examples, number of batches per client). \n",
    "Our data is now formatted such that the trainer will accept it."
   ]
  },
  {
   "cell_type": "code",
   "execution_count": 12,
   "metadata": {
    "code_folding": [],
    "colab": {
     "base_uri": "https://localhost:8080/"
    },
    "customInput": null,
    "executionStartTime": 1636676292361,
    "executionStopTime": 1636676295007,
    "hidden_ranges": [],
    "id": "yHYYAP_ksQ7-",
    "originalKey": "09659734-9020-4f0e-a01f-4491a8f700c8",
    "outputId": "497da555-24ed-43ee-9c51-32ac3059a2e6",
    "requestMsgId": "52557db1-39c7-4695-b7c6-f3ac73ad8a0c",
    "showInput": true
   },
   "outputs": [
    {
     "name": "stderr",
     "output_type": "stream",
     "text": [
      "Creating FL User: 2493user [00:00, 25579.78user/s]\n",
      "Creating FL User: 2493user [00:00, 32745.12user/s]\n",
      "Creating FL User: 2493user [00:00, 32249.25user/s]"
     ]
    },
    {
     "name": "stdout",
     "output_type": "stream",
     "text": [
      "\n",
      "Clients in total: 2493\n"
     ]
    },
    {
     "name": "stderr",
     "output_type": "stream",
     "text": [
      "\n"
     ]
    }
   ],
   "source": [
    "from flsim.utils.example_utils import LEAFDataLoader, LEAFDataProvider\n",
    "\n",
    "# 3. Batchify training, eval, and test data. Note that train_dataset is already sharded.\n",
    "dataloader = LEAFDataLoader(\n",
    "    train_dataset,\n",
    "    test_dataset,\n",
    "    test_dataset,\n",
    "    batch_size=LOCAL_BATCH_SIZE,\n",
    "    drop_last=False,\n",
    ")\n",
    "\n",
    "# 4. Wrap the data loader with a data provider.\n",
    "data_provider = LEAFDataProvider(dataloader)\n",
    "print(f\"\\nClients in total: {data_provider.num_users()}\")"
   ]
  },
  {
   "cell_type": "markdown",
   "metadata": {
    "code_folding": [],
    "collapsed": true,
    "customInput": null,
    "hidden_ranges": [],
    "id": "PNtWCdk1sQ7_",
    "originalKey": "85636a6d-4c4b-49ea-9e82-34b3a9ddcbb3",
    "showInput": false
   },
   "source": [
    "### 2. Create the model\n",
    "\n",
    "Now, let's see how we can create a model that is compatible with FL-training.\n",
    "\n",
    "1. First, we define a standard, non-FL sentiment classification PyTorch `nn.Module`. In this tutorial we use a simple char-LSTM with an embedding, LSTM, and linear layer.\n",
    "\n",
    "2. Create a `torch.device` and choose where the model will be allocated (CUDA or CPU).\n",
    "\n",
    "As with the data pipeline, these steps are identical to creating a model in non-federated learning. Note that in contrast to non-FL learning, we haven't moved the model to device yet."
   ]
  },
  {
   "cell_type": "code",
   "execution_count": 13,
   "metadata": {
    "code_folding": [],
    "customInput": null,
    "executionStartTime": 1636676295011,
    "executionStopTime": 1636676295015,
    "hidden_ranges": [],
    "id": "fV3KjomGsQ7_",
    "originalKey": "257233d5-1f9f-47e3-8b1b-63ea4060e0c2",
    "requestMsgId": "e74219b0-4bc2-4520-ba01-e0650091ca80",
    "showInput": true
   },
   "outputs": [],
   "source": [
    "from torch import nn\n",
    "\n",
    "class CharLSTM(nn.Module):\n",
    "    def __init__(\n",
    "        self,\n",
    "        num_classes,\n",
    "        n_hidden,\n",
    "        num_embeddings,\n",
    "        embedding_dim,\n",
    "        max_seq_len,\n",
    "        dropout_rate,\n",
    "    ):\n",
    "        super().__init__()\n",
    "        self.dropout_rate = dropout_rate\n",
    "        self.n_hidden = n_hidden\n",
    "        self.num_classes = num_classes\n",
    "        self.max_seq_len = max_seq_len\n",
    "        self.num_embeddings = num_embeddings\n",
    "\n",
    "        self.embedding = nn.Embedding(\n",
    "            num_embeddings=self.num_embeddings, embedding_dim=embedding_dim\n",
    "        )\n",
    "        self.lstm = nn.LSTM(\n",
    "            input_size=embedding_dim,\n",
    "            hidden_size=self.n_hidden,\n",
    "            num_layers=2,\n",
    "            batch_first=True,\n",
    "            dropout=self.dropout_rate,\n",
    "        )\n",
    "        self.fc = nn.Linear(self.n_hidden, self.num_classes)\n",
    "        self.dropout = nn.Dropout(p=self.dropout_rate)\n",
    "\n",
    "    def forward(self, x):\n",
    "        seq_lens = torch.sum(x != (self.num_embeddings - 1), 1) - 1\n",
    "        x = self.embedding(x)  # [B, S] -> [B, S, E]\n",
    "        out, _ = self.lstm(x)  # [B, S, E] -> [B, S, H]\n",
    "        out = out[torch.arange(out.size(0)), seq_lens]\n",
    "        out = self.fc(self.dropout(out))  # [B, S, H] -> # [B, S, C]\n",
    "        return out"
   ]
  },
  {
   "cell_type": "markdown",
   "metadata": {
    "code_folding": [],
    "customInput": null,
    "hidden_ranges": [],
    "id": "-aPFd8MisQ7_",
    "originalKey": "e78f06ab-88a9-44e9-b8f8-5c8ced763143",
    "showInput": false
   },
   "source": [
    "We initialize our model with such parameters that it is compatible with our dataset."
   ]
  },
  {
   "cell_type": "code",
   "execution_count": 14,
   "metadata": {
    "code_folding": [],
    "colab": {
     "base_uri": "https://localhost:8080/"
    },
    "customInput": null,
    "executionStartTime": 1636676295032,
    "executionStopTime": 1636676295038,
    "hidden_ranges": [],
    "id": "m-wCgAs-sQ8A",
    "originalKey": "f5a19f8d-34ca-4342-98e3-c68ea9ae7e0d",
    "outputId": "a26e930a-7fde-44cb-9e7e-f841911f535d",
    "requestMsgId": "2f20621b-5f97-4396-adb5-e04ca2cebd92",
    "showInput": true
   },
   "outputs": [
    {
     "data": {
      "text/plain": [
       "(CharLSTM(\n",
       "   (embedding): Embedding(101, 100)\n",
       "   (lstm): LSTM(100, 100, num_layers=2, batch_first=True, dropout=0.1)\n",
       "   (fc): Linear(in_features=100, out_features=2, bias=True)\n",
       "   (dropout): Dropout(p=0.1, inplace=False)\n",
       " ),\n",
       " device(type='cuda', index=0))"
      ]
     },
     "execution_count": 14,
     "metadata": {},
     "output_type": "execute_result"
    }
   ],
   "source": [
    "import torch\n",
    "\n",
    "# 1. Define our model, a simple char-LSTM.\n",
    "model = CharLSTM(\n",
    "    num_classes=train_dataset.num_classes,\n",
    "    n_hidden=100,\n",
    "    num_embeddings=train_dataset.num_letters + 1,\n",
    "    embedding_dim=100,\n",
    "    max_seq_len=MAX_SEQ_LEN,\n",
    "    dropout_rate=0.1,\n",
    ")\n",
    "\n",
    "# 2. Choose where the model will be allocated.\n",
    "cuda_enabled = torch.cuda.is_available() and USE_CUDA\n",
    "device = torch.device(f\"cuda:{0}\" if cuda_enabled else \"cpu\")\n",
    "\n",
    "model, device"
   ]
  },
  {
   "cell_type": "markdown",
   "metadata": {
    "id": "6PpvXknV-BTT"
   },
   "source": [
    "As with the data pipeline, there are a few extra steps that we need to take to make sure that our model is compatible with FL. In particular, we need to\n",
    "\n",
    "3. Wrap the PyTorch module with the FLSim `FLModel`, an abstracted version of a FL-friendly model class that is accepted by the trainer and handles metric collection, as well as the forward pass for both training and evaluation. We can recover our `nn.Module` by calling `FLModel.fl_get_module()`\n",
    "\n",
    "4. Move the model to GPU and enable CUDA if desired. `FLModel.fl_cuda()` internally calls `model.to(device)` to move the model to GPU."
   ]
  },
  {
   "cell_type": "code",
   "execution_count": 15,
   "metadata": {
    "id": "bVqZB-sV9-lH"
   },
   "outputs": [],
   "source": [
    "from flsim.utils.example_utils import FLModel\n",
    "\n",
    "# 3. Wrap the model with FLModel.\n",
    "global_model = FLModel(model, device)\n",
    "assert(global_model.fl_get_module() == model)\n",
    "\n",
    "# 4. Move the model to GPU and enable CUDA if desired.\n",
    "if cuda_enabled:\n",
    "    global_model.fl_cuda()"
   ]
  },
  {
   "cell_type": "markdown",
   "metadata": {
    "id": "Zk5yZIbx9oBp"
   },
   "source": [
    "### 3. Metrics Reporting\n",
    "\n",
    "After having created our data pipeline and FL model, we will now create our metrics reporter. \n",
    "The metrics reporter allows us to collect, evaluate, and report relevant training, aggregation, and evaluation/test metrics as well as log them onto TensorBoard.\n",
    "\n"
   ]
  },
  {
   "cell_type": "code",
   "execution_count": 16,
   "metadata": {
    "code_folding": [],
    "customInput": null,
    "executionStartTime": 1636676328827,
    "executionStopTime": 1636676328872,
    "hidden_ranges": [],
    "id": "ePUW6EocsQ8B",
    "originalKey": "69332759-76d4-42b9-9de7-70333194b1b6",
    "requestMsgId": "5ee4134f-792d-42db-ba8d-a5864d511dfc",
    "showInput": true
   },
   "outputs": [],
   "source": [
    "from flsim.interfaces.metrics_reporter import Channel\n",
    "from flsim.utils.example_utils import MetricsReporter\n",
    "\n",
    "# Create a metric reporter.\n",
    "metrics_reporter = MetricsReporter([Channel.TENSORBOARD, Channel.STDOUT])"
   ]
  },
  {
   "cell_type": "markdown",
   "metadata": {
    "id": "vgBTChrw-ZvA"
   },
   "source": [
    "There are three functions that are of particular interest:\n",
    "\n",
    "1. `compute_scores` computes the metrics of interest for both training and aggregation (if desired) as well as evaluation/test.\n",
    "\n",
    "2. `create_eval_metrics` creates a dictionary that stores the value for each eval metric. \n",
    "\n",
    "3. `compare_metrics` compares the current eval metrics that are returned by `create_eval_metrics` to the best eval metrics so far.\n",
    "\n",
    "For this tutorial, our only metric of interest is top-1 accuracy. In general, as with the data loading and model, you should write your own metrics reporter depending on the task."
   ]
  },
  {
   "cell_type": "code",
   "execution_count": 17,
   "metadata": {
    "id": "2jY4-_Rh-Zc2"
   },
   "outputs": [],
   "source": [
    "import inspect\n",
    "\n",
    "if VERBOSE:\n",
    "    print(inspect.getsource(MetricsReporter.compute_scores))\n",
    "    print(inspect.getsource(MetricsReporter.create_eval_metrics))\n",
    "    print(inspect.getsource(MetricsReporter.compare_metrics))"
   ]
  },
  {
   "cell_type": "markdown",
   "metadata": {
    "collapsed": true,
    "customInput": null,
    "id": "kpYvMTiDsQ8A",
    "originalKey": "8e71e0e5-f0af-4d83-afa6-f079c131893a",
    "showInput": false
   },
   "source": [
    "### 4. Hyperparameters\n",
    "\n",
    "We can represent the hyperparameters for FL training in a JSON config for ease of representation and we convert the JSON config to OmegaConf before passing it to the FL trainer.\n",
    "\n",
    "In particular, we specify a FedAvg with LR implementation with 10 users per round."
   ]
  },
  {
   "cell_type": "code",
   "execution_count": 39,
   "metadata": {
    "code_folding": [],
    "colab": {
     "base_uri": "https://localhost:8080/"
    },
    "customInput": null,
    "executionStartTime": 1636676295041,
    "executionStopTime": 1636676295044,
    "hidden_ranges": [],
    "id": "Gdvpt6ppsQ8A",
    "originalKey": "3474bdbb-845c-4ad8-837d-e6561001c9ed",
    "outputId": "381e9442-c89b-4b3d-e1df-b3920046e921",
    "requestMsgId": "7ea697a0-0b6b-4d92-86ca-4b40f66915db",
    "showInput": true
   },
   "outputs": [],
   "source": [
    "import flsim.configs\n",
    "from flsim.utils.config_utils import fl_config_from_json\n",
    "from omegaconf import OmegaConf\n",
    "\n",
    "json_config = {\n",
    "    \"trainer\": {\n",
    "        \"_base_\": \"base_sync_trainer\",\n",
    "        \"server\": {\n",
    "            \"_base_\": \"base_sync_server\",\n",
    "            \"server_optimizer\": {\n",
    "                # there are different types of server optimizers\n",
    "                # fed avg with lr requires a learning rate, whereas e.g. fed_avg doesn't\n",
    "                  # \"_base_\": \"base_fed_avg_with_lr\",\n",
    "                # server's learning rate\n",
    "                  # \"lr\": 0.7,\n",
    "                # server's global momentum\n",
    "                  # \"momentum\": 0.9\n",
    "\n",
    "                # Federated ADAM (with weight decay)\n",
    "                # Server Defaults:  \n",
    "                  # lr: float = 0.001\n",
    "                  # weight_decay: float = 0.00001\n",
    "                  # beta1: float = 0.9\n",
    "                  # beta2: float = 0.999\n",
    "                  # eps: float = 1e-8\n",
    "                \"_base_\": \"base_fed_adam\",\n",
    "                \"lr\":0.01\n",
    "            },\n",
    "            # aggregate client models into a single model by taking their weighted sum\n",
    "            \"aggregation_type\": \"WEIGHTED_AVERAGE\",\n",
    "            # type of user selection sampling\n",
    "            \"active_user_selector\": {\n",
    "                \"_base_\": \"base_uniformly_random_active_user_selector\"\n",
    "            }\n",
    "        },\n",
    "        \"client\": {\n",
    "            # number of client's local epochs\n",
    "            # \"epochs\": 1,  <--- old value in example\n",
    "            \"epochs\": 10,\n",
    "            \"optimizer\": {\n",
    "                # client's optimizer\n",
    "                \"_base_\": \"base_optimizer_sgd\",\n",
    "                # client's local learning rate\n",
    "                # \"lr\": 1,\n",
    "                \"lr\": 0.1,\n",
    "                # client's local momentum\n",
    "                \"momentum\": 0\n",
    "            }\n",
    "        },\n",
    "        # number of users per round for aggregation\n",
    "        \"users_per_round\": 1000,\n",
    "        # total number of global epochs\n",
    "        # total #rounds = ceil(total_users / users_per_round) * epochs <---- THIS IS THE MAIN COMMUNICATION COST METRIC\n",
    "        #   total_users = ~6000\n",
    "        # \"epochs\": 1,\n",
    "        \"epochs\": 1,\n",
    "        # frequency of reporting train metrics\n",
    "        \"train_metrics_reported_per_epoch\": 10,\n",
    "        # keep the trained model always (as opposed to only when it\n",
    "        # performs better than the previous model on eval)\n",
    "        \"always_keep_trained_model\": False,\n",
    "        # frequency of evaluation per epoch\n",
    "        \"eval_epoch_frequency\": 1,\n",
    "        \"do_eval\": True,\n",
    "        # should we report train metrics after global aggregation\n",
    "        \"report_train_metrics_after_aggregation\": True\n",
    "    }\n",
    "}\n",
    "\n",
    "cfg = fl_config_from_json(json_config)\n",
    "if VERBOSE: print(OmegaConf.to_yaml(cfg))"
   ]
  },
  {
   "cell_type": "markdown",
   "metadata": {
    "code_folding": [],
    "collapsed": true,
    "customInput": null,
    "hidden_ranges": [],
    "id": "m4Lbos5vsQ8B",
    "originalKey": "8ca763b7-c287-4a28-af1a-ca3b7ca5d3e4",
    "showInput": false
   },
   "source": [
    "### 5. Training\n",
    "Recall that we already built the data provider and created a model compatible with FL training. \n",
    "We also initialized a metrics reporter and set our desired hyperparameters.\n",
    "\n",
    "Now, we only need to instantiate the trainer with the model and hyperparameter config we defined earlier to launch the FL training flow. We run FL training with the above JSON config and utilize `eval_score` to store the final evaluation metrics.\n",
    "\n"
   ]
  },
  {
   "cell_type": "code",
   "execution_count": 40,
   "metadata": {
    "code_folding": [],
    "colab": {
     "base_uri": "https://localhost:8080/"
    },
    "customInput": null,
    "executionStartTime": 1636676328880,
    "executionStopTime": 1636677467749,
    "hidden_ranges": [],
    "id": "VWBl_nidsQ8B",
    "originalKey": "9ada7326-5d23-419d-9f7c-58ad678f9f75",
    "outputId": "9933ba13-07fc-4de9-9238-5acd1d57174e",
    "requestMsgId": "8e56e399-4b5c-4f0a-92fa-026d46e696cb",
    "showInput": true
   },
   "outputs": [
    {
     "name": "stderr",
     "output_type": "stream",
     "text": [
      "Round:   0%|                                                                                   | 0/3 [00:00<?, ?round/s]"
     ]
    },
    {
     "name": "stdout",
     "output_type": "stream",
     "text": [
      "Train finished Global Round: 1\n",
      "(epoch = 1, round = 1, global round = 1), Loss/Training: 0.12807748222412627\n",
      "(epoch = 1, round = 1, global round = 1), Accuracy/Training: 94.36513899323816\n",
      "reporting (epoch = 1, round = 1, global round = 1) for aggregation\n"
     ]
    },
    {
     "name": "stderr",
     "output_type": "stream",
     "text": [
      "\r",
      "Round:  33%|████████████████████████▋                                                 | 1/3 [02:24<04:48, 144.38s/round]"
     ]
    },
    {
     "name": "stdout",
     "output_type": "stream",
     "text": [
      "(epoch = 1, round = 1, global round = 1), Loss/Aggregation: 2.2671658528587018\n",
      "(epoch = 1, round = 1, global round = 1), Accuracy/Aggregation: 53.14300025043827\n",
      "Train finished Global Round: 2\n",
      "(epoch = 1, round = 2, global round = 2), Loss/Training: 0.2766862300449927\n",
      "(epoch = 1, round = 2, global round = 2), Accuracy/Training: 92.40078806642273\n",
      "reporting (epoch = 1, round = 2, global round = 2) for aggregation\n"
     ]
    },
    {
     "name": "stderr",
     "output_type": "stream",
     "text": [
      "\r",
      "Round:  67%|█████████████████████████████████████████████████▎                        | 2/3 [04:54<02:27, 147.91s/round]"
     ]
    },
    {
     "name": "stdout",
     "output_type": "stream",
     "text": [
      "(epoch = 1, round = 2, global round = 2), Loss/Aggregation: 1.1413128868049711\n",
      "(epoch = 1, round = 2, global round = 2), Accuracy/Aggregation: 57.585139318885446\n",
      "Train finished Global Round: 3\n",
      "(epoch = 1, round = 3, global round = 3), Loss/Training: 0.1404463000027323\n",
      "(epoch = 1, round = 3, global round = 3), Accuracy/Training: 94.20993858179787\n",
      "reporting (epoch = 1, round = 3, global round = 3) for aggregation\n",
      "(epoch = 1, round = 3, global round = 3), Loss/Aggregation: 1.1006472662621591\n",
      "(epoch = 1, round = 3, global round = 3), Accuracy/Aggregation: 57.11892797319933\n",
      "Running (epoch = 1, round = 3, global round = 3) for Eval\n",
      "(epoch = 1, round = 3, global round = 3), Loss/Eval: 1.129719145570064\n",
      "(epoch = 1, round = 3, global round = 3), Accuracy/Eval: 53.20422535211268\n",
      "Current eval accuracy: {'Accuracy': 53.20422535211268}%, Best so far: {'Accuracy': 55.563380281690144}%\n"
     ]
    },
    {
     "name": "stderr",
     "output_type": "stream",
     "text": [
      "Round:  67%|█████████████████████████████████████████████████▎                        | 2/3 [07:30<03:45, 225.48s/round]\n",
      "Epoch:   0%|                                                                                   | 0/1 [07:30<?, ?epoch/s]\n"
     ]
    }
   ],
   "source": [
    "from hydra.utils import instantiate\n",
    "import time\n",
    "\n",
    "# Instantiate the trainer.\n",
    "trainer = instantiate(cfg.trainer, model=global_model, cuda_enabled=cuda_enabled)   \n",
    "# I think, this model argument can be loaded as torch model and passed into FLModel()\n",
    "# For when we want intermediate models in SHA/Hyperband\n",
    "\n",
    "start = time.time()\n",
    "\n",
    "# Launch FL training.\n",
    "final_model, eval_score = trainer.train(\n",
    "    data_provider=data_provider,\n",
    "    metric_reporter=metrics_reporter,\n",
    "    num_total_users=data_provider.num_users(),\n",
    "    distributed_world_size=1,\n",
    ")\n",
    "\n",
    "total_train_time = time.time()-start"
   ]
  },
  {
   "cell_type": "code",
   "execution_count": 41,
   "metadata": {},
   "outputs": [
    {
     "name": "stdout",
     "output_type": "stream",
     "text": [
      "None\n"
     ]
    }
   ],
   "source": [
    "print(eval_score)"
   ]
  },
  {
   "cell_type": "code",
   "execution_count": 20,
   "metadata": {
    "id": "vdAVmo9yQ55J"
   },
   "outputs": [
    {
     "name": "stdout",
     "output_type": "stream",
     "text": [
      "Total training time: 1875.268052816391\n"
     ]
    }
   ],
   "source": [
    "print(\"Total training time: {}\".format( total_train_time ))"
   ]
  },
  {
   "cell_type": "code",
   "execution_count": 34,
   "metadata": {},
   "outputs": [
    {
     "name": "stdout",
     "output_type": "stream",
     "text": [
      "Running (epoch = 1, round = 1, global round = 1) for Test\n",
      "(epoch = 1, round = 1, global round = 1), Loss/Test: 1.1561948809489\n",
      "(epoch = 1, round = 1, global round = 1), Accuracy/Test: 52.07746478873239\n"
     ]
    },
    {
     "data": {
      "text/plain": [
       "{'Accuracy': 52.07746478873239}"
      ]
     },
     "execution_count": 34,
     "metadata": {},
     "output_type": "execute_result"
    }
   ],
   "source": [
    "'''\n",
    "Test cell for loading model via state dict\n",
    "'''\n",
    "import copy\n",
    "\n",
    "model2 = CharLSTM(\n",
    "        num_classes=train_dataset.num_classes,\n",
    "        n_hidden=100,\n",
    "        num_embeddings=train_dataset.num_letters + 1,\n",
    "        embedding_dim=100,\n",
    "        max_seq_len=MAX_SEQ_LEN,\n",
    "        dropout_rate=0.1,\n",
    "    )\n",
    "model2.load_state_dict( copy.deepcopy( model.state_dict()) )\n",
    "trainer2 = instantiate(cfg.trainer, model=FLModel(model2,device), cuda_enabled=cuda_enabled)   \n",
    "\n",
    "trainer.test(\n",
    "    data_iter=data_provider.test_data(),\n",
    "    metric_reporter=MetricsReporter([Channel.STDOUT]),\n",
    ")"
   ]
  },
  {
   "cell_type": "markdown",
   "metadata": {
    "code_folding": [],
    "collapsed": true,
    "customInput": null,
    "hidden_ranges": [],
    "id": "9d8XGCZHsQ8B",
    "originalKey": "945fc6b7-a479-4fa1-a75c-3cf241a3f245",
    "showInput": false
   },
   "source": [
    "After training finishes, we evaluate the model and report the accuracy on the test set before finishing this tutorial.\n"
   ]
  },
  {
   "cell_type": "code",
   "execution_count": 46,
   "metadata": {
    "code_folding": [],
    "customInput": null,
    "executionStartTime": 1636677467822,
    "executionStopTime": 1636677479301,
    "hidden_ranges": [],
    "id": "Ad2U4OBBsQ8C",
    "originalKey": "87a50242-9574-41b3-bf39-6f296f44005e",
    "requestMsgId": "fb7b0794-1455-4805-9e97-c8649d0cb213",
    "showInput": true
   },
   "outputs": [
    {
     "name": "stdout",
     "output_type": "stream",
     "text": [
      "Running (epoch = 1, round = 1, global round = 1) for Test\n",
      "(epoch = 1, round = 1, global round = 1), Loss/Test: 1.1297191458749012\n",
      "(epoch = 1, round = 1, global round = 1), Accuracy/Test: 53.20422535211268\n"
     ]
    },
    {
     "data": {
      "text/plain": [
       "{'Accuracy': 53.20422535211268}"
      ]
     },
     "execution_count": 46,
     "metadata": {},
     "output_type": "execute_result"
    }
   ],
   "source": [
    "# We can now test our trained model.\n",
    "trainer.test(\n",
    "    data_iter=data_provider.test_data(),\n",
    "    metric_reporter=MetricsReporter([Channel.STDOUT]),\n",
    ")"
   ]
  },
  {
   "cell_type": "markdown",
   "metadata": {
    "code_folding": [],
    "customInput": null,
    "hidden_ranges": [],
    "id": "TASSRPrUsQ8C",
    "originalKey": "835d5964-8dbf-458a-8360-b8cd30f7a4c4",
    "showInput": false
   },
   "source": [
    "## Summary\n",
    "\n",
    "In this tutorial, we first showed how to get and preprocess LEAF's Sent140 dataset. \n",
    "We then built a data provider by splitting each client's data into batches. \n",
    "We defined a simple char-LSTM as our model, wrapped it with a model compatible with FL training, and moved it to GPU. \n",
    "Lastly, we set the hyperparameters for FL training, launched the training flow, and evaluated our model."
   ]
  },
  {
   "cell_type": "markdown",
   "metadata": {
    "code_folding": [],
    "customInput": null,
    "hidden_ranges": [],
    "id": "jWEEDuFIsQ8C",
    "originalKey": "663d0a7d-dd3c-401f-8f8e-b1db9ffd3cce",
    "showInput": false
   },
   "source": [
    "### Additional resources\n",
    "\n",
    "- For a more in-depth understanding of this tutorial, check out [example_utils.py](https://github.com/facebookresearch/FLSim/blob/main/flsim/utils/example_utils.py) where we define the data loader, data provider, `FLModel`, and metrics reporter that we use in this tutorial.\n",
    "\n",
    "- [FLSim tutorials](https://github.com/facebookresearch/FLSim/tree/main/tutorials) - check out our other tutorial on image classification.\n",
    "\n",
    "- Kairouz et al. (2021): [Advances and Open Problems in Federated Learning](https://arxiv.org/pdf/1912.04977.pdf). As the title suggests, an in-depth overview of advances and open problems in FL.\n",
    "\n",
    "- If you're interested in federated learning with differential privacy, take a look at [Opacus](https://opacus.ai/), a library that enables training PyTorch models with differential privacy. \n",
    "You can find a blog post introducing Opacus [here](https://ai.facebook.com/blog/introducing-opacus-a-high-speed-library-for-training-pytorch-models-with-differential-privacy/).\n",
    "\n"
   ]
  }
 ],
 "metadata": {
  "accelerator": "GPU",
  "captumWidgetMessage": {},
  "colab": {
   "collapsed_sections": [],
   "name": "sent140_tutorial_baselines.ipynb",
   "provenance": []
  },
  "kernelspec": {
   "display_name": "Python 3 (ipykernel)",
   "language": "python",
   "name": "python3"
  },
  "language_info": {
   "codemirror_mode": {
    "name": "ipython",
    "version": 3
   },
   "file_extension": ".py",
   "mimetype": "text/x-python",
   "name": "python",
   "nbconvert_exporter": "python",
   "pygments_lexer": "ipython3",
   "version": "3.8.12"
  },
  "last_base_url": "",
  "last_kernel_id": "",
  "last_msg_id": "",
  "last_server_session_id": "",
  "outputWidgetContext": {}
 },
 "nbformat": 4,
 "nbformat_minor": 1
}
