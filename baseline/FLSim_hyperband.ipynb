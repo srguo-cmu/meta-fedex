{
 "cells": [
  {
   "cell_type": "code",
   "execution_count": 1,
   "id": "ddffe6c8",
   "metadata": {},
   "outputs": [
    {
     "name": "stdout",
     "output_type": "stream",
     "text": [
      "Looking in indexes: https://pypi.org/simple, https://pypi.ngc.nvidia.com\n",
      "Collecting scikit-optimize\n",
      "  Downloading scikit_optimize-0.9.0-py2.py3-none-any.whl (100 kB)\n",
      "\u001b[K     |████████████████████████████████| 100 kB 6.3 MB/s ta 0:00:011\n",
      "\u001b[?25hRequirement already satisfied: scipy>=0.19.1 in /opt/conda/lib/python3.8/site-packages (from scikit-optimize) (1.6.3)\n",
      "Requirement already satisfied: joblib>=0.11 in /opt/conda/lib/python3.8/site-packages (from scikit-optimize) (1.1.0)\n",
      "Requirement already satisfied: numpy>=1.13.3 in /opt/conda/lib/python3.8/site-packages (from scikit-optimize) (1.21.4)\n",
      "Requirement already satisfied: scikit-learn>=0.20.0 in /opt/conda/lib/python3.8/site-packages (from scikit-optimize) (0.24.0)\n",
      "Collecting pyaml>=16.9\n",
      "  Downloading pyaml-21.10.1-py2.py3-none-any.whl (24 kB)\n",
      "Requirement already satisfied: PyYAML in /opt/conda/lib/python3.8/site-packages (from pyaml>=16.9->scikit-optimize) (6.0)\n",
      "Requirement already satisfied: threadpoolctl>=2.0.0 in /opt/conda/lib/python3.8/site-packages (from scikit-learn>=0.20.0->scikit-optimize) (3.0.0)\n",
      "Installing collected packages: pyaml, scikit-optimize\n",
      "Successfully installed pyaml-21.10.1 scikit-optimize-0.9.0\n",
      "\u001b[33mWARNING: Running pip as the 'root' user can result in broken permissions and conflicting behaviour with the system package manager. It is recommended to use a virtual environment instead: https://pip.pypa.io/warnings/venv\u001b[0m\n"
     ]
    }
   ],
   "source": [
    "!pip install scikit-optimize"
   ]
  },
  {
   "cell_type": "code",
   "execution_count": 10,
   "id": "320236ce",
   "metadata": {},
   "outputs": [
    {
     "name": "stdout",
     "output_type": "stream",
     "text": [
      "\u001b[33mWARNING: Running pip as the 'root' user can result in broken permissions and conflicting behaviour with the system package manager. It is recommended to use a virtual environment instead: https://pip.pypa.io/warnings/venv\u001b[0m\r\n"
     ]
    }
   ],
   "source": [
    "!pip install --quiet flsim"
   ]
  },
  {
   "cell_type": "code",
   "execution_count": 2,
   "id": "ec66b82e",
   "metadata": {},
   "outputs": [],
   "source": [
    "from hyperband_petro import hyperband\n",
    "from skopt.space import Real, Integer"
   ]
  },
  {
   "cell_type": "code",
   "execution_count": 3,
   "id": "af8a1a46",
   "metadata": {},
   "outputs": [
    {
     "name": "stdout",
     "output_type": "stream",
     "text": [
      "/workspace/leaf/data/sent140\n"
     ]
    }
   ],
   "source": [
    "'''\n",
    "Most of the cells below are just taken from the sent_140 tutorial, for data loading\n",
    "'''\n",
    "\n",
    "\n",
    "\n",
    "'''\n",
    "# Don't need to run this chunk after the directory has been created once\n",
    "\n",
    "%%capture preprocess_output\n",
    "\n",
    "# Download and preprocess the data\n",
    "% cd ..\n",
    "!git clone https://github.com/TalwalkarLab/leaf.git\n",
    "%cd leaf/data/sent140\n",
    "# !./preprocess.sh --sf 0.01 -s niid -t 'user' --tf 0.90 -k 1 --spltseed 1\n",
    "\n",
    "# change preprocess option (-t) so each user's data gets split into train/test\n",
    "!./preprocess.sh --sf 0.01 -s niid -t 'sample' --tf 0.90 -k 2 --spltseed 1\n",
    "\n",
    "'''\n",
    "\n",
    "%cd ../leaf/data/sent140"
   ]
  },
  {
   "cell_type": "code",
   "execution_count": 4,
   "id": "23cdb02c",
   "metadata": {},
   "outputs": [
    {
     "data": {
      "text/plain": [
       "('data/train/all_data_niid_01_keep_2_train_9.json',\n",
       " 'data/test/all_data_niid_01_keep_2_test_9.json')"
      ]
     },
     "execution_count": 4,
     "metadata": {},
     "output_type": "execute_result"
    }
   ],
   "source": [
    "USE_CUDA = True\n",
    "LOCAL_BATCH_SIZE = 32\n",
    "MAX_SEQ_LEN = 25\n",
    "\n",
    "# suppress large outputs\n",
    "VERBOSE = False\n",
    "\n",
    "TRAIN_DATA = !ls data/train\n",
    "TRAIN_DATA = \"data/train/\" + TRAIN_DATA[0]\n",
    "\n",
    "TEST_DATA = !ls data/test\n",
    "TEST_DATA = \"data/test/\" + TEST_DATA[0]\n",
    "\n",
    "TRAIN_DATA, TEST_DATA"
   ]
  },
  {
   "cell_type": "code",
   "execution_count": 5,
   "id": "dc859c5f",
   "metadata": {},
   "outputs": [
    {
     "name": "stdout",
     "output_type": "stream",
     "text": [
      "\n",
      "Number of samples per user:\n",
      "  min=1, \n",
      "  max=123, \n",
      "  median=2.0, \n",
      "  mean=3.64, \n",
      "  std=6.37\n",
      "  \n"
     ]
    }
   ],
   "source": [
    "import json\n",
    "import numpy as np\n",
    "\n",
    "# load the training data\n",
    "with open(TRAIN_DATA, \"r\") as f:\n",
    "    training_data = json.load(f)\n",
    "\n",
    "# how samples are distributed across users\n",
    "n_samples = training_data['num_samples']\n",
    "print(f\"\"\"\\nNumber of samples per user:\n",
    "  min={np.min(n_samples)}, \n",
    "  max={np.max(n_samples)}, \n",
    "  median={np.median(n_samples)}, \n",
    "  mean={np.mean(n_samples):.2f}, \n",
    "  std={np.std(n_samples):.2f}\n",
    "  \"\"\")"
   ]
  },
  {
   "cell_type": "code",
   "execution_count": 6,
   "id": "4a0642f4",
   "metadata": {},
   "outputs": [
    {
     "data": {
      "text/plain": [
       "{'x': [['2003370575',\n",
       "   'Tue Jun 02 06:24:38 PDT 2009',\n",
       "   'NO_QUERY',\n",
       "   'bricaligirl',\n",
       "   'Doin my hair for school... Sooo tired ',\n",
       "   'training']],\n",
       " 'y': [0]}"
      ]
     },
     "execution_count": 6,
     "metadata": {},
     "output_type": "execute_result"
    }
   ],
   "source": [
    "EXAMPLE_USER = training_data[\"users\"][0]\n",
    "training_data[\"user_data\"][EXAMPLE_USER]"
   ]
  },
  {
   "cell_type": "code",
   "execution_count": 7,
   "id": "206ae3a5",
   "metadata": {},
   "outputs": [],
   "source": [
    "import itertools\n",
    "import re\n",
    "import string\n",
    "import unicodedata\n",
    "\n",
    "import torch\n",
    "from torch.utils.data import Dataset\n",
    "\n",
    "\n",
    "# 1. The Sent140Dataset will store the tweets and corresponding sentiment for each user.\n",
    "\n",
    "class Sent140Dataset(Dataset):\n",
    "    def __init__(self, data_root, max_seq_len):\n",
    "        self.data_root = data_root\n",
    "        self.max_seq_len = max_seq_len\n",
    "        self.all_letters = {c: i for i, c in enumerate(string.printable)}\n",
    "        self.num_letters = len(self.all_letters)\n",
    "        self.UNK = self.num_letters\n",
    "\n",
    "        with open(data_root, \"r+\") as f:\n",
    "            self.dataset = json.load(f)\n",
    "\n",
    "        self.data = {}\n",
    "        self.targets = {}\n",
    "        self.num_classes = 2  # binary sentiment classification\n",
    "\n",
    "        # Populate self.data and self.targets\n",
    "        for user_id, user_data in self.dataset[\"user_data\"].items():\n",
    "            self.data[user_id] = self.process_x(list(user_data[\"x\"]))\n",
    "            self.targets[user_id] = self.process_y(list(user_data[\"y\"]))\n",
    "\n",
    "    def __len__(self):\n",
    "        return len(self.data)\n",
    "\n",
    "    def __iter__(self):\n",
    "        for user_id in self.data.keys():\n",
    "            yield self.__getitem__(user_id)\n",
    "\n",
    "    def __getitem__(self, user_id: str):\n",
    "        if user_id not in self.data or user_id not in self.targets:\n",
    "            raise IndexError(f\"User {user_id} is not in dataset\")\n",
    "        return self.data[user_id], self.targets[user_id]\n",
    "\n",
    "    def unicodeToAscii(self, s):\n",
    "        return \"\".join(\n",
    "            c for c in unicodedata.normalize(\"NFD\", s)\n",
    "            if unicodedata.category(c) != \"Mn\" and c in self.all_letters\n",
    "        )\n",
    "\n",
    "    def line_to_indices(self, line: str, max_seq_len: int):\n",
    "        line_list = self.split_line(line)  # split phrase in words\n",
    "        line_list = line_list\n",
    "        chars = self.flatten_list([list(word) for word in line_list])\n",
    "        indices = [\n",
    "            self.all_letters.get(letter, self.UNK)\n",
    "            for i, letter in enumerate(chars)\n",
    "            if i < max_seq_len\n",
    "        ]\n",
    "        # Add padding\n",
    "        indices = indices + [self.UNK] * (max_seq_len - len(indices))\n",
    "        return indices\n",
    "\n",
    "    def process_x(self, raw_x_batch):\n",
    "        x_batch = [e[4] for e in raw_x_batch]  # e[4] contains the actual tweet\n",
    "        x_batch = [self.line_to_indices(e, self.max_seq_len) for e in x_batch]\n",
    "        x_batch = torch.LongTensor(x_batch)\n",
    "        return x_batch\n",
    "\n",
    "    def process_y(self, raw_y_batch):\n",
    "        y_batch = [int(e) for e in raw_y_batch]\n",
    "        return y_batch\n",
    "\n",
    "    def split_line(self, line):\n",
    "        \"\"\"\n",
    "        Split given line/phrase (str) into list of words (List[str])\n",
    "        \"\"\"\n",
    "        return re.findall(r\"[\\w']+|[.,!?;]\", line)\n",
    "\n",
    "    def flatten_list(self, nested_list):\n",
    "        return list(itertools.chain.from_iterable(nested_list))"
   ]
  },
  {
   "cell_type": "code",
   "execution_count": 8,
   "id": "9b3cb603",
   "metadata": {},
   "outputs": [],
   "source": [
    "# 2. Load the train and test datasets.\n",
    "train_dataset = Sent140Dataset(\n",
    "    data_root=TRAIN_DATA,\n",
    "    max_seq_len=MAX_SEQ_LEN,\n",
    ")\n",
    "test_dataset = Sent140Dataset(\n",
    "    data_root=TEST_DATA,\n",
    "    max_seq_len=MAX_SEQ_LEN,\n",
    ")"
   ]
  },
  {
   "cell_type": "code",
   "execution_count": 11,
   "id": "25ae73bb",
   "metadata": {},
   "outputs": [
    {
     "name": "stderr",
     "output_type": "stream",
     "text": [
      "Creating FL User: 2493user [00:00, 21080.22user/s]\n",
      "Creating FL User: 2493user [00:00, 25959.28user/s]\n",
      "Creating FL User: 2493user [00:00, 25419.78user/s]"
     ]
    },
    {
     "name": "stdout",
     "output_type": "stream",
     "text": [
      "\n",
      "Clients in total: 2493\n"
     ]
    },
    {
     "name": "stderr",
     "output_type": "stream",
     "text": [
      "\n"
     ]
    }
   ],
   "source": [
    "from flsim.utils.example_utils import LEAFDataLoader, LEAFDataProvider\n",
    "\n",
    "# 3. Batchify training, eval, and test data. Note that train_dataset is already sharded.\n",
    "dataloader = LEAFDataLoader(\n",
    "    train_dataset,\n",
    "    test_dataset,\n",
    "    test_dataset,\n",
    "    batch_size=LOCAL_BATCH_SIZE,\n",
    "    drop_last=False,\n",
    ")\n",
    "\n",
    "# 4. Wrap the data loader with a data provider.\n",
    "data_provider = LEAFDataProvider(dataloader)\n",
    "print(f\"\\nClients in total: {data_provider.num_users()}\")"
   ]
  },
  {
   "cell_type": "code",
   "execution_count": 12,
   "id": "26b3e456",
   "metadata": {},
   "outputs": [],
   "source": [
    "from torch import nn\n",
    "\n",
    "class CharLSTM(nn.Module):\n",
    "    def __init__(\n",
    "        self,\n",
    "        num_classes,\n",
    "        n_hidden,\n",
    "        num_embeddings,\n",
    "        embedding_dim,\n",
    "        max_seq_len,\n",
    "        dropout_rate,\n",
    "    ):\n",
    "        super().__init__()\n",
    "        self.dropout_rate = dropout_rate\n",
    "        self.n_hidden = n_hidden\n",
    "        self.num_classes = num_classes\n",
    "        self.max_seq_len = max_seq_len\n",
    "        self.num_embeddings = num_embeddings\n",
    "\n",
    "        self.embedding = nn.Embedding(\n",
    "            num_embeddings=self.num_embeddings, embedding_dim=embedding_dim\n",
    "        )\n",
    "        self.lstm = nn.LSTM(\n",
    "            input_size=embedding_dim,\n",
    "            hidden_size=self.n_hidden,\n",
    "            num_layers=2,\n",
    "            batch_first=True,\n",
    "            dropout=self.dropout_rate,\n",
    "        )\n",
    "        self.fc = nn.Linear(self.n_hidden, self.num_classes)\n",
    "        self.dropout = nn.Dropout(p=self.dropout_rate)\n",
    "\n",
    "    def forward(self, x):\n",
    "        seq_lens = torch.sum(x != (self.num_embeddings - 1), 1) - 1\n",
    "        x = self.embedding(x)  # [B, S] -> [B, S, E]\n",
    "        out, _ = self.lstm(x)  # [B, S, E] -> [B, S, H]\n",
    "        out = out[torch.arange(out.size(0)), seq_lens]\n",
    "        out = self.fc(self.dropout(out))  # [B, S, H] -> # [B, S, C]\n",
    "        return out"
   ]
  },
  {
   "cell_type": "code",
   "execution_count": 13,
   "id": "af8e76d6",
   "metadata": {},
   "outputs": [],
   "source": [
    "from flsim.utils.example_utils import FLModel\n",
    "import flsim.configs\n",
    "from flsim.utils.config_utils import fl_config_from_json\n",
    "from flsim.interfaces.metrics_reporter import Channel\n",
    "from flsim.utils.example_utils import MetricsReporter\n",
    "from omegaconf import OmegaConf\n",
    "import math\n",
    "from hydra.utils import instantiate\n",
    "import copy\n",
    "\n",
    "\n",
    "'''\n",
    "TODO:\n",
    "- Put all this into a function for QoL\n",
    "    - Output logging/suppression\n",
    "- Properly adjust resource parameters for a good run that doesn't take too long, and get results\n",
    "    - 'resources' in  FLSim_Adam_objective()\n",
    "        - Currently treating resources and epochs as equal, communication_rounds will need to be calculated\n",
    "    - USERS_PER_ROUND (users_per_round in json_config)\n",
    "'''\n",
    "\n",
    "dimensions = [Real(1e-4, 1e-1, name=\"lr\"),\n",
    "              Real(0, 0.9, name=\"beta1\")]\n",
    "\n",
    "# Create a metric reporter.\n",
    "metrics_reporter = MetricsReporter([Channel.TENSORBOARD, Channel.STDOUT])\n",
    "\n",
    "USERS_PER_ROUND = 10 # needs adjusting\n",
    "\n",
    "def FLSim_Adam_objective(resources, checkpoint, **hyperparameters):\n",
    "    '''\n",
    "    resources: the number of communication rounds the FLSim trainer is allowed\n",
    "    checkpoint: should be a way to load model progress\n",
    "    hyperparameters: are sourced from the named dimensions (see above)\n",
    "    '''\n",
    "    lr = hyperparameters[\"lr\"]\n",
    "    beta1 = hyperparameters[\"beta1\"]\n",
    "#     momentum = hyperparameters[\"momentum\"]\n",
    "#     epochs = math.floor(resources / math.ceil(data_provider.num_users()/USERS_PER_ROUND) )\n",
    "    epochs = resources\n",
    "#     assert epochs>=1\n",
    "    \n",
    "    model = CharLSTM(\n",
    "        num_classes=train_dataset.num_classes,\n",
    "        n_hidden=100,\n",
    "        num_embeddings=train_dataset.num_letters + 1,\n",
    "        embedding_dim=100,\n",
    "        max_seq_len=MAX_SEQ_LEN,\n",
    "        dropout_rate=0.1,\n",
    "    )\n",
    "    if checkpoint is not None:\n",
    "        model.load_state_dict(checkpoint)       \n",
    "    \n",
    "    # 2. Choose where the model will be allocated.\n",
    "    cuda_enabled = torch.cuda.is_available() and USE_CUDA\n",
    "    device = torch.device(f\"cuda:{0}\" if cuda_enabled else \"cpu\")\n",
    "    \n",
    "    # 3. Wrap the model with FLModel.\n",
    "    global_model = FLModel(model, device) # model gets updated as global_model is trained\n",
    "    assert(global_model.fl_get_module() == model)\n",
    "    \n",
    "    # 4. Move the model to GPU and enable CUDA if desired.\n",
    "    if cuda_enabled:\n",
    "        global_model.fl_cuda()\n",
    "        \n",
    "    json_config = {\n",
    "        \"trainer\": {\n",
    "            \"_base_\": \"base_sync_trainer\",\n",
    "            \"server\": {\n",
    "                \"_base_\": \"base_sync_server\",\n",
    "                \"server_optimizer\": {\n",
    "                    # there are different types of server optimizers\n",
    "                    # fed avg with lr requires a learning rate, whereas e.g. fed_avg doesn't\n",
    "                      # \"_base_\": \"base_fed_avg_with_lr\",\n",
    "                    # server's learning rate\n",
    "                      # \"lr\": 0.7,\n",
    "                    # server's global momentum\n",
    "                      # \"momentum\": 0.9\n",
    "\n",
    "                    # Federated ADAM (with weight decay)\n",
    "                    # Server Defaults:  \n",
    "                      # lr: float = 0.001\n",
    "                      # weight_decay: float = 0.00001\n",
    "                      # beta1: float = 0.9\n",
    "                      # beta2: float = 0.999\n",
    "                      # eps: float = 1e-8\n",
    "                    \"_base_\": \"base_fed_adam\",\n",
    "                    \"lr\": lr,\n",
    "                    \"beta1\":beta1\n",
    "                },\n",
    "                # aggregate client models into a single model by taking their weighted sum\n",
    "                \"aggregation_type\": \"WEIGHTED_AVERAGE\",\n",
    "                # type of user selection sampling\n",
    "                \"active_user_selector\": {\n",
    "                    \"_base_\": \"base_uniformly_random_active_user_selector\"\n",
    "                }\n",
    "            },\n",
    "            \"client\": {\n",
    "                # number of client's local epochs\n",
    "                # \"epochs\": 1,  <--- old value in example\n",
    "                \"epochs\": 1,\n",
    "                \"optimizer\": {\n",
    "                    # client's optimizer\n",
    "                    \"_base_\": \"base_optimizer_sgd\",\n",
    "                    # client's local learning rate\n",
    "                    \"lr\": 1,\n",
    "                    # client's local momentum\n",
    "                    \"momentum\": 0\n",
    "                }\n",
    "            },\n",
    "            # number of users per round for aggregation\n",
    "            \"users_per_round\": USERS_PER_ROUND,\n",
    "            # total number of global epochs\n",
    "            # total #rounds = ceil(total_users / users_per_round) * epochs <---- THIS IS THE MAIN COMMUNICATION COST METRIC\n",
    "            #   total_users = ~2500, data_provider.num_users()\n",
    "            # \"epochs\": 1,\n",
    "            \"epochs\": epochs,\n",
    "            # frequency of reporting train metrics\n",
    "            \"train_metrics_reported_per_epoch\": 1,\n",
    "            # keep the trained model always (as opposed to only when it\n",
    "            # performs better than the previous model on eval)\n",
    "            \"always_keep_trained_model\": False,\n",
    "            # frequency of evaluation per epoch\n",
    "            \"eval_epoch_frequency\": 1,\n",
    "            \"do_eval\": True,\n",
    "            # should we report train metrics after global aggregation\n",
    "            \"report_train_metrics_after_aggregation\": True\n",
    "        }\n",
    "    }\n",
    "\n",
    "    cfg = fl_config_from_json(json_config)\n",
    "#     if VERBOSE: print(OmegaConf.to_yaml(cfg))\n",
    "\n",
    "    trainer = instantiate(cfg.trainer, model=global_model, cuda_enabled=cuda_enabled)   \n",
    "    # Launch FL training.\n",
    "    final_model, eval_score = trainer.train( # eval_score should have a value, but it's returning None?\n",
    "        data_provider=data_provider,\n",
    "        metric_reporter=metrics_reporter,\n",
    "        num_total_users=data_provider.num_users(),\n",
    "        distributed_world_size=1,\n",
    "    )\n",
    "    \n",
    "    acc = trainer.test(\n",
    "                data_iter=data_provider.test_data(),\n",
    "                metric_reporter=MetricsReporter([Channel.STDOUT]),\n",
    "            )[\"Accuracy\"]\n",
    "    \n",
    "    ret_checkpt = copy.deepcopy(model.state_dict())\n",
    "    return (-acc),  ret_checkpt # -acc since the hyperband functions aims to minimize\n",
    "\n"
   ]
  },
  {
   "cell_type": "markdown",
   "id": "ce70dc8b",
   "metadata": {},
   "source": [
    "## Hyperband Run\n",
    "\n",
    "Server epochs as 'resources':\n",
    "- $R = \\text{max_resources_per_model}$\n",
    "\n",
    "- $S_{max}$ = $log_{\\text{downsample}}(R)$\n",
    "\n",
    "Total epochs ('resource'): $R (S_{max})^2$  \n",
    "Total communication rounds: $ \\frac{\\text{Total Users}}{\\text{Users Per Model}} R (S_{max})^2$"
   ]
  },
  {
   "cell_type": "code",
   "execution_count": 14,
   "id": "0ae85ac1",
   "metadata": {},
   "outputs": [
    {
     "name": "stderr",
     "output_type": "stream",
     "text": [
      "  0%|                                                                                           | 0/400 [00:00<?, ?it/s]/opt/conda/lib/python3.8/site-packages/hydra/experimental/initialize.py:35: UserWarning: hydra.experimental.initialize() is no longer experimental. Use hydra.initialize()\n",
      "  deprecation_warning(\n",
      "/opt/conda/lib/python3.8/site-packages/hydra/experimental/compose.py:18: UserWarning: hydra.experimental.compose() is no longer experimental. Use hydra.compose()\n",
      "  deprecation_warning(\n",
      "Round:   0%|                                                                                 | 0/250 [00:00<?, ?round/s]/opt/conda/lib/python3.8/site-packages/torch/nn/modules/rnn.py:691: UserWarning: RNN module weights are not part of single contiguous chunk of memory. This means they need to be compacted at every call, possibly greatly increasing memory usage. To compact weights again call flatten_parameters(). (Triggered internally at  /opt/pytorch/pytorch/aten/src/ATen/native/cudnn/RNN.cpp:926.)\n",
      "  result = _VF.lstm(input, hx, self._flat_weights, self.bias, self.num_layers,\n",
      "Round: 100%|██████████████████████████████████████████████████████████████████████▋| 249/250 [00:54<00:00,  4.66round/s]"
     ]
    },
    {
     "name": "stdout",
     "output_type": "stream",
     "text": [
      "Train finished Global Round: 250\n",
      "(epoch = 1, round = 250, global round = 250), Loss/Training: 0.7309684058456515\n",
      "(epoch = 1, round = 250, global round = 250), Accuracy/Training: 49.308702219123965\n",
      "reporting (epoch = 1, round = 250, global round = 250) for aggregation\n",
      "(epoch = 1, round = 250, global round = 250), Loss/Aggregation: 0.7089256167411804\n",
      "(epoch = 1, round = 250, global round = 250), Accuracy/Aggregation: 46.666666666666664\n",
      "Running (epoch = 1, round = 250, global round = 250) for Eval\n",
      "(epoch = 1, round = 250, global round = 250), Loss/Eval: 0.694384677674079\n",
      "(epoch = 1, round = 250, global round = 250), Accuracy/Eval: 50.105633802816904\n"
     ]
    },
    {
     "name": "stderr",
     "output_type": "stream",
     "text": [
      "Round: 100%|██████████████████████████████████████████████████████████████████████▋| 249/250 [00:57<00:00,  4.32round/s]\n",
      "Epoch:   0%|                                                                                   | 0/1 [00:57<?, ?epoch/s]"
     ]
    },
    {
     "name": "stdout",
     "output_type": "stream",
     "text": [
      "Running (epoch = 1, round = 1, global round = 1) for Test\n"
     ]
    },
    {
     "name": "stderr",
     "output_type": "stream",
     "text": [
      "\n",
      "  0%|                                          | 1.0/400 [01:03<7:02:11, 63.49s/it, min_score=-50.1, models_evaluated=0]"
     ]
    },
    {
     "name": "stdout",
     "output_type": "stream",
     "text": [
      "(epoch = 1, round = 1, global round = 1), Loss/Test: 0.6943846776501701\n",
      "(epoch = 1, round = 1, global round = 1), Accuracy/Test: 50.105633802816904\n"
     ]
    },
    {
     "name": "stderr",
     "output_type": "stream",
     "text": [
      "/opt/conda/lib/python3.8/site-packages/hydra/experimental/initialize.py:35: UserWarning: hydra.experimental.initialize() is no longer experimental. Use hydra.initialize()\n",
      "  deprecation_warning(\n",
      "Round: 100%|██████████████████████████████████████████████████████████████████████▋| 249/250 [00:54<00:00,  4.65round/s]"
     ]
    },
    {
     "name": "stdout",
     "output_type": "stream",
     "text": [
      "Train finished Global Round: 250\n",
      "(epoch = 1, round = 250, global round = 250), Loss/Training: 0.7198796447796317\n",
      "(epoch = 1, round = 250, global round = 250), Accuracy/Training: 51.18169991326973\n",
      "reporting (epoch = 1, round = 250, global round = 250) for aggregation\n",
      "(epoch = 1, round = 250, global round = 250), Loss/Aggregation: 0.6957027912139893\n",
      "(epoch = 1, round = 250, global round = 250), Accuracy/Aggregation: 57.69230769230769\n",
      "Running (epoch = 1, round = 250, global round = 250) for Eval\n",
      "(epoch = 1, round = 250, global round = 250), Loss/Eval: 0.6973632372052039\n",
      "(epoch = 1, round = 250, global round = 250), Accuracy/Eval: 50.2112676056338\n",
      "Current eval accuracy: {'Accuracy': 50.2112676056338}%, Best so far: {'Accuracy': 50.105633802816904}%\n"
     ]
    },
    {
     "name": "stderr",
     "output_type": "stream",
     "text": [
      "Round: 100%|██████████████████████████████████████████████████████████████████████▋| 249/250 [00:58<00:00,  4.27round/s]\n",
      "Epoch:   0%|                                                                                   | 0/1 [00:58<?, ?epoch/s]"
     ]
    },
    {
     "name": "stdout",
     "output_type": "stream",
     "text": [
      "Running (epoch = 1, round = 1, global round = 1) for Test\n"
     ]
    },
    {
     "name": "stderr",
     "output_type": "stream",
     "text": [
      "\n",
      "  0%|▏                                         | 2.0/400 [02:05<6:57:14, 62.90s/it, min_score=-50.2, models_evaluated=0]"
     ]
    },
    {
     "name": "stdout",
     "output_type": "stream",
     "text": [
      "(epoch = 1, round = 1, global round = 1), Loss/Test: 0.6973632369900247\n",
      "(epoch = 1, round = 1, global round = 1), Accuracy/Test: 50.2112676056338\n"
     ]
    },
    {
     "name": "stderr",
     "output_type": "stream",
     "text": [
      "Round: 100%|██████████████████████████████████████████████████████████████████████▋| 249/250 [00:57<00:00,  4.42round/s]"
     ]
    },
    {
     "name": "stdout",
     "output_type": "stream",
     "text": [
      "Train finished Global Round: 250\n",
      "(epoch = 1, round = 250, global round = 250), Loss/Training: 0.7974555230885947\n",
      "(epoch = 1, round = 250, global round = 250), Accuracy/Training: 50.110619469026545\n",
      "reporting (epoch = 1, round = 250, global round = 250) for aggregation\n",
      "(epoch = 1, round = 250, global round = 250), Loss/Aggregation: 0.46053305864334104\n",
      "(epoch = 1, round = 250, global round = 250), Accuracy/Aggregation: 74.50980392156863\n",
      "Running (epoch = 1, round = 250, global round = 250) for Eval\n",
      "(epoch = 1, round = 250, global round = 250), Loss/Eval: 0.7993363560895771\n",
      "(epoch = 1, round = 250, global round = 250), Accuracy/Eval: 50.105633802816904\n",
      "Current eval accuracy: {'Accuracy': 50.105633802816904}%, Best so far: {'Accuracy': 50.2112676056338}%\n"
     ]
    },
    {
     "name": "stderr",
     "output_type": "stream",
     "text": [
      "Round: 100%|██████████████████████████████████████████████████████████████████████▋| 249/250 [01:00<00:00,  4.12round/s]\n",
      "Epoch:   0%|                                                                                   | 0/1 [01:00<?, ?epoch/s]"
     ]
    },
    {
     "name": "stdout",
     "output_type": "stream",
     "text": [
      "Running (epoch = 1, round = 1, global round = 1) for Test\n"
     ]
    },
    {
     "name": "stderr",
     "output_type": "stream",
     "text": [
      "\n",
      "  1%|▎                                         | 3.0/400 [03:09<6:58:06, 63.19s/it, min_score=-50.2, models_evaluated=0]"
     ]
    },
    {
     "name": "stdout",
     "output_type": "stream",
     "text": [
      "(epoch = 1, round = 1, global round = 1), Loss/Test: 0.7993363561134859\n",
      "(epoch = 1, round = 1, global round = 1), Accuracy/Test: 50.105633802816904\n"
     ]
    },
    {
     "name": "stderr",
     "output_type": "stream",
     "text": [
      "Round: 100%|██████████████████████████████████████████████████████████████████████▋| 249/250 [00:54<00:00,  4.66round/s]"
     ]
    },
    {
     "name": "stdout",
     "output_type": "stream",
     "text": [
      "Train finished Global Round: 250\n",
      "(epoch = 1, round = 250, global round = 250), Loss/Training: 0.787082588209453\n",
      "(epoch = 1, round = 250, global round = 250), Accuracy/Training: 51.34231926033196\n",
      "reporting (epoch = 1, round = 250, global round = 250) for aggregation\n",
      "(epoch = 1, round = 250, global round = 250), Loss/Aggregation: 0.4818033993244171\n",
      "(epoch = 1, round = 250, global round = 250), Accuracy/Aggregation: 90.9090909090909\n",
      "Running (epoch = 1, round = 250, global round = 250) for Eval\n",
      "(epoch = 1, round = 250, global round = 250), Loss/Eval: 0.7672904063684128\n",
      "(epoch = 1, round = 250, global round = 250), Accuracy/Eval: 49.683098591549296\n",
      "Current eval accuracy: {'Accuracy': 49.683098591549296}%, Best so far: {'Accuracy': 50.2112676056338}%\n"
     ]
    },
    {
     "name": "stderr",
     "output_type": "stream",
     "text": [
      "Round: 100%|██████████████████████████████████████████████████████████████████████▋| 249/250 [00:57<00:00,  4.33round/s]\n",
      "Epoch:   0%|                                                                                   | 0/1 [00:57<?, ?epoch/s]"
     ]
    },
    {
     "name": "stdout",
     "output_type": "stream",
     "text": [
      "Running (epoch = 1, round = 1, global round = 1) for Test\n"
     ]
    },
    {
     "name": "stderr",
     "output_type": "stream",
     "text": [
      "\n",
      "  1%|▍                                         | 4.0/400 [04:10<6:50:30, 62.20s/it, min_score=-50.2, models_evaluated=0]"
     ]
    },
    {
     "name": "stdout",
     "output_type": "stream",
     "text": [
      "(epoch = 1, round = 1, global round = 1), Loss/Test: 0.7672904061771424\n",
      "(epoch = 1, round = 1, global round = 1), Accuracy/Test: 49.683098591549296\n"
     ]
    },
    {
     "name": "stderr",
     "output_type": "stream",
     "text": [
      "Round: 100%|██████████████████████████████████████████████████████████████████████▋| 249/250 [00:54<00:00,  4.57round/s]"
     ]
    },
    {
     "name": "stdout",
     "output_type": "stream",
     "text": [
      "Train finished Global Round: 250\n",
      "(epoch = 1, round = 250, global round = 250), Loss/Training: 0.7208416127615304\n",
      "(epoch = 1, round = 250, global round = 250), Accuracy/Training: 51.964498322329256\n",
      "reporting (epoch = 1, round = 250, global round = 250) for aggregation\n",
      "(epoch = 1, round = 250, global round = 250), Loss/Aggregation: 0.6694285035133362\n",
      "(epoch = 1, round = 250, global round = 250), Accuracy/Aggregation: 60.0\n",
      "Running (epoch = 1, round = 250, global round = 250) for Eval\n",
      "(epoch = 1, round = 250, global round = 250), Loss/Eval: 0.6971079980184216\n",
      "(epoch = 1, round = 250, global round = 250), Accuracy/Eval: 50.105633802816904\n",
      "Current eval accuracy: {'Accuracy': 50.105633802816904}%, Best so far: {'Accuracy': 50.2112676056338}%\n"
     ]
    },
    {
     "name": "stderr",
     "output_type": "stream",
     "text": [
      "Round: 100%|██████████████████████████████████████████████████████████████████████▋| 249/250 [00:57<00:00,  4.34round/s]\n",
      "Epoch:   0%|                                                                                   | 0/1 [00:57<?, ?epoch/s]"
     ]
    },
    {
     "name": "stdout",
     "output_type": "stream",
     "text": [
      "Running (epoch = 1, round = 1, global round = 1) for Test\n"
     ]
    },
    {
     "name": "stderr",
     "output_type": "stream",
     "text": [
      "\n",
      "  1%|▌                                         | 5.0/400 [05:10<6:45:31, 61.60s/it, min_score=-50.2, models_evaluated=0]"
     ]
    },
    {
     "name": "stdout",
     "output_type": "stream",
     "text": [
      "(epoch = 1, round = 1, global round = 1), Loss/Test: 0.6971079979227864\n",
      "(epoch = 1, round = 1, global round = 1), Accuracy/Test: 50.105633802816904\n"
     ]
    },
    {
     "name": "stderr",
     "output_type": "stream",
     "text": [
      "Round: 100%|██████████████████████████████████████████████████████████████████████▋| 249/250 [00:56<00:00,  4.38round/s]"
     ]
    },
    {
     "name": "stdout",
     "output_type": "stream",
     "text": [
      "Train finished Global Round: 250\n",
      "(epoch = 1, round = 250, global round = 250), Loss/Training: 0.809321454799074\n",
      "(epoch = 1, round = 250, global round = 250), Accuracy/Training: 49.92812119871724\n",
      "reporting (epoch = 1, round = 250, global round = 250) for aggregation\n",
      "(epoch = 1, round = 250, global round = 250), Loss/Aggregation: 0.6667485356330871\n",
      "(epoch = 1, round = 250, global round = 250), Accuracy/Aggregation: 80.0\n",
      "Running (epoch = 1, round = 250, global round = 250) for Eval\n",
      "(epoch = 1, round = 250, global round = 250), Loss/Eval: 0.6969656520013201\n",
      "(epoch = 1, round = 250, global round = 250), Accuracy/Eval: 50.45774647887324\n",
      "Current eval accuracy: {'Accuracy': 50.45774647887324}%, Best so far: {'Accuracy': 50.2112676056338}%\n"
     ]
    },
    {
     "name": "stderr",
     "output_type": "stream",
     "text": [
      "Round: 100%|██████████████████████████████████████████████████████████████████████▋| 249/250 [00:59<00:00,  4.18round/s]\n",
      "Epoch:   0%|                                                                                   | 0/1 [00:59<?, ?epoch/s]"
     ]
    },
    {
     "name": "stdout",
     "output_type": "stream",
     "text": [
      "Running (epoch = 1, round = 1, global round = 1) for Test\n"
     ]
    },
    {
     "name": "stderr",
     "output_type": "stream",
     "text": [
      "\n",
      "  2%|▋                                         | 6.0/400 [06:13<6:47:47, 62.10s/it, min_score=-50.5, models_evaluated=0]"
     ]
    },
    {
     "name": "stdout",
     "output_type": "stream",
     "text": [
      "(epoch = 1, round = 1, global round = 1), Loss/Test: 0.6969656520491377\n",
      "(epoch = 1, round = 1, global round = 1), Accuracy/Test: 50.45774647887324\n"
     ]
    },
    {
     "name": "stderr",
     "output_type": "stream",
     "text": [
      "Round: 100%|██████████████████████████████████████████████████████████████████████▋| 249/250 [00:55<00:00,  4.66round/s]"
     ]
    },
    {
     "name": "stdout",
     "output_type": "stream",
     "text": [
      "Train finished Global Round: 250\n",
      "(epoch = 1, round = 250, global round = 250), Loss/Training: 0.8983168781616115\n",
      "(epoch = 1, round = 250, global round = 250), Accuracy/Training: 50.06626905235255\n",
      "reporting (epoch = 1, round = 250, global round = 250) for aggregation\n",
      "(epoch = 1, round = 250, global round = 250), Loss/Aggregation: 0.5880527377128602\n",
      "(epoch = 1, round = 250, global round = 250), Accuracy/Aggregation: 66.66666666666667\n",
      "Running (epoch = 1, round = 250, global round = 250) for Eval\n",
      "(epoch = 1, round = 250, global round = 250), Loss/Eval: 0.699839062256551\n",
      "(epoch = 1, round = 250, global round = 250), Accuracy/Eval: 51.936619718309856\n",
      "Current eval accuracy: {'Accuracy': 51.936619718309856}%, Best so far: {'Accuracy': 50.45774647887324}%\n"
     ]
    },
    {
     "name": "stderr",
     "output_type": "stream",
     "text": [
      "Round: 100%|██████████████████████████████████████████████████████████████████████▋| 249/250 [00:58<00:00,  4.27round/s]\n",
      "Epoch:   0%|                                                                                   | 0/1 [00:58<?, ?epoch/s]"
     ]
    },
    {
     "name": "stdout",
     "output_type": "stream",
     "text": [
      "Running (epoch = 1, round = 1, global round = 1) for Test\n"
     ]
    },
    {
     "name": "stderr",
     "output_type": "stream",
     "text": [
      "\n",
      "  2%|▋                                         | 7.0/400 [07:15<6:45:23, 61.89s/it, min_score=-51.9, models_evaluated=0]"
     ]
    },
    {
     "name": "stdout",
     "output_type": "stream",
     "text": [
      "(epoch = 1, round = 1, global round = 1), Loss/Test: 0.6998390623282774\n",
      "(epoch = 1, round = 1, global round = 1), Accuracy/Test: 51.936619718309856\n"
     ]
    },
    {
     "name": "stderr",
     "output_type": "stream",
     "text": [
      "Round: 100%|██████████████████████████████████████████████████████████████████████▋| 249/250 [00:55<00:00,  4.38round/s]"
     ]
    },
    {
     "name": "stdout",
     "output_type": "stream",
     "text": [
      "Train finished Global Round: 250\n",
      "(epoch = 1, round = 250, global round = 250), Loss/Training: 0.6928953170681982\n",
      "(epoch = 1, round = 250, global round = 250), Accuracy/Training: 51.47683923705722\n",
      "reporting (epoch = 1, round = 250, global round = 250) for aggregation\n",
      "(epoch = 1, round = 250, global round = 250), Loss/Aggregation: 0.6829650342464447\n",
      "(epoch = 1, round = 250, global round = 250), Accuracy/Aggregation: 61.53846153846154\n",
      "Running (epoch = 1, round = 250, global round = 250) for Eval\n",
      "(epoch = 1, round = 250, global round = 250), Loss/Eval: 0.6919151650486918\n",
      "(epoch = 1, round = 250, global round = 250), Accuracy/Eval: 50.95070422535211\n",
      "Current eval accuracy: {'Accuracy': 50.95070422535211}%, Best so far: {'Accuracy': 51.936619718309856}%\n"
     ]
    },
    {
     "name": "stderr",
     "output_type": "stream",
     "text": [
      "Round: 100%|██████████████████████████████████████████████████████████████████████▋| 249/250 [00:58<00:00,  4.25round/s]\n",
      "Epoch:   0%|                                                                                   | 0/1 [00:58<?, ?epoch/s]"
     ]
    },
    {
     "name": "stdout",
     "output_type": "stream",
     "text": [
      "Running (epoch = 1, round = 1, global round = 1) for Test\n"
     ]
    },
    {
     "name": "stderr",
     "output_type": "stream",
     "text": [
      "\n",
      "  2%|▊                                         | 8.0/400 [08:16<6:44:02, 61.84s/it, min_score=-51.9, models_evaluated=0]"
     ]
    },
    {
     "name": "stdout",
     "output_type": "stream",
     "text": [
      "(epoch = 1, round = 1, global round = 1), Loss/Test: 0.6919151648574214\n",
      "(epoch = 1, round = 1, global round = 1), Accuracy/Test: 50.95070422535211\n"
     ]
    },
    {
     "name": "stderr",
     "output_type": "stream",
     "text": [
      "Round: 100%|██████████████████████████████████████████████████████████████████████▋| 249/250 [00:57<00:00,  4.75round/s]"
     ]
    },
    {
     "name": "stdout",
     "output_type": "stream",
     "text": [
      "Train finished Global Round: 250\n",
      "(epoch = 1, round = 250, global round = 250), Loss/Training: 0.7043715168433856\n",
      "(epoch = 1, round = 250, global round = 250), Accuracy/Training: 51.01701951017019\n",
      "reporting (epoch = 1, round = 250, global round = 250) for aggregation\n",
      "(epoch = 1, round = 250, global round = 250), Loss/Aggregation: 0.6658550560474396\n",
      "(epoch = 1, round = 250, global round = 250), Accuracy/Aggregation: 78.57142857142857\n",
      "Running (epoch = 1, round = 250, global round = 250) for Eval\n",
      "(epoch = 1, round = 250, global round = 250), Loss/Eval: 0.6937981964209641\n",
      "(epoch = 1, round = 250, global round = 250), Accuracy/Eval: 49.82394366197183\n",
      "Current eval accuracy: {'Accuracy': 49.82394366197183}%, Best so far: {'Accuracy': 51.936619718309856}%\n"
     ]
    },
    {
     "name": "stderr",
     "output_type": "stream",
     "text": [
      "Round: 100%|██████████████████████████████████████████████████████████████████████▋| 249/250 [01:00<00:00,  4.14round/s]\n",
      "Epoch:   0%|                                                                                   | 0/1 [01:00<?, ?epoch/s]"
     ]
    },
    {
     "name": "stdout",
     "output_type": "stream",
     "text": [
      "Running (epoch = 1, round = 1, global round = 1) for Test\n"
     ]
    },
    {
     "name": "stderr",
     "output_type": "stream",
     "text": [
      "\n",
      "  2%|▉                                         | 9.0/400 [09:20<6:45:46, 62.27s/it, min_score=-51.9, models_evaluated=0]"
     ]
    },
    {
     "name": "stdout",
     "output_type": "stream",
     "text": [
      "(epoch = 1, round = 1, global round = 1), Loss/Test: 0.6937981963253289\n",
      "(epoch = 1, round = 1, global round = 1), Accuracy/Test: 49.82394366197183\n"
     ]
    },
    {
     "name": "stderr",
     "output_type": "stream",
     "text": [
      "Round: 100%|██████████████████████████████████████████████████████████████████████▋| 249/250 [00:55<00:00,  4.67round/s]"
     ]
    },
    {
     "name": "stdout",
     "output_type": "stream",
     "text": [
      "Train finished Global Round: 250\n",
      "(epoch = 1, round = 250, global round = 250), Loss/Training: 0.6918388205945869\n",
      "(epoch = 1, round = 250, global round = 250), Accuracy/Training: 54.05659392294038\n",
      "reporting (epoch = 1, round = 250, global round = 250) for aggregation\n",
      "(epoch = 1, round = 250, global round = 250), Loss/Aggregation: 0.6717424690723419\n",
      "(epoch = 1, round = 250, global round = 250), Accuracy/Aggregation: 51.851851851851855\n",
      "Running (epoch = 1, round = 250, global round = 250) for Eval\n",
      "(epoch = 1, round = 250, global round = 250), Loss/Eval: 0.6956166546721559\n",
      "(epoch = 1, round = 250, global round = 250), Accuracy/Eval: 52.852112676056336\n",
      "Current eval accuracy: {'Accuracy': 52.852112676056336}%, Best so far: {'Accuracy': 51.936619718309856}%\n"
     ]
    },
    {
     "name": "stderr",
     "output_type": "stream",
     "text": [
      "Round: 100%|██████████████████████████████████████████████████████████████████████▋| 249/250 [00:58<00:00,  4.26round/s]\n",
      "Epoch:   0%|                                                                                   | 0/1 [00:58<?, ?epoch/s]"
     ]
    },
    {
     "name": "stdout",
     "output_type": "stream",
     "text": [
      "Running (epoch = 1, round = 1, global round = 1) for Test\n"
     ]
    },
    {
     "name": "stderr",
     "output_type": "stream",
     "text": [
      "\n",
      "  2%|█                                        | 10.0/400 [10:21<6:43:13, 62.03s/it, min_score=-52.9, models_evaluated=0]"
     ]
    },
    {
     "name": "stdout",
     "output_type": "stream",
     "text": [
      "(epoch = 1, round = 1, global round = 1), Loss/Test: 0.695616654731928\n",
      "(epoch = 1, round = 1, global round = 1), Accuracy/Test: 52.852112676056336\n"
     ]
    },
    {
     "name": "stderr",
     "output_type": "stream",
     "text": [
      "Round: 100%|██████████████████████████████████████████████████████████████████████▋| 249/250 [00:54<00:00,  4.64round/s]"
     ]
    },
    {
     "name": "stdout",
     "output_type": "stream",
     "text": [
      "Train finished Global Round: 250\n",
      "(epoch = 1, round = 250, global round = 250), Loss/Training: 0.7027263611478411\n",
      "(epoch = 1, round = 250, global round = 250), Accuracy/Training: 51.012753188297076\n",
      "reporting (epoch = 1, round = 250, global round = 250) for aggregation\n",
      "(epoch = 1, round = 250, global round = 250), Loss/Aggregation: 0.688500452041626\n",
      "(epoch = 1, round = 250, global round = 250), Accuracy/Aggregation: 42.42424242424242\n",
      "Running (epoch = 1, round = 250, global round = 250) for Eval\n",
      "(epoch = 1, round = 250, global round = 250), Loss/Eval: 0.6951393593854327\n",
      "(epoch = 1, round = 250, global round = 250), Accuracy/Eval: 49.61267605633803\n",
      "Current eval accuracy: {'Accuracy': 49.61267605633803}%, Best so far: {'Accuracy': 52.852112676056336}%\n"
     ]
    },
    {
     "name": "stderr",
     "output_type": "stream",
     "text": [
      "Round: 100%|██████████████████████████████████████████████████████████████████████▋| 249/250 [00:57<00:00,  4.32round/s]\n",
      "Epoch:   0%|                                                                                   | 0/1 [00:57<?, ?epoch/s]"
     ]
    },
    {
     "name": "stdout",
     "output_type": "stream",
     "text": [
      "Running (epoch = 1, round = 1, global round = 1) for Test\n"
     ]
    },
    {
     "name": "stderr",
     "output_type": "stream",
     "text": [
      "\n",
      "  3%|█▏                                       | 11.0/400 [11:22<6:40:16, 61.74s/it, min_score=-52.9, models_evaluated=0]"
     ]
    },
    {
     "name": "stdout",
     "output_type": "stream",
     "text": [
      "(epoch = 1, round = 1, global round = 1), Loss/Test: 0.6951393593376151\n",
      "(epoch = 1, round = 1, global round = 1), Accuracy/Test: 49.61267605633803\n"
     ]
    },
    {
     "name": "stderr",
     "output_type": "stream",
     "text": [
      "Round: 100%|██████████████████████████████████████████████████████████████████████▋| 249/250 [00:57<00:00,  4.44round/s]"
     ]
    },
    {
     "name": "stdout",
     "output_type": "stream",
     "text": [
      "Train finished Global Round: 250\n",
      "(epoch = 1, round = 250, global round = 250), Loss/Training: 0.8141341794697268\n",
      "(epoch = 1, round = 250, global round = 250), Accuracy/Training: 50.96261473024401\n",
      "reporting (epoch = 1, round = 250, global round = 250) for aggregation\n",
      "(epoch = 1, round = 250, global round = 250), Loss/Aggregation: 0.7391193628311157\n",
      "(epoch = 1, round = 250, global round = 250), Accuracy/Aggregation: 55.88235294117647\n",
      "Running (epoch = 1, round = 250, global round = 250) for Eval\n",
      "(epoch = 1, round = 250, global round = 250), Loss/Eval: 0.6958155113915292\n",
      "(epoch = 1, round = 250, global round = 250), Accuracy/Eval: 50.03521126760563\n",
      "Current eval accuracy: {'Accuracy': 50.03521126760563}%, Best so far: {'Accuracy': 52.852112676056336}%\n"
     ]
    },
    {
     "name": "stderr",
     "output_type": "stream",
     "text": [
      "Round: 100%|██████████████████████████████████████████████████████████████████████▋| 249/250 [01:00<00:00,  4.10round/s]\n",
      "Epoch:   0%|                                                                                   | 0/1 [01:00<?, ?epoch/s]"
     ]
    },
    {
     "name": "stdout",
     "output_type": "stream",
     "text": [
      "Running (epoch = 1, round = 1, global round = 1) for Test\n"
     ]
    },
    {
     "name": "stderr",
     "output_type": "stream",
     "text": [
      "\n",
      "  3%|█▏                                       | 12.0/400 [12:26<6:43:28, 62.39s/it, min_score=-52.9, models_evaluated=0]"
     ]
    },
    {
     "name": "stdout",
     "output_type": "stream",
     "text": [
      "(epoch = 1, round = 1, global round = 1), Loss/Test: 0.6958155115588908\n",
      "(epoch = 1, round = 1, global round = 1), Accuracy/Test: 50.03521126760563\n"
     ]
    },
    {
     "name": "stderr",
     "output_type": "stream",
     "text": [
      "Round: 100%|██████████████████████████████████████████████████████████████████████▋| 249/250 [00:56<00:00,  4.61round/s]"
     ]
    },
    {
     "name": "stdout",
     "output_type": "stream",
     "text": [
      "Train finished Global Round: 250\n",
      "(epoch = 1, round = 250, global round = 250), Loss/Training: 0.83490174809855\n",
      "(epoch = 1, round = 250, global round = 250), Accuracy/Training: 51.14085125054849\n",
      "reporting (epoch = 1, round = 250, global round = 250) for aggregation\n",
      "(epoch = 1, round = 250, global round = 250), Loss/Aggregation: 0.6937490403652191\n",
      "(epoch = 1, round = 250, global round = 250), Accuracy/Aggregation: 59.45945945945946\n",
      "Running (epoch = 1, round = 250, global round = 250) for Eval\n",
      "(epoch = 1, round = 250, global round = 250), Loss/Eval: 0.6929856168843636\n",
      "(epoch = 1, round = 250, global round = 250), Accuracy/Eval: 50.563380281690144\n",
      "Current eval accuracy: {'Accuracy': 50.563380281690144}%, Best so far: {'Accuracy': 52.852112676056336}%\n"
     ]
    },
    {
     "name": "stderr",
     "output_type": "stream",
     "text": [
      "Round: 100%|██████████████████████████████████████████████████████████████████████▋| 249/250 [00:59<00:00,  4.17round/s]\n",
      "Epoch:   0%|                                                                                   | 0/1 [00:59<?, ?epoch/s]"
     ]
    },
    {
     "name": "stdout",
     "output_type": "stream",
     "text": [
      "Running (epoch = 1, round = 1, global round = 1) for Test\n"
     ]
    },
    {
     "name": "stderr",
     "output_type": "stream",
     "text": [
      "\n",
      "  3%|█▎                                       | 13.0/400 [13:29<6:43:17, 62.53s/it, min_score=-52.9, models_evaluated=0]"
     ]
    },
    {
     "name": "stdout",
     "output_type": "stream",
     "text": [
      "(epoch = 1, round = 1, global round = 1), Loss/Test: 0.6929856168365459\n",
      "(epoch = 1, round = 1, global round = 1), Accuracy/Test: 50.563380281690144\n"
     ]
    },
    {
     "name": "stderr",
     "output_type": "stream",
     "text": [
      "Round: 100%|██████████████████████████████████████████████████████████████████████▋| 249/250 [00:54<00:00,  4.69round/s]"
     ]
    },
    {
     "name": "stdout",
     "output_type": "stream",
     "text": [
      "Train finished Global Round: 250\n",
      "(epoch = 1, round = 250, global round = 250), Loss/Training: 0.691768372716534\n",
      "(epoch = 1, round = 250, global round = 250), Accuracy/Training: 51.79235103704592\n",
      "reporting (epoch = 1, round = 250, global round = 250) for aggregation\n",
      "(epoch = 1, round = 250, global round = 250), Loss/Aggregation: 0.6988279581069946\n",
      "(epoch = 1, round = 250, global round = 250), Accuracy/Aggregation: 53.125\n",
      "Running (epoch = 1, round = 250, global round = 250) for Eval\n",
      "(epoch = 1, round = 250, global round = 250), Loss/Eval: 0.6906568469697101\n",
      "(epoch = 1, round = 250, global round = 250), Accuracy/Eval: 52.21830985915493\n",
      "Current eval accuracy: {'Accuracy': 52.21830985915493}%, Best so far: {'Accuracy': 52.852112676056336}%\n"
     ]
    },
    {
     "name": "stderr",
     "output_type": "stream",
     "text": [
      "Round: 100%|██████████████████████████████████████████████████████████████████████▋| 249/250 [00:57<00:00,  4.33round/s]\n",
      "Epoch:   0%|                                                                                   | 0/1 [00:57<?, ?epoch/s]"
     ]
    },
    {
     "name": "stdout",
     "output_type": "stream",
     "text": [
      "Running (epoch = 1, round = 1, global round = 1) for Test\n"
     ]
    },
    {
     "name": "stderr",
     "output_type": "stream",
     "text": [
      "\n",
      "  4%|█▍                                       | 14.0/400 [14:30<6:38:26, 61.93s/it, min_score=-52.9, models_evaluated=0]"
     ]
    },
    {
     "name": "stdout",
     "output_type": "stream",
     "text": [
      "(epoch = 1, round = 1, global round = 1), Loss/Test: 0.690656846850166\n",
      "(epoch = 1, round = 1, global round = 1), Accuracy/Test: 52.21830985915493\n"
     ]
    },
    {
     "name": "stderr",
     "output_type": "stream",
     "text": [
      "Round: 100%|██████████████████████████████████████████████████████████████████████▋| 249/250 [00:54<00:00,  4.67round/s]"
     ]
    },
    {
     "name": "stdout",
     "output_type": "stream",
     "text": [
      "Train finished Global Round: 250\n",
      "(epoch = 1, round = 250, global round = 250), Loss/Training: 0.7213688882691631\n",
      "(epoch = 1, round = 250, global round = 250), Accuracy/Training: 51.33304665663298\n",
      "reporting (epoch = 1, round = 250, global round = 250) for aggregation\n",
      "(epoch = 1, round = 250, global round = 250), Loss/Aggregation: 0.6225569725036622\n",
      "(epoch = 1, round = 250, global round = 250), Accuracy/Aggregation: 85.18518518518519\n",
      "Running (epoch = 1, round = 250, global round = 250) for Eval\n",
      "(epoch = 1, round = 250, global round = 250), Loss/Eval: 0.6943030534525066\n",
      "(epoch = 1, round = 250, global round = 250), Accuracy/Eval: 51.267605633802816\n",
      "Current eval accuracy: {'Accuracy': 51.267605633802816}%, Best so far: {'Accuracy': 52.852112676056336}%\n"
     ]
    },
    {
     "name": "stderr",
     "output_type": "stream",
     "text": [
      "Round: 100%|██████████████████████████████████████████████████████████████████████▋| 249/250 [00:57<00:00,  4.34round/s]\n",
      "Epoch:   0%|                                                                                   | 0/1 [00:57<?, ?epoch/s]"
     ]
    },
    {
     "name": "stdout",
     "output_type": "stream",
     "text": [
      "Running (epoch = 1, round = 1, global round = 1) for Test\n"
     ]
    },
    {
     "name": "stderr",
     "output_type": "stream",
     "text": [
      "\n",
      "  4%|█▌                                       | 15.0/400 [15:30<6:35:15, 61.60s/it, min_score=-52.9, models_evaluated=0]"
     ]
    },
    {
     "name": "stdout",
     "output_type": "stream",
     "text": [
      "(epoch = 1, round = 1, global round = 1), Loss/Test: 0.6943030535481419\n",
      "(epoch = 1, round = 1, global round = 1), Accuracy/Test: 51.267605633802816\n"
     ]
    },
    {
     "name": "stderr",
     "output_type": "stream",
     "text": [
      "Round: 100%|██████████████████████████████████████████████████████████████████████▋| 249/250 [00:54<00:00,  4.68round/s]"
     ]
    },
    {
     "name": "stdout",
     "output_type": "stream",
     "text": [
      "Train finished Global Round: 250\n",
      "(epoch = 1, round = 250, global round = 250), Loss/Training: 0.6984196286049567\n",
      "(epoch = 1, round = 250, global round = 250), Accuracy/Training: 49.87632111535867\n",
      "reporting (epoch = 1, round = 250, global round = 250) for aggregation\n",
      "(epoch = 1, round = 250, global round = 250), Loss/Aggregation: 0.6969014823436737\n",
      "(epoch = 1, round = 250, global round = 250), Accuracy/Aggregation: 65.9090909090909\n",
      "Running (epoch = 1, round = 250, global round = 250) for Eval\n",
      "(epoch = 1, round = 250, global round = 250), Loss/Eval: 0.6948918865906203\n",
      "(epoch = 1, round = 250, global round = 250), Accuracy/Eval: 49.894366197183096\n",
      "Current eval accuracy: {'Accuracy': 49.894366197183096}%, Best so far: {'Accuracy': 52.852112676056336}%\n"
     ]
    },
    {
     "name": "stderr",
     "output_type": "stream",
     "text": [
      "Round: 100%|██████████████████████████████████████████████████████████████████████▋| 249/250 [00:58<00:00,  4.29round/s]\n",
      "Epoch:   0%|                                                                                   | 0/1 [00:58<?, ?epoch/s]"
     ]
    },
    {
     "name": "stdout",
     "output_type": "stream",
     "text": [
      "Running (epoch = 1, round = 1, global round = 1) for Test\n"
     ]
    },
    {
     "name": "stderr",
     "output_type": "stream",
     "text": [
      "\n",
      "  4%|█▋                                       | 16.0/400 [16:32<6:33:22, 61.46s/it, min_score=-52.9, models_evaluated=0]"
     ]
    },
    {
     "name": "stdout",
     "output_type": "stream",
     "text": [
      "(epoch = 1, round = 1, global round = 1), Loss/Test: 0.6948918865667114\n",
      "(epoch = 1, round = 1, global round = 1), Accuracy/Test: 49.894366197183096\n"
     ]
    },
    {
     "name": "stderr",
     "output_type": "stream",
     "text": [
      "Round: 100%|██████████████████████████████████████████████████████████████████████▋| 249/250 [00:55<00:00,  4.60round/s]"
     ]
    },
    {
     "name": "stdout",
     "output_type": "stream",
     "text": [
      "Train finished Global Round: 250\n",
      "(epoch = 1, round = 250, global round = 250), Loss/Training: 0.7047527136516827\n",
      "(epoch = 1, round = 250, global round = 250), Accuracy/Training: 52.15512465373961\n",
      "reporting (epoch = 1, round = 250, global round = 250) for aggregation\n",
      "(epoch = 1, round = 250, global round = 250), Loss/Aggregation: 0.5246056914329529\n",
      "(epoch = 1, round = 250, global round = 250), Accuracy/Aggregation: 66.66666666666667\n",
      "Running (epoch = 1, round = 250, global round = 250) for Eval\n",
      "(epoch = 1, round = 250, global round = 250), Loss/Eval: 0.7760418941081167\n",
      "(epoch = 1, round = 250, global round = 250), Accuracy/Eval: 50.105633802816904\n",
      "Current eval accuracy: {'Accuracy': 50.105633802816904}%, Best so far: {'Accuracy': 52.852112676056336}%\n"
     ]
    },
    {
     "name": "stderr",
     "output_type": "stream",
     "text": [
      "Round: 100%|██████████████████████████████████████████████████████████████████████▋| 249/250 [00:58<00:00,  4.27round/s]\n",
      "Epoch:   0%|                                                                                   | 0/1 [00:58<?, ?epoch/s]"
     ]
    },
    {
     "name": "stdout",
     "output_type": "stream",
     "text": [
      "Running (epoch = 1, round = 1, global round = 1) for Test\n"
     ]
    },
    {
     "name": "stderr",
     "output_type": "stream",
     "text": [
      "\n",
      "  4%|█▋                                       | 17.0/400 [17:33<6:33:09, 61.59s/it, min_score=-52.9, models_evaluated=0]"
     ]
    },
    {
     "name": "stdout",
     "output_type": "stream",
     "text": [
      "(epoch = 1, round = 1, global round = 1), Loss/Test: 0.776041894203752\n",
      "(epoch = 1, round = 1, global round = 1), Accuracy/Test: 50.105633802816904\n"
     ]
    },
    {
     "name": "stderr",
     "output_type": "stream",
     "text": [
      "Round: 100%|██████████████████████████████████████████████████████████████████████▋| 249/250 [00:55<00:00,  4.38round/s]"
     ]
    },
    {
     "name": "stdout",
     "output_type": "stream",
     "text": [
      "Train finished Global Round: 250\n",
      "(epoch = 1, round = 250, global round = 250), Loss/Training: 0.6971810530352441\n",
      "(epoch = 1, round = 250, global round = 250), Accuracy/Training: 51.26151820974111\n",
      "reporting (epoch = 1, round = 250, global round = 250) for aggregation\n",
      "(epoch = 1, round = 250, global round = 250), Loss/Aggregation: 0.6908308088779449\n",
      "(epoch = 1, round = 250, global round = 250), Accuracy/Aggregation: 47.05882352941177\n",
      "Running (epoch = 1, round = 250, global round = 250) for Eval\n",
      "(epoch = 1, round = 250, global round = 250), Loss/Eval: 0.6952150199387478\n",
      "(epoch = 1, round = 250, global round = 250), Accuracy/Eval: 50.38732394366197\n",
      "Current eval accuracy: {'Accuracy': 50.38732394366197}%, Best so far: {'Accuracy': 52.852112676056336}%\n"
     ]
    },
    {
     "name": "stderr",
     "output_type": "stream",
     "text": [
      "Round: 100%|██████████████████████████████████████████████████████████████████████▋| 249/250 [00:58<00:00,  4.25round/s]\n",
      "Epoch:   0%|                                                                                   | 0/1 [00:58<?, ?epoch/s]"
     ]
    },
    {
     "name": "stdout",
     "output_type": "stream",
     "text": [
      "Running (epoch = 1, round = 1, global round = 1) for Test\n"
     ]
    },
    {
     "name": "stderr",
     "output_type": "stream",
     "text": [
      "\n",
      "  4%|█▊                                       | 18.0/400 [18:35<6:32:05, 61.59s/it, min_score=-52.9, models_evaluated=0]"
     ]
    },
    {
     "name": "stdout",
     "output_type": "stream",
     "text": [
      "(epoch = 1, round = 1, global round = 1), Loss/Test: 0.6952150201778359\n",
      "(epoch = 1, round = 1, global round = 1), Accuracy/Test: 50.38732394366197\n"
     ]
    },
    {
     "name": "stderr",
     "output_type": "stream",
     "text": [
      "Round: 100%|██████████████████████████████████████████████████████████████████████▋| 249/250 [00:54<00:00,  4.62round/s]"
     ]
    },
    {
     "name": "stdout",
     "output_type": "stream",
     "text": [
      "Train finished Global Round: 250\n",
      "(epoch = 1, round = 250, global round = 250), Loss/Training: 0.7014430152789759\n",
      "(epoch = 1, round = 250, global round = 250), Accuracy/Training: 53.00499946814169\n",
      "reporting (epoch = 1, round = 250, global round = 250) for aggregation\n",
      "(epoch = 1, round = 250, global round = 250), Loss/Aggregation: 0.6763615929163419\n",
      "(epoch = 1, round = 250, global round = 250), Accuracy/Aggregation: 54.929577464788736\n",
      "Running (epoch = 1, round = 250, global round = 250) for Eval\n",
      "(epoch = 1, round = 250, global round = 250), Loss/Eval: 0.6935075956011603\n",
      "(epoch = 1, round = 250, global round = 250), Accuracy/Eval: 50.63380281690141\n",
      "Current eval accuracy: {'Accuracy': 50.63380281690141}%, Best so far: {'Accuracy': 52.852112676056336}%\n"
     ]
    },
    {
     "name": "stderr",
     "output_type": "stream",
     "text": [
      "Round: 100%|██████████████████████████████████████████████████████████████████████▋| 249/250 [00:57<00:00,  4.33round/s]\n",
      "Epoch:   0%|                                                                                   | 0/1 [00:57<?, ?epoch/s]"
     ]
    },
    {
     "name": "stdout",
     "output_type": "stream",
     "text": [
      "Running (epoch = 1, round = 1, global round = 1) for Test\n"
     ]
    },
    {
     "name": "stderr",
     "output_type": "stream",
     "text": [
      "\n",
      "  5%|█▉                                       | 19.0/400 [19:36<6:30:02, 61.42s/it, min_score=-52.9, models_evaluated=0]"
     ]
    },
    {
     "name": "stdout",
     "output_type": "stream",
     "text": [
      "(epoch = 1, round = 1, global round = 1), Loss/Test: 0.6935075957924307\n",
      "(epoch = 1, round = 1, global round = 1), Accuracy/Test: 50.63380281690141\n"
     ]
    },
    {
     "name": "stderr",
     "output_type": "stream",
     "text": [
      "Round: 100%|██████████████████████████████████████████████████████████████████████▋| 249/250 [00:57<00:00,  4.43round/s]"
     ]
    },
    {
     "name": "stdout",
     "output_type": "stream",
     "text": [
      "Train finished Global Round: 250\n",
      "(epoch = 1, round = 250, global round = 250), Loss/Training: 0.7313359202875451\n",
      "(epoch = 1, round = 250, global round = 250), Accuracy/Training: 50.78644568774411\n",
      "reporting (epoch = 1, round = 250, global round = 250) for aggregation\n",
      "(epoch = 1, round = 250, global round = 250), Loss/Aggregation: 0.6616855919361114\n",
      "(epoch = 1, round = 250, global round = 250), Accuracy/Aggregation: 65.9090909090909\n",
      "Running (epoch = 1, round = 250, global round = 250) for Eval\n",
      "(epoch = 1, round = 250, global round = 250), Loss/Eval: 0.6974030548532565\n",
      "(epoch = 1, round = 250, global round = 250), Accuracy/Eval: 50.105633802816904\n",
      "Current eval accuracy: {'Accuracy': 50.105633802816904}%, Best so far: {'Accuracy': 52.852112676056336}%\n"
     ]
    },
    {
     "name": "stderr",
     "output_type": "stream",
     "text": [
      "Round: 100%|██████████████████████████████████████████████████████████████████████▋| 249/250 [01:00<00:00,  4.10round/s]\n",
      "Epoch:   0%|                                                                                   | 0/1 [01:00<?, ?epoch/s]"
     ]
    },
    {
     "name": "stdout",
     "output_type": "stream",
     "text": [
      "Running (epoch = 1, round = 1, global round = 1) for Test\n"
     ]
    },
    {
     "name": "stderr",
     "output_type": "stream",
     "text": [
      "\n",
      "  5%|██                                       | 20.0/400 [20:40<6:33:33, 62.14s/it, min_score=-52.9, models_evaluated=0]"
     ]
    },
    {
     "name": "stdout",
     "output_type": "stream",
     "text": [
      "(epoch = 1, round = 1, global round = 1), Loss/Test: 0.6974030547576213\n",
      "(epoch = 1, round = 1, global round = 1), Accuracy/Test: 50.105633802816904\n"
     ]
    },
    {
     "name": "stderr",
     "output_type": "stream",
     "text": [
      "Round: 100%|██████████████████████████████████████████████████████████████████████▋| 249/250 [00:54<00:00,  4.63round/s]"
     ]
    },
    {
     "name": "stdout",
     "output_type": "stream",
     "text": [
      "Train finished Global Round: 250\n",
      "(epoch = 1, round = 250, global round = 250), Loss/Training: 0.7484431160542834\n",
      "(epoch = 1, round = 250, global round = 250), Accuracy/Training: 50.298971537909594\n",
      "reporting (epoch = 1, round = 250, global round = 250) for aggregation\n",
      "(epoch = 1, round = 250, global round = 250), Loss/Aggregation: 0.5956798665225506\n",
      "(epoch = 1, round = 250, global round = 250), Accuracy/Aggregation: 57.142857142857146\n",
      "Running (epoch = 1, round = 250, global round = 250) for Eval\n",
      "(epoch = 1, round = 250, global round = 250), Loss/Eval: 0.7140362791558656\n",
      "(epoch = 1, round = 250, global round = 250), Accuracy/Eval: 49.75352112676056\n",
      "Current eval accuracy: {'Accuracy': 49.75352112676056}%, Best so far: {'Accuracy': 52.852112676056336}%\n"
     ]
    },
    {
     "name": "stderr",
     "output_type": "stream",
     "text": [
      "Round: 100%|██████████████████████████████████████████████████████████████████████▋| 249/250 [00:57<00:00,  4.32round/s]\n",
      "Epoch:   0%|                                                                                   | 0/1 [00:57<?, ?epoch/s]"
     ]
    },
    {
     "name": "stdout",
     "output_type": "stream",
     "text": [
      "Running (epoch = 1, round = 1, global round = 1) for Test\n"
     ]
    },
    {
     "name": "stderr",
     "output_type": "stream",
     "text": [
      "\n",
      "  5%|██▏                                      | 21.0/400 [21:41<6:29:51, 61.72s/it, min_score=-52.9, models_evaluated=0]"
     ]
    },
    {
     "name": "stdout",
     "output_type": "stream",
     "text": [
      "(epoch = 1, round = 1, global round = 1), Loss/Test: 0.7140362792993185\n",
      "(epoch = 1, round = 1, global round = 1), Accuracy/Test: 49.75352112676056\n"
     ]
    },
    {
     "name": "stderr",
     "output_type": "stream",
     "text": [
      "Round: 100%|██████████████████████████████████████████████████████████████████████▋| 249/250 [00:55<00:00,  4.42round/s]"
     ]
    },
    {
     "name": "stdout",
     "output_type": "stream",
     "text": [
      "Train finished Global Round: 250\n",
      "(epoch = 1, round = 250, global round = 250), Loss/Training: 0.72357403899063\n",
      "(epoch = 1, round = 250, global round = 250), Accuracy/Training: 52.21627408993576\n",
      "reporting (epoch = 1, round = 250, global round = 250) for aggregation\n",
      "(epoch = 1, round = 250, global round = 250), Loss/Aggregation: 0.6773837149143219\n",
      "(epoch = 1, round = 250, global round = 250), Accuracy/Aggregation: 78.37837837837837\n",
      "Running (epoch = 1, round = 250, global round = 250) for Eval\n",
      "(epoch = 1, round = 250, global round = 250), Loss/Eval: 0.6935901844592349\n",
      "(epoch = 1, round = 250, global round = 250), Accuracy/Eval: 51.514084507042256\n",
      "Current eval accuracy: {'Accuracy': 51.514084507042256}%, Best so far: {'Accuracy': 52.852112676056336}%\n"
     ]
    },
    {
     "name": "stderr",
     "output_type": "stream",
     "text": [
      "Round: 100%|██████████████████████████████████████████████████████████████████████▋| 249/250 [00:59<00:00,  4.18round/s]\n",
      "Epoch:   0%|                                                                                   | 0/1 [00:59<?, ?epoch/s]"
     ]
    },
    {
     "name": "stdout",
     "output_type": "stream",
     "text": [
      "Running (epoch = 1, round = 1, global round = 1) for Test\n"
     ]
    },
    {
     "name": "stderr",
     "output_type": "stream",
     "text": [
      "\n",
      "  6%|██▎                                      | 22.0/400 [22:44<6:32:08, 62.25s/it, min_score=-52.9, models_evaluated=0]"
     ]
    },
    {
     "name": "stdout",
     "output_type": "stream",
     "text": [
      "(epoch = 1, round = 1, global round = 1), Loss/Test: 0.6935901844592349\n",
      "(epoch = 1, round = 1, global round = 1), Accuracy/Test: 51.514084507042256\n"
     ]
    },
    {
     "name": "stderr",
     "output_type": "stream",
     "text": [
      "Round: 100%|██████████████████████████████████████████████████████████████████████▋| 249/250 [00:56<00:00,  5.09round/s]"
     ]
    },
    {
     "name": "stdout",
     "output_type": "stream",
     "text": [
      "Train finished Global Round: 250\n",
      "(epoch = 1, round = 250, global round = 250), Loss/Training: 0.853683898868398\n",
      "(epoch = 1, round = 250, global round = 250), Accuracy/Training: 50.63511019433286\n",
      "reporting (epoch = 1, round = 250, global round = 250) for aggregation\n",
      "(epoch = 1, round = 250, global round = 250), Loss/Aggregation: 0.6916897296905518\n",
      "(epoch = 1, round = 250, global round = 250), Accuracy/Aggregation: 55.81395348837209\n",
      "Running (epoch = 1, round = 250, global round = 250) for Eval\n",
      "(epoch = 1, round = 250, global round = 250), Loss/Eval: 0.7007253099004284\n",
      "(epoch = 1, round = 250, global round = 250), Accuracy/Eval: 49.894366197183096\n",
      "Current eval accuracy: {'Accuracy': 49.894366197183096}%, Best so far: {'Accuracy': 52.852112676056336}%\n"
     ]
    },
    {
     "name": "stderr",
     "output_type": "stream",
     "text": [
      "Round: 100%|██████████████████████████████████████████████████████████████████████▋| 249/250 [00:59<00:00,  4.20round/s]\n",
      "Epoch:   0%|                                                                                   | 0/1 [00:59<?, ?epoch/s]"
     ]
    },
    {
     "name": "stdout",
     "output_type": "stream",
     "text": [
      "Running (epoch = 1, round = 1, global round = 1) for Test\n"
     ]
    },
    {
     "name": "stderr",
     "output_type": "stream",
     "text": [
      "\n",
      "  6%|██▎                                      | 23.0/400 [23:46<6:31:14, 62.27s/it, min_score=-52.9, models_evaluated=0]"
     ]
    },
    {
     "name": "stdout",
     "output_type": "stream",
     "text": [
      "(epoch = 1, round = 1, global round = 1), Loss/Test: 0.700725309709158\n",
      "(epoch = 1, round = 1, global round = 1), Accuracy/Test: 49.894366197183096\n"
     ]
    },
    {
     "name": "stderr",
     "output_type": "stream",
     "text": [
      "Round: 100%|██████████████████████████████████████████████████████████████████████▋| 249/250 [00:54<00:00,  4.63round/s]"
     ]
    },
    {
     "name": "stdout",
     "output_type": "stream",
     "text": [
      "Train finished Global Round: 250\n",
      "(epoch = 1, round = 250, global round = 250), Loss/Training: 0.7969635986747173\n",
      "(epoch = 1, round = 250, global round = 250), Accuracy/Training: 50.68817204301075\n",
      "reporting (epoch = 1, round = 250, global round = 250) for aggregation\n",
      "(epoch = 1, round = 250, global round = 250), Loss/Aggregation: 0.6963424503803253\n",
      "(epoch = 1, round = 250, global round = 250), Accuracy/Aggregation: 62.96296296296296\n",
      "Running (epoch = 1, round = 250, global round = 250) for Eval\n",
      "(epoch = 1, round = 250, global round = 250), Loss/Eval: 0.7791447003252095\n",
      "(epoch = 1, round = 250, global round = 250), Accuracy/Eval: 50.070422535211264\n",
      "Current eval accuracy: {'Accuracy': 50.070422535211264}%, Best so far: {'Accuracy': 52.852112676056336}%\n"
     ]
    },
    {
     "name": "stderr",
     "output_type": "stream",
     "text": [
      "Round: 100%|██████████████████████████████████████████████████████████████████████▋| 249/250 [00:57<00:00,  4.31round/s]\n",
      "Epoch:   0%|                                                                                   | 0/1 [00:57<?, ?epoch/s]"
     ]
    },
    {
     "name": "stdout",
     "output_type": "stream",
     "text": [
      "Running (epoch = 1, round = 1, global round = 1) for Test\n"
     ]
    },
    {
     "name": "stderr",
     "output_type": "stream",
     "text": [
      "\n",
      "  6%|██▍                                      | 24.0/400 [24:47<6:27:46, 61.88s/it, min_score=-52.9, models_evaluated=0]"
     ]
    },
    {
     "name": "stdout",
     "output_type": "stream",
     "text": [
      "(epoch = 1, round = 1, global round = 1), Loss/Test: 0.7791447002893463\n",
      "(epoch = 1, round = 1, global round = 1), Accuracy/Test: 50.070422535211264\n"
     ]
    },
    {
     "name": "stderr",
     "output_type": "stream",
     "text": [
      "Round: 100%|██████████████████████████████████████████████████████████████████████▋| 249/250 [00:55<00:00,  3.88round/s]"
     ]
    },
    {
     "name": "stdout",
     "output_type": "stream",
     "text": [
      "Train finished Global Round: 250\n",
      "(epoch = 1, round = 250, global round = 250), Loss/Training: 0.7601075517798388\n",
      "(epoch = 1, round = 250, global round = 250), Accuracy/Training: 52.85004046710603\n",
      "reporting (epoch = 1, round = 250, global round = 250) for aggregation\n",
      "(epoch = 1, round = 250, global round = 250), Loss/Aggregation: 0.698967310515317\n",
      "(epoch = 1, round = 250, global round = 250), Accuracy/Aggregation: 76.62337662337663\n",
      "Running (epoch = 1, round = 250, global round = 250) for Eval\n",
      "(epoch = 1, round = 250, global round = 250), Loss/Eval: 0.7567869862918867\n",
      "(epoch = 1, round = 250, global round = 250), Accuracy/Eval: 49.7887323943662\n",
      "Current eval accuracy: {'Accuracy': 49.7887323943662}%, Best so far: {'Accuracy': 52.852112676056336}%\n"
     ]
    },
    {
     "name": "stderr",
     "output_type": "stream",
     "text": [
      "Round: 100%|██████████████████████████████████████████████████████████████████████▋| 249/250 [00:58<00:00,  4.23round/s]\n",
      "Epoch:   0%|                                                                                   | 0/1 [00:58<?, ?epoch/s]"
     ]
    },
    {
     "name": "stdout",
     "output_type": "stream",
     "text": [
      "Running (epoch = 1, round = 1, global round = 1) for Test\n"
     ]
    },
    {
     "name": "stderr",
     "output_type": "stream",
     "text": [
      "\n",
      "  6%|██▌                                      | 25.0/400 [25:50<6:28:00, 62.08s/it, min_score=-52.9, models_evaluated=0]"
     ]
    },
    {
     "name": "stdout",
     "output_type": "stream",
     "text": [
      "(epoch = 1, round = 1, global round = 1), Loss/Test: 0.7567869860408443\n",
      "(epoch = 1, round = 1, global round = 1), Accuracy/Test: 49.7887323943662\n"
     ]
    },
    {
     "name": "stderr",
     "output_type": "stream",
     "text": [
      "Round: 100%|██████████████████████████████████████████████████████████████████████▋| 249/250 [00:55<00:00,  4.59round/s]"
     ]
    },
    {
     "name": "stdout",
     "output_type": "stream",
     "text": [
      "Train finished Global Round: 250\n",
      "(epoch = 1, round = 250, global round = 250), Loss/Training: 0.7855673384000017\n",
      "(epoch = 1, round = 250, global round = 250), Accuracy/Training: 50.94444444444444\n",
      "reporting (epoch = 1, round = 250, global round = 250) for aggregation\n",
      "(epoch = 1, round = 250, global round = 250), Loss/Aggregation: 0.8019043803215027\n",
      "(epoch = 1, round = 250, global round = 250), Accuracy/Aggregation: 47.05882352941177\n",
      "Running (epoch = 1, round = 250, global round = 250) for Eval\n",
      "(epoch = 1, round = 250, global round = 250), Loss/Eval: 0.8607920772619052\n",
      "(epoch = 1, round = 250, global round = 250), Accuracy/Eval: 50.0\n",
      "Current eval accuracy: {'Accuracy': 50.0}%, Best so far: {'Accuracy': 52.852112676056336}%\n"
     ]
    },
    {
     "name": "stderr",
     "output_type": "stream",
     "text": [
      "Round: 100%|██████████████████████████████████████████████████████████████████████▋| 249/250 [00:58<00:00,  4.27round/s]\n",
      "Epoch:   0%|                                                                                   | 0/1 [00:58<?, ?epoch/s]"
     ]
    },
    {
     "name": "stdout",
     "output_type": "stream",
     "text": [
      "Running (epoch = 1, round = 1, global round = 1) for Test\n"
     ]
    },
    {
     "name": "stderr",
     "output_type": "stream",
     "text": [
      "\n",
      "  6%|██▋                                      | 26.0/400 [26:51<6:25:38, 61.87s/it, min_score=-52.9, models_evaluated=0]"
     ]
    },
    {
     "name": "stdout",
     "output_type": "stream",
     "text": [
      "(epoch = 1, round = 1, global round = 1), Loss/Test: 0.8607920773336316\n",
      "(epoch = 1, round = 1, global round = 1), Accuracy/Test: 50.0\n"
     ]
    },
    {
     "name": "stderr",
     "output_type": "stream",
     "text": [
      "Round: 100%|██████████████████████████████████████████████████████████████████████▋| 249/250 [00:54<00:00,  4.61round/s]"
     ]
    },
    {
     "name": "stdout",
     "output_type": "stream",
     "text": [
      "Train finished Global Round: 250\n",
      "(epoch = 1, round = 250, global round = 250), Loss/Training: 0.7351525193681895\n",
      "(epoch = 1, round = 250, global round = 250), Accuracy/Training: 50.3968253968254\n",
      "reporting (epoch = 1, round = 250, global round = 250) for aggregation\n",
      "(epoch = 1, round = 250, global round = 250), Loss/Aggregation: 0.799777728319168\n",
      "(epoch = 1, round = 250, global round = 250), Accuracy/Aggregation: 40.625\n",
      "Running (epoch = 1, round = 250, global round = 250) for Eval\n",
      "(epoch = 1, round = 250, global round = 250), Loss/Eval: 0.7130296566713014\n",
      "(epoch = 1, round = 250, global round = 250), Accuracy/Eval: 50.105633802816904\n",
      "Current eval accuracy: {'Accuracy': 50.105633802816904}%, Best so far: {'Accuracy': 52.852112676056336}%\n"
     ]
    },
    {
     "name": "stderr",
     "output_type": "stream",
     "text": [
      "Round: 100%|██████████████████████████████████████████████████████████████████████▋| 249/250 [00:57<00:00,  4.30round/s]\n",
      "Epoch:   0%|                                                                                   | 0/1 [00:57<?, ?epoch/s]"
     ]
    },
    {
     "name": "stdout",
     "output_type": "stream",
     "text": [
      "Running (epoch = 1, round = 1, global round = 1) for Test\n"
     ]
    },
    {
     "name": "stderr",
     "output_type": "stream",
     "text": [
      "\n",
      "  7%|██▋                                     | 27.0/400 [27:52<6:23:04, 61.62s/it, min_score=-52.9, models_evaluated=14]"
     ]
    },
    {
     "name": "stdout",
     "output_type": "stream",
     "text": [
      "(epoch = 1, round = 1, global round = 1), Loss/Test: 0.7130296565517574\n",
      "(epoch = 1, round = 1, global round = 1), Accuracy/Test: 50.105633802816904\n"
     ]
    },
    {
     "name": "stderr",
     "output_type": "stream",
     "text": [
      "Round: 100%|██████████████████████████████████████████████████████████████████████▋| 249/250 [00:54<00:00,  4.62round/s]"
     ]
    },
    {
     "name": "stdout",
     "output_type": "stream",
     "text": [
      "Train finished Global Round: 250\n",
      "(epoch = 1, round = 250, global round = 250), Loss/Training: 0.6905263181183116\n",
      "(epoch = 1, round = 250, global round = 250), Accuracy/Training: 54.32621112756505\n",
      "reporting (epoch = 1, round = 250, global round = 250) for aggregation\n",
      "(epoch = 1, round = 250, global round = 250), Loss/Aggregation: 0.6655066788196564\n",
      "(epoch = 1, round = 250, global round = 250), Accuracy/Aggregation: 43.47826086956522\n",
      "Running (epoch = 1, round = 250, global round = 250) for Eval\n",
      "(epoch = 1, round = 250, global round = 250), Loss/Eval: 0.6943415289918821\n",
      "(epoch = 1, round = 250, global round = 250), Accuracy/Eval: 53.556338028169016\n",
      "Current eval accuracy: {'Accuracy': 53.556338028169016}%, Best so far: {'Accuracy': 52.852112676056336}%\n"
     ]
    },
    {
     "name": "stderr",
     "output_type": "stream",
     "text": [
      "Round: 100%|██████████████████████████████████████████████████████████████████████▋| 249/250 [00:57<00:00,  4.34round/s]\n",
      "Epoch:   0%|                                                                                   | 0/1 [00:57<?, ?epoch/s]"
     ]
    },
    {
     "name": "stdout",
     "output_type": "stream",
     "text": [
      "Running (epoch = 1, round = 1, global round = 1) for Test\n"
     ]
    },
    {
     "name": "stderr",
     "output_type": "stream",
     "text": [
      "\n",
      "  7%|██▊                                     | 28.0/400 [28:53<6:20:47, 61.42s/it, min_score=-53.6, models_evaluated=14]"
     ]
    },
    {
     "name": "stdout",
     "output_type": "stream",
     "text": [
      "(epoch = 1, round = 1, global round = 1), Loss/Test: 0.6943415291951069\n",
      "(epoch = 1, round = 1, global round = 1), Accuracy/Test: 53.556338028169016\n"
     ]
    },
    {
     "name": "stderr",
     "output_type": "stream",
     "text": [
      "Round: 100%|██████████████████████████████████████████████████████████████████████▋| 249/250 [00:55<00:00,  4.39round/s]"
     ]
    },
    {
     "name": "stdout",
     "output_type": "stream",
     "text": [
      "Train finished Global Round: 250\n",
      "(epoch = 1, round = 250, global round = 250), Loss/Training: 0.6858887963585553\n",
      "(epoch = 1, round = 250, global round = 250), Accuracy/Training: 55.3671030165054\n",
      "reporting (epoch = 1, round = 250, global round = 250) for aggregation\n",
      "(epoch = 1, round = 250, global round = 250), Loss/Aggregation: 0.6455021098256111\n",
      "(epoch = 1, round = 250, global round = 250), Accuracy/Aggregation: 63.04347826086956\n",
      "Running (epoch = 1, round = 250, global round = 250) for Eval\n",
      "(epoch = 1, round = 250, global round = 250), Loss/Eval: 0.6879862632872922\n",
      "(epoch = 1, round = 250, global round = 250), Accuracy/Eval: 54.75352112676056\n",
      "Current eval accuracy: {'Accuracy': 54.75352112676056}%, Best so far: {'Accuracy': 53.556338028169016}%\n"
     ]
    },
    {
     "name": "stderr",
     "output_type": "stream",
     "text": [
      "Round: 100%|██████████████████████████████████████████████████████████████████████▋| 249/250 [00:58<00:00,  4.25round/s]\n",
      "Epoch:   0%|                                                                                   | 0/1 [00:58<?, ?epoch/s]"
     ]
    },
    {
     "name": "stdout",
     "output_type": "stream",
     "text": [
      "Running (epoch = 1, round = 1, global round = 1) for Test\n"
     ]
    },
    {
     "name": "stderr",
     "output_type": "stream",
     "text": [
      "\n",
      "  7%|██▉                                     | 29.0/400 [29:55<6:20:14, 61.50s/it, min_score=-54.8, models_evaluated=14]"
     ]
    },
    {
     "name": "stdout",
     "output_type": "stream",
     "text": [
      "(epoch = 1, round = 1, global round = 1), Loss/Test: 0.687986263251429\n",
      "(epoch = 1, round = 1, global round = 1), Accuracy/Test: 54.75352112676056\n"
     ]
    },
    {
     "name": "stderr",
     "output_type": "stream",
     "text": [
      "Round: 100%|██████████████████████████████████████████████████████████████████████▋| 249/250 [00:57<00:00,  3.34round/s]"
     ]
    },
    {
     "name": "stdout",
     "output_type": "stream",
     "text": [
      "Train finished Global Round: 250\n",
      "(epoch = 1, round = 250, global round = 250), Loss/Training: 0.75202925446021\n",
      "(epoch = 1, round = 250, global round = 250), Accuracy/Training: 51.68683731391239\n",
      "reporting (epoch = 1, round = 250, global round = 250) for aggregation\n",
      "(epoch = 1, round = 250, global round = 250), Loss/Aggregation: 0.6228261142969131\n",
      "(epoch = 1, round = 250, global round = 250), Accuracy/Aggregation: 52.38095238095238\n",
      "Running (epoch = 1, round = 250, global round = 250) for Eval\n",
      "(epoch = 1, round = 250, global round = 250), Loss/Eval: 0.7109559886292\n",
      "(epoch = 1, round = 250, global round = 250), Accuracy/Eval: 49.859154929577464\n",
      "Current eval accuracy: {'Accuracy': 49.859154929577464}%, Best so far: {'Accuracy': 54.75352112676056}%\n"
     ]
    },
    {
     "name": "stderr",
     "output_type": "stream",
     "text": [
      "Round: 100%|██████████████████████████████████████████████████████████████████████▋| 249/250 [01:00<00:00,  4.11round/s]\n",
      "Epoch:   0%|                                                                                   | 0/1 [01:00<?, ?epoch/s]"
     ]
    },
    {
     "name": "stdout",
     "output_type": "stream",
     "text": [
      "Running (epoch = 1, round = 1, global round = 1) for Test\n"
     ]
    },
    {
     "name": "stderr",
     "output_type": "stream",
     "text": [
      "\n",
      "  8%|███                                     | 30.0/400 [30:59<6:24:22, 62.33s/it, min_score=-54.8, models_evaluated=14]"
     ]
    },
    {
     "name": "stdout",
     "output_type": "stream",
     "text": [
      "(epoch = 1, round = 1, global round = 1), Loss/Test: 0.7109559885096559\n",
      "(epoch = 1, round = 1, global round = 1), Accuracy/Test: 49.859154929577464\n"
     ]
    },
    {
     "name": "stderr",
     "output_type": "stream",
     "text": [
      "Round: 100%|██████████████████████████████████████████████████████████████████████▋| 249/250 [00:57<00:00,  4.39round/s]"
     ]
    },
    {
     "name": "stdout",
     "output_type": "stream",
     "text": [
      "Train finished Global Round: 250\n",
      "(epoch = 1, round = 250, global round = 250), Loss/Training: 0.7047281864453784\n",
      "(epoch = 1, round = 250, global round = 250), Accuracy/Training: 50.658300761160255\n",
      "reporting (epoch = 1, round = 250, global round = 250) for aggregation\n",
      "(epoch = 1, round = 250, global round = 250), Loss/Aggregation: 0.6778690457344055\n",
      "(epoch = 1, round = 250, global round = 250), Accuracy/Aggregation: 35.0\n",
      "Running (epoch = 1, round = 250, global round = 250) for Eval\n",
      "(epoch = 1, round = 250, global round = 250), Loss/Eval: 0.6977433348534052\n",
      "(epoch = 1, round = 250, global round = 250), Accuracy/Eval: 49.894366197183096\n",
      "Current eval accuracy: {'Accuracy': 49.894366197183096}%, Best so far: {'Accuracy': 54.75352112676056}%\n"
     ]
    },
    {
     "name": "stderr",
     "output_type": "stream",
     "text": [
      "Round: 100%|██████████████████████████████████████████████████████████████████████▋| 249/250 [01:00<00:00,  4.12round/s]\n",
      "Epoch:   0%|                                                                                   | 0/1 [01:00<?, ?epoch/s]"
     ]
    },
    {
     "name": "stdout",
     "output_type": "stream",
     "text": [
      "Running (epoch = 1, round = 1, global round = 1) for Test\n"
     ]
    },
    {
     "name": "stderr",
     "output_type": "stream",
     "text": [
      "\n",
      "  8%|███                                     | 31.0/400 [32:03<6:25:36, 62.70s/it, min_score=-54.8, models_evaluated=14]"
     ]
    },
    {
     "name": "stdout",
     "output_type": "stream",
     "text": [
      "(epoch = 1, round = 1, global round = 1), Loss/Test: 0.6977433348534052\n",
      "(epoch = 1, round = 1, global round = 1), Accuracy/Test: 49.894366197183096\n"
     ]
    },
    {
     "name": "stderr",
     "output_type": "stream",
     "text": [
      "Round: 100%|██████████████████████████████████████████████████████████████████████▋| 249/250 [00:56<00:00,  4.66round/s]"
     ]
    },
    {
     "name": "stdout",
     "output_type": "stream",
     "text": [
      "Train finished Global Round: 250\n",
      "(epoch = 1, round = 250, global round = 250), Loss/Training: 0.704794962824476\n",
      "(epoch = 1, round = 250, global round = 250), Accuracy/Training: 50.13731736790069\n",
      "reporting (epoch = 1, round = 250, global round = 250) for aggregation\n",
      "(epoch = 1, round = 250, global round = 250), Loss/Aggregation: 0.697079598903656\n",
      "(epoch = 1, round = 250, global round = 250), Accuracy/Aggregation: 25.714285714285715\n",
      "Running (epoch = 1, round = 250, global round = 250) for Eval\n",
      "(epoch = 1, round = 250, global round = 250), Loss/Eval: 0.6932472940003876\n",
      "(epoch = 1, round = 250, global round = 250), Accuracy/Eval: 49.894366197183096\n",
      "Current eval accuracy: {'Accuracy': 49.894366197183096}%, Best so far: {'Accuracy': 54.75352112676056}%\n"
     ]
    },
    {
     "name": "stderr",
     "output_type": "stream",
     "text": [
      "Round: 100%|██████████████████████████████████████████████████████████████████████▋| 249/250 [00:59<00:00,  4.19round/s]\n",
      "Epoch:   0%|                                                                                   | 0/1 [00:59<?, ?epoch/s]"
     ]
    },
    {
     "name": "stdout",
     "output_type": "stream",
     "text": [
      "Running (epoch = 1, round = 1, global round = 1) for Test\n"
     ]
    },
    {
     "name": "stderr",
     "output_type": "stream",
     "text": [
      "\n",
      "  8%|███▏                                    | 32.0/400 [33:05<6:24:22, 62.67s/it, min_score=-54.8, models_evaluated=14]"
     ]
    },
    {
     "name": "stdout",
     "output_type": "stream",
     "text": [
      "(epoch = 1, round = 1, global round = 1), Loss/Test: 0.6932472940242965\n",
      "(epoch = 1, round = 1, global round = 1), Accuracy/Test: 49.894366197183096\n"
     ]
    },
    {
     "name": "stderr",
     "output_type": "stream",
     "text": [
      "Round: 100%|██████████████████████████████████████████████████████████████████████▋| 249/250 [00:54<00:00,  4.61round/s]"
     ]
    },
    {
     "name": "stdout",
     "output_type": "stream",
     "text": [
      "Train finished Global Round: 250\n",
      "(epoch = 1, round = 250, global round = 250), Loss/Training: 0.6859042953747208\n",
      "(epoch = 1, round = 250, global round = 250), Accuracy/Training: 53.276907240077776\n",
      "reporting (epoch = 1, round = 250, global round = 250) for aggregation\n",
      "(epoch = 1, round = 250, global round = 250), Loss/Aggregation: 0.6062435448169708\n",
      "(epoch = 1, round = 250, global round = 250), Accuracy/Aggregation: 81.48148148148148\n",
      "Running (epoch = 1, round = 250, global round = 250) for Eval\n",
      "(epoch = 1, round = 250, global round = 250), Loss/Eval: 0.6917485698155021\n",
      "(epoch = 1, round = 250, global round = 250), Accuracy/Eval: 54.11971830985915\n",
      "Current eval accuracy: {'Accuracy': 54.11971830985915}%, Best so far: {'Accuracy': 54.75352112676056}%\n"
     ]
    },
    {
     "name": "stderr",
     "output_type": "stream",
     "text": [
      "Round: 100%|██████████████████████████████████████████████████████████████████████▋| 249/250 [00:57<00:00,  4.30round/s]\n",
      "Epoch:   0%|                                                                                   | 0/1 [00:57<?, ?epoch/s]"
     ]
    },
    {
     "name": "stdout",
     "output_type": "stream",
     "text": [
      "Running (epoch = 1, round = 1, global round = 1) for Test\n"
     ]
    },
    {
     "name": "stderr",
     "output_type": "stream",
     "text": [
      "\n",
      "  8%|███▎                                    | 33.0/400 [34:07<6:20:38, 62.23s/it, min_score=-54.8, models_evaluated=14]"
     ]
    },
    {
     "name": "stdout",
     "output_type": "stream",
     "text": [
      "(epoch = 1, round = 1, global round = 1), Loss/Test: 0.6917485697796389\n",
      "(epoch = 1, round = 1, global round = 1), Accuracy/Test: 54.11971830985915\n"
     ]
    },
    {
     "name": "stderr",
     "output_type": "stream",
     "text": [
      "Round: 100%|██████████████████████████████████████████████████████████████████████▋| 249/250 [00:54<00:00,  4.62round/s]"
     ]
    },
    {
     "name": "stdout",
     "output_type": "stream",
     "text": [
      "Train finished Global Round: 250\n",
      "(epoch = 1, round = 250, global round = 250), Loss/Training: 0.6990348051069947\n",
      "(epoch = 1, round = 250, global round = 250), Accuracy/Training: 52.86143019766118\n",
      "reporting (epoch = 1, round = 250, global round = 250) for aggregation\n",
      "(epoch = 1, round = 250, global round = 250), Loss/Aggregation: 0.6949701070785522\n",
      "(epoch = 1, round = 250, global round = 250), Accuracy/Aggregation: 33.333333333333336\n",
      "Running (epoch = 1, round = 250, global round = 250) for Eval\n",
      "(epoch = 1, round = 250, global round = 250), Loss/Eval: 0.6931849497176537\n",
      "(epoch = 1, round = 250, global round = 250), Accuracy/Eval: 50.140845070422536\n",
      "Current eval accuracy: {'Accuracy': 50.140845070422536}%, Best so far: {'Accuracy': 54.75352112676056}%\n"
     ]
    },
    {
     "name": "stderr",
     "output_type": "stream",
     "text": [
      "Round: 100%|██████████████████████████████████████████████████████████████████████▋| 249/250 [00:57<00:00,  4.32round/s]\n",
      "Epoch:   0%|                                                                                   | 0/1 [00:57<?, ?epoch/s]"
     ]
    },
    {
     "name": "stdout",
     "output_type": "stream",
     "text": [
      "Running (epoch = 1, round = 1, global round = 1) for Test\n"
     ]
    },
    {
     "name": "stderr",
     "output_type": "stream",
     "text": [
      "\n",
      "  8%|███▍                                    | 34.0/400 [35:07<6:17:00, 61.80s/it, min_score=-54.8, models_evaluated=14]"
     ]
    },
    {
     "name": "stdout",
     "output_type": "stream",
     "text": [
      "(epoch = 1, round = 1, global round = 1), Loss/Test: 0.6931849498611065\n",
      "(epoch = 1, round = 1, global round = 1), Accuracy/Test: 50.140845070422536\n"
     ]
    },
    {
     "name": "stderr",
     "output_type": "stream",
     "text": [
      "Round: 100%|██████████████████████████████████████████████████████████████████████▋| 249/250 [00:54<00:00,  4.67round/s]"
     ]
    },
    {
     "name": "stdout",
     "output_type": "stream",
     "text": [
      "Train finished Global Round: 250\n",
      "(epoch = 1, round = 250, global round = 250), Loss/Training: 0.7534393612617556\n",
      "(epoch = 1, round = 250, global round = 250), Accuracy/Training: 50.63261480787254\n",
      "reporting (epoch = 1, round = 250, global round = 250) for aggregation\n",
      "(epoch = 1, round = 250, global round = 250), Loss/Aggregation: 0.6807346284389496\n",
      "(epoch = 1, round = 250, global round = 250), Accuracy/Aggregation: 58.333333333333336\n",
      "Running (epoch = 1, round = 250, global round = 250) for Eval\n",
      "(epoch = 1, round = 250, global round = 250), Loss/Eval: 0.7467607546715769\n",
      "(epoch = 1, round = 250, global round = 250), Accuracy/Eval: 50.95070422535211\n",
      "Current eval accuracy: {'Accuracy': 50.95070422535211}%, Best so far: {'Accuracy': 54.75352112676056}%\n"
     ]
    },
    {
     "name": "stderr",
     "output_type": "stream",
     "text": [
      "Round: 100%|██████████████████████████████████████████████████████████████████████▋| 249/250 [00:57<00:00,  4.33round/s]\n",
      "Epoch:   0%|                                                                                   | 0/1 [00:57<?, ?epoch/s]"
     ]
    },
    {
     "name": "stdout",
     "output_type": "stream",
     "text": [
      "Running (epoch = 1, round = 1, global round = 1) for Test\n"
     ]
    },
    {
     "name": "stderr",
     "output_type": "stream",
     "text": [
      "\n",
      "  9%|███▌                                    | 35.0/400 [36:08<6:13:57, 61.47s/it, min_score=-54.8, models_evaluated=14]"
     ]
    },
    {
     "name": "stdout",
     "output_type": "stream",
     "text": [
      "(epoch = 1, round = 1, global round = 1), Loss/Test: 0.7467607547791665\n",
      "(epoch = 1, round = 1, global round = 1), Accuracy/Test: 50.95070422535211\n"
     ]
    },
    {
     "name": "stderr",
     "output_type": "stream",
     "text": [
      "Round: 100%|██████████████████████████████████████████████████████████████████████▋| 249/250 [00:54<00:00,  4.69round/s]"
     ]
    },
    {
     "name": "stdout",
     "output_type": "stream",
     "text": [
      "Train finished Global Round: 250\n",
      "(epoch = 1, round = 250, global round = 250), Loss/Training: 0.7483876367379497\n",
      "(epoch = 1, round = 250, global round = 250), Accuracy/Training: 49.57246217934664\n",
      "reporting (epoch = 1, round = 250, global round = 250) for aggregation\n",
      "(epoch = 1, round = 250, global round = 250), Loss/Aggregation: 0.5744462236762047\n",
      "(epoch = 1, round = 250, global round = 250), Accuracy/Aggregation: 74.19354838709677\n",
      "Running (epoch = 1, round = 250, global round = 250) for Eval\n",
      "(epoch = 1, round = 250, global round = 250), Loss/Eval: 0.7080024440563256\n",
      "(epoch = 1, round = 250, global round = 250), Accuracy/Eval: 50.105633802816904\n",
      "Current eval accuracy: {'Accuracy': 50.105633802816904}%, Best so far: {'Accuracy': 54.75352112676056}%\n"
     ]
    },
    {
     "name": "stderr",
     "output_type": "stream",
     "text": [
      "Round: 100%|██████████████████████████████████████████████████████████████████████▋| 249/250 [00:57<00:00,  4.33round/s]\n",
      "Epoch:   0%|                                                                                   | 0/1 [00:57<?, ?epoch/s]"
     ]
    },
    {
     "name": "stdout",
     "output_type": "stream",
     "text": [
      "Running (epoch = 1, round = 1, global round = 1) for Test\n"
     ]
    },
    {
     "name": "stderr",
     "output_type": "stream",
     "text": [
      "\n",
      "  9%|███▌                                    | 36.0/400 [37:09<6:11:29, 61.24s/it, min_score=-54.8, models_evaluated=14]"
     ]
    },
    {
     "name": "stdout",
     "output_type": "stream",
     "text": [
      "(epoch = 1, round = 1, global round = 1), Loss/Test: 0.7080024441997784\n",
      "(epoch = 1, round = 1, global round = 1), Accuracy/Test: 50.105633802816904\n"
     ]
    },
    {
     "name": "stderr",
     "output_type": "stream",
     "text": [
      "Round: 100%|██████████████████████████████████████████████████████████████████████▋| 249/250 [00:57<00:00,  4.42round/s]"
     ]
    },
    {
     "name": "stdout",
     "output_type": "stream",
     "text": [
      "Train finished Global Round: 250\n",
      "(epoch = 1, round = 250, global round = 250), Loss/Training: 0.6943075627926221\n",
      "(epoch = 1, round = 250, global round = 250), Accuracy/Training: 52.235750457924794\n",
      "reporting (epoch = 1, round = 250, global round = 250) for aggregation\n",
      "(epoch = 1, round = 250, global round = 250), Loss/Aggregation: 0.6388989627361298\n",
      "(epoch = 1, round = 250, global round = 250), Accuracy/Aggregation: 90.0\n",
      "Running (epoch = 1, round = 250, global round = 250) for Eval\n",
      "(epoch = 1, round = 250, global round = 250), Loss/Eval: 0.691742332188231\n",
      "(epoch = 1, round = 250, global round = 250), Accuracy/Eval: 51.443661971830984\n",
      "Current eval accuracy: {'Accuracy': 51.443661971830984}%, Best so far: {'Accuracy': 54.75352112676056}%\n"
     ]
    },
    {
     "name": "stderr",
     "output_type": "stream",
     "text": [
      "Round: 100%|██████████████████████████████████████████████████████████████████████▋| 249/250 [01:00<00:00,  4.10round/s]\n",
      "Epoch:   0%|                                                                                   | 0/1 [01:00<?, ?epoch/s]"
     ]
    },
    {
     "name": "stdout",
     "output_type": "stream",
     "text": [
      "Running (epoch = 1, round = 1, global round = 1) for Test\n"
     ]
    },
    {
     "name": "stderr",
     "output_type": "stream",
     "text": [
      "\n",
      "  9%|███▋                                    | 37.0/400 [38:13<6:16:08, 62.17s/it, min_score=-54.8, models_evaluated=14]"
     ]
    },
    {
     "name": "stdout",
     "output_type": "stream",
     "text": [
      "(epoch = 1, round = 1, global round = 1), Loss/Test: 0.6917423322360486\n",
      "(epoch = 1, round = 1, global round = 1), Accuracy/Test: 51.443661971830984\n"
     ]
    },
    {
     "name": "stderr",
     "output_type": "stream",
     "text": [
      "Round: 100%|██████████████████████████████████████████████████████████████████████▋| 249/250 [00:55<00:00,  4.61round/s]"
     ]
    },
    {
     "name": "stdout",
     "output_type": "stream",
     "text": [
      "Train finished Global Round: 250\n",
      "(epoch = 1, round = 250, global round = 250), Loss/Training: 0.7423112308166916\n",
      "(epoch = 1, round = 250, global round = 250), Accuracy/Training: 51.33666594218648\n",
      "reporting (epoch = 1, round = 250, global round = 250) for aggregation\n",
      "(epoch = 1, round = 250, global round = 250), Loss/Aggregation: 0.7073031216859818\n",
      "(epoch = 1, round = 250, global round = 250), Accuracy/Aggregation: 37.93103448275862\n",
      "Running (epoch = 1, round = 250, global round = 250) for Eval\n",
      "(epoch = 1, round = 250, global round = 250), Loss/Eval: 0.7247824725667683\n",
      "(epoch = 1, round = 250, global round = 250), Accuracy/Eval: 50.105633802816904\n",
      "Current eval accuracy: {'Accuracy': 50.105633802816904}%, Best so far: {'Accuracy': 54.75352112676056}%\n"
     ]
    },
    {
     "name": "stderr",
     "output_type": "stream",
     "text": [
      "Round: 100%|██████████████████████████████████████████████████████████████████████▋| 249/250 [00:57<00:00,  4.29round/s]\n",
      "Epoch:   0%|                                                                                   | 0/1 [00:58<?, ?epoch/s]"
     ]
    },
    {
     "name": "stdout",
     "output_type": "stream",
     "text": [
      "Running (epoch = 1, round = 1, global round = 1) for Test\n"
     ]
    },
    {
     "name": "stderr",
     "output_type": "stream",
     "text": [
      "\n",
      " 10%|███▊                                    | 38.0/400 [39:14<6:13:24, 61.89s/it, min_score=-54.8, models_evaluated=14]"
     ]
    },
    {
     "name": "stdout",
     "output_type": "stream",
     "text": [
      "(epoch = 1, round = 1, global round = 1), Loss/Test: 0.7247824726026315\n",
      "(epoch = 1, round = 1, global round = 1), Accuracy/Test: 50.105633802816904\n"
     ]
    },
    {
     "name": "stderr",
     "output_type": "stream",
     "text": [
      "Round: 100%|██████████████████████████████████████████████████████████████████████▋| 249/250 [00:54<00:00,  4.63round/s]"
     ]
    },
    {
     "name": "stdout",
     "output_type": "stream",
     "text": [
      "Train finished Global Round: 250\n",
      "(epoch = 1, round = 250, global round = 250), Loss/Training: 0.7188341847743331\n",
      "(epoch = 1, round = 250, global round = 250), Accuracy/Training: 49.79790651881024\n",
      "reporting (epoch = 1, round = 250, global round = 250) for aggregation\n",
      "(epoch = 1, round = 250, global round = 250), Loss/Aggregation: 0.6948877155780793\n",
      "(epoch = 1, round = 250, global round = 250), Accuracy/Aggregation: 52.0\n",
      "Running (epoch = 1, round = 250, global round = 250) for Eval\n",
      "(epoch = 1, round = 250, global round = 250), Loss/Eval: 0.6935327680437048\n",
      "(epoch = 1, round = 250, global round = 250), Accuracy/Eval: 50.105633802816904\n",
      "Current eval accuracy: {'Accuracy': 50.105633802816904}%, Best so far: {'Accuracy': 54.75352112676056}%\n"
     ]
    },
    {
     "name": "stderr",
     "output_type": "stream",
     "text": [
      "Round: 100%|██████████████████████████████████████████████████████████████████████▋| 249/250 [00:57<00:00,  4.31round/s]\n",
      "Epoch:   0%|                                                                                   | 0/1 [00:57<?, ?epoch/s]"
     ]
    },
    {
     "name": "stdout",
     "output_type": "stream",
     "text": [
      "Running (epoch = 1, round = 1, global round = 1) for Test\n"
     ]
    },
    {
     "name": "stderr",
     "output_type": "stream",
     "text": [
      "\n",
      " 10%|███▉                                    | 39.0/400 [40:15<6:10:28, 61.57s/it, min_score=-54.8, models_evaluated=14]"
     ]
    },
    {
     "name": "stdout",
     "output_type": "stream",
     "text": [
      "(epoch = 1, round = 1, global round = 1), Loss/Test: 0.6935327679480695\n",
      "(epoch = 1, round = 1, global round = 1), Accuracy/Test: 50.105633802816904\n"
     ]
    },
    {
     "name": "stderr",
     "output_type": "stream",
     "text": [
      "Round: 100%|██████████████████████████████████████████████████████████████████████▋| 249/250 [00:54<00:00,  3.40round/s]"
     ]
    },
    {
     "name": "stdout",
     "output_type": "stream",
     "text": [
      "Train finished Global Round: 250\n",
      "(epoch = 1, round = 250, global round = 250), Loss/Training: 1.277692232123813\n",
      "(epoch = 1, round = 250, global round = 250), Accuracy/Training: 50.43794061098056\n",
      "reporting (epoch = 1, round = 250, global round = 250) for aggregation\n",
      "(epoch = 1, round = 250, global round = 250), Loss/Aggregation: 4.193953575719343\n",
      "(epoch = 1, round = 250, global round = 250), Accuracy/Aggregation: 68.96551724137932\n",
      "Running (epoch = 1, round = 250, global round = 250) for Eval\n",
      "(epoch = 1, round = 250, global round = 250), Loss/Eval: 5.2309967901275085\n",
      "(epoch = 1, round = 250, global round = 250), Accuracy/Eval: 49.71830985915493\n",
      "Current eval accuracy: {'Accuracy': 49.71830985915493}%, Best so far: {'Accuracy': 54.75352112676056}%\n"
     ]
    },
    {
     "name": "stderr",
     "output_type": "stream",
     "text": [
      "Round: 100%|██████████████████████████████████████████████████████████████████████▋| 249/250 [00:57<00:00,  4.30round/s]\n",
      "Epoch:   0%|                                                                                   | 0/1 [00:57<?, ?epoch/s]"
     ]
    },
    {
     "name": "stdout",
     "output_type": "stream",
     "text": [
      "Running (epoch = 1, round = 1, global round = 1) for Test\n"
     ]
    },
    {
     "name": "stderr",
     "output_type": "stream",
     "text": [
      "\n",
      " 10%|████                                    | 40.0/400 [41:16<6:08:25, 61.40s/it, min_score=-54.8, models_evaluated=20]"
     ]
    },
    {
     "name": "stdout",
     "output_type": "stream",
     "text": [
      "(epoch = 1, round = 1, global round = 1), Loss/Test: 5.230996788788613\n",
      "(epoch = 1, round = 1, global round = 1), Accuracy/Test: 49.71830985915493\n"
     ]
    },
    {
     "name": "stderr",
     "output_type": "stream",
     "text": [
      "Round: 100%|██████████████████████████████████████████████████████████████████████▋| 249/250 [00:56<00:00,  4.41round/s]"
     ]
    },
    {
     "name": "stdout",
     "output_type": "stream",
     "text": [
      "Train finished Global Round: 250\n",
      "(epoch = 1, round = 250, global round = 250), Loss/Training: 0.6687742919735817\n",
      "(epoch = 1, round = 250, global round = 250), Accuracy/Training: 58.86217008797654\n",
      "reporting (epoch = 1, round = 250, global round = 250) for aggregation\n",
      "(epoch = 1, round = 250, global round = 250), Loss/Aggregation: 0.5875941753387451\n",
      "(epoch = 1, round = 250, global round = 250), Accuracy/Aggregation: 64.86486486486487\n",
      "Running (epoch = 1, round = 250, global round = 250) for Eval\n",
      "(epoch = 1, round = 250, global round = 250), Loss/Eval: 0.6795721997070208\n",
      "(epoch = 1, round = 250, global round = 250), Accuracy/Eval: 55.0\n",
      "Current eval accuracy: {'Accuracy': 55.0}%, Best so far: {'Accuracy': 54.75352112676056}%\n"
     ]
    },
    {
     "name": "stderr",
     "output_type": "stream",
     "text": [
      "Round: 100%|███████████████████████████████████████████████████████████████████████| 250/250 [00:59<00:00,  4.18round/s]\n",
      "Round: 100%|██████████████████████████████████████████████████████████████████████▋| 249/250 [00:57<00:00,  4.38round/s]"
     ]
    },
    {
     "name": "stdout",
     "output_type": "stream",
     "text": [
      "Train finished Global Round: 500\n",
      "(epoch = 2, round = 250, global round = 500), Loss/Training: 0.6308674818892663\n",
      "(epoch = 2, round = 250, global round = 500), Accuracy/Training: 64.40237178820347\n",
      "reporting (epoch = 2, round = 250, global round = 500) for aggregation\n",
      "(epoch = 2, round = 250, global round = 500), Loss/Aggregation: 0.5073246985673905\n",
      "(epoch = 2, round = 250, global round = 500), Accuracy/Aggregation: 72.0\n",
      "Running (epoch = 2, round = 250, global round = 500) for Eval\n",
      "(epoch = 2, round = 250, global round = 500), Loss/Eval: 0.6989753521617235\n",
      "(epoch = 2, round = 250, global round = 500), Accuracy/Eval: 57.32394366197183\n",
      "Current eval accuracy: {'Accuracy': 57.32394366197183}%, Best so far: {'Accuracy': 55.0}%\n"
     ]
    },
    {
     "name": "stderr",
     "output_type": "stream",
     "text": [
      "Round: 100%|██████████████████████████████████████████████████████████████████████▋| 249/250 [01:00<00:00,  4.12round/s]\n",
      "Epoch:  50%|█████████████████████████████████████                                     | 1/2 [02:00<02:00, 120.22s/epoch]"
     ]
    },
    {
     "name": "stdout",
     "output_type": "stream",
     "text": [
      "Running (epoch = 1, round = 1, global round = 1) for Test\n"
     ]
    },
    {
     "name": "stderr",
     "output_type": "stream",
     "text": [
      "\n",
      " 10%|████▏                                   | 42.0/400 [43:20<6:07:05, 61.52s/it, min_score=-57.3, models_evaluated=20]"
     ]
    },
    {
     "name": "stdout",
     "output_type": "stream",
     "text": [
      "(epoch = 1, round = 1, global round = 1), Loss/Test: 0.6989753521378147\n",
      "(epoch = 1, round = 1, global round = 1), Accuracy/Test: 57.32394366197183\n"
     ]
    },
    {
     "name": "stderr",
     "output_type": "stream",
     "text": [
      "Round: 100%|██████████████████████████████████████████████████████████████████████▋| 249/250 [00:57<00:00,  4.42round/s]"
     ]
    },
    {
     "name": "stdout",
     "output_type": "stream",
     "text": [
      "Train finished Global Round: 250\n",
      "(epoch = 1, round = 250, global round = 250), Loss/Training: 0.668584985957141\n",
      "(epoch = 1, round = 250, global round = 250), Accuracy/Training: 59.289491837203954\n",
      "reporting (epoch = 1, round = 250, global round = 250) for aggregation\n",
      "(epoch = 1, round = 250, global round = 250), Loss/Aggregation: 0.5562951833009719\n",
      "(epoch = 1, round = 250, global round = 250), Accuracy/Aggregation: 81.25\n",
      "Running (epoch = 1, round = 250, global round = 250) for Eval\n",
      "(epoch = 1, round = 250, global round = 250), Loss/Eval: 0.6982873309653206\n",
      "(epoch = 1, round = 250, global round = 250), Accuracy/Eval: 55.70422535211268\n",
      "Current eval accuracy: {'Accuracy': 55.70422535211268}%, Best so far: {'Accuracy': 57.32394366197183}%\n"
     ]
    },
    {
     "name": "stderr",
     "output_type": "stream",
     "text": [
      "Round: 100%|███████████████████████████████████████████████████████████████████████| 250/250 [01:01<00:00,  4.06round/s]\n",
      "Round: 100%|██████████████████████████████████████████████████████████████████████▋| 249/250 [00:55<00:00,  4.69round/s]"
     ]
    },
    {
     "name": "stdout",
     "output_type": "stream",
     "text": [
      "Train finished Global Round: 500\n",
      "(epoch = 2, round = 250, global round = 500), Loss/Training: 0.6368576004811918\n",
      "(epoch = 2, round = 250, global round = 500), Accuracy/Training: 62.4649255342111\n",
      "reporting (epoch = 2, round = 250, global round = 500) for aggregation\n",
      "(epoch = 2, round = 250, global round = 500), Loss/Aggregation: 0.2777968138456345\n",
      "(epoch = 2, round = 250, global round = 500), Accuracy/Aggregation: 100.0\n",
      "Running (epoch = 2, round = 250, global round = 500) for Eval\n",
      "(epoch = 2, round = 250, global round = 500), Loss/Eval: 0.7045807278854418\n",
      "(epoch = 2, round = 250, global round = 500), Accuracy/Eval: 57.25352112676056\n",
      "Current eval accuracy: {'Accuracy': 57.25352112676056}%, Best so far: {'Accuracy': 57.32394366197183}%\n"
     ]
    },
    {
     "name": "stderr",
     "output_type": "stream",
     "text": [
      "Round: 100%|██████████████████████████████████████████████████████████████████████▋| 249/250 [00:59<00:00,  4.22round/s]\n",
      "Epoch:  50%|█████████████████████████████████████                                     | 1/2 [02:00<02:00, 120.65s/epoch]"
     ]
    },
    {
     "name": "stdout",
     "output_type": "stream",
     "text": [
      "Running (epoch = 1, round = 1, global round = 1) for Test\n"
     ]
    },
    {
     "name": "stderr",
     "output_type": "stream",
     "text": [
      "\n",
      " 11%|████▍                                   | 44.0/400 [45:24<6:06:33, 61.78s/it, min_score=-57.3, models_evaluated=20]"
     ]
    },
    {
     "name": "stdout",
     "output_type": "stream",
     "text": [
      "(epoch = 1, round = 1, global round = 1), Loss/Test: 0.7045807279691225\n",
      "(epoch = 1, round = 1, global round = 1), Accuracy/Test: 57.25352112676056\n"
     ]
    },
    {
     "name": "stderr",
     "output_type": "stream",
     "text": [
      "Round: 100%|██████████████████████████████████████████████████████████████████████▋| 249/250 [00:54<00:00,  4.65round/s]"
     ]
    },
    {
     "name": "stdout",
     "output_type": "stream",
     "text": [
      "Train finished Global Round: 250\n",
      "(epoch = 1, round = 250, global round = 250), Loss/Training: 0.669057365129792\n",
      "(epoch = 1, round = 250, global round = 250), Accuracy/Training: 58.198791872597475\n",
      "reporting (epoch = 1, round = 250, global round = 250) for aggregation\n",
      "(epoch = 1, round = 250, global round = 250), Loss/Aggregation: 0.5742432534694671\n",
      "(epoch = 1, round = 250, global round = 250), Accuracy/Aggregation: 73.33333333333333\n",
      "Running (epoch = 1, round = 250, global round = 250) for Eval\n",
      "(epoch = 1, round = 250, global round = 250), Loss/Eval: 0.6916073776327292\n",
      "(epoch = 1, round = 250, global round = 250), Accuracy/Eval: 56.33802816901409\n",
      "Current eval accuracy: {'Accuracy': 56.33802816901409}%, Best so far: {'Accuracy': 57.32394366197183}%\n"
     ]
    },
    {
     "name": "stderr",
     "output_type": "stream",
     "text": [
      "Round: 100%|███████████████████████████████████████████████████████████████████████| 250/250 [00:57<00:00,  4.36round/s]\n",
      "Round: 100%|██████████████████████████████████████████████████████████████████████▋| 249/250 [00:54<00:00,  4.69round/s]"
     ]
    },
    {
     "name": "stdout",
     "output_type": "stream",
     "text": [
      "Train finished Global Round: 500\n",
      "(epoch = 2, round = 250, global round = 500), Loss/Training: 0.6481071137837889\n",
      "(epoch = 2, round = 250, global round = 500), Accuracy/Training: 63.13020604997808\n",
      "reporting (epoch = 2, round = 250, global round = 500) for aggregation\n",
      "(epoch = 2, round = 250, global round = 500), Loss/Aggregation: 0.7854686439037323\n",
      "(epoch = 2, round = 250, global round = 500), Accuracy/Aggregation: 56.25\n",
      "Running (epoch = 2, round = 250, global round = 500) for Eval\n",
      "(epoch = 2, round = 250, global round = 500), Loss/Eval: 0.7019124959072123\n",
      "(epoch = 2, round = 250, global round = 500), Accuracy/Eval: 56.478873239436616\n",
      "Current eval accuracy: {'Accuracy': 56.478873239436616}%, Best so far: {'Accuracy': 57.32394366197183}%\n"
     ]
    },
    {
     "name": "stderr",
     "output_type": "stream",
     "text": [
      "Round: 100%|██████████████████████████████████████████████████████████████████████▋| 249/250 [00:57<00:00,  4.35round/s]\n",
      "Epoch:  50%|█████████████████████████████████████                                     | 1/2 [01:54<01:54, 114.64s/epoch]"
     ]
    },
    {
     "name": "stdout",
     "output_type": "stream",
     "text": [
      "Running (epoch = 1, round = 1, global round = 1) for Test\n"
     ]
    },
    {
     "name": "stderr",
     "output_type": "stream",
     "text": [
      "\n",
      " 12%|████▌                                   | 46.0/400 [47:22<5:58:59, 60.85s/it, min_score=-57.3, models_evaluated=20]"
     ]
    },
    {
     "name": "stdout",
     "output_type": "stream",
     "text": [
      "(epoch = 1, round = 1, global round = 1), Loss/Test: 0.7019124959669842\n",
      "(epoch = 1, round = 1, global round = 1), Accuracy/Test: 56.478873239436616\n"
     ]
    },
    {
     "name": "stderr",
     "output_type": "stream",
     "text": [
      "Round: 100%|██████████████████████████████████████████████████████████████████████▋| 249/250 [00:54<00:00,  4.17round/s]"
     ]
    },
    {
     "name": "stdout",
     "output_type": "stream",
     "text": [
      "Train finished Global Round: 250\n",
      "(epoch = 1, round = 250, global round = 250), Loss/Training: 0.7504772349112918\n",
      "(epoch = 1, round = 250, global round = 250), Accuracy/Training: 50.86187597940452\n",
      "reporting (epoch = 1, round = 250, global round = 250) for aggregation\n",
      "(epoch = 1, round = 250, global round = 250), Loss/Aggregation: 0.6510304421186447\n",
      "(epoch = 1, round = 250, global round = 250), Accuracy/Aggregation: 73.33333333333333\n",
      "Running (epoch = 1, round = 250, global round = 250) for Eval\n",
      "(epoch = 1, round = 250, global round = 250), Loss/Eval: 0.6991095875060754\n",
      "(epoch = 1, round = 250, global round = 250), Accuracy/Eval: 51.54929577464789\n",
      "Current eval accuracy: {'Accuracy': 51.54929577464789}%, Best so far: {'Accuracy': 57.32394366197183}%\n"
     ]
    },
    {
     "name": "stderr",
     "output_type": "stream",
     "text": [
      "Round: 100%|███████████████████████████████████████████████████████████████████████| 250/250 [00:57<00:00,  4.34round/s]\n",
      "Round: 100%|██████████████████████████████████████████████████████████████████████▋| 249/250 [00:55<00:00,  4.67round/s]"
     ]
    },
    {
     "name": "stdout",
     "output_type": "stream",
     "text": [
      "Train finished Global Round: 500\n",
      "(epoch = 2, round = 250, global round = 500), Loss/Training: 0.7316155484365465\n",
      "(epoch = 2, round = 250, global round = 500), Accuracy/Training: 51.79592770533059\n",
      "reporting (epoch = 2, round = 250, global round = 500) for aggregation\n",
      "(epoch = 2, round = 250, global round = 500), Loss/Aggregation: 0.6404128730297088\n",
      "(epoch = 2, round = 250, global round = 500), Accuracy/Aggregation: 62.5\n",
      "Running (epoch = 2, round = 250, global round = 500) for Eval\n",
      "(epoch = 2, round = 250, global round = 500), Loss/Eval: 0.6978898800332719\n",
      "(epoch = 2, round = 250, global round = 500), Accuracy/Eval: 50.63380281690141\n",
      "Current eval accuracy: {'Accuracy': 50.63380281690141}%, Best so far: {'Accuracy': 57.32394366197183}%\n"
     ]
    },
    {
     "name": "stderr",
     "output_type": "stream",
     "text": [
      "Round: 100%|██████████████████████████████████████████████████████████████████████▋| 249/250 [00:59<00:00,  4.21round/s]\n",
      "Epoch:  50%|█████████████████████████████████████                                     | 1/2 [01:56<01:56, 116.72s/epoch]"
     ]
    },
    {
     "name": "stdout",
     "output_type": "stream",
     "text": [
      "Running (epoch = 1, round = 1, global round = 1) for Test\n"
     ]
    },
    {
     "name": "stderr",
     "output_type": "stream",
     "text": [
      "\n",
      " 12%|████▊                                   | 48.0/400 [49:23<5:55:50, 60.65s/it, min_score=-57.3, models_evaluated=20]"
     ]
    },
    {
     "name": "stdout",
     "output_type": "stream",
     "text": [
      "(epoch = 1, round = 1, global round = 1), Loss/Test: 0.6978898798180927\n",
      "(epoch = 1, round = 1, global round = 1), Accuracy/Test: 50.63380281690141\n"
     ]
    },
    {
     "name": "stderr",
     "output_type": "stream",
     "text": [
      "Round: 100%|██████████████████████████████████████████████████████████████████████▋| 249/250 [00:54<00:00,  4.34round/s]"
     ]
    },
    {
     "name": "stdout",
     "output_type": "stream",
     "text": [
      "Train finished Global Round: 250\n",
      "(epoch = 1, round = 250, global round = 250), Loss/Training: 0.7153516751640195\n",
      "(epoch = 1, round = 250, global round = 250), Accuracy/Training: 50.04611482591653\n",
      "reporting (epoch = 1, round = 250, global round = 250) for aggregation\n",
      "(epoch = 1, round = 250, global round = 250), Loss/Aggregation: 0.7285140752792358\n",
      "(epoch = 1, round = 250, global round = 250), Accuracy/Aggregation: 40.0\n",
      "Running (epoch = 1, round = 250, global round = 250) for Eval\n",
      "(epoch = 1, round = 250, global round = 250), Loss/Eval: 0.6964404358951815\n",
      "(epoch = 1, round = 250, global round = 250), Accuracy/Eval: 49.894366197183096\n",
      "Current eval accuracy: {'Accuracy': 49.894366197183096}%, Best so far: {'Accuracy': 57.32394366197183}%\n"
     ]
    },
    {
     "name": "stderr",
     "output_type": "stream",
     "text": [
      "Round: 100%|███████████████████████████████████████████████████████████████████████| 250/250 [00:57<00:00,  4.35round/s]\n",
      "Round: 100%|██████████████████████████████████████████████████████████████████████▋| 249/250 [00:55<00:00,  4.59round/s]"
     ]
    },
    {
     "name": "stdout",
     "output_type": "stream",
     "text": [
      "Train finished Global Round: 500\n",
      "(epoch = 2, round = 250, global round = 500), Loss/Training: 0.6992915333808055\n",
      "(epoch = 2, round = 250, global round = 500), Accuracy/Training: 48.45723752329675\n",
      "reporting (epoch = 2, round = 250, global round = 500) for aggregation\n",
      "(epoch = 2, round = 250, global round = 500), Loss/Aggregation: 0.7303919136524201\n",
      "(epoch = 2, round = 250, global round = 500), Accuracy/Aggregation: 55.172413793103445\n",
      "Running (epoch = 2, round = 250, global round = 500) for Eval\n",
      "(epoch = 2, round = 250, global round = 500), Loss/Eval: 0.7089119109579516\n",
      "(epoch = 2, round = 250, global round = 500), Accuracy/Eval: 49.894366197183096\n",
      "Current eval accuracy: {'Accuracy': 49.894366197183096}%, Best so far: {'Accuracy': 57.32394366197183}%\n"
     ]
    },
    {
     "name": "stderr",
     "output_type": "stream",
     "text": [
      "Round: 100%|██████████████████████████████████████████████████████████████████████▋| 249/250 [00:58<00:00,  4.27round/s]\n",
      "Epoch:  50%|█████████████████████████████████████                                     | 1/2 [01:55<01:55, 115.86s/epoch]"
     ]
    },
    {
     "name": "stdout",
     "output_type": "stream",
     "text": [
      "Running (epoch = 1, round = 1, global round = 1) for Test\n"
     ]
    },
    {
     "name": "stderr",
     "output_type": "stream",
     "text": [
      "\n",
      " 12%|█████                                   | 50.0/400 [51:22<5:51:35, 60.27s/it, min_score=-57.3, models_evaluated=20]"
     ]
    },
    {
     "name": "stdout",
     "output_type": "stream",
     "text": [
      "(epoch = 1, round = 1, global round = 1), Loss/Test: 0.7089119108862252\n",
      "(epoch = 1, round = 1, global round = 1), Accuracy/Test: 49.894366197183096\n"
     ]
    },
    {
     "name": "stderr",
     "output_type": "stream",
     "text": [
      "Round: 100%|██████████████████████████████████████████████████████████████████████▋| 249/250 [00:58<00:00,  4.40round/s]"
     ]
    },
    {
     "name": "stdout",
     "output_type": "stream",
     "text": [
      "Train finished Global Round: 250\n",
      "(epoch = 1, round = 250, global round = 250), Loss/Training: 0.6875784602629458\n",
      "(epoch = 1, round = 250, global round = 250), Accuracy/Training: 54.08338092518561\n",
      "reporting (epoch = 1, round = 250, global round = 250) for aggregation\n",
      "(epoch = 1, round = 250, global round = 250), Loss/Aggregation: 0.7068321542306379\n",
      "(epoch = 1, round = 250, global round = 250), Accuracy/Aggregation: 48.23529411764706\n",
      "Running (epoch = 1, round = 250, global round = 250) for Eval\n",
      "(epoch = 1, round = 250, global round = 250), Loss/Eval: 0.6970134748185537\n",
      "(epoch = 1, round = 250, global round = 250), Accuracy/Eval: 52.5\n",
      "Current eval accuracy: {'Accuracy': 52.5}%, Best so far: {'Accuracy': 57.32394366197183}%\n"
     ]
    },
    {
     "name": "stderr",
     "output_type": "stream",
     "text": [
      "Round: 100%|███████████████████████████████████████████████████████████████████████| 250/250 [01:01<00:00,  4.04round/s]\n",
      "Round: 100%|██████████████████████████████████████████████████████████████████████▋| 249/250 [00:55<00:00,  4.55round/s]"
     ]
    },
    {
     "name": "stdout",
     "output_type": "stream",
     "text": [
      "Train finished Global Round: 500\n",
      "(epoch = 2, round = 250, global round = 500), Loss/Training: 0.6824989056923354\n",
      "(epoch = 2, round = 250, global round = 500), Accuracy/Training: 56.357746152956146\n",
      "reporting (epoch = 2, round = 250, global round = 500) for aggregation\n",
      "(epoch = 2, round = 250, global round = 500), Loss/Aggregation: 0.6309681475162506\n",
      "(epoch = 2, round = 250, global round = 500), Accuracy/Aggregation: 77.41935483870968\n",
      "Running (epoch = 2, round = 250, global round = 500) for Eval\n",
      "(epoch = 2, round = 250, global round = 500), Loss/Eval: 0.6838548992156409\n",
      "(epoch = 2, round = 250, global round = 500), Accuracy/Eval: 54.471830985915496\n",
      "Current eval accuracy: {'Accuracy': 54.471830985915496}%, Best so far: {'Accuracy': 57.32394366197183}%\n"
     ]
    },
    {
     "name": "stderr",
     "output_type": "stream",
     "text": [
      "Round: 100%|██████████████████████████████████████████████████████████████████████▋| 249/250 [00:58<00:00,  4.25round/s]\n",
      "Epoch:  50%|█████████████████████████████████████                                     | 1/2 [02:00<02:00, 120.39s/epoch]"
     ]
    },
    {
     "name": "stdout",
     "output_type": "stream",
     "text": [
      "Running (epoch = 1, round = 1, global round = 1) for Test\n"
     ]
    },
    {
     "name": "stderr",
     "output_type": "stream",
     "text": [
      "\n",
      " 13%|█████▏                                  | 52.0/400 [53:25<5:52:19, 60.75s/it, min_score=-57.3, models_evaluated=20]"
     ]
    },
    {
     "name": "stdout",
     "output_type": "stream",
     "text": [
      "(epoch = 1, round = 1, global round = 1), Loss/Test: 0.6838548993112761\n",
      "(epoch = 1, round = 1, global round = 1), Accuracy/Test: 54.471830985915496\n"
     ]
    },
    {
     "name": "stderr",
     "output_type": "stream",
     "text": [
      "Round: 100%|██████████████████████████████████████████████████████████████████████▋| 249/250 [00:56<00:00,  4.63round/s]"
     ]
    },
    {
     "name": "stdout",
     "output_type": "stream",
     "text": [
      "Train finished Global Round: 250\n",
      "(epoch = 1, round = 250, global round = 250), Loss/Training: 0.791756896491562\n",
      "(epoch = 1, round = 250, global round = 250), Accuracy/Training: 50.25347145690985\n",
      "reporting (epoch = 1, round = 250, global round = 250) for aggregation\n",
      "(epoch = 1, round = 250, global round = 250), Loss/Aggregation: 0.6671062409877777\n",
      "(epoch = 1, round = 250, global round = 250), Accuracy/Aggregation: 50.0\n",
      "Running (epoch = 1, round = 250, global round = 250) for Eval\n",
      "(epoch = 1, round = 250, global round = 250), Loss/Eval: 0.7049316284386833\n",
      "(epoch = 1, round = 250, global round = 250), Accuracy/Eval: 50.24647887323944\n",
      "Current eval accuracy: {'Accuracy': 50.24647887323944}%, Best so far: {'Accuracy': 57.32394366197183}%\n"
     ]
    },
    {
     "name": "stderr",
     "output_type": "stream",
     "text": [
      "Round: 100%|███████████████████████████████████████████████████████████████████████| 250/250 [00:59<00:00,  4.19round/s]\n",
      "Round: 100%|██████████████████████████████████████████████████████████████████████▋| 249/250 [00:55<00:00,  4.38round/s]"
     ]
    },
    {
     "name": "stdout",
     "output_type": "stream",
     "text": [
      "Train finished Global Round: 500\n",
      "(epoch = 2, round = 250, global round = 500), Loss/Training: 0.7437663832561315\n",
      "(epoch = 2, round = 250, global round = 500), Accuracy/Training: 48.48450704225352\n",
      "reporting (epoch = 2, round = 250, global round = 500) for aggregation\n",
      "(epoch = 2, round = 250, global round = 500), Loss/Aggregation: 0.6464310795068741\n",
      "(epoch = 2, round = 250, global round = 500), Accuracy/Aggregation: 63.46153846153846\n",
      "Running (epoch = 2, round = 250, global round = 500) for Eval\n",
      "(epoch = 2, round = 250, global round = 500), Loss/Eval: 0.696564015187846\n",
      "(epoch = 2, round = 250, global round = 500), Accuracy/Eval: 50.03521126760563\n",
      "Current eval accuracy: {'Accuracy': 50.03521126760563}%, Best so far: {'Accuracy': 57.32394366197183}%\n"
     ]
    },
    {
     "name": "stderr",
     "output_type": "stream",
     "text": [
      "Round: 100%|██████████████████████████████████████████████████████████████████████▋| 249/250 [00:58<00:00,  4.26round/s]\n",
      "Epoch:  50%|█████████████████████████████████████                                     | 1/2 [01:58<01:58, 118.19s/epoch]"
     ]
    },
    {
     "name": "stdout",
     "output_type": "stream",
     "text": [
      "Running (epoch = 1, round = 1, global round = 1) for Test\n"
     ]
    },
    {
     "name": "stderr",
     "output_type": "stream",
     "text": [
      "\n",
      " 14%|█████▍                                  | 54.0/400 [55:27<5:50:08, 60.72s/it, min_score=-57.3, models_evaluated=24]"
     ]
    },
    {
     "name": "stdout",
     "output_type": "stream",
     "text": [
      "(epoch = 1, round = 1, global round = 1), Loss/Test: 0.6965640152356637\n",
      "(epoch = 1, round = 1, global round = 1), Accuracy/Test: 50.03521126760563\n"
     ]
    },
    {
     "name": "stderr",
     "output_type": "stream",
     "text": [
      "Round: 100%|██████████████████████████████████████████████████████████████████████▋| 249/250 [00:55<00:00,  4.67round/s]"
     ]
    },
    {
     "name": "stdout",
     "output_type": "stream",
     "text": [
      "Train finished Global Round: 250\n",
      "(epoch = 1, round = 250, global round = 250), Loss/Training: 0.5655408854183538\n",
      "(epoch = 1, round = 250, global round = 250), Accuracy/Training: 69.3019430451321\n",
      "reporting (epoch = 1, round = 250, global round = 250) for aggregation\n",
      "(epoch = 1, round = 250, global round = 250), Loss/Aggregation: 0.37780194586286175\n",
      "(epoch = 1, round = 250, global round = 250), Accuracy/Aggregation: 79.59183673469387\n",
      "Running (epoch = 1, round = 250, global round = 250) for Eval\n",
      "(epoch = 1, round = 250, global round = 250), Loss/Eval: 0.726331382405612\n",
      "(epoch = 1, round = 250, global round = 250), Accuracy/Eval: 58.16901408450704\n",
      "Current eval accuracy: {'Accuracy': 58.16901408450704}%, Best so far: {'Accuracy': 57.32394366197183}%\n"
     ]
    },
    {
     "name": "stderr",
     "output_type": "stream",
     "text": [
      "Round: 100%|███████████████████████████████████████████████████████████████████████| 250/250 [00:58<00:00,  4.25round/s]\n",
      "Round: 100%|██████████████████████████████████████████████████████████████████████▋| 249/250 [00:57<00:00,  4.43round/s]"
     ]
    },
    {
     "name": "stdout",
     "output_type": "stream",
     "text": [
      "Train finished Global Round: 500\n",
      "(epoch = 2, round = 250, global round = 500), Loss/Training: 0.5373924102595802\n",
      "(epoch = 2, round = 250, global round = 500), Accuracy/Training: 72.99367299367299\n",
      "reporting (epoch = 2, round = 250, global round = 500) for aggregation\n",
      "(epoch = 2, round = 250, global round = 500), Loss/Aggregation: 0.21896612122654915\n",
      "(epoch = 2, round = 250, global round = 500), Accuracy/Aggregation: 91.30434782608695\n",
      "Running (epoch = 2, round = 250, global round = 500) for Eval\n",
      "(epoch = 2, round = 250, global round = 500), Loss/Eval: 0.7568775895718489\n",
      "(epoch = 2, round = 250, global round = 500), Accuracy/Eval: 57.92253521126761\n",
      "Current eval accuracy: {'Accuracy': 57.92253521126761}%, Best so far: {'Accuracy': 58.16901408450704}%\n"
     ]
    },
    {
     "name": "stderr",
     "output_type": "stream",
     "text": [
      "Round: 100%|███████████████████████████████████████████████████████████████████████| 250/250 [01:00<00:00,  4.13round/s]\n",
      "Round: 100%|██████████████████████████████████████████████████████████████████████▋| 249/250 [00:56<00:00,  4.64round/s]"
     ]
    },
    {
     "name": "stdout",
     "output_type": "stream",
     "text": [
      "Train finished Global Round: 750\n",
      "(epoch = 3, round = 250, global round = 750), Loss/Training: 0.46260870738170234\n",
      "(epoch = 3, round = 250, global round = 750), Accuracy/Training: 76.4820102798401\n",
      "reporting (epoch = 3, round = 250, global round = 750) for aggregation\n",
      "(epoch = 3, round = 250, global round = 750), Loss/Aggregation: 0.2550757896155119\n",
      "(epoch = 3, round = 250, global round = 750), Accuracy/Aggregation: 86.53846153846153\n",
      "Running (epoch = 3, round = 250, global round = 750) for Eval\n",
      "(epoch = 3, round = 250, global round = 750), Loss/Eval: 0.7831228429730271\n",
      "(epoch = 3, round = 250, global round = 750), Accuracy/Eval: 58.16901408450704\n",
      "Current eval accuracy: {'Accuracy': 58.16901408450704}%, Best so far: {'Accuracy': 58.16901408450704}%\n"
     ]
    },
    {
     "name": "stderr",
     "output_type": "stream",
     "text": [
      "Round: 100%|███████████████████████████████████████████████████████████████████████| 250/250 [00:59<00:00,  4.17round/s]\n",
      "Round: 100%|██████████████████████████████████████████████████████████████████████▋| 249/250 [00:57<00:00,  4.43round/s]"
     ]
    },
    {
     "name": "stdout",
     "output_type": "stream",
     "text": [
      "Train finished Global Round: 1000\n",
      "(epoch = 4, round = 250, global round = 1000), Loss/Training: 0.4260266591129112\n",
      "(epoch = 4, round = 250, global round = 1000), Accuracy/Training: 78.63415642111788\n",
      "reporting (epoch = 4, round = 250, global round = 1000) for aggregation\n",
      "(epoch = 4, round = 250, global round = 1000), Loss/Aggregation: 0.19144401292909274\n",
      "(epoch = 4, round = 250, global round = 1000), Accuracy/Aggregation: 92.5925925925926\n",
      "Running (epoch = 4, round = 250, global round = 1000) for Eval\n",
      "(epoch = 4, round = 250, global round = 1000), Loss/Eval: 0.8277408221207101\n",
      "(epoch = 4, round = 250, global round = 1000), Accuracy/Eval: 58.41549295774648\n",
      "Current eval accuracy: {'Accuracy': 58.41549295774648}%, Best so far: {'Accuracy': 58.16901408450704}%\n"
     ]
    },
    {
     "name": "stderr",
     "output_type": "stream",
     "text": [
      "Round: 100%|██████████████████████████████████████████████████████████████████████▋| 249/250 [01:00<00:00,  4.12round/s]\n",
      "Epoch:  75%|████████████████████████████████████████████████████████▎                  | 3/4 [03:59<01:19, 79.91s/epoch]"
     ]
    },
    {
     "name": "stdout",
     "output_type": "stream",
     "text": [
      "Running (epoch = 1, round = 1, global round = 1) for Test\n"
     ]
    },
    {
     "name": "stderr",
     "output_type": "stream",
     "text": [
      "\n",
      " 14%|█████▊                                  | 58.0/400 [59:29<5:46:02, 60.71s/it, min_score=-58.4, models_evaluated=24]"
     ]
    },
    {
     "name": "stdout",
     "output_type": "stream",
     "text": [
      "(epoch = 1, round = 1, global round = 1), Loss/Test: 0.8277408224434789\n",
      "(epoch = 1, round = 1, global round = 1), Accuracy/Test: 58.41549295774648\n"
     ]
    },
    {
     "name": "stderr",
     "output_type": "stream",
     "text": [
      "Round: 100%|██████████████████████████████████████████████████████████████████████▋| 249/250 [00:57<00:00,  4.43round/s]"
     ]
    },
    {
     "name": "stdout",
     "output_type": "stream",
     "text": [
      "Train finished Global Round: 250\n",
      "(epoch = 1, round = 250, global round = 250), Loss/Training: 0.5934658996203087\n",
      "(epoch = 1, round = 250, global round = 250), Accuracy/Training: 67.56602914389799\n",
      "reporting (epoch = 1, round = 250, global round = 250) for aggregation\n",
      "(epoch = 1, round = 250, global round = 250), Loss/Aggregation: 0.48915103673934934\n",
      "(epoch = 1, round = 250, global round = 250), Accuracy/Aggregation: 80.0\n",
      "Running (epoch = 1, round = 250, global round = 250) for Eval\n",
      "(epoch = 1, round = 250, global round = 250), Loss/Eval: 0.7328533689565045\n",
      "(epoch = 1, round = 250, global round = 250), Accuracy/Eval: 57.570422535211264\n",
      "Current eval accuracy: {'Accuracy': 57.570422535211264}%, Best so far: {'Accuracy': 58.41549295774648}%\n"
     ]
    },
    {
     "name": "stderr",
     "output_type": "stream",
     "text": [
      "Round: 100%|███████████████████████████████████████████████████████████████████████| 250/250 [01:00<00:00,  4.15round/s]\n",
      "Round: 100%|██████████████████████████████████████████████████████████████████████▋| 249/250 [00:57<00:00,  4.50round/s]"
     ]
    },
    {
     "name": "stdout",
     "output_type": "stream",
     "text": [
      "Train finished Global Round: 500\n",
      "(epoch = 2, round = 250, global round = 500), Loss/Training: 0.5460351033992358\n",
      "(epoch = 2, round = 250, global round = 500), Accuracy/Training: 70.74807480748075\n",
      "reporting (epoch = 2, round = 250, global round = 500) for aggregation\n",
      "(epoch = 2, round = 250, global round = 500), Loss/Aggregation: 0.22068051658570767\n",
      "(epoch = 2, round = 250, global round = 500), Accuracy/Aggregation: 90.9090909090909\n",
      "Running (epoch = 2, round = 250, global round = 500) for Eval\n",
      "(epoch = 2, round = 250, global round = 500), Loss/Eval: 0.7770552202118535\n",
      "(epoch = 2, round = 250, global round = 500), Accuracy/Eval: 57.46478873239437\n",
      "Current eval accuracy: {'Accuracy': 57.46478873239437}%, Best so far: {'Accuracy': 58.41549295774648}%\n"
     ]
    },
    {
     "name": "stderr",
     "output_type": "stream",
     "text": [
      "Round: 100%|███████████████████████████████████████████████████████████████████████| 250/250 [01:00<00:00,  4.14round/s]\n",
      "Round: 100%|██████████████████████████████████████████████████████████████████████▋| 249/250 [00:57<00:00,  4.32round/s]"
     ]
    },
    {
     "name": "stdout",
     "output_type": "stream",
     "text": [
      "Train finished Global Round: 750\n",
      "(epoch = 3, round = 250, global round = 750), Loss/Training: 0.49498301573456394\n",
      "(epoch = 3, round = 250, global round = 750), Accuracy/Training: 73.91647855530474\n",
      "reporting (epoch = 3, round = 250, global round = 750) for aggregation\n",
      "(epoch = 3, round = 250, global round = 750), Loss/Aggregation: 0.18980755731463433\n",
      "(epoch = 3, round = 250, global round = 750), Accuracy/Aggregation: 100.0\n",
      "Running (epoch = 3, round = 250, global round = 750) for Eval\n",
      "(epoch = 3, round = 250, global round = 750), Loss/Eval: 0.7833013786383106\n",
      "(epoch = 3, round = 250, global round = 750), Accuracy/Eval: 58.38028169014085\n",
      "Current eval accuracy: {'Accuracy': 58.38028169014085}%, Best so far: {'Accuracy': 58.41549295774648}%\n"
     ]
    },
    {
     "name": "stderr",
     "output_type": "stream",
     "text": [
      "Round: 100%|███████████████████████████████████████████████████████████████████████| 250/250 [01:00<00:00,  4.12round/s]\n",
      "Round: 100%|██████████████████████████████████████████████████████████████████████▋| 249/250 [00:57<00:00,  4.39round/s]"
     ]
    },
    {
     "name": "stdout",
     "output_type": "stream",
     "text": [
      "Train finished Global Round: 1000\n",
      "(epoch = 4, round = 250, global round = 1000), Loss/Training: 0.453113590433048\n",
      "(epoch = 4, round = 250, global round = 1000), Accuracy/Training: 77.30603448275862\n",
      "reporting (epoch = 4, round = 250, global round = 1000) for aggregation\n",
      "(epoch = 4, round = 250, global round = 1000), Loss/Aggregation: 0.21469455026090145\n",
      "(epoch = 4, round = 250, global round = 1000), Accuracy/Aggregation: 100.0\n",
      "Running (epoch = 4, round = 250, global round = 1000) for Eval\n",
      "(epoch = 4, round = 250, global round = 1000), Loss/Eval: 0.8004709439902664\n",
      "(epoch = 4, round = 250, global round = 1000), Accuracy/Eval: 59.7887323943662\n",
      "Current eval accuracy: {'Accuracy': 59.7887323943662}%, Best so far: {'Accuracy': 58.41549295774648}%\n"
     ]
    },
    {
     "name": "stderr",
     "output_type": "stream",
     "text": [
      "Round: 100%|██████████████████████████████████████████████████████████████████████▋| 249/250 [01:00<00:00,  4.09round/s]\n",
      "Epoch:  75%|████████████████████████████████████████████████████████▎                  | 3/4 [04:02<01:20, 80.74s/epoch]"
     ]
    },
    {
     "name": "stdout",
     "output_type": "stream",
     "text": [
      "Running (epoch = 1, round = 1, global round = 1) for Test\n"
     ]
    },
    {
     "name": "stderr",
     "output_type": "stream",
     "text": [
      "\n",
      " 16%|█████▉                                | 62.0/400 [1:03:35<5:43:25, 60.96s/it, min_score=-59.8, models_evaluated=24]"
     ]
    },
    {
     "name": "stdout",
     "output_type": "stream",
     "text": [
      "(epoch = 1, round = 1, global round = 1), Loss/Test: 0.8004709438079618\n",
      "(epoch = 1, round = 1, global round = 1), Accuracy/Test: 59.7887323943662\n"
     ]
    },
    {
     "name": "stderr",
     "output_type": "stream",
     "text": [
      "Round: 100%|██████████████████████████████████████████████████████████████████████▋| 249/250 [00:57<00:00,  4.31round/s]"
     ]
    },
    {
     "name": "stdout",
     "output_type": "stream",
     "text": [
      "Train finished Global Round: 250\n",
      "(epoch = 1, round = 250, global round = 250), Loss/Training: 0.613259474668568\n",
      "(epoch = 1, round = 250, global round = 250), Accuracy/Training: 65.27586572063963\n",
      "reporting (epoch = 1, round = 250, global round = 250) for aggregation\n",
      "(epoch = 1, round = 250, global round = 250), Loss/Aggregation: 0.6185909867286682\n",
      "(epoch = 1, round = 250, global round = 250), Accuracy/Aggregation: 66.66666666666667\n",
      "Running (epoch = 1, round = 250, global round = 250) for Eval\n",
      "(epoch = 1, round = 250, global round = 250), Loss/Eval: 0.696724422016759\n",
      "(epoch = 1, round = 250, global round = 250), Accuracy/Eval: 57.147887323943664\n",
      "Current eval accuracy: {'Accuracy': 57.147887323943664}%, Best so far: {'Accuracy': 59.7887323943662}%\n"
     ]
    },
    {
     "name": "stderr",
     "output_type": "stream",
     "text": [
      "Round: 100%|███████████████████████████████████████████████████████████████████████| 250/250 [01:00<00:00,  4.13round/s]\n",
      "Round: 100%|██████████████████████████████████████████████████████████████████████▋| 249/250 [00:58<00:00,  4.42round/s]"
     ]
    },
    {
     "name": "stdout",
     "output_type": "stream",
     "text": [
      "Train finished Global Round: 500\n",
      "(epoch = 2, round = 250, global round = 500), Loss/Training: 0.5855479769231553\n",
      "(epoch = 2, round = 250, global round = 500), Accuracy/Training: 67.09086849743247\n",
      "reporting (epoch = 2, round = 250, global round = 500) for aggregation\n",
      "(epoch = 2, round = 250, global round = 500), Loss/Aggregation: 0.6429719418287277\n",
      "(epoch = 2, round = 250, global round = 500), Accuracy/Aggregation: 52.63157894736842\n",
      "Running (epoch = 2, round = 250, global round = 500) for Eval\n",
      "(epoch = 2, round = 250, global round = 500), Loss/Eval: 0.6932492708085748\n",
      "(epoch = 2, round = 250, global round = 500), Accuracy/Eval: 60.0\n",
      "Current eval accuracy: {'Accuracy': 60.0}%, Best so far: {'Accuracy': 59.7887323943662}%\n"
     ]
    },
    {
     "name": "stderr",
     "output_type": "stream",
     "text": [
      "Round: 100%|███████████████████████████████████████████████████████████████████████| 250/250 [01:01<00:00,  4.08round/s]\n",
      "Round: 100%|██████████████████████████████████████████████████████████████████████▋| 249/250 [00:58<00:00,  4.41round/s]"
     ]
    },
    {
     "name": "stdout",
     "output_type": "stream",
     "text": [
      "Train finished Global Round: 750\n",
      "(epoch = 3, round = 250, global round = 750), Loss/Training: 0.5682827862385299\n",
      "(epoch = 3, round = 250, global round = 750), Accuracy/Training: 69.42177663791094\n",
      "reporting (epoch = 3, round = 250, global round = 750) for aggregation\n",
      "(epoch = 3, round = 250, global round = 750), Loss/Aggregation: 0.3850840091705322\n",
      "(epoch = 3, round = 250, global round = 750), Accuracy/Aggregation: 76.66666666666667\n",
      "Running (epoch = 3, round = 250, global round = 750) for Eval\n",
      "(epoch = 3, round = 250, global round = 750), Loss/Eval: 0.7223421440071643\n",
      "(epoch = 3, round = 250, global round = 750), Accuracy/Eval: 60.598591549295776\n",
      "Current eval accuracy: {'Accuracy': 60.598591549295776}%, Best so far: {'Accuracy': 60.0}%\n"
     ]
    },
    {
     "name": "stderr",
     "output_type": "stream",
     "text": [
      "Round: 100%|███████████████████████████████████████████████████████████████████████| 250/250 [01:01<00:00,  4.04round/s]\n",
      "Round: 100%|██████████████████████████████████████████████████████████████████████▋| 249/250 [00:54<00:00,  4.61round/s]"
     ]
    },
    {
     "name": "stdout",
     "output_type": "stream",
     "text": [
      "Train finished Global Round: 1000\n",
      "(epoch = 4, round = 250, global round = 1000), Loss/Training: 0.5522970833865658\n",
      "(epoch = 4, round = 250, global round = 1000), Accuracy/Training: 70.6786171574904\n",
      "reporting (epoch = 4, round = 250, global round = 1000) for aggregation\n",
      "(epoch = 4, round = 250, global round = 1000), Loss/Aggregation: 0.43826560825109484\n",
      "(epoch = 4, round = 250, global round = 1000), Accuracy/Aggregation: 71.42857142857143\n",
      "Running (epoch = 4, round = 250, global round = 1000) for Eval\n",
      "(epoch = 4, round = 250, global round = 1000), Loss/Eval: 0.7370997512766496\n",
      "(epoch = 4, round = 250, global round = 1000), Accuracy/Eval: 58.38028169014085\n",
      "Current eval accuracy: {'Accuracy': 58.38028169014085}%, Best so far: {'Accuracy': 60.598591549295776}%\n"
     ]
    },
    {
     "name": "stderr",
     "output_type": "stream",
     "text": [
      "Round: 100%|██████████████████████████████████████████████████████████████████████▋| 249/250 [00:57<00:00,  4.32round/s]\n",
      "Epoch:  75%|████████████████████████████████████████████████████████▎                  | 3/4 [04:01<01:20, 80.43s/epoch]"
     ]
    },
    {
     "name": "stdout",
     "output_type": "stream",
     "text": [
      "Running (epoch = 1, round = 1, global round = 1) for Test\n"
     ]
    },
    {
     "name": "stderr",
     "output_type": "stream",
     "text": [
      "\n",
      " 16%|██████▎                               | 66.0/400 [1:07:40<5:40:00, 61.08s/it, min_score=-59.8, models_evaluated=25]"
     ]
    },
    {
     "name": "stdout",
     "output_type": "stream",
     "text": [
      "(epoch = 1, round = 1, global round = 1), Loss/Test: 0.7370997511720486\n",
      "(epoch = 1, round = 1, global round = 1), Accuracy/Test: 58.38028169014085\n"
     ]
    },
    {
     "name": "stderr",
     "output_type": "stream",
     "text": [
      "Round: 100%|██████████████████████████████████████████████████████████████████████▋| 249/250 [00:58<00:00,  4.36round/s]"
     ]
    },
    {
     "name": "stdout",
     "output_type": "stream",
     "text": [
      "Train finished Global Round: 250\n",
      "(epoch = 1, round = 250, global round = 250), Loss/Training: 0.3905495884571245\n",
      "(epoch = 1, round = 250, global round = 250), Accuracy/Training: 80.95866314863676\n",
      "reporting (epoch = 1, round = 250, global round = 250) for aggregation\n",
      "(epoch = 1, round = 250, global round = 250), Loss/Aggregation: 0.2736468391492963\n",
      "(epoch = 1, round = 250, global round = 250), Accuracy/Aggregation: 90.9090909090909\n",
      "Running (epoch = 1, round = 250, global round = 250) for Eval\n",
      "(epoch = 1, round = 250, global round = 250), Loss/Eval: 0.8470702935834394\n",
      "(epoch = 1, round = 250, global round = 250), Accuracy/Eval: 59.190140845070424\n",
      "Current eval accuracy: {'Accuracy': 59.190140845070424}%, Best so far: {'Accuracy': 60.598591549295776}%\n"
     ]
    },
    {
     "name": "stderr",
     "output_type": "stream",
     "text": [
      "Round: 100%|███████████████████████████████████████████████████████████████████████| 250/250 [01:01<00:00,  4.09round/s]\n",
      "Round: 100%|██████████████████████████████████████████████████████████████████████▋| 249/250 [00:57<00:00,  4.59round/s]"
     ]
    },
    {
     "name": "stdout",
     "output_type": "stream",
     "text": [
      "Train finished Global Round: 500\n",
      "(epoch = 2, round = 250, global round = 500), Loss/Training: 0.3443055224582177\n",
      "(epoch = 2, round = 250, global round = 500), Accuracy/Training: 83.4326330093028\n",
      "reporting (epoch = 2, round = 250, global round = 500) for aggregation\n",
      "(epoch = 2, round = 250, global round = 500), Loss/Aggregation: 0.19035766068845988\n",
      "(epoch = 2, round = 250, global round = 500), Accuracy/Aggregation: 88.63636363636364\n",
      "Running (epoch = 2, round = 250, global round = 500) for Eval\n",
      "(epoch = 2, round = 250, global round = 500), Loss/Eval: 0.9344691510492252\n",
      "(epoch = 2, round = 250, global round = 500), Accuracy/Eval: 58.66197183098591\n",
      "Current eval accuracy: {'Accuracy': 58.66197183098591}%, Best so far: {'Accuracy': 60.598591549295776}%\n"
     ]
    },
    {
     "name": "stderr",
     "output_type": "stream",
     "text": [
      "Round: 100%|███████████████████████████████████████████████████████████████████████| 250/250 [01:00<00:00,  4.16round/s]\n",
      "Round: 100%|██████████████████████████████████████████████████████████████████████▋| 249/250 [00:54<00:00,  4.63round/s]"
     ]
    },
    {
     "name": "stdout",
     "output_type": "stream",
     "text": [
      "Train finished Global Round: 750\n",
      "(epoch = 3, round = 250, global round = 750), Loss/Training: 0.2974306424264131\n",
      "(epoch = 3, round = 250, global round = 750), Accuracy/Training: 85.21957614157745\n",
      "reporting (epoch = 3, round = 250, global round = 750) for aggregation\n",
      "(epoch = 3, round = 250, global round = 750), Loss/Aggregation: 0.13605161365121604\n",
      "(epoch = 3, round = 250, global round = 750), Accuracy/Aggregation: 96.0\n",
      "Running (epoch = 3, round = 250, global round = 750) for Eval\n",
      "(epoch = 3, round = 250, global round = 750), Loss/Eval: 0.9347111969543453\n",
      "(epoch = 3, round = 250, global round = 750), Accuracy/Eval: 58.978873239436616\n",
      "Current eval accuracy: {'Accuracy': 58.978873239436616}%, Best so far: {'Accuracy': 60.598591549295776}%\n"
     ]
    },
    {
     "name": "stderr",
     "output_type": "stream",
     "text": [
      "Round: 100%|███████████████████████████████████████████████████████████████████████| 250/250 [00:57<00:00,  4.31round/s]\n",
      "Round: 100%|██████████████████████████████████████████████████████████████████████▋| 249/250 [00:56<00:00,  4.49round/s]"
     ]
    },
    {
     "name": "stdout",
     "output_type": "stream",
     "text": [
      "Train finished Global Round: 1000\n",
      "(epoch = 4, round = 250, global round = 1000), Loss/Training: 0.27503207382490236\n",
      "(epoch = 4, round = 250, global round = 1000), Accuracy/Training: 86.73655423883318\n",
      "reporting (epoch = 4, round = 250, global round = 1000) for aggregation\n",
      "(epoch = 4, round = 250, global round = 1000), Loss/Aggregation: 0.07031728802248835\n",
      "(epoch = 4, round = 250, global round = 1000), Accuracy/Aggregation: 100.0\n",
      "Running (epoch = 4, round = 250, global round = 1000) for Eval\n",
      "(epoch = 4, round = 250, global round = 1000), Loss/Eval: 1.0987567553102295\n",
      "(epoch = 4, round = 250, global round = 1000), Accuracy/Eval: 59.36619718309859\n",
      "Current eval accuracy: {'Accuracy': 59.36619718309859}%, Best so far: {'Accuracy': 60.598591549295776}%\n"
     ]
    },
    {
     "name": "stderr",
     "output_type": "stream",
     "text": [
      "Round: 100%|███████████████████████████████████████████████████████████████████████| 250/250 [00:59<00:00,  4.19round/s]\n",
      "Round: 100%|██████████████████████████████████████████████████████████████████████▋| 249/250 [00:55<00:00,  4.28round/s]"
     ]
    },
    {
     "name": "stdout",
     "output_type": "stream",
     "text": [
      "Train finished Global Round: 1250\n",
      "(epoch = 5, round = 250, global round = 1250), Loss/Training: 0.2426939673500828\n",
      "(epoch = 5, round = 250, global round = 1250), Accuracy/Training: 88.49711611709652\n",
      "reporting (epoch = 5, round = 250, global round = 1250) for aggregation\n",
      "(epoch = 5, round = 250, global round = 1250), Loss/Aggregation: 0.06809576361338258\n",
      "(epoch = 5, round = 250, global round = 1250), Accuracy/Aggregation: 100.0\n",
      "Running (epoch = 5, round = 250, global round = 1250) for Eval\n",
      "(epoch = 5, round = 250, global round = 1250), Loss/Eval: 1.1438009058337442\n",
      "(epoch = 5, round = 250, global round = 1250), Accuracy/Eval: 60.70422535211268\n",
      "Current eval accuracy: {'Accuracy': 60.70422535211268}%, Best so far: {'Accuracy': 60.598591549295776}%\n"
     ]
    },
    {
     "name": "stderr",
     "output_type": "stream",
     "text": [
      "Round: 100%|███████████████████████████████████████████████████████████████████████| 250/250 [00:58<00:00,  4.25round/s]\n",
      "Round: 100%|██████████████████████████████████████████████████████████████████████▋| 249/250 [00:58<00:00,  4.39round/s]"
     ]
    },
    {
     "name": "stdout",
     "output_type": "stream",
     "text": [
      "Train finished Global Round: 1500\n",
      "(epoch = 6, round = 250, global round = 1500), Loss/Training: 0.22878112671601109\n",
      "(epoch = 6, round = 250, global round = 1500), Accuracy/Training: 89.08949933540097\n",
      "reporting (epoch = 6, round = 250, global round = 1500) for aggregation\n",
      "(epoch = 6, round = 250, global round = 1500), Loss/Aggregation: 0.04662221083417535\n",
      "(epoch = 6, round = 250, global round = 1500), Accuracy/Aggregation: 100.0\n",
      "Running (epoch = 6, round = 250, global round = 1500) for Eval\n",
      "(epoch = 6, round = 250, global round = 1500), Loss/Eval: 1.143305425900228\n",
      "(epoch = 6, round = 250, global round = 1500), Accuracy/Eval: 58.90845070422535\n",
      "Current eval accuracy: {'Accuracy': 58.90845070422535}%, Best so far: {'Accuracy': 60.70422535211268}%\n"
     ]
    },
    {
     "name": "stderr",
     "output_type": "stream",
     "text": [
      "Round: 100%|███████████████████████████████████████████████████████████████████████| 250/250 [01:01<00:00,  4.04round/s]\n",
      "Round: 100%|██████████████████████████████████████████████████████████████████████▋| 249/250 [00:57<00:00,  4.43round/s]"
     ]
    },
    {
     "name": "stdout",
     "output_type": "stream",
     "text": [
      "Train finished Global Round: 1750\n",
      "(epoch = 7, round = 250, global round = 1750), Loss/Training: 0.2085480812810053\n",
      "(epoch = 7, round = 250, global round = 1750), Accuracy/Training: 90.86478522044656\n",
      "reporting (epoch = 7, round = 250, global round = 1750) for aggregation\n",
      "(epoch = 7, round = 250, global round = 1750), Loss/Aggregation: 0.04840555749833584\n",
      "(epoch = 7, round = 250, global round = 1750), Accuracy/Aggregation: 100.0\n",
      "Running (epoch = 7, round = 250, global round = 1750) for Eval\n",
      "(epoch = 7, round = 250, global round = 1750), Loss/Eval: 1.1531129582674557\n",
      "(epoch = 7, round = 250, global round = 1750), Accuracy/Eval: 58.23943661971831\n",
      "Current eval accuracy: {'Accuracy': 58.23943661971831}%, Best so far: {'Accuracy': 60.70422535211268}%\n"
     ]
    },
    {
     "name": "stderr",
     "output_type": "stream",
     "text": [
      "Round: 100%|███████████████████████████████████████████████████████████████████████| 250/250 [01:00<00:00,  4.14round/s]\n",
      "Round: 100%|██████████████████████████████████████████████████████████████████████▋| 249/250 [00:56<00:00,  4.49round/s]"
     ]
    },
    {
     "name": "stdout",
     "output_type": "stream",
     "text": [
      "Train finished Global Round: 2000\n",
      "(epoch = 8, round = 250, global round = 2000), Loss/Training: 0.1863678245763336\n",
      "(epoch = 8, round = 250, global round = 2000), Accuracy/Training: 90.80861621743543\n",
      "reporting (epoch = 8, round = 250, global round = 2000) for aggregation\n",
      "(epoch = 8, round = 250, global round = 2000), Loss/Aggregation: 0.031792426873289516\n",
      "(epoch = 8, round = 250, global round = 2000), Accuracy/Aggregation: 100.0\n",
      "Running (epoch = 8, round = 250, global round = 2000) for Eval\n",
      "(epoch = 8, round = 250, global round = 2000), Loss/Eval: 1.317499430424609\n",
      "(epoch = 8, round = 250, global round = 2000), Accuracy/Eval: 58.943661971830984\n",
      "Current eval accuracy: {'Accuracy': 58.943661971830984}%, Best so far: {'Accuracy': 60.70422535211268}%\n"
     ]
    },
    {
     "name": "stderr",
     "output_type": "stream",
     "text": [
      "Round: 100%|██████████████████████████████████████████████████████████████████████▋| 249/250 [00:59<00:00,  4.17round/s]\n",
      "Epoch:  88%|█████████████████████████████████████████████████████████████████▋         | 7/8 [07:59<01:08, 68.54s/epoch]"
     ]
    },
    {
     "name": "stdout",
     "output_type": "stream",
     "text": [
      "Running (epoch = 1, round = 1, global round = 1) for Test\n"
     ]
    },
    {
     "name": "stderr",
     "output_type": "stream",
     "text": [
      "\n",
      " 18%|███████                               | 74.0/400 [1:15:43<5:29:50, 60.71s/it, min_score=-59.8, models_evaluated=25]"
     ]
    },
    {
     "name": "stdout",
     "output_type": "stream",
     "text": [
      "(epoch = 1, round = 1, global round = 1), Loss/Test: 1.3174994300839087\n",
      "(epoch = 1, round = 1, global round = 1), Accuracy/Test: 58.943661971830984\n"
     ]
    },
    {
     "name": "stderr",
     "output_type": "stream",
     "text": [
      "Round: 100%|██████████████████████████████████████████████████████████████████████▋| 249/250 [00:54<00:00,  4.56round/s]"
     ]
    },
    {
     "name": "stdout",
     "output_type": "stream",
     "text": [
      "Train finished Global Round: 250\n",
      "(epoch = 1, round = 250, global round = 250), Loss/Training: 0.3453024393891151\n",
      "(epoch = 1, round = 250, global round = 250), Accuracy/Training: 82.07046070460704\n",
      "reporting (epoch = 1, round = 250, global round = 250) for aggregation\n",
      "(epoch = 1, round = 250, global round = 250), Loss/Aggregation: 0.04337049685418606\n",
      "(epoch = 1, round = 250, global round = 250), Accuracy/Aggregation: 100.0\n",
      "Running (epoch = 1, round = 250, global round = 250) for Eval\n",
      "(epoch = 1, round = 250, global round = 250), Loss/Eval: 0.9398009392169241\n",
      "(epoch = 1, round = 250, global round = 250), Accuracy/Eval: 57.605633802816904\n",
      "Current eval accuracy: {'Accuracy': 57.605633802816904}%, Best so far: {'Accuracy': 60.70422535211268}%\n"
     ]
    },
    {
     "name": "stderr",
     "output_type": "stream",
     "text": [
      "Round: 100%|███████████████████████████████████████████████████████████████████████| 250/250 [00:57<00:00,  4.36round/s]\n",
      "Round: 100%|██████████████████████████████████████████████████████████████████████▋| 249/250 [00:54<00:00,  4.55round/s]"
     ]
    },
    {
     "name": "stdout",
     "output_type": "stream",
     "text": [
      "Train finished Global Round: 500\n",
      "(epoch = 2, round = 250, global round = 500), Loss/Training: 0.31367896162741127\n",
      "(epoch = 2, round = 250, global round = 500), Accuracy/Training: 85.86801361589986\n",
      "reporting (epoch = 2, round = 250, global round = 500) for aggregation\n",
      "(epoch = 2, round = 250, global round = 500), Loss/Aggregation: 0.271369896363467\n",
      "(epoch = 2, round = 250, global round = 500), Accuracy/Aggregation: 95.23809523809524\n",
      "Running (epoch = 2, round = 250, global round = 500) for Eval\n",
      "(epoch = 2, round = 250, global round = 500), Loss/Eval: 1.017760181255022\n",
      "(epoch = 2, round = 250, global round = 500), Accuracy/Eval: 58.274647887323944\n",
      "Current eval accuracy: {'Accuracy': 58.274647887323944}%, Best so far: {'Accuracy': 60.70422535211268}%\n"
     ]
    },
    {
     "name": "stderr",
     "output_type": "stream",
     "text": [
      "Round: 100%|███████████████████████████████████████████████████████████████████████| 250/250 [00:57<00:00,  4.35round/s]\n",
      "Round: 100%|██████████████████████████████████████████████████████████████████████▋| 249/250 [00:57<00:00,  4.36round/s]"
     ]
    },
    {
     "name": "stdout",
     "output_type": "stream",
     "text": [
      "Train finished Global Round: 750\n",
      "(epoch = 3, round = 250, global round = 750), Loss/Training: 0.2667787900932336\n",
      "(epoch = 3, round = 250, global round = 750), Accuracy/Training: 87.78046981986726\n",
      "reporting (epoch = 3, round = 250, global round = 750) for aggregation\n",
      "(epoch = 3, round = 250, global round = 750), Loss/Aggregation: 0.021558791285497137\n",
      "(epoch = 3, round = 250, global round = 750), Accuracy/Aggregation: 100.0\n",
      "Running (epoch = 3, round = 250, global round = 750) for Eval\n",
      "(epoch = 3, round = 250, global round = 750), Loss/Eval: 1.1399743461477287\n",
      "(epoch = 3, round = 250, global round = 750), Accuracy/Eval: 58.767605633802816\n",
      "Current eval accuracy: {'Accuracy': 58.767605633802816}%, Best so far: {'Accuracy': 60.70422535211268}%\n"
     ]
    },
    {
     "name": "stderr",
     "output_type": "stream",
     "text": [
      "Round: 100%|███████████████████████████████████████████████████████████████████████| 250/250 [01:00<00:00,  4.13round/s]\n",
      "Round: 100%|██████████████████████████████████████████████████████████████████████▋| 249/250 [00:56<00:00,  4.61round/s]"
     ]
    },
    {
     "name": "stdout",
     "output_type": "stream",
     "text": [
      "Train finished Global Round: 1000\n",
      "(epoch = 4, round = 250, global round = 1000), Loss/Training: 0.21367768603015908\n",
      "(epoch = 4, round = 250, global round = 1000), Accuracy/Training: 90.22053909556693\n",
      "reporting (epoch = 4, round = 250, global round = 1000) for aggregation\n",
      "(epoch = 4, round = 250, global round = 1000), Loss/Aggregation: 0.02451158476760611\n",
      "(epoch = 4, round = 250, global round = 1000), Accuracy/Aggregation: 100.0\n",
      "Running (epoch = 4, round = 250, global round = 1000) for Eval\n",
      "(epoch = 4, round = 250, global round = 1000), Loss/Eval: 1.1688436496919206\n",
      "(epoch = 4, round = 250, global round = 1000), Accuracy/Eval: 57.88732394366197\n",
      "Current eval accuracy: {'Accuracy': 57.88732394366197}%, Best so far: {'Accuracy': 60.70422535211268}%\n"
     ]
    },
    {
     "name": "stderr",
     "output_type": "stream",
     "text": [
      "Round: 100%|███████████████████████████████████████████████████████████████████████| 250/250 [00:59<00:00,  4.20round/s]\n",
      "Round: 100%|██████████████████████████████████████████████████████████████████████▋| 249/250 [00:56<00:00,  4.38round/s]"
     ]
    },
    {
     "name": "stdout",
     "output_type": "stream",
     "text": [
      "Train finished Global Round: 1250\n",
      "(epoch = 5, round = 250, global round = 1250), Loss/Training: 0.20130657448697664\n",
      "(epoch = 5, round = 250, global round = 1250), Accuracy/Training: 90.75389550870761\n",
      "reporting (epoch = 5, round = 250, global round = 1250) for aggregation\n",
      "(epoch = 5, round = 250, global round = 1250), Loss/Aggregation: 0.03365415247390047\n",
      "(epoch = 5, round = 250, global round = 1250), Accuracy/Aggregation: 100.0\n",
      "Running (epoch = 5, round = 250, global round = 1250) for Eval\n",
      "(epoch = 5, round = 250, global round = 1250), Loss/Eval: 1.2262753618269575\n",
      "(epoch = 5, round = 250, global round = 1250), Accuracy/Eval: 58.028169014084504\n",
      "Current eval accuracy: {'Accuracy': 58.028169014084504}%, Best so far: {'Accuracy': 60.70422535211268}%\n"
     ]
    },
    {
     "name": "stderr",
     "output_type": "stream",
     "text": [
      "Round: 100%|███████████████████████████████████████████████████████████████████████| 250/250 [00:59<00:00,  4.20round/s]\n",
      "Round: 100%|██████████████████████████████████████████████████████████████████████▋| 249/250 [00:58<00:00,  4.33round/s]"
     ]
    },
    {
     "name": "stdout",
     "output_type": "stream",
     "text": [
      "Train finished Global Round: 1500\n",
      "(epoch = 6, round = 250, global round = 1500), Loss/Training: 0.16565373435340536\n",
      "(epoch = 6, round = 250, global round = 1500), Accuracy/Training: 92.38545923854592\n",
      "reporting (epoch = 6, round = 250, global round = 1500) for aggregation\n",
      "(epoch = 6, round = 250, global round = 1500), Loss/Aggregation: 0.014753663132432848\n",
      "(epoch = 6, round = 250, global round = 1500), Accuracy/Aggregation: 100.0\n",
      "Running (epoch = 6, round = 250, global round = 1500) for Eval\n",
      "(epoch = 6, round = 250, global round = 1500), Loss/Eval: 1.36970805316943\n",
      "(epoch = 6, round = 250, global round = 1500), Accuracy/Eval: 57.11267605633803\n",
      "Current eval accuracy: {'Accuracy': 57.11267605633803}%, Best so far: {'Accuracy': 60.70422535211268}%\n"
     ]
    },
    {
     "name": "stderr",
     "output_type": "stream",
     "text": [
      "Round: 100%|███████████████████████████████████████████████████████████████████████| 250/250 [01:01<00:00,  4.08round/s]\n",
      "Round: 100%|██████████████████████████████████████████████████████████████████████▋| 249/250 [00:56<00:00,  4.64round/s]"
     ]
    },
    {
     "name": "stdout",
     "output_type": "stream",
     "text": [
      "Train finished Global Round: 1750\n",
      "(epoch = 7, round = 250, global round = 1750), Loss/Training: 0.1523521162749424\n",
      "(epoch = 7, round = 250, global round = 1750), Accuracy/Training: 92.43886743886743\n",
      "reporting (epoch = 7, round = 250, global round = 1750) for aggregation\n",
      "(epoch = 7, round = 250, global round = 1750), Loss/Aggregation: 0.01563932744320482\n",
      "(epoch = 7, round = 250, global round = 1750), Accuracy/Aggregation: 100.0\n",
      "Running (epoch = 7, round = 250, global round = 1750) for Eval\n",
      "(epoch = 7, round = 250, global round = 1750), Loss/Eval: 1.3745571043279183\n",
      "(epoch = 7, round = 250, global round = 1750), Accuracy/Eval: 56.61971830985915\n",
      "Current eval accuracy: {'Accuracy': 56.61971830985915}%, Best so far: {'Accuracy': 60.70422535211268}%\n"
     ]
    },
    {
     "name": "stderr",
     "output_type": "stream",
     "text": [
      "Round: 100%|███████████████████████████████████████████████████████████████████████| 250/250 [00:59<00:00,  4.20round/s]\n",
      "Round: 100%|██████████████████████████████████████████████████████████████████████▋| 249/250 [00:58<00:00,  4.63round/s]"
     ]
    },
    {
     "name": "stdout",
     "output_type": "stream",
     "text": [
      "Train finished Global Round: 2000\n",
      "(epoch = 8, round = 250, global round = 2000), Loss/Training: 0.13606532086512452\n",
      "(epoch = 8, round = 250, global round = 2000), Accuracy/Training: 94.4006221530941\n",
      "reporting (epoch = 8, round = 250, global round = 2000) for aggregation\n",
      "(epoch = 8, round = 250, global round = 2000), Loss/Aggregation: 0.012377124385966453\n",
      "(epoch = 8, round = 250, global round = 2000), Accuracy/Aggregation: 100.0\n",
      "Running (epoch = 8, round = 250, global round = 2000) for Eval\n",
      "(epoch = 8, round = 250, global round = 2000), Loss/Eval: 1.4998184500841083\n",
      "(epoch = 8, round = 250, global round = 2000), Accuracy/Eval: 56.65492957746479\n",
      "Current eval accuracy: {'Accuracy': 56.65492957746479}%, Best so far: {'Accuracy': 60.70422535211268}%\n"
     ]
    },
    {
     "name": "stderr",
     "output_type": "stream",
     "text": [
      "Round: 100%|██████████████████████████████████████████████████████████████████████▋| 249/250 [01:01<00:00,  4.05round/s]\n",
      "Epoch:  88%|█████████████████████████████████████████████████████████████████▋         | 7/8 [07:56<01:08, 68.12s/epoch]"
     ]
    },
    {
     "name": "stdout",
     "output_type": "stream",
     "text": [
      "Running (epoch = 1, round = 1, global round = 1) for Test\n"
     ]
    },
    {
     "name": "stderr",
     "output_type": "stream",
     "text": [
      "\n",
      " 20%|███████▊                              | 82.0/400 [1:23:43<5:20:16, 60.43s/it, min_score=-59.8, models_evaluated=27]"
     ]
    },
    {
     "name": "stdout",
     "output_type": "stream",
     "text": [
      "(epoch = 1, round = 1, global round = 1), Loss/Test: 1.499818449898815\n",
      "(epoch = 1, round = 1, global round = 1), Accuracy/Test: 56.65492957746479\n"
     ]
    },
    {
     "name": "stderr",
     "output_type": "stream",
     "text": [
      "Round: 100%|██████████████████████████████████████████████████████████████████████▋| 249/250 [00:56<00:00,  4.39round/s]"
     ]
    },
    {
     "name": "stdout",
     "output_type": "stream",
     "text": [
      "Train finished Global Round: 250\n",
      "(epoch = 1, round = 250, global round = 250), Loss/Training: 0.7813288206734165\n",
      "(epoch = 1, round = 250, global round = 250), Accuracy/Training: 51.4419329696025\n",
      "reporting (epoch = 1, round = 250, global round = 250) for aggregation\n",
      "(epoch = 1, round = 250, global round = 250), Loss/Aggregation: 0.6844670534133911\n",
      "(epoch = 1, round = 250, global round = 250), Accuracy/Aggregation: 44.642857142857146\n",
      "Running (epoch = 1, round = 250, global round = 250) for Eval\n",
      "(epoch = 1, round = 250, global round = 250), Loss/Eval: 0.7003946219086408\n",
      "(epoch = 1, round = 250, global round = 250), Accuracy/Eval: 49.894366197183096\n",
      "Current eval accuracy: {'Accuracy': 49.894366197183096}%, Best so far: {'Accuracy': 60.70422535211268}%\n"
     ]
    },
    {
     "name": "stderr",
     "output_type": "stream",
     "text": [
      "Round: 100%|███████████████████████████████████████████████████████████████████████| 250/250 [00:59<00:00,  4.24round/s]\n",
      "Round: 100%|██████████████████████████████████████████████████████████████████████▋| 249/250 [00:58<00:00,  3.39round/s]"
     ]
    },
    {
     "name": "stdout",
     "output_type": "stream",
     "text": [
      "Train finished Global Round: 500\n",
      "(epoch = 2, round = 250, global round = 500), Loss/Training: 0.716026958929878\n",
      "(epoch = 2, round = 250, global round = 500), Accuracy/Training: 52.13407562050568\n",
      "reporting (epoch = 2, round = 250, global round = 500) for aggregation\n",
      "(epoch = 2, round = 250, global round = 500), Loss/Aggregation: 0.6136746346950531\n",
      "(epoch = 2, round = 250, global round = 500), Accuracy/Aggregation: 75.0\n",
      "Running (epoch = 2, round = 250, global round = 500) for Eval\n",
      "(epoch = 2, round = 250, global round = 500), Loss/Eval: 0.794880426652069\n",
      "(epoch = 2, round = 250, global round = 500), Accuracy/Eval: 50.66901408450704\n",
      "Current eval accuracy: {'Accuracy': 50.66901408450704}%, Best so far: {'Accuracy': 60.70422535211268}%\n"
     ]
    },
    {
     "name": "stderr",
     "output_type": "stream",
     "text": [
      "Round: 100%|██████████████████████████████████████████████████████████████████████▋| 249/250 [01:01<00:00,  4.07round/s]\n",
      "Epoch:  50%|█████████████████████████████████████                                     | 1/2 [02:00<02:00, 120.18s/epoch]"
     ]
    },
    {
     "name": "stdout",
     "output_type": "stream",
     "text": [
      "Running (epoch = 1, round = 1, global round = 1) for Test\n"
     ]
    },
    {
     "name": "stderr",
     "output_type": "stream",
     "text": [
      "\n",
      " 21%|███████▉                              | 84.0/400 [1:25:47<5:19:21, 60.64s/it, min_score=-59.8, models_evaluated=27]"
     ]
    },
    {
     "name": "stdout",
     "output_type": "stream",
     "text": [
      "(epoch = 1, round = 1, global round = 1), Loss/Test: 0.7948804268014991\n",
      "(epoch = 1, round = 1, global round = 1), Accuracy/Test: 50.66901408450704\n"
     ]
    },
    {
     "name": "stderr",
     "output_type": "stream",
     "text": [
      "Round: 100%|██████████████████████████████████████████████████████████████████████▋| 249/250 [00:59<00:00,  4.27round/s]"
     ]
    },
    {
     "name": "stdout",
     "output_type": "stream",
     "text": [
      "Train finished Global Round: 250\n",
      "(epoch = 1, round = 250, global round = 250), Loss/Training: 0.6915646530908763\n",
      "(epoch = 1, round = 250, global round = 250), Accuracy/Training: 51.79326037490519\n",
      "reporting (epoch = 1, round = 250, global round = 250) for aggregation\n",
      "(epoch = 1, round = 250, global round = 250), Loss/Aggregation: 1.0323164435950192\n",
      "(epoch = 1, round = 250, global round = 250), Accuracy/Aggregation: 75.0\n",
      "Running (epoch = 1, round = 250, global round = 250) for Eval\n",
      "(epoch = 1, round = 250, global round = 250), Loss/Eval: 1.0474887250646547\n",
      "(epoch = 1, round = 250, global round = 250), Accuracy/Eval: 50.598591549295776\n",
      "Current eval accuracy: {'Accuracy': 50.598591549295776}%, Best so far: {'Accuracy': 60.70422535211268}%\n"
     ]
    },
    {
     "name": "stderr",
     "output_type": "stream",
     "text": [
      "Round: 100%|███████████████████████████████████████████████████████████████████████| 250/250 [01:02<00:00,  4.00round/s]\n",
      "Round: 100%|██████████████████████████████████████████████████████████████████████▋| 249/250 [00:57<00:00,  4.37round/s]"
     ]
    },
    {
     "name": "stdout",
     "output_type": "stream",
     "text": [
      "Train finished Global Round: 500\n",
      "(epoch = 2, round = 250, global round = 500), Loss/Training: 0.681404518053143\n",
      "(epoch = 2, round = 250, global round = 500), Accuracy/Training: 55.52892844916125\n",
      "reporting (epoch = 2, round = 250, global round = 500) for aggregation\n",
      "(epoch = 2, round = 250, global round = 500), Loss/Aggregation: 0.5962583988904953\n",
      "(epoch = 2, round = 250, global round = 500), Accuracy/Aggregation: 72.72727272727273\n",
      "Running (epoch = 2, round = 250, global round = 500) for Eval\n",
      "(epoch = 2, round = 250, global round = 500), Loss/Eval: 0.6873572691766985\n",
      "(epoch = 2, round = 250, global round = 500), Accuracy/Eval: 52.95774647887324\n",
      "Current eval accuracy: {'Accuracy': 52.95774647887324}%, Best so far: {'Accuracy': 60.70422535211268}%\n"
     ]
    },
    {
     "name": "stderr",
     "output_type": "stream",
     "text": [
      "Round: 100%|██████████████████████████████████████████████████████████████████████▋| 249/250 [01:00<00:00,  4.11round/s]\n",
      "Epoch:  50%|█████████████████████████████████████                                     | 1/2 [02:03<02:03, 123.17s/epoch]"
     ]
    },
    {
     "name": "stdout",
     "output_type": "stream",
     "text": [
      "Running (epoch = 1, round = 1, global round = 1) for Test\n"
     ]
    },
    {
     "name": "stderr",
     "output_type": "stream",
     "text": [
      "\n",
      " 22%|████████▏                             | 86.0/400 [1:27:53<5:19:23, 61.03s/it, min_score=-59.8, models_evaluated=27]"
     ]
    },
    {
     "name": "stdout",
     "output_type": "stream",
     "text": [
      "(epoch = 1, round = 1, global round = 1), Loss/Test: 0.6873572692962425\n",
      "(epoch = 1, round = 1, global round = 1), Accuracy/Test: 52.95774647887324\n"
     ]
    },
    {
     "name": "stderr",
     "output_type": "stream",
     "text": [
      "Round: 100%|██████████████████████████████████████████████████████████████████████▋| 249/250 [00:58<00:00,  3.75round/s]"
     ]
    },
    {
     "name": "stdout",
     "output_type": "stream",
     "text": [
      "Train finished Global Round: 250\n",
      "(epoch = 1, round = 250, global round = 250), Loss/Training: 0.7068569097765268\n",
      "(epoch = 1, round = 250, global round = 250), Accuracy/Training: 52.06584180291648\n",
      "reporting (epoch = 1, round = 250, global round = 250) for aggregation\n",
      "(epoch = 1, round = 250, global round = 250), Loss/Aggregation: 0.6899053573608398\n",
      "(epoch = 1, round = 250, global round = 250), Accuracy/Aggregation: 54.794520547945204\n",
      "Running (epoch = 1, round = 250, global round = 250) for Eval\n",
      "(epoch = 1, round = 250, global round = 250), Loss/Eval: 0.6940945987475717\n",
      "(epoch = 1, round = 250, global round = 250), Accuracy/Eval: 49.894366197183096\n",
      "Current eval accuracy: {'Accuracy': 49.894366197183096}%, Best so far: {'Accuracy': 60.70422535211268}%\n"
     ]
    },
    {
     "name": "stderr",
     "output_type": "stream",
     "text": [
      "Round: 100%|███████████████████████████████████████████████████████████████████████| 250/250 [01:01<00:00,  4.08round/s]\n",
      "Round: 100%|██████████████████████████████████████████████████████████████████████▋| 249/250 [00:54<00:00,  4.59round/s]"
     ]
    },
    {
     "name": "stdout",
     "output_type": "stream",
     "text": [
      "Train finished Global Round: 500\n",
      "(epoch = 2, round = 250, global round = 500), Loss/Training: 0.6990100669149072\n",
      "(epoch = 2, round = 250, global round = 500), Accuracy/Training: 52.53747323340471\n",
      "reporting (epoch = 2, round = 250, global round = 500) for aggregation\n",
      "(epoch = 2, round = 250, global round = 500), Loss/Aggregation: 0.7100353999571367\n",
      "(epoch = 2, round = 250, global round = 500), Accuracy/Aggregation: 36.61971830985915\n",
      "Running (epoch = 2, round = 250, global round = 500) for Eval\n",
      "(epoch = 2, round = 250, global round = 500), Loss/Eval: 0.7135622407411697\n",
      "(epoch = 2, round = 250, global round = 500), Accuracy/Eval: 50.105633802816904\n",
      "Current eval accuracy: {'Accuracy': 50.105633802816904}%, Best so far: {'Accuracy': 60.70422535211268}%\n"
     ]
    },
    {
     "name": "stderr",
     "output_type": "stream",
     "text": [
      "Round: 100%|██████████████████████████████████████████████████████████████████████▋| 249/250 [00:57<00:00,  4.32round/s]\n",
      "Epoch:  50%|█████████████████████████████████████                                     | 1/2 [01:58<01:58, 118.91s/epoch]"
     ]
    },
    {
     "name": "stdout",
     "output_type": "stream",
     "text": [
      "Running (epoch = 1, round = 1, global round = 1) for Test\n"
     ]
    },
    {
     "name": "stderr",
     "output_type": "stream",
     "text": [
      "\n",
      " 22%|████████▎                             | 88.0/400 [1:29:56<5:17:37, 61.08s/it, min_score=-59.8, models_evaluated=27]"
     ]
    },
    {
     "name": "stdout",
     "output_type": "stream",
     "text": [
      "(epoch = 1, round = 1, global round = 1), Loss/Test: 0.7135622406694433\n",
      "(epoch = 1, round = 1, global round = 1), Accuracy/Test: 50.105633802816904\n"
     ]
    },
    {
     "name": "stderr",
     "output_type": "stream",
     "text": [
      "Round: 100%|██████████████████████████████████████████████████████████████████████▋| 249/250 [00:55<00:00,  4.25round/s]"
     ]
    },
    {
     "name": "stdout",
     "output_type": "stream",
     "text": [
      "Train finished Global Round: 250\n",
      "(epoch = 1, round = 250, global round = 250), Loss/Training: 0.704080865500612\n",
      "(epoch = 1, round = 250, global round = 250), Accuracy/Training: 51.24327956989247\n",
      "reporting (epoch = 1, round = 250, global round = 250) for aggregation\n",
      "(epoch = 1, round = 250, global round = 250), Loss/Aggregation: 0.6591561555862426\n",
      "(epoch = 1, round = 250, global round = 250), Accuracy/Aggregation: 70.0\n",
      "Running (epoch = 1, round = 250, global round = 250) for Eval\n",
      "(epoch = 1, round = 250, global round = 250), Loss/Eval: 0.6939822138670788\n",
      "(epoch = 1, round = 250, global round = 250), Accuracy/Eval: 50.985915492957744\n",
      "Current eval accuracy: {'Accuracy': 50.985915492957744}%, Best so far: {'Accuracy': 60.70422535211268}%\n"
     ]
    },
    {
     "name": "stderr",
     "output_type": "stream",
     "text": [
      "Round: 100%|███████████████████████████████████████████████████████████████████████| 250/250 [00:58<00:00,  4.30round/s]\n",
      "Round: 100%|██████████████████████████████████████████████████████████████████████▋| 249/250 [00:54<00:00,  4.64round/s]"
     ]
    },
    {
     "name": "stdout",
     "output_type": "stream",
     "text": [
      "Train finished Global Round: 500\n",
      "(epoch = 2, round = 250, global round = 500), Loss/Training: 0.7039126714147418\n",
      "(epoch = 2, round = 250, global round = 500), Accuracy/Training: 51.83152234793324\n",
      "reporting (epoch = 2, round = 250, global round = 500) for aggregation\n",
      "(epoch = 2, round = 250, global round = 500), Loss/Aggregation: 0.7071928799152374\n",
      "(epoch = 2, round = 250, global round = 500), Accuracy/Aggregation: 43.47826086956522\n",
      "Running (epoch = 2, round = 250, global round = 500) for Eval\n",
      "(epoch = 2, round = 250, global round = 500), Loss/Eval: 0.6967421822695191\n",
      "(epoch = 2, round = 250, global round = 500), Accuracy/Eval: 49.894366197183096\n",
      "Current eval accuracy: {'Accuracy': 49.894366197183096}%, Best so far: {'Accuracy': 60.70422535211268}%\n"
     ]
    },
    {
     "name": "stderr",
     "output_type": "stream",
     "text": [
      "Round: 100%|██████████████████████████████████████████████████████████████████████▋| 249/250 [00:57<00:00,  4.33round/s]\n",
      "Epoch:  50%|█████████████████████████████████████                                     | 1/2 [01:55<01:55, 115.65s/epoch]"
     ]
    },
    {
     "name": "stdout",
     "output_type": "stream",
     "text": [
      "Running (epoch = 1, round = 1, global round = 1) for Test\n"
     ]
    },
    {
     "name": "stderr",
     "output_type": "stream",
     "text": [
      "\n",
      " 22%|████████▌                             | 90.0/400 [1:31:55<5:13:45, 60.73s/it, min_score=-59.8, models_evaluated=27]"
     ]
    },
    {
     "name": "stdout",
     "output_type": "stream",
     "text": [
      "(epoch = 1, round = 1, global round = 1), Loss/Test: 0.6967421821977927\n",
      "(epoch = 1, round = 1, global round = 1), Accuracy/Test: 49.894366197183096\n"
     ]
    },
    {
     "name": "stderr",
     "output_type": "stream",
     "text": [
      "Round: 100%|██████████████████████████████████████████████████████████████████████▋| 249/250 [00:55<00:00,  4.41round/s]"
     ]
    },
    {
     "name": "stdout",
     "output_type": "stream",
     "text": [
      "Train finished Global Round: 250\n",
      "(epoch = 1, round = 250, global round = 250), Loss/Training: 0.8372181517781957\n",
      "(epoch = 1, round = 250, global round = 250), Accuracy/Training: 51.2088614335925\n",
      "reporting (epoch = 1, round = 250, global round = 250) for aggregation\n",
      "(epoch = 1, round = 250, global round = 250), Loss/Aggregation: 0.6614322483539581\n",
      "(epoch = 1, round = 250, global round = 250), Accuracy/Aggregation: 76.0\n",
      "Running (epoch = 1, round = 250, global round = 250) for Eval\n",
      "(epoch = 1, round = 250, global round = 250), Loss/Eval: 0.6958266682190632\n",
      "(epoch = 1, round = 250, global round = 250), Accuracy/Eval: 49.894366197183096\n",
      "Current eval accuracy: {'Accuracy': 49.894366197183096}%, Best so far: {'Accuracy': 60.70422535211268}%\n"
     ]
    },
    {
     "name": "stderr",
     "output_type": "stream",
     "text": [
      "Round: 100%|███████████████████████████████████████████████████████████████████████| 250/250 [00:58<00:00,  4.24round/s]\n",
      "Round: 100%|██████████████████████████████████████████████████████████████████████▋| 249/250 [00:57<00:00,  4.56round/s]"
     ]
    },
    {
     "name": "stdout",
     "output_type": "stream",
     "text": [
      "Train finished Global Round: 500\n",
      "(epoch = 2, round = 250, global round = 500), Loss/Training: 0.7202129024168428\n",
      "(epoch = 2, round = 250, global round = 500), Accuracy/Training: 52.08287656215742\n",
      "reporting (epoch = 2, round = 250, global round = 500) for aggregation\n",
      "(epoch = 2, round = 250, global round = 500), Loss/Aggregation: 0.8134003937244415\n",
      "(epoch = 2, round = 250, global round = 500), Accuracy/Aggregation: 51.851851851851855\n",
      "Running (epoch = 2, round = 250, global round = 500) for Eval\n",
      "(epoch = 2, round = 250, global round = 500), Loss/Eval: 0.7162269510708322\n",
      "(epoch = 2, round = 250, global round = 500), Accuracy/Eval: 49.894366197183096\n",
      "Current eval accuracy: {'Accuracy': 49.894366197183096}%, Best so far: {'Accuracy': 60.70422535211268}%\n"
     ]
    },
    {
     "name": "stderr",
     "output_type": "stream",
     "text": [
      "Round: 100%|██████████████████████████████████████████████████████████████████████▋| 249/250 [01:00<00:00,  4.09round/s]\n",
      "Epoch:  50%|█████████████████████████████████████                                     | 1/2 [01:59<01:59, 119.89s/epoch]"
     ]
    },
    {
     "name": "stdout",
     "output_type": "stream",
     "text": [
      "Running (epoch = 1, round = 1, global round = 1) for Test\n"
     ]
    },
    {
     "name": "stderr",
     "output_type": "stream",
     "text": [
      "\n",
      " 23%|████████▋                             | 92.0/400 [1:33:58<5:12:38, 60.90s/it, min_score=-59.8, models_evaluated=27]"
     ]
    },
    {
     "name": "stdout",
     "output_type": "stream",
     "text": [
      "(epoch = 1, round = 1, global round = 1), Loss/Test: 0.7162269511306042\n",
      "(epoch = 1, round = 1, global round = 1), Accuracy/Test: 49.894366197183096\n"
     ]
    },
    {
     "name": "stderr",
     "output_type": "stream",
     "text": [
      "Round: 100%|██████████████████████████████████████████████████████████████████████▋| 249/250 [00:54<00:00,  4.68round/s]"
     ]
    },
    {
     "name": "stdout",
     "output_type": "stream",
     "text": [
      "Train finished Global Round: 250\n",
      "(epoch = 1, round = 250, global round = 250), Loss/Training: 0.7145338274321451\n",
      "(epoch = 1, round = 250, global round = 250), Accuracy/Training: 51.98466396030672\n",
      "reporting (epoch = 1, round = 250, global round = 250) for aggregation\n",
      "(epoch = 1, round = 250, global round = 250), Loss/Aggregation: 0.5915213823318481\n",
      "(epoch = 1, round = 250, global round = 250), Accuracy/Aggregation: 72.22222222222223\n",
      "Running (epoch = 1, round = 250, global round = 250) for Eval\n",
      "(epoch = 1, round = 250, global round = 250), Loss/Eval: 0.7101233408865181\n",
      "(epoch = 1, round = 250, global round = 250), Accuracy/Eval: 50.105633802816904\n",
      "Current eval accuracy: {'Accuracy': 50.105633802816904}%, Best so far: {'Accuracy': 60.70422535211268}%\n"
     ]
    },
    {
     "name": "stderr",
     "output_type": "stream",
     "text": [
      "Round: 100%|███████████████████████████████████████████████████████████████████████| 250/250 [00:57<00:00,  4.36round/s]\n",
      "Round: 100%|██████████████████████████████████████████████████████████████████████▋| 249/250 [00:57<00:00,  5.09round/s]"
     ]
    },
    {
     "name": "stdout",
     "output_type": "stream",
     "text": [
      "Train finished Global Round: 500\n",
      "(epoch = 2, round = 250, global round = 500), Loss/Training: 0.7067790980226718\n",
      "(epoch = 2, round = 250, global round = 500), Accuracy/Training: 51.96801329317686\n",
      "reporting (epoch = 2, round = 250, global round = 500) for aggregation\n",
      "(epoch = 2, round = 250, global round = 500), Loss/Aggregation: 0.7073119103908538\n",
      "(epoch = 2, round = 250, global round = 500), Accuracy/Aggregation: 59.42028985507246\n",
      "Running (epoch = 2, round = 250, global round = 500) for Eval\n",
      "(epoch = 2, round = 250, global round = 500), Loss/Eval: 0.6987936600737911\n",
      "(epoch = 2, round = 250, global round = 500), Accuracy/Eval: 50.105633802816904\n",
      "Current eval accuracy: {'Accuracy': 50.105633802816904}%, Best so far: {'Accuracy': 60.70422535211268}%\n"
     ]
    },
    {
     "name": "stderr",
     "output_type": "stream",
     "text": [
      "Round: 100%|██████████████████████████████████████████████████████████████████████▋| 249/250 [01:00<00:00,  4.14round/s]\n",
      "Epoch:  50%|█████████████████████████████████████                                     | 1/2 [01:57<01:57, 117.43s/epoch]"
     ]
    },
    {
     "name": "stdout",
     "output_type": "stream",
     "text": [
      "Running (epoch = 1, round = 1, global round = 1) for Test\n"
     ]
    },
    {
     "name": "stderr",
     "output_type": "stream",
     "text": [
      "\n",
      " 24%|████████▉                             | 94.0/400 [1:35:58<5:09:52, 60.76s/it, min_score=-59.8, models_evaluated=27]"
     ]
    },
    {
     "name": "stdout",
     "output_type": "stream",
     "text": [
      "(epoch = 1, round = 1, global round = 1), Loss/Test: 0.6987936600737911\n",
      "(epoch = 1, round = 1, global round = 1), Accuracy/Test: 50.105633802816904\n"
     ]
    },
    {
     "name": "stderr",
     "output_type": "stream",
     "text": [
      "Round: 100%|██████████████████████████████████████████████████████████████████████▋| 249/250 [00:54<00:00,  4.66round/s]"
     ]
    },
    {
     "name": "stdout",
     "output_type": "stream",
     "text": [
      "Train finished Global Round: 250\n",
      "(epoch = 1, round = 250, global round = 250), Loss/Training: 0.6993814984543131\n",
      "(epoch = 1, round = 250, global round = 250), Accuracy/Training: 52.359550561797754\n",
      "reporting (epoch = 1, round = 250, global round = 250) for aggregation\n",
      "(epoch = 1, round = 250, global round = 250), Loss/Aggregation: 0.6431471049785614\n",
      "(epoch = 1, round = 250, global round = 250), Accuracy/Aggregation: 57.142857142857146\n",
      "Running (epoch = 1, round = 250, global round = 250) for Eval\n",
      "(epoch = 1, round = 250, global round = 250), Loss/Eval: 0.6989185188101613\n",
      "(epoch = 1, round = 250, global round = 250), Accuracy/Eval: 50.84507042253521\n",
      "Current eval accuracy: {'Accuracy': 50.84507042253521}%, Best so far: {'Accuracy': 60.70422535211268}%\n"
     ]
    },
    {
     "name": "stderr",
     "output_type": "stream",
     "text": [
      "Round: 100%|███████████████████████████████████████████████████████████████████████| 250/250 [00:57<00:00,  4.33round/s]\n",
      "Round: 100%|██████████████████████████████████████████████████████████████████████▋| 249/250 [00:54<00:00,  4.28round/s]"
     ]
    },
    {
     "name": "stdout",
     "output_type": "stream",
     "text": [
      "Train finished Global Round: 500\n",
      "(epoch = 2, round = 250, global round = 500), Loss/Training: 0.6955114533886083\n",
      "(epoch = 2, round = 250, global round = 500), Accuracy/Training: 52.339279703803435\n",
      "reporting (epoch = 2, round = 250, global round = 500) for aggregation\n",
      "(epoch = 2, round = 250, global round = 500), Loss/Aggregation: 0.6928112149238587\n",
      "(epoch = 2, round = 250, global round = 500), Accuracy/Aggregation: 65.0\n",
      "Running (epoch = 2, round = 250, global round = 500) for Eval\n",
      "(epoch = 2, round = 250, global round = 500), Loss/Eval: 0.6947014760502457\n",
      "(epoch = 2, round = 250, global round = 500), Accuracy/Eval: 50.03521126760563\n",
      "Current eval accuracy: {'Accuracy': 50.03521126760563}%, Best so far: {'Accuracy': 60.70422535211268}%\n"
     ]
    },
    {
     "name": "stderr",
     "output_type": "stream",
     "text": [
      "Round: 100%|██████████████████████████████████████████████████████████████████████▋| 249/250 [00:57<00:00,  4.32round/s]\n",
      "Epoch:  50%|█████████████████████████████████████                                     | 1/2 [01:55<01:55, 115.32s/epoch]"
     ]
    },
    {
     "name": "stdout",
     "output_type": "stream",
     "text": [
      "Running (epoch = 1, round = 1, global round = 1) for Test\n"
     ]
    },
    {
     "name": "stderr",
     "output_type": "stream",
     "text": [
      "\n",
      " 24%|█████████                             | 96.0/400 [1:37:57<5:05:47, 60.35s/it, min_score=-59.8, models_evaluated=27]"
     ]
    },
    {
     "name": "stdout",
     "output_type": "stream",
     "text": [
      "(epoch = 1, round = 1, global round = 1), Loss/Test: 0.6947014760980633\n",
      "(epoch = 1, round = 1, global round = 1), Accuracy/Test: 50.03521126760563\n"
     ]
    },
    {
     "name": "stderr",
     "output_type": "stream",
     "text": [
      "Round: 100%|██████████████████████████████████████████████████████████████████████▋| 249/250 [00:55<00:00,  4.54round/s]"
     ]
    },
    {
     "name": "stdout",
     "output_type": "stream",
     "text": [
      "Train finished Global Round: 250\n",
      "(epoch = 1, round = 250, global round = 250), Loss/Training: 0.9117682955325312\n",
      "(epoch = 1, round = 250, global round = 250), Accuracy/Training: 51.668197122742576\n",
      "reporting (epoch = 1, round = 250, global round = 250) for aggregation\n",
      "(epoch = 1, round = 250, global round = 250), Loss/Aggregation: 0.6429823935031891\n",
      "(epoch = 1, round = 250, global round = 250), Accuracy/Aggregation: 69.23076923076923\n",
      "Running (epoch = 1, round = 250, global round = 250) for Eval\n",
      "(epoch = 1, round = 250, global round = 250), Loss/Eval: 0.7121732377630613\n",
      "(epoch = 1, round = 250, global round = 250), Accuracy/Eval: 48.098591549295776\n",
      "Current eval accuracy: {'Accuracy': 48.098591549295776}%, Best so far: {'Accuracy': 60.70422535211268}%\n"
     ]
    },
    {
     "name": "stderr",
     "output_type": "stream",
     "text": [
      "Round: 100%|███████████████████████████████████████████████████████████████████████| 250/250 [00:58<00:00,  4.30round/s]\n",
      "Round: 100%|██████████████████████████████████████████████████████████████████████▋| 249/250 [00:56<00:00,  4.39round/s]"
     ]
    },
    {
     "name": "stdout",
     "output_type": "stream",
     "text": [
      "Train finished Global Round: 500\n",
      "(epoch = 2, round = 250, global round = 500), Loss/Training: 0.7278208184626557\n",
      "(epoch = 2, round = 250, global round = 500), Accuracy/Training: 52.24622030237581\n",
      "reporting (epoch = 2, round = 250, global round = 500) for aggregation\n",
      "(epoch = 2, round = 250, global round = 500), Loss/Aggregation: 0.669107586145401\n",
      "(epoch = 2, round = 250, global round = 500), Accuracy/Aggregation: 53.84615384615385\n",
      "Running (epoch = 2, round = 250, global round = 500) for Eval\n",
      "(epoch = 2, round = 250, global round = 500), Loss/Eval: 0.7052832226580135\n",
      "(epoch = 2, round = 250, global round = 500), Accuracy/Eval: 50.2112676056338\n",
      "Current eval accuracy: {'Accuracy': 50.2112676056338}%, Best so far: {'Accuracy': 60.70422535211268}%\n"
     ]
    },
    {
     "name": "stderr",
     "output_type": "stream",
     "text": [
      "Round: 100%|██████████████████████████████████████████████████████████████████████▋| 249/250 [00:59<00:00,  4.19round/s]\n",
      "Epoch:  50%|█████████████████████████████████████                                     | 1/2 [01:57<01:57, 117.61s/epoch]"
     ]
    },
    {
     "name": "stdout",
     "output_type": "stream",
     "text": [
      "Running (epoch = 1, round = 1, global round = 1) for Test\n"
     ]
    },
    {
     "name": "stderr",
     "output_type": "stream",
     "text": [
      "\n",
      " 24%|█████████▎                            | 98.0/400 [1:39:58<5:03:45, 60.35s/it, min_score=-59.8, models_evaluated=27]"
     ]
    },
    {
     "name": "stdout",
     "output_type": "stream",
     "text": [
      "(epoch = 1, round = 1, global round = 1), Loss/Test: 0.7052832224786975\n",
      "(epoch = 1, round = 1, global round = 1), Accuracy/Test: 50.2112676056338\n"
     ]
    },
    {
     "name": "stderr",
     "output_type": "stream",
     "text": [
      "Round: 100%|██████████████████████████████████████████████████████████████████████▋| 249/250 [00:54<00:00,  4.65round/s]"
     ]
    },
    {
     "name": "stdout",
     "output_type": "stream",
     "text": [
      "Train finished Global Round: 250\n",
      "(epoch = 1, round = 250, global round = 250), Loss/Training: 0.8372465608574133\n",
      "(epoch = 1, round = 250, global round = 250), Accuracy/Training: 50.950651570177314\n",
      "reporting (epoch = 1, round = 250, global round = 250) for aggregation\n",
      "(epoch = 1, round = 250, global round = 250), Loss/Aggregation: 0.7280095398426056\n",
      "(epoch = 1, round = 250, global round = 250), Accuracy/Aggregation: 62.5\n",
      "Running (epoch = 1, round = 250, global round = 250) for Eval\n",
      "(epoch = 1, round = 250, global round = 250), Loss/Eval: 0.7136959078629429\n",
      "(epoch = 1, round = 250, global round = 250), Accuracy/Eval: 49.894366197183096\n",
      "Current eval accuracy: {'Accuracy': 49.894366197183096}%, Best so far: {'Accuracy': 60.70422535211268}%\n"
     ]
    },
    {
     "name": "stderr",
     "output_type": "stream",
     "text": [
      "Round: 100%|███████████████████████████████████████████████████████████████████████| 250/250 [00:57<00:00,  4.35round/s]\n",
      "Round: 100%|██████████████████████████████████████████████████████████████████████▋| 249/250 [00:54<00:00,  4.61round/s]"
     ]
    },
    {
     "name": "stdout",
     "output_type": "stream",
     "text": [
      "Train finished Global Round: 500\n",
      "(epoch = 2, round = 250, global round = 500), Loss/Training: 0.9566773102655908\n",
      "(epoch = 2, round = 250, global round = 500), Accuracy/Training: 49.61568452712488\n",
      "reporting (epoch = 2, round = 250, global round = 500) for aggregation\n",
      "(epoch = 2, round = 250, global round = 500), Loss/Aggregation: 0.9446225844323635\n",
      "(epoch = 2, round = 250, global round = 500), Accuracy/Aggregation: 60.526315789473685\n",
      "Running (epoch = 2, round = 250, global round = 500) for Eval\n",
      "(epoch = 2, round = 250, global round = 500), Loss/Eval: 1.2152333121737064\n",
      "(epoch = 2, round = 250, global round = 500), Accuracy/Eval: 49.61267605633803\n",
      "Current eval accuracy: {'Accuracy': 49.61267605633803}%, Best so far: {'Accuracy': 60.70422535211268}%\n"
     ]
    },
    {
     "name": "stderr",
     "output_type": "stream",
     "text": [
      "Round: 100%|██████████████████████████████████████████████████████████████████████▋| 249/250 [00:57<00:00,  4.36round/s]\n",
      "Epoch:  50%|█████████████████████████████████████                                     | 1/2 [01:54<01:54, 114.61s/epoch]"
     ]
    },
    {
     "name": "stdout",
     "output_type": "stream",
     "text": [
      "Running (epoch = 1, round = 1, global round = 1) for Test\n"
     ]
    },
    {
     "name": "stderr",
     "output_type": "stream",
     "text": [
      "\n",
      " 25%|█████████▎                           | 100.0/400 [1:41:56<5:00:07, 60.03s/it, min_score=-59.8, models_evaluated=27]"
     ]
    },
    {
     "name": "stdout",
     "output_type": "stream",
     "text": [
      "(epoch = 1, round = 1, global round = 1), Loss/Test: 1.2152333121796837\n",
      "(epoch = 1, round = 1, global round = 1), Accuracy/Test: 49.61267605633803\n"
     ]
    },
    {
     "name": "stderr",
     "output_type": "stream",
     "text": [
      "Round: 100%|██████████████████████████████████████████████████████████████████████▋| 249/250 [00:59<00:00,  4.41round/s]"
     ]
    },
    {
     "name": "stdout",
     "output_type": "stream",
     "text": [
      "Train finished Global Round: 250\n",
      "(epoch = 1, round = 250, global round = 250), Loss/Training: 0.7351879068912008\n",
      "(epoch = 1, round = 250, global round = 250), Accuracy/Training: 50.154303348954166\n",
      "reporting (epoch = 1, round = 250, global round = 250) for aggregation\n",
      "(epoch = 1, round = 250, global round = 250), Loss/Aggregation: 0.7041684925556183\n",
      "(epoch = 1, round = 250, global round = 250), Accuracy/Aggregation: 50.0\n",
      "Running (epoch = 1, round = 250, global round = 250) for Eval\n",
      "(epoch = 1, round = 250, global round = 250), Loss/Eval: 0.7031916661335195\n",
      "(epoch = 1, round = 250, global round = 250), Accuracy/Eval: 50.105633802816904\n",
      "Current eval accuracy: {'Accuracy': 50.105633802816904}%, Best so far: {'Accuracy': 60.70422535211268}%\n"
     ]
    },
    {
     "name": "stderr",
     "output_type": "stream",
     "text": [
      "Round: 100%|███████████████████████████████████████████████████████████████████████| 250/250 [01:02<00:00,  4.02round/s]\n",
      "Round: 100%|██████████████████████████████████████████████████████████████████████▋| 249/250 [00:54<00:00,  4.62round/s]"
     ]
    },
    {
     "name": "stdout",
     "output_type": "stream",
     "text": [
      "Train finished Global Round: 500\n",
      "(epoch = 2, round = 250, global round = 500), Loss/Training: 0.7221371506855577\n",
      "(epoch = 2, round = 250, global round = 500), Accuracy/Training: 49.88200921451848\n",
      "reporting (epoch = 2, round = 250, global round = 500) for aggregation\n",
      "(epoch = 2, round = 250, global round = 500), Loss/Aggregation: 0.71394562125206\n",
      "(epoch = 2, round = 250, global round = 500), Accuracy/Aggregation: 52.17391304347826\n",
      "Running (epoch = 2, round = 250, global round = 500) for Eval\n",
      "(epoch = 2, round = 250, global round = 500), Loss/Eval: 0.6938842239267033\n",
      "(epoch = 2, round = 250, global round = 500), Accuracy/Eval: 50.17605633802817\n",
      "Current eval accuracy: {'Accuracy': 50.17605633802817}%, Best so far: {'Accuracy': 60.70422535211268}%\n"
     ]
    },
    {
     "name": "stderr",
     "output_type": "stream",
     "text": [
      "Round: 100%|██████████████████████████████████████████████████████████████████████▋| 249/250 [00:57<00:00,  4.34round/s]\n",
      "Epoch:  50%|█████████████████████████████████████                                     | 1/2 [01:59<01:59, 119.58s/epoch]"
     ]
    },
    {
     "name": "stdout",
     "output_type": "stream",
     "text": [
      "Running (epoch = 1, round = 1, global round = 1) for Test\n"
     ]
    },
    {
     "name": "stderr",
     "output_type": "stream",
     "text": [
      "\n",
      " 26%|█████████▍                           | 102.0/400 [1:43:59<4:59:59, 60.40s/it, min_score=-59.8, models_evaluated=27]"
     ]
    },
    {
     "name": "stdout",
     "output_type": "stream",
     "text": [
      "(epoch = 1, round = 1, global round = 1), Loss/Test: 0.693884223974521\n",
      "(epoch = 1, round = 1, global round = 1), Accuracy/Test: 50.17605633802817\n"
     ]
    },
    {
     "name": "stderr",
     "output_type": "stream",
     "text": [
      "Round: 100%|██████████████████████████████████████████████████████████████████████▋| 249/250 [00:52<00:00,  4.35round/s]"
     ]
    },
    {
     "name": "stdout",
     "output_type": "stream",
     "text": [
      "Train finished Global Round: 250\n",
      "(epoch = 1, round = 250, global round = 250), Loss/Training: 0.6921545957821906\n",
      "(epoch = 1, round = 250, global round = 250), Accuracy/Training: 52.74833351546279\n",
      "reporting (epoch = 1, round = 250, global round = 250) for aggregation\n",
      "(epoch = 1, round = 250, global round = 250), Loss/Aggregation: 0.692748099565506\n",
      "(epoch = 1, round = 250, global round = 250), Accuracy/Aggregation: 54.054054054054056\n",
      "Running (epoch = 1, round = 250, global round = 250) for Eval\n",
      "(epoch = 1, round = 250, global round = 250), Loss/Eval: 0.7089608790875198\n",
      "(epoch = 1, round = 250, global round = 250), Accuracy/Eval: 52.7112676056338\n",
      "Current eval accuracy: {'Accuracy': 52.7112676056338}%, Best so far: {'Accuracy': 60.70422535211268}%\n"
     ]
    },
    {
     "name": "stderr",
     "output_type": "stream",
     "text": [
      "Round: 100%|███████████████████████████████████████████████████████████████████████| 250/250 [00:55<00:00,  4.48round/s]\n",
      "Round: 100%|██████████████████████████████████████████████████████████████████████▋| 249/250 [00:58<00:00,  4.41round/s]"
     ]
    },
    {
     "name": "stdout",
     "output_type": "stream",
     "text": [
      "Train finished Global Round: 500\n",
      "(epoch = 2, round = 250, global round = 500), Loss/Training: 0.693318393581663\n",
      "(epoch = 2, round = 250, global round = 500), Accuracy/Training: 54.62301587301587\n",
      "reporting (epoch = 2, round = 250, global round = 500) for aggregation\n",
      "(epoch = 2, round = 250, global round = 500), Loss/Aggregation: 0.6167922139167785\n",
      "(epoch = 2, round = 250, global round = 500), Accuracy/Aggregation: 63.1578947368421\n",
      "Running (epoch = 2, round = 250, global round = 500) for Eval\n",
      "(epoch = 2, round = 250, global round = 500), Loss/Eval: 0.6897629980360989\n",
      "(epoch = 2, round = 250, global round = 500), Accuracy/Eval: 54.08450704225352\n",
      "Current eval accuracy: {'Accuracy': 54.08450704225352}%, Best so far: {'Accuracy': 60.70422535211268}%\n"
     ]
    },
    {
     "name": "stderr",
     "output_type": "stream",
     "text": [
      "Round: 100%|██████████████████████████████████████████████████████████████████████▋| 249/250 [01:01<00:00,  4.08round/s]\n",
      "Epoch:  50%|█████████████████████████████████████                                     | 1/2 [01:56<01:56, 116.87s/epoch]"
     ]
    },
    {
     "name": "stdout",
     "output_type": "stream",
     "text": [
      "Running (epoch = 1, round = 1, global round = 1) for Test\n"
     ]
    },
    {
     "name": "stderr",
     "output_type": "stream",
     "text": [
      "\n",
      " 26%|█████████▌                           | 104.0/400 [1:45:59<4:57:46, 60.36s/it, min_score=-59.8, models_evaluated=27]"
     ]
    },
    {
     "name": "stdout",
     "output_type": "stream",
     "text": [
      "(epoch = 1, round = 1, global round = 1), Loss/Test: 0.6897629980241444\n",
      "(epoch = 1, round = 1, global round = 1), Accuracy/Test: 54.08450704225352\n"
     ]
    },
    {
     "name": "stderr",
     "output_type": "stream",
     "text": [
      "Round: 100%|██████████████████████████████████████████████████████████████████████▋| 249/250 [00:54<00:00,  4.58round/s]"
     ]
    },
    {
     "name": "stdout",
     "output_type": "stream",
     "text": [
      "Train finished Global Round: 250\n",
      "(epoch = 1, round = 250, global round = 250), Loss/Training: 0.6957382856143846\n",
      "(epoch = 1, round = 250, global round = 250), Accuracy/Training: 52.39764759104275\n",
      "reporting (epoch = 1, round = 250, global round = 250) for aggregation\n",
      "(epoch = 1, round = 250, global round = 250), Loss/Aggregation: 0.6937393426895142\n",
      "(epoch = 1, round = 250, global round = 250), Accuracy/Aggregation: 59.09090909090909\n",
      "Running (epoch = 1, round = 250, global round = 250) for Eval\n",
      "(epoch = 1, round = 250, global round = 250), Loss/Eval: 0.6937653381471599\n",
      "(epoch = 1, round = 250, global round = 250), Accuracy/Eval: 49.894366197183096\n",
      "Current eval accuracy: {'Accuracy': 49.894366197183096}%, Best so far: {'Accuracy': 60.70422535211268}%\n"
     ]
    },
    {
     "name": "stderr",
     "output_type": "stream",
     "text": [
      "Round: 100%|███████████████████████████████████████████████████████████████████████| 250/250 [00:57<00:00,  4.32round/s]\n",
      "Round: 100%|██████████████████████████████████████████████████████████████████████▋| 249/250 [00:58<00:00,  4.42round/s]"
     ]
    },
    {
     "name": "stdout",
     "output_type": "stream",
     "text": [
      "Train finished Global Round: 500\n",
      "(epoch = 2, round = 250, global round = 500), Loss/Training: 0.6941954738588888\n",
      "(epoch = 2, round = 250, global round = 500), Accuracy/Training: 50.39815590947192\n",
      "reporting (epoch = 2, round = 250, global round = 500) for aggregation\n",
      "(epoch = 2, round = 250, global round = 500), Loss/Aggregation: 0.6914271414279938\n",
      "(epoch = 2, round = 250, global round = 500), Accuracy/Aggregation: 61.76470588235294\n",
      "Running (epoch = 2, round = 250, global round = 500) for Eval\n",
      "(epoch = 2, round = 250, global round = 500), Loss/Eval: 0.6939402478218462\n",
      "(epoch = 2, round = 250, global round = 500), Accuracy/Eval: 49.894366197183096\n",
      "Current eval accuracy: {'Accuracy': 49.894366197183096}%, Best so far: {'Accuracy': 60.70422535211268}%\n"
     ]
    },
    {
     "name": "stderr",
     "output_type": "stream",
     "text": [
      "Round: 100%|██████████████████████████████████████████████████████████████████████▋| 249/250 [01:01<00:00,  4.08round/s]\n",
      "Epoch:  50%|█████████████████████████████████████                                     | 1/2 [01:58<01:58, 118.99s/epoch]"
     ]
    },
    {
     "name": "stdout",
     "output_type": "stream",
     "text": [
      "Running (epoch = 1, round = 1, global round = 1) for Test\n"
     ]
    },
    {
     "name": "stderr",
     "output_type": "stream",
     "text": [
      "\n",
      " 26%|█████████▊                           | 106.0/400 [1:48:01<4:56:46, 60.57s/it, min_score=-59.8, models_evaluated=27]"
     ]
    },
    {
     "name": "stdout",
     "output_type": "stream",
     "text": [
      "(epoch = 1, round = 1, global round = 1), Loss/Test: 0.6939402477501198\n",
      "(epoch = 1, round = 1, global round = 1), Accuracy/Test: 49.894366197183096\n"
     ]
    },
    {
     "name": "stderr",
     "output_type": "stream",
     "text": [
      "Round: 100%|██████████████████████████████████████████████████████████████████████▋| 249/250 [00:58<00:00,  4.32round/s]"
     ]
    },
    {
     "name": "stdout",
     "output_type": "stream",
     "text": [
      "Train finished Global Round: 250\n",
      "(epoch = 1, round = 250, global round = 250), Loss/Training: 0.697856506312149\n",
      "(epoch = 1, round = 250, global round = 250), Accuracy/Training: 50.88833853774093\n",
      "reporting (epoch = 1, round = 250, global round = 250) for aggregation\n",
      "(epoch = 1, round = 250, global round = 250), Loss/Aggregation: 0.6853322327136994\n",
      "(epoch = 1, round = 250, global round = 250), Accuracy/Aggregation: 45.0\n",
      "Running (epoch = 1, round = 250, global round = 250) for Eval\n",
      "(epoch = 1, round = 250, global round = 250), Loss/Eval: 0.6929164187668129\n",
      "(epoch = 1, round = 250, global round = 250), Accuracy/Eval: 49.82394366197183\n",
      "Current eval accuracy: {'Accuracy': 49.82394366197183}%, Best so far: {'Accuracy': 60.70422535211268}%\n"
     ]
    },
    {
     "name": "stderr",
     "output_type": "stream",
     "text": [
      "Round: 100%|███████████████████████████████████████████████████████████████████████| 250/250 [01:01<00:00,  4.05round/s]\n",
      "Round: 100%|██████████████████████████████████████████████████████████████████████▋| 249/250 [00:57<00:00,  4.36round/s]"
     ]
    },
    {
     "name": "stdout",
     "output_type": "stream",
     "text": [
      "Train finished Global Round: 500\n",
      "(epoch = 2, round = 250, global round = 500), Loss/Training: 0.6946728245600118\n",
      "(epoch = 2, round = 250, global round = 500), Accuracy/Training: 52.13515298261061\n",
      "reporting (epoch = 2, round = 250, global round = 500) for aggregation\n",
      "(epoch = 2, round = 250, global round = 500), Loss/Aggregation: 0.6933971405029297\n",
      "(epoch = 2, round = 250, global round = 500), Accuracy/Aggregation: 62.7906976744186\n",
      "Running (epoch = 2, round = 250, global round = 500) for Eval\n",
      "(epoch = 2, round = 250, global round = 500), Loss/Eval: 0.6937916970520769\n",
      "(epoch = 2, round = 250, global round = 500), Accuracy/Eval: 50.2112676056338\n",
      "Current eval accuracy: {'Accuracy': 50.2112676056338}%, Best so far: {'Accuracy': 60.70422535211268}%\n"
     ]
    },
    {
     "name": "stderr",
     "output_type": "stream",
     "text": [
      "Round: 100%|██████████████████████████████████████████████████████████████████████▋| 249/250 [01:01<00:00,  4.08round/s]\n",
      "Epoch:  50%|█████████████████████████████████████                                     | 1/2 [02:02<02:02, 122.79s/epoch]"
     ]
    },
    {
     "name": "stdout",
     "output_type": "stream",
     "text": [
      "Running (epoch = 1, round = 1, global round = 1) for Test\n"
     ]
    },
    {
     "name": "stderr",
     "output_type": "stream",
     "text": [
      "\n",
      " 27%|█████████▉                           | 108.0/400 [1:50:08<4:58:35, 61.36s/it, min_score=-59.8, models_evaluated=27]"
     ]
    },
    {
     "name": "stdout",
     "output_type": "stream",
     "text": [
      "(epoch = 1, round = 1, global round = 1), Loss/Test: 0.6937916970042594\n",
      "(epoch = 1, round = 1, global round = 1), Accuracy/Test: 50.2112676056338\n"
     ]
    },
    {
     "name": "stderr",
     "output_type": "stream",
     "text": [
      "Round: 100%|██████████████████████████████████████████████████████████████████████▋| 249/250 [00:56<00:00,  4.56round/s]"
     ]
    },
    {
     "name": "stdout",
     "output_type": "stream",
     "text": [
      "Train finished Global Round: 250\n",
      "(epoch = 1, round = 250, global round = 250), Loss/Training: 0.7256652021868912\n",
      "(epoch = 1, round = 250, global round = 250), Accuracy/Training: 52.72083288612214\n",
      "reporting (epoch = 1, round = 250, global round = 250) for aggregation\n",
      "(epoch = 1, round = 250, global round = 250), Loss/Aggregation: 0.6712054073810577\n",
      "(epoch = 1, round = 250, global round = 250), Accuracy/Aggregation: 69.56521739130434\n",
      "Running (epoch = 1, round = 250, global round = 250) for Eval\n",
      "(epoch = 1, round = 250, global round = 250), Loss/Eval: 0.7037330487921589\n",
      "(epoch = 1, round = 250, global round = 250), Accuracy/Eval: 51.725352112676056\n",
      "Current eval accuracy: {'Accuracy': 51.725352112676056}%, Best so far: {'Accuracy': 60.70422535211268}%\n"
     ]
    },
    {
     "name": "stderr",
     "output_type": "stream",
     "text": [
      "Round: 100%|███████████████████████████████████████████████████████████████████████| 250/250 [00:59<00:00,  4.18round/s]\n",
      "Round: 100%|██████████████████████████████████████████████████████████████████████▋| 249/250 [00:57<00:00,  4.36round/s]"
     ]
    },
    {
     "name": "stdout",
     "output_type": "stream",
     "text": [
      "Train finished Global Round: 500\n",
      "(epoch = 2, round = 250, global round = 500), Loss/Training: 0.6960477977164574\n",
      "(epoch = 2, round = 250, global round = 500), Accuracy/Training: 49.53128406365816\n",
      "reporting (epoch = 2, round = 250, global round = 500) for aggregation\n",
      "(epoch = 2, round = 250, global round = 500), Loss/Aggregation: 0.663559901714325\n",
      "(epoch = 2, round = 250, global round = 500), Accuracy/Aggregation: 51.282051282051285\n",
      "Running (epoch = 2, round = 250, global round = 500) for Eval\n",
      "(epoch = 2, round = 250, global round = 500), Loss/Eval: 0.6985475529019631\n",
      "(epoch = 2, round = 250, global round = 500), Accuracy/Eval: 50.105633802816904\n",
      "Current eval accuracy: {'Accuracy': 50.105633802816904}%, Best so far: {'Accuracy': 60.70422535211268}%\n"
     ]
    },
    {
     "name": "stderr",
     "output_type": "stream",
     "text": [
      "Round: 100%|██████████████████████████████████████████████████████████████████████▋| 249/250 [01:01<00:00,  4.05round/s]\n",
      "Epoch:  50%|█████████████████████████████████████                                     | 1/2 [02:01<02:01, 121.22s/epoch]"
     ]
    },
    {
     "name": "stdout",
     "output_type": "stream",
     "text": [
      "Running (epoch = 1, round = 1, global round = 1) for Test\n"
     ]
    },
    {
     "name": "stderr",
     "output_type": "stream",
     "text": [
      "\n",
      " 28%|██████████▏                          | 110.0/400 [1:52:13<4:58:10, 61.69s/it, min_score=-59.8, models_evaluated=27]"
     ]
    },
    {
     "name": "stdout",
     "output_type": "stream",
     "text": [
      "(epoch = 1, round = 1, global round = 1), Loss/Test: 0.6985475529497807\n",
      "(epoch = 1, round = 1, global round = 1), Accuracy/Test: 50.105633802816904\n"
     ]
    },
    {
     "name": "stderr",
     "output_type": "stream",
     "text": [
      "Round: 100%|██████████████████████████████████████████████████████████████████████▋| 249/250 [00:57<00:00,  3.95round/s]"
     ]
    },
    {
     "name": "stdout",
     "output_type": "stream",
     "text": [
      "Train finished Global Round: 250\n",
      "(epoch = 1, round = 250, global round = 250), Loss/Training: 0.6902911508726185\n",
      "(epoch = 1, round = 250, global round = 250), Accuracy/Training: 52.72212790039615\n",
      "reporting (epoch = 1, round = 250, global round = 250) for aggregation\n",
      "(epoch = 1, round = 250, global round = 250), Loss/Aggregation: 0.6691504418849945\n",
      "(epoch = 1, round = 250, global round = 250), Accuracy/Aggregation: 52.17391304347826\n",
      "Running (epoch = 1, round = 250, global round = 250) for Eval\n",
      "(epoch = 1, round = 250, global round = 250), Loss/Eval: 0.6895703968277811\n",
      "(epoch = 1, round = 250, global round = 250), Accuracy/Eval: 53.45070422535211\n",
      "Current eval accuracy: {'Accuracy': 53.45070422535211}%, Best so far: {'Accuracy': 60.70422535211268}%\n"
     ]
    },
    {
     "name": "stderr",
     "output_type": "stream",
     "text": [
      "Round: 100%|███████████████████████████████████████████████████████████████████████| 250/250 [01:00<00:00,  4.15round/s]\n",
      "Round: 100%|██████████████████████████████████████████████████████████████████████▋| 249/250 [00:57<00:00,  4.43round/s]"
     ]
    },
    {
     "name": "stdout",
     "output_type": "stream",
     "text": [
      "Train finished Global Round: 500\n",
      "(epoch = 2, round = 250, global round = 500), Loss/Training: 0.688386684394574\n",
      "(epoch = 2, round = 250, global round = 500), Accuracy/Training: 55.96844271667048\n",
      "reporting (epoch = 2, round = 250, global round = 500) for aggregation\n",
      "(epoch = 2, round = 250, global round = 500), Loss/Aggregation: 0.7903691828250885\n",
      "(epoch = 2, round = 250, global round = 500), Accuracy/Aggregation: 46.2962962962963\n",
      "Running (epoch = 2, round = 250, global round = 500) for Eval\n",
      "(epoch = 2, round = 250, global round = 500), Loss/Eval: 0.691864480909649\n",
      "(epoch = 2, round = 250, global round = 500), Accuracy/Eval: 54.54225352112676\n",
      "Current eval accuracy: {'Accuracy': 54.54225352112676}%, Best so far: {'Accuracy': 60.70422535211268}%\n"
     ]
    },
    {
     "name": "stderr",
     "output_type": "stream",
     "text": [
      "Round: 100%|██████████████████████████████████████████████████████████████████████▋| 249/250 [01:01<00:00,  4.07round/s]\n",
      "Epoch:  50%|█████████████████████████████████████                                     | 1/2 [02:01<02:01, 121.47s/epoch]"
     ]
    },
    {
     "name": "stdout",
     "output_type": "stream",
     "text": [
      "Running (epoch = 1, round = 1, global round = 1) for Test\n"
     ]
    },
    {
     "name": "stderr",
     "output_type": "stream",
     "text": [
      "\n",
      " 28%|██████████▎                          | 112.0/400 [1:54:18<4:57:25, 61.96s/it, min_score=-59.8, models_evaluated=27]"
     ]
    },
    {
     "name": "stdout",
     "output_type": "stream",
     "text": [
      "(epoch = 1, round = 1, global round = 1), Loss/Test: 0.6918644811367826\n",
      "(epoch = 1, round = 1, global round = 1), Accuracy/Test: 54.54225352112676\n"
     ]
    },
    {
     "name": "stderr",
     "output_type": "stream",
     "text": [
      "Round: 100%|██████████████████████████████████████████████████████████████████████▋| 249/250 [00:56<00:00,  3.75round/s]"
     ]
    },
    {
     "name": "stdout",
     "output_type": "stream",
     "text": [
      "Train finished Global Round: 250\n",
      "(epoch = 1, round = 250, global round = 250), Loss/Training: 0.7469595965455369\n",
      "(epoch = 1, round = 250, global round = 250), Accuracy/Training: 51.571104632329124\n",
      "reporting (epoch = 1, round = 250, global round = 250) for aggregation\n",
      "(epoch = 1, round = 250, global round = 250), Loss/Aggregation: 0.6127337366342545\n",
      "(epoch = 1, round = 250, global round = 250), Accuracy/Aggregation: 73.33333333333333\n",
      "Running (epoch = 1, round = 250, global round = 250) for Eval\n",
      "(epoch = 1, round = 250, global round = 250), Loss/Eval: 0.7256652191908924\n",
      "(epoch = 1, round = 250, global round = 250), Accuracy/Eval: 50.774647887323944\n",
      "Current eval accuracy: {'Accuracy': 50.774647887323944}%, Best so far: {'Accuracy': 60.70422535211268}%\n"
     ]
    },
    {
     "name": "stderr",
     "output_type": "stream",
     "text": [
      "Round: 100%|███████████████████████████████████████████████████████████████████████| 250/250 [00:59<00:00,  4.18round/s]\n",
      "Round: 100%|██████████████████████████████████████████████████████████████████████▋| 249/250 [00:54<00:00,  4.66round/s]"
     ]
    },
    {
     "name": "stdout",
     "output_type": "stream",
     "text": [
      "Train finished Global Round: 500\n",
      "(epoch = 2, round = 250, global round = 500), Loss/Training: 0.7222777250711401\n",
      "(epoch = 2, round = 250, global round = 500), Accuracy/Training: 50.533528024261486\n",
      "reporting (epoch = 2, round = 250, global round = 500) for aggregation\n",
      "(epoch = 2, round = 250, global round = 500), Loss/Aggregation: 0.6252843171358109\n",
      "(epoch = 2, round = 250, global round = 500), Accuracy/Aggregation: 72.09302325581395\n",
      "Running (epoch = 2, round = 250, global round = 500) for Eval\n",
      "(epoch = 2, round = 250, global round = 500), Loss/Eval: 0.7148370265936784\n",
      "(epoch = 2, round = 250, global round = 500), Accuracy/Eval: 49.33098591549296\n",
      "Current eval accuracy: {'Accuracy': 49.33098591549296}%, Best so far: {'Accuracy': 60.70422535211268}%\n"
     ]
    },
    {
     "name": "stderr",
     "output_type": "stream",
     "text": [
      "Round: 100%|██████████████████████████████████████████████████████████████████████▋| 249/250 [00:57<00:00,  4.30round/s]\n",
      "Epoch:  50%|█████████████████████████████████████                                     | 1/2 [01:57<01:57, 117.69s/epoch]"
     ]
    },
    {
     "name": "stdout",
     "output_type": "stream",
     "text": [
      "Running (epoch = 1, round = 1, global round = 1) for Test\n"
     ]
    },
    {
     "name": "stderr",
     "output_type": "stream",
     "text": [
      "\n",
      " 28%|██████████▌                          | 114.0/400 [1:56:19<4:53:08, 61.50s/it, min_score=-59.8, models_evaluated=35]"
     ]
    },
    {
     "name": "stdout",
     "output_type": "stream",
     "text": [
      "(epoch = 1, round = 1, global round = 1), Loss/Test: 0.7148370267610401\n",
      "(epoch = 1, round = 1, global round = 1), Accuracy/Test: 49.33098591549296\n"
     ]
    },
    {
     "name": "stderr",
     "output_type": "stream",
     "text": [
      "Round: 100%|██████████████████████████████████████████████████████████████████████▋| 249/250 [00:55<00:00,  4.63round/s]"
     ]
    },
    {
     "name": "stdout",
     "output_type": "stream",
     "text": [
      "Train finished Global Round: 250\n",
      "(epoch = 1, round = 250, global round = 250), Loss/Training: 0.6671839403407538\n",
      "(epoch = 1, round = 250, global round = 250), Accuracy/Training: 59.90778468796912\n",
      "reporting (epoch = 1, round = 250, global round = 250) for aggregation\n",
      "(epoch = 1, round = 250, global round = 250), Loss/Aggregation: 0.45563946962356566\n",
      "(epoch = 1, round = 250, global round = 250), Accuracy/Aggregation: 92.85714285714286\n",
      "Running (epoch = 1, round = 250, global round = 250) for Eval\n",
      "(epoch = 1, round = 250, global round = 250), Loss/Eval: 0.6980515077046683\n",
      "(epoch = 1, round = 250, global round = 250), Accuracy/Eval: 54.29577464788732\n",
      "Current eval accuracy: {'Accuracy': 54.29577464788732}%, Best so far: {'Accuracy': 60.70422535211268}%\n"
     ]
    },
    {
     "name": "stderr",
     "output_type": "stream",
     "text": [
      "Round: 100%|███████████████████████████████████████████████████████████████████████| 250/250 [00:58<00:00,  4.30round/s]\n",
      "Round: 100%|██████████████████████████████████████████████████████████████████████▋| 249/250 [00:58<00:00,  4.33round/s]"
     ]
    },
    {
     "name": "stdout",
     "output_type": "stream",
     "text": [
      "Train finished Global Round: 500\n",
      "(epoch = 2, round = 250, global round = 500), Loss/Training: 0.6443043959494354\n",
      "(epoch = 2, round = 250, global round = 500), Accuracy/Training: 62.603591160220994\n",
      "reporting (epoch = 2, round = 250, global round = 500) for aggregation\n",
      "(epoch = 2, round = 250, global round = 500), Loss/Aggregation: 0.4994661420583725\n",
      "(epoch = 2, round = 250, global round = 500), Accuracy/Aggregation: 78.26086956521739\n",
      "Running (epoch = 2, round = 250, global round = 500) for Eval\n",
      "(epoch = 2, round = 250, global round = 500), Loss/Eval: 0.7099301974474787\n",
      "(epoch = 2, round = 250, global round = 500), Accuracy/Eval: 56.936619718309856\n",
      "Current eval accuracy: {'Accuracy': 56.936619718309856}%, Best so far: {'Accuracy': 60.70422535211268}%\n"
     ]
    },
    {
     "name": "stderr",
     "output_type": "stream",
     "text": [
      "Round: 100%|██████████████████████████████████████████████████████████████████████▋| 249/250 [01:01<00:00,  4.07round/s]\n",
      "Epoch:  50%|█████████████████████████████████████                                     | 1/2 [01:59<01:59, 119.22s/epoch]"
     ]
    },
    {
     "name": "stdout",
     "output_type": "stream",
     "text": [
      "Running (epoch = 1, round = 1, global round = 1) for Test\n"
     ]
    },
    {
     "name": "stderr",
     "output_type": "stream",
     "text": [
      "\n",
      " 29%|██████████▋                          | 116.0/400 [1:58:21<4:50:33, 61.38s/it, min_score=-59.8, models_evaluated=35]"
     ]
    },
    {
     "name": "stdout",
     "output_type": "stream",
     "text": [
      "(epoch = 1, round = 1, global round = 1), Loss/Test: 0.7099301973279346\n",
      "(epoch = 1, round = 1, global round = 1), Accuracy/Test: 56.936619718309856\n"
     ]
    },
    {
     "name": "stderr",
     "output_type": "stream",
     "text": [
      "Round: 100%|██████████████████████████████████████████████████████████████████████▋| 249/250 [00:54<00:00,  4.70round/s]"
     ]
    },
    {
     "name": "stdout",
     "output_type": "stream",
     "text": [
      "Train finished Global Round: 250\n",
      "(epoch = 1, round = 250, global round = 250), Loss/Training: 0.6762301598387431\n",
      "(epoch = 1, round = 250, global round = 250), Accuracy/Training: 58.21472143147621\n",
      "reporting (epoch = 1, round = 250, global round = 250) for aggregation\n",
      "(epoch = 1, round = 250, global round = 250), Loss/Aggregation: 0.5839698255062103\n",
      "(epoch = 1, round = 250, global round = 250), Accuracy/Aggregation: 67.3076923076923\n",
      "Running (epoch = 1, round = 250, global round = 250) for Eval\n",
      "(epoch = 1, round = 250, global round = 250), Loss/Eval: 0.6864817325388912\n",
      "(epoch = 1, round = 250, global round = 250), Accuracy/Eval: 55.985915492957744\n",
      "Current eval accuracy: {'Accuracy': 55.985915492957744}%, Best so far: {'Accuracy': 60.70422535211268}%\n"
     ]
    },
    {
     "name": "stderr",
     "output_type": "stream",
     "text": [
      "Round: 100%|███████████████████████████████████████████████████████████████████████| 250/250 [00:57<00:00,  4.34round/s]\n",
      "Round: 100%|██████████████████████████████████████████████████████████████████████▋| 249/250 [00:54<00:00,  4.59round/s]"
     ]
    },
    {
     "name": "stdout",
     "output_type": "stream",
     "text": [
      "Train finished Global Round: 500\n",
      "(epoch = 2, round = 250, global round = 500), Loss/Training: 0.6452751024253593\n",
      "(epoch = 2, round = 250, global round = 500), Accuracy/Training: 62.5419079548918\n",
      "reporting (epoch = 2, round = 250, global round = 500) for aggregation\n",
      "(epoch = 2, round = 250, global round = 500), Loss/Aggregation: 0.6011549592018127\n",
      "(epoch = 2, round = 250, global round = 500), Accuracy/Aggregation: 70.96774193548387\n",
      "Running (epoch = 2, round = 250, global round = 500) for Eval\n",
      "(epoch = 2, round = 250, global round = 500), Loss/Eval: 0.7061339026526949\n",
      "(epoch = 2, round = 250, global round = 500), Accuracy/Eval: 56.86619718309859\n",
      "Current eval accuracy: {'Accuracy': 56.86619718309859}%, Best so far: {'Accuracy': 60.70422535211268}%\n"
     ]
    },
    {
     "name": "stderr",
     "output_type": "stream",
     "text": [
      "Round: 100%|██████████████████████████████████████████████████████████████████████▋| 249/250 [00:57<00:00,  4.30round/s]\n",
      "Epoch:  50%|█████████████████████████████████████                                     | 1/2 [01:55<01:55, 115.48s/epoch]"
     ]
    },
    {
     "name": "stdout",
     "output_type": "stream",
     "text": [
      "Running (epoch = 1, round = 1, global round = 1) for Test\n"
     ]
    },
    {
     "name": "stderr",
     "output_type": "stream",
     "text": [
      "\n",
      " 30%|██████████▉                          | 118.0/400 [2:00:20<4:45:34, 60.76s/it, min_score=-59.8, models_evaluated=35]"
     ]
    },
    {
     "name": "stdout",
     "output_type": "stream",
     "text": [
      "(epoch = 1, round = 1, global round = 1), Loss/Test: 0.7061339025690141\n",
      "(epoch = 1, round = 1, global round = 1), Accuracy/Test: 56.86619718309859\n"
     ]
    },
    {
     "name": "stderr",
     "output_type": "stream",
     "text": [
      "Round: 100%|██████████████████████████████████████████████████████████████████████▋| 249/250 [00:55<00:00,  4.65round/s]"
     ]
    },
    {
     "name": "stdout",
     "output_type": "stream",
     "text": [
      "Train finished Global Round: 250\n",
      "(epoch = 1, round = 250, global round = 250), Loss/Training: 0.6567961738896673\n",
      "(epoch = 1, round = 250, global round = 250), Accuracy/Training: 61.05985839948509\n",
      "reporting (epoch = 1, round = 250, global round = 250) for aggregation\n",
      "(epoch = 1, round = 250, global round = 250), Loss/Aggregation: 0.5375894472002983\n",
      "(epoch = 1, round = 250, global round = 250), Accuracy/Aggregation: 68.0\n",
      "Running (epoch = 1, round = 250, global round = 250) for Eval\n",
      "(epoch = 1, round = 250, global round = 250), Loss/Eval: 0.6809522561337448\n",
      "(epoch = 1, round = 250, global round = 250), Accuracy/Eval: 58.23943661971831\n",
      "Current eval accuracy: {'Accuracy': 58.23943661971831}%, Best so far: {'Accuracy': 60.70422535211268}%\n"
     ]
    },
    {
     "name": "stderr",
     "output_type": "stream",
     "text": [
      "Round: 100%|███████████████████████████████████████████████████████████████████████| 250/250 [00:58<00:00,  4.25round/s]\n",
      "Round: 100%|██████████████████████████████████████████████████████████████████████▋| 249/250 [00:54<00:00,  4.64round/s]"
     ]
    },
    {
     "name": "stdout",
     "output_type": "stream",
     "text": [
      "Train finished Global Round: 500\n",
      "(epoch = 2, round = 250, global round = 500), Loss/Training: 0.6277666535525509\n",
      "(epoch = 2, round = 250, global round = 500), Accuracy/Training: 64.02418911489829\n",
      "reporting (epoch = 2, round = 250, global round = 500) for aggregation\n",
      "(epoch = 2, round = 250, global round = 500), Loss/Aggregation: 0.4937260910868645\n",
      "(epoch = 2, round = 250, global round = 500), Accuracy/Aggregation: 86.95652173913044\n",
      "Running (epoch = 2, round = 250, global round = 500) for Eval\n",
      "(epoch = 2, round = 250, global round = 500), Loss/Eval: 0.6856912712985332\n",
      "(epoch = 2, round = 250, global round = 500), Accuracy/Eval: 58.098591549295776\n",
      "Current eval accuracy: {'Accuracy': 58.098591549295776}%, Best so far: {'Accuracy': 60.70422535211268}%\n"
     ]
    },
    {
     "name": "stderr",
     "output_type": "stream",
     "text": [
      "Round: 100%|██████████████████████████████████████████████████████████████████████▋| 249/250 [00:56<00:00,  4.37round/s]\n",
      "Epoch:  50%|█████████████████████████████████████                                     | 1/2 [01:55<01:55, 115.83s/epoch]"
     ]
    },
    {
     "name": "stdout",
     "output_type": "stream",
     "text": [
      "Running (epoch = 1, round = 1, global round = 1) for Test\n"
     ]
    },
    {
     "name": "stderr",
     "output_type": "stream",
     "text": [
      "\n",
      " 30%|███████████                          | 120.0/400 [2:02:18<4:41:44, 60.37s/it, min_score=-59.8, models_evaluated=35]"
     ]
    },
    {
     "name": "stdout",
     "output_type": "stream",
     "text": [
      "(epoch = 1, round = 1, global round = 1), Loss/Test: 0.6856912714180772\n",
      "(epoch = 1, round = 1, global round = 1), Accuracy/Test: 58.098591549295776\n"
     ]
    },
    {
     "name": "stderr",
     "output_type": "stream",
     "text": [
      "Round: 100%|██████████████████████████████████████████████████████████████████████▋| 249/250 [00:54<00:00,  4.67round/s]"
     ]
    },
    {
     "name": "stdout",
     "output_type": "stream",
     "text": [
      "Train finished Global Round: 250\n",
      "(epoch = 1, round = 250, global round = 250), Loss/Training: 0.7616544125541207\n",
      "(epoch = 1, round = 250, global round = 250), Accuracy/Training: 51.963074185296406\n",
      "reporting (epoch = 1, round = 250, global round = 250) for aggregation\n",
      "(epoch = 1, round = 250, global round = 250), Loss/Aggregation: 0.6569462537765502\n",
      "(epoch = 1, round = 250, global round = 250), Accuracy/Aggregation: 73.91304347826087\n",
      "Running (epoch = 1, round = 250, global round = 250) for Eval\n",
      "(epoch = 1, round = 250, global round = 250), Loss/Eval: 0.7025235640777913\n",
      "(epoch = 1, round = 250, global round = 250), Accuracy/Eval: 50.84507042253521\n",
      "Current eval accuracy: {'Accuracy': 50.84507042253521}%, Best so far: {'Accuracy': 60.70422535211268}%\n"
     ]
    },
    {
     "name": "stderr",
     "output_type": "stream",
     "text": [
      "Round: 100%|███████████████████████████████████████████████████████████████████████| 250/250 [00:57<00:00,  4.38round/s]\n",
      "Round: 100%|██████████████████████████████████████████████████████████████████████▋| 249/250 [00:54<00:00,  4.42round/s]"
     ]
    },
    {
     "name": "stdout",
     "output_type": "stream",
     "text": [
      "Train finished Global Round: 500\n",
      "(epoch = 2, round = 250, global round = 500), Loss/Training: 0.7794564969148642\n",
      "(epoch = 2, round = 250, global round = 500), Accuracy/Training: 51.008230452674894\n",
      "reporting (epoch = 2, round = 250, global round = 500) for aggregation\n",
      "(epoch = 2, round = 250, global round = 500), Loss/Aggregation: 0.6922765970230103\n",
      "(epoch = 2, round = 250, global round = 500), Accuracy/Aggregation: 71.42857142857143\n",
      "Running (epoch = 2, round = 250, global round = 500) for Eval\n",
      "(epoch = 2, round = 250, global round = 500), Loss/Eval: 0.6942896426584746\n",
      "(epoch = 2, round = 250, global round = 500), Accuracy/Eval: 51.12676056338028\n",
      "Current eval accuracy: {'Accuracy': 51.12676056338028}%, Best so far: {'Accuracy': 60.70422535211268}%\n"
     ]
    },
    {
     "name": "stderr",
     "output_type": "stream",
     "text": [
      "Round: 100%|██████████████████████████████████████████████████████████████████████▋| 249/250 [00:57<00:00,  4.33round/s]\n",
      "Epoch:  50%|█████████████████████████████████████                                     | 1/2 [01:54<01:54, 114.57s/epoch]"
     ]
    },
    {
     "name": "stdout",
     "output_type": "stream",
     "text": [
      "Running (epoch = 1, round = 1, global round = 1) for Test\n"
     ]
    },
    {
     "name": "stderr",
     "output_type": "stream",
     "text": [
      "\n",
      " 30%|███████████▎                         | 122.0/400 [2:04:17<4:37:50, 59.96s/it, min_score=-59.8, models_evaluated=35]"
     ]
    },
    {
     "name": "stdout",
     "output_type": "stream",
     "text": [
      "(epoch = 1, round = 1, global round = 1), Loss/Test: 0.6942896425867482\n",
      "(epoch = 1, round = 1, global round = 1), Accuracy/Test: 51.12676056338028\n"
     ]
    },
    {
     "name": "stderr",
     "output_type": "stream",
     "text": [
      "Round: 100%|██████████████████████████████████████████████████████████████████████▋| 249/250 [00:55<00:00,  4.61round/s]"
     ]
    },
    {
     "name": "stdout",
     "output_type": "stream",
     "text": [
      "Train finished Global Round: 250\n",
      "(epoch = 1, round = 250, global round = 250), Loss/Training: 0.7760777619883749\n",
      "(epoch = 1, round = 250, global round = 250), Accuracy/Training: 50.489972652689154\n",
      "reporting (epoch = 1, round = 250, global round = 250) for aggregation\n",
      "(epoch = 1, round = 250, global round = 250), Loss/Aggregation: 0.6438888996839524\n",
      "(epoch = 1, round = 250, global round = 250), Accuracy/Aggregation: 56.52173913043478\n",
      "Running (epoch = 1, round = 250, global round = 250) for Eval\n",
      "(epoch = 1, round = 250, global round = 250), Loss/Eval: 0.7529156167692226\n",
      "(epoch = 1, round = 250, global round = 250), Accuracy/Eval: 50.03521126760563\n",
      "Current eval accuracy: {'Accuracy': 50.03521126760563}%, Best so far: {'Accuracy': 60.70422535211268}%\n"
     ]
    },
    {
     "name": "stderr",
     "output_type": "stream",
     "text": [
      "Round: 100%|███████████████████████████████████████████████████████████████████████| 250/250 [00:58<00:00,  4.30round/s]\n",
      "Round: 100%|██████████████████████████████████████████████████████████████████████▋| 249/250 [00:54<00:00,  4.62round/s]"
     ]
    },
    {
     "name": "stdout",
     "output_type": "stream",
     "text": [
      "Train finished Global Round: 500\n",
      "(epoch = 2, round = 250, global round = 500), Loss/Training: 0.7396150141668003\n",
      "(epoch = 2, round = 250, global round = 500), Accuracy/Training: 51.106749536582704\n",
      "reporting (epoch = 2, round = 250, global round = 500) for aggregation\n",
      "(epoch = 2, round = 250, global round = 500), Loss/Aggregation: 0.6987696409225463\n",
      "(epoch = 2, round = 250, global round = 500), Accuracy/Aggregation: 68.18181818181819\n",
      "Running (epoch = 2, round = 250, global round = 500) for Eval\n",
      "(epoch = 2, round = 250, global round = 500), Loss/Eval: 0.7602401285813699\n",
      "(epoch = 2, round = 250, global round = 500), Accuracy/Eval: 50.2112676056338\n",
      "Current eval accuracy: {'Accuracy': 50.2112676056338}%, Best so far: {'Accuracy': 60.70422535211268}%\n"
     ]
    },
    {
     "name": "stderr",
     "output_type": "stream",
     "text": [
      "Round: 100%|██████████████████████████████████████████████████████████████████████▋| 249/250 [00:57<00:00,  4.34round/s]\n",
      "Epoch:  50%|█████████████████████████████████████                                     | 1/2 [01:55<01:55, 115.50s/epoch]"
     ]
    },
    {
     "name": "stdout",
     "output_type": "stream",
     "text": [
      "Running (epoch = 1, round = 1, global round = 1) for Test\n"
     ]
    },
    {
     "name": "stderr",
     "output_type": "stream",
     "text": [
      "\n",
      " 31%|███████████▍                         | 124.0/400 [2:06:15<4:34:54, 59.76s/it, min_score=-59.8, models_evaluated=35]"
     ]
    },
    {
     "name": "stdout",
     "output_type": "stream",
     "text": [
      "(epoch = 1, round = 1, global round = 1), Loss/Test: 0.7602401284379171\n",
      "(epoch = 1, round = 1, global round = 1), Accuracy/Test: 50.2112676056338\n"
     ]
    },
    {
     "name": "stderr",
     "output_type": "stream",
     "text": [
      "Round: 100%|██████████████████████████████████████████████████████████████████████▋| 249/250 [00:54<00:00,  4.64round/s]"
     ]
    },
    {
     "name": "stdout",
     "output_type": "stream",
     "text": [
      "Train finished Global Round: 250\n",
      "(epoch = 1, round = 250, global round = 250), Loss/Training: 0.6972856953211085\n",
      "(epoch = 1, round = 250, global round = 250), Accuracy/Training: 52.62523292776499\n",
      "reporting (epoch = 1, round = 250, global round = 250) for aggregation\n",
      "(epoch = 1, round = 250, global round = 250), Loss/Aggregation: 0.6737508475780487\n",
      "(epoch = 1, round = 250, global round = 250), Accuracy/Aggregation: 64.28571428571429\n",
      "Running (epoch = 1, round = 250, global round = 250) for Eval\n",
      "(epoch = 1, round = 250, global round = 250), Loss/Eval: 0.6935517069234745\n",
      "(epoch = 1, round = 250, global round = 250), Accuracy/Eval: 50.73943661971831\n",
      "Current eval accuracy: {'Accuracy': 50.73943661971831}%, Best so far: {'Accuracy': 60.70422535211268}%\n"
     ]
    },
    {
     "name": "stderr",
     "output_type": "stream",
     "text": [
      "Round: 100%|███████████████████████████████████████████████████████████████████████| 250/250 [00:57<00:00,  4.36round/s]\n",
      "Round: 100%|██████████████████████████████████████████████████████████████████████▋| 249/250 [00:54<00:00,  4.61round/s]"
     ]
    },
    {
     "name": "stdout",
     "output_type": "stream",
     "text": [
      "Train finished Global Round: 500\n",
      "(epoch = 2, round = 250, global round = 500), Loss/Training: 0.6943108983915535\n",
      "(epoch = 2, round = 250, global round = 500), Accuracy/Training: 52.42792109256449\n",
      "reporting (epoch = 2, round = 250, global round = 500) for aggregation\n",
      "(epoch = 2, round = 250, global round = 500), Loss/Aggregation: 0.7624368250370026\n",
      "(epoch = 2, round = 250, global round = 500), Accuracy/Aggregation: 40.0\n",
      "Running (epoch = 2, round = 250, global round = 500) for Eval\n",
      "(epoch = 2, round = 250, global round = 500), Loss/Eval: 0.6993382166020611\n",
      "(epoch = 2, round = 250, global round = 500), Accuracy/Eval: 51.514084507042256\n",
      "Current eval accuracy: {'Accuracy': 51.514084507042256}%, Best so far: {'Accuracy': 60.70422535211268}%\n"
     ]
    },
    {
     "name": "stderr",
     "output_type": "stream",
     "text": [
      "Round: 100%|██████████████████████████████████████████████████████████████████████▋| 249/250 [00:57<00:00,  4.34round/s]\n",
      "Epoch:  50%|█████████████████████████████████████                                     | 1/2 [01:54<01:54, 114.65s/epoch]"
     ]
    },
    {
     "name": "stdout",
     "output_type": "stream",
     "text": [
      "Running (epoch = 1, round = 1, global round = 1) for Test\n"
     ]
    },
    {
     "name": "stderr",
     "output_type": "stream",
     "text": [
      "\n",
      " 32%|███████████▋                         | 126.0/400 [2:08:13<4:31:58, 59.56s/it, min_score=-59.8, models_evaluated=35]"
     ]
    },
    {
     "name": "stdout",
     "output_type": "stream",
     "text": [
      "(epoch = 1, round = 1, global round = 1), Loss/Test: 0.6993382164586083\n",
      "(epoch = 1, round = 1, global round = 1), Accuracy/Test: 51.514084507042256\n"
     ]
    },
    {
     "name": "stderr",
     "output_type": "stream",
     "text": [
      "Round: 100%|██████████████████████████████████████████████████████████████████████▋| 249/250 [00:55<00:00,  4.65round/s]"
     ]
    },
    {
     "name": "stdout",
     "output_type": "stream",
     "text": [
      "Train finished Global Round: 250\n",
      "(epoch = 1, round = 250, global round = 250), Loss/Training: 0.7163626183109713\n",
      "(epoch = 1, round = 250, global round = 250), Accuracy/Training: 50.16674077367719\n",
      "reporting (epoch = 1, round = 250, global round = 250) for aggregation\n",
      "(epoch = 1, round = 250, global round = 250), Loss/Aggregation: 0.7296953320503234\n",
      "(epoch = 1, round = 250, global round = 250), Accuracy/Aggregation: 38.095238095238095\n",
      "Running (epoch = 1, round = 250, global round = 250) for Eval\n",
      "(epoch = 1, round = 250, global round = 250), Loss/Eval: 0.6981293762060136\n",
      "(epoch = 1, round = 250, global round = 250), Accuracy/Eval: 49.894366197183096\n",
      "Current eval accuracy: {'Accuracy': 49.894366197183096}%, Best so far: {'Accuracy': 60.70422535211268}%\n"
     ]
    },
    {
     "name": "stderr",
     "output_type": "stream",
     "text": [
      "Round: 100%|███████████████████████████████████████████████████████████████████████| 250/250 [00:58<00:00,  4.26round/s]\n",
      "Round: 100%|██████████████████████████████████████████████████████████████████████▋| 249/250 [00:57<00:00,  4.61round/s]"
     ]
    },
    {
     "name": "stdout",
     "output_type": "stream",
     "text": [
      "Train finished Global Round: 500\n",
      "(epoch = 2, round = 250, global round = 500), Loss/Training: 0.9211467452266063\n",
      "(epoch = 2, round = 250, global round = 500), Accuracy/Training: 52.65636981049403\n",
      "reporting (epoch = 2, round = 250, global round = 500) for aggregation\n",
      "(epoch = 2, round = 250, global round = 500), Loss/Aggregation: 6.958796513057246\n",
      "(epoch = 2, round = 250, global round = 500), Accuracy/Aggregation: 40.625\n",
      "Running (epoch = 2, round = 250, global round = 500) for Eval\n",
      "(epoch = 2, round = 250, global round = 500), Loss/Eval: 6.235545072345872\n",
      "(epoch = 2, round = 250, global round = 500), Accuracy/Eval: 50.105633802816904\n",
      "Current eval accuracy: {'Accuracy': 50.105633802816904}%, Best so far: {'Accuracy': 60.70422535211268}%\n"
     ]
    },
    {
     "name": "stderr",
     "output_type": "stream",
     "text": [
      "Round: 100%|██████████████████████████████████████████████████████████████████████▋| 249/250 [01:00<00:00,  4.11round/s]\n",
      "Epoch:  50%|█████████████████████████████████████                                     | 1/2 [01:59<01:59, 119.37s/epoch]"
     ]
    },
    {
     "name": "stdout",
     "output_type": "stream",
     "text": [
      "Running (epoch = 1, round = 1, global round = 1) for Test\n"
     ]
    },
    {
     "name": "stderr",
     "output_type": "stream",
     "text": [
      "\n",
      " 32%|███████████▊                         | 128.0/400 [2:10:16<4:32:39, 60.14s/it, min_score=-59.8, models_evaluated=35]"
     ]
    },
    {
     "name": "stdout",
     "output_type": "stream",
     "text": [
      "(epoch = 1, round = 1, global round = 1), Loss/Test: 6.235545072632777\n",
      "(epoch = 1, round = 1, global round = 1), Accuracy/Test: 50.105633802816904\n"
     ]
    },
    {
     "name": "stderr",
     "output_type": "stream",
     "text": [
      "Round: 100%|██████████████████████████████████████████████████████████████████████▋| 249/250 [00:57<00:00,  4.39round/s]"
     ]
    },
    {
     "name": "stdout",
     "output_type": "stream",
     "text": [
      "Train finished Global Round: 250\n",
      "(epoch = 1, round = 250, global round = 250), Loss/Training: 0.7037579694183747\n",
      "(epoch = 1, round = 250, global round = 250), Accuracy/Training: 50.880795417702366\n",
      "reporting (epoch = 1, round = 250, global round = 250) for aggregation\n",
      "(epoch = 1, round = 250, global round = 250), Loss/Aggregation: 0.628592586517334\n",
      "(epoch = 1, round = 250, global round = 250), Accuracy/Aggregation: 55.172413793103445\n",
      "Running (epoch = 1, round = 250, global round = 250) for Eval\n",
      "(epoch = 1, round = 250, global round = 250), Loss/Eval: 0.7095854726365614\n",
      "(epoch = 1, round = 250, global round = 250), Accuracy/Eval: 49.894366197183096\n",
      "Current eval accuracy: {'Accuracy': 49.894366197183096}%, Best so far: {'Accuracy': 60.70422535211268}%\n"
     ]
    },
    {
     "name": "stderr",
     "output_type": "stream",
     "text": [
      "Round: 100%|███████████████████████████████████████████████████████████████████████| 250/250 [01:00<00:00,  4.12round/s]\n",
      "Round: 100%|██████████████████████████████████████████████████████████████████████▋| 249/250 [00:55<00:00,  4.63round/s]"
     ]
    },
    {
     "name": "stdout",
     "output_type": "stream",
     "text": [
      "Train finished Global Round: 500\n",
      "(epoch = 2, round = 250, global round = 500), Loss/Training: 0.7182565343631369\n",
      "(epoch = 2, round = 250, global round = 500), Accuracy/Training: 51.746203904555315\n",
      "reporting (epoch = 2, round = 250, global round = 500) for aggregation\n",
      "(epoch = 2, round = 250, global round = 500), Loss/Aggregation: 0.6969481945037842\n",
      "(epoch = 2, round = 250, global round = 500), Accuracy/Aggregation: 22.22222222222222\n",
      "Running (epoch = 2, round = 250, global round = 500) for Eval\n",
      "(epoch = 2, round = 250, global round = 500), Loss/Eval: 0.6937171916286485\n",
      "(epoch = 2, round = 250, global round = 500), Accuracy/Eval: 49.894366197183096\n",
      "Current eval accuracy: {'Accuracy': 49.894366197183096}%, Best so far: {'Accuracy': 60.70422535211268}%\n"
     ]
    },
    {
     "name": "stderr",
     "output_type": "stream",
     "text": [
      "Round: 100%|██████████████████████████████████████████████████████████████████████▋| 249/250 [00:58<00:00,  4.26round/s]\n",
      "Epoch:  50%|█████████████████████████████████████                                     | 1/2 [01:59<01:59, 119.06s/epoch]"
     ]
    },
    {
     "name": "stdout",
     "output_type": "stream",
     "text": [
      "Running (epoch = 1, round = 1, global round = 1) for Test\n"
     ]
    },
    {
     "name": "stderr",
     "output_type": "stream",
     "text": [
      "\n",
      " 32%|████████████                         | 130.0/400 [2:12:19<4:32:18, 60.51s/it, min_score=-59.8, models_evaluated=39]"
     ]
    },
    {
     "name": "stdout",
     "output_type": "stream",
     "text": [
      "(epoch = 1, round = 1, global round = 1), Loss/Test: 0.6937171916525573\n",
      "(epoch = 1, round = 1, global round = 1), Accuracy/Test: 49.894366197183096\n"
     ]
    },
    {
     "name": "stderr",
     "output_type": "stream",
     "text": [
      "Round: 100%|██████████████████████████████████████████████████████████████████████▋| 249/250 [00:57<00:00,  4.39round/s]"
     ]
    },
    {
     "name": "stdout",
     "output_type": "stream",
     "text": [
      "Train finished Global Round: 250\n",
      "(epoch = 1, round = 250, global round = 250), Loss/Training: 0.5908446310207685\n",
      "(epoch = 1, round = 250, global round = 250), Accuracy/Training: 66.98819791193827\n",
      "reporting (epoch = 1, round = 250, global round = 250) for aggregation\n",
      "(epoch = 1, round = 250, global round = 250), Loss/Aggregation: 0.5670044511556626\n",
      "(epoch = 1, round = 250, global round = 250), Accuracy/Aggregation: 71.42857142857143\n",
      "Running (epoch = 1, round = 250, global round = 250) for Eval\n",
      "(epoch = 1, round = 250, global round = 250), Loss/Eval: 0.6802634700715865\n",
      "(epoch = 1, round = 250, global round = 250), Accuracy/Eval: 60.24647887323944\n",
      "Current eval accuracy: {'Accuracy': 60.24647887323944}%, Best so far: {'Accuracy': 60.70422535211268}%\n"
     ]
    },
    {
     "name": "stderr",
     "output_type": "stream",
     "text": [
      "Round: 100%|███████████████████████████████████████████████████████████████████████| 250/250 [01:00<00:00,  4.11round/s]\n",
      "Round: 100%|██████████████████████████████████████████████████████████████████████▋| 249/250 [00:59<00:00,  4.47round/s]"
     ]
    },
    {
     "name": "stdout",
     "output_type": "stream",
     "text": [
      "Train finished Global Round: 500\n",
      "(epoch = 2, round = 250, global round = 500), Loss/Training: 0.5404632279877231\n",
      "(epoch = 2, round = 250, global round = 500), Accuracy/Training: 71.22769064359113\n",
      "reporting (epoch = 2, round = 250, global round = 500) for aggregation\n",
      "(epoch = 2, round = 250, global round = 500), Loss/Aggregation: 0.2649088650941849\n",
      "(epoch = 2, round = 250, global round = 500), Accuracy/Aggregation: 88.88888888888889\n",
      "Running (epoch = 2, round = 250, global round = 500) for Eval\n",
      "(epoch = 2, round = 250, global round = 500), Loss/Eval: 0.6976443789989007\n",
      "(epoch = 2, round = 250, global round = 500), Accuracy/Eval: 59.929577464788736\n",
      "Current eval accuracy: {'Accuracy': 59.929577464788736}%, Best so far: {'Accuracy': 60.70422535211268}%\n"
     ]
    },
    {
     "name": "stderr",
     "output_type": "stream",
     "text": [
      "Round: 100%|███████████████████████████████████████████████████████████████████████| 250/250 [01:02<00:00,  4.03round/s]\n",
      "Round: 100%|██████████████████████████████████████████████████████████████████████▋| 249/250 [00:56<00:00,  4.68round/s]"
     ]
    },
    {
     "name": "stdout",
     "output_type": "stream",
     "text": [
      "Train finished Global Round: 750\n",
      "(epoch = 3, round = 250, global round = 750), Loss/Training: 0.5017673369004485\n",
      "(epoch = 3, round = 250, global round = 750), Accuracy/Training: 74.1233498349835\n",
      "reporting (epoch = 3, round = 250, global round = 750) for aggregation\n",
      "(epoch = 3, round = 250, global round = 750), Loss/Aggregation: 0.2804348964244127\n",
      "(epoch = 3, round = 250, global round = 750), Accuracy/Aggregation: 79.48717948717949\n",
      "Running (epoch = 3, round = 250, global round = 750) for Eval\n",
      "(epoch = 3, round = 250, global round = 750), Loss/Eval: 0.7453285916418889\n",
      "(epoch = 3, round = 250, global round = 750), Accuracy/Eval: 60.352112676056336\n",
      "Current eval accuracy: {'Accuracy': 60.352112676056336}%, Best so far: {'Accuracy': 60.70422535211268}%\n"
     ]
    },
    {
     "name": "stderr",
     "output_type": "stream",
     "text": [
      "Round: 100%|███████████████████████████████████████████████████████████████████████| 250/250 [01:00<00:00,  4.15round/s]\n",
      "Round: 100%|██████████████████████████████████████████████████████████████████████▋| 249/250 [00:54<00:00,  4.56round/s]"
     ]
    },
    {
     "name": "stdout",
     "output_type": "stream",
     "text": [
      "Train finished Global Round: 1000\n",
      "(epoch = 4, round = 250, global round = 1000), Loss/Training: 0.44038739676979866\n",
      "(epoch = 4, round = 250, global round = 1000), Accuracy/Training: 77.73630475354045\n",
      "reporting (epoch = 4, round = 250, global round = 1000) for aggregation\n",
      "(epoch = 4, round = 250, global round = 1000), Loss/Aggregation: 0.31940211900151694\n",
      "(epoch = 4, round = 250, global round = 1000), Accuracy/Aggregation: 83.78378378378379\n",
      "Running (epoch = 4, round = 250, global round = 1000) for Eval\n",
      "(epoch = 4, round = 250, global round = 1000), Loss/Eval: 0.8147240101478955\n",
      "(epoch = 4, round = 250, global round = 1000), Accuracy/Eval: 60.140845070422536\n",
      "Current eval accuracy: {'Accuracy': 60.140845070422536}%, Best so far: {'Accuracy': 60.70422535211268}%\n"
     ]
    },
    {
     "name": "stderr",
     "output_type": "stream",
     "text": [
      "Round: 100%|██████████████████████████████████████████████████████████████████████▋| 249/250 [00:57<00:00,  4.31round/s]\n",
      "Epoch:  75%|████████████████████████████████████████████████████████▎                  | 3/4 [04:00<01:20, 80.29s/epoch]"
     ]
    },
    {
     "name": "stdout",
     "output_type": "stream",
     "text": [
      "Running (epoch = 1, round = 1, global round = 1) for Test\n"
     ]
    },
    {
     "name": "stderr",
     "output_type": "stream",
     "text": [
      "\n",
      " 34%|████████████▍                        | 134.0/400 [2:16:23<4:29:13, 60.73s/it, min_score=-60.1, models_evaluated=39]"
     ]
    },
    {
     "name": "stdout",
     "output_type": "stream",
     "text": [
      "(epoch = 1, round = 1, global round = 1), Loss/Test: 0.8147240099835225\n",
      "(epoch = 1, round = 1, global round = 1), Accuracy/Test: 60.140845070422536\n"
     ]
    },
    {
     "name": "stderr",
     "output_type": "stream",
     "text": [
      "Round: 100%|██████████████████████████████████████████████████████████████████████▋| 249/250 [00:58<00:00,  4.47round/s]"
     ]
    },
    {
     "name": "stdout",
     "output_type": "stream",
     "text": [
      "Train finished Global Round: 250\n",
      "(epoch = 1, round = 250, global round = 250), Loss/Training: 0.6250227021971076\n",
      "(epoch = 1, round = 250, global round = 250), Accuracy/Training: 64.81460483047965\n",
      "reporting (epoch = 1, round = 250, global round = 250) for aggregation\n",
      "(epoch = 1, round = 250, global round = 250), Loss/Aggregation: 0.5103971600532532\n",
      "(epoch = 1, round = 250, global round = 250), Accuracy/Aggregation: 77.41935483870968\n",
      "Running (epoch = 1, round = 250, global round = 250) for Eval\n",
      "(epoch = 1, round = 250, global round = 250), Loss/Eval: 0.7011448368026677\n",
      "(epoch = 1, round = 250, global round = 250), Accuracy/Eval: 57.21830985915493\n",
      "Current eval accuracy: {'Accuracy': 57.21830985915493}%, Best so far: {'Accuracy': 60.70422535211268}%\n"
     ]
    },
    {
     "name": "stderr",
     "output_type": "stream",
     "text": [
      "Round: 100%|███████████████████████████████████████████████████████████████████████| 250/250 [01:01<00:00,  4.09round/s]\n",
      "Round: 100%|██████████████████████████████████████████████████████████████████████▋| 249/250 [00:57<00:00,  4.45round/s]"
     ]
    },
    {
     "name": "stdout",
     "output_type": "stream",
     "text": [
      "Train finished Global Round: 500\n",
      "(epoch = 2, round = 250, global round = 500), Loss/Training: 0.5957853354519563\n",
      "(epoch = 2, round = 250, global round = 500), Accuracy/Training: 66.72884122173001\n",
      "reporting (epoch = 2, round = 250, global round = 500) for aggregation\n",
      "(epoch = 2, round = 250, global round = 500), Loss/Aggregation: 0.3680702462792397\n",
      "(epoch = 2, round = 250, global round = 500), Accuracy/Aggregation: 85.71428571428571\n",
      "Running (epoch = 2, round = 250, global round = 500) for Eval\n",
      "(epoch = 2, round = 250, global round = 500), Loss/Eval: 0.7208652288361195\n",
      "(epoch = 2, round = 250, global round = 500), Accuracy/Eval: 58.098591549295776\n",
      "Current eval accuracy: {'Accuracy': 58.098591549295776}%, Best so far: {'Accuracy': 60.70422535211268}%\n"
     ]
    },
    {
     "name": "stderr",
     "output_type": "stream",
     "text": [
      "Round: 100%|███████████████████████████████████████████████████████████████████████| 250/250 [01:01<00:00,  4.09round/s]\n",
      "Round: 100%|██████████████████████████████████████████████████████████████████████▋| 249/250 [00:58<00:00,  4.29round/s]"
     ]
    },
    {
     "name": "stdout",
     "output_type": "stream",
     "text": [
      "Train finished Global Round: 750\n",
      "(epoch = 3, round = 250, global round = 750), Loss/Training: 0.6036519396763015\n",
      "(epoch = 3, round = 250, global round = 750), Accuracy/Training: 67.08551095296342\n",
      "reporting (epoch = 3, round = 250, global round = 750) for aggregation\n",
      "(epoch = 3, round = 250, global round = 750), Loss/Aggregation: 0.3382602039724588\n",
      "(epoch = 3, round = 250, global round = 750), Accuracy/Aggregation: 79.3103448275862\n",
      "Running (epoch = 3, round = 250, global round = 750) for Eval\n",
      "(epoch = 3, round = 250, global round = 750), Loss/Eval: 0.7069677691615303\n",
      "(epoch = 3, round = 250, global round = 750), Accuracy/Eval: 57.852112676056336\n",
      "Current eval accuracy: {'Accuracy': 57.852112676056336}%, Best so far: {'Accuracy': 60.70422535211268}%\n"
     ]
    },
    {
     "name": "stderr",
     "output_type": "stream",
     "text": [
      "Round: 100%|███████████████████████████████████████████████████████████████████████| 250/250 [01:01<00:00,  4.07round/s]\n",
      "Round: 100%|██████████████████████████████████████████████████████████████████████▋| 249/250 [00:55<00:00,  4.68round/s]"
     ]
    },
    {
     "name": "stdout",
     "output_type": "stream",
     "text": [
      "Train finished Global Round: 1000\n",
      "(epoch = 4, round = 250, global round = 1000), Loss/Training: 0.5969382681405665\n",
      "(epoch = 4, round = 250, global round = 1000), Accuracy/Training: 67.52717391304348\n",
      "reporting (epoch = 4, round = 250, global round = 1000) for aggregation\n",
      "(epoch = 4, round = 250, global round = 1000), Loss/Aggregation: 0.5489627435803414\n",
      "(epoch = 4, round = 250, global round = 1000), Accuracy/Aggregation: 72.22222222222223\n",
      "Running (epoch = 4, round = 250, global round = 1000) for Eval\n",
      "(epoch = 4, round = 250, global round = 1000), Loss/Eval: 0.7189351180590752\n",
      "(epoch = 4, round = 250, global round = 1000), Accuracy/Eval: 59.014084507042256\n",
      "Current eval accuracy: {'Accuracy': 59.014084507042256}%, Best so far: {'Accuracy': 60.70422535211268}%\n"
     ]
    },
    {
     "name": "stderr",
     "output_type": "stream",
     "text": [
      "Round: 100%|██████████████████████████████████████████████████████████████████████▋| 249/250 [00:58<00:00,  4.28round/s]\n",
      "Epoch:  75%|████████████████████████████████████████████████████████▎                  | 3/4 [04:01<01:20, 80.60s/epoch]"
     ]
    },
    {
     "name": "stdout",
     "output_type": "stream",
     "text": [
      "Running (epoch = 1, round = 1, global round = 1) for Test\n"
     ]
    },
    {
     "name": "stderr",
     "output_type": "stream",
     "text": [
      "\n",
      " 34%|████████████▊                        | 138.0/400 [2:20:28<4:26:03, 60.93s/it, min_score=-60.1, models_evaluated=39]"
     ]
    },
    {
     "name": "stdout",
     "output_type": "stream",
     "text": [
      "(epoch = 1, round = 1, global round = 1), Loss/Test: 0.7189351179395311\n",
      "(epoch = 1, round = 1, global round = 1), Accuracy/Test: 59.014084507042256\n"
     ]
    },
    {
     "name": "stderr",
     "output_type": "stream",
     "text": [
      "Round: 100%|██████████████████████████████████████████████████████████████████████▋| 249/250 [00:54<00:00,  4.64round/s]"
     ]
    },
    {
     "name": "stdout",
     "output_type": "stream",
     "text": [
      "Train finished Global Round: 250\n",
      "(epoch = 1, round = 250, global round = 250), Loss/Training: 0.6081205654416129\n",
      "(epoch = 1, round = 250, global round = 250), Accuracy/Training: 67.17767729127605\n",
      "reporting (epoch = 1, round = 250, global round = 250) for aggregation\n",
      "(epoch = 1, round = 250, global round = 250), Loss/Aggregation: 0.37868801690638065\n",
      "(epoch = 1, round = 250, global round = 250), Accuracy/Aggregation: 70.83333333333333\n",
      "Running (epoch = 1, round = 250, global round = 250) for Eval\n",
      "(epoch = 1, round = 250, global round = 250), Loss/Eval: 0.7090831918083804\n",
      "(epoch = 1, round = 250, global round = 250), Accuracy/Eval: 59.190140845070424\n",
      "Current eval accuracy: {'Accuracy': 59.190140845070424}%, Best so far: {'Accuracy': 60.70422535211268}%\n"
     ]
    },
    {
     "name": "stderr",
     "output_type": "stream",
     "text": [
      "Round: 100%|███████████████████████████████████████████████████████████████████████| 250/250 [00:57<00:00,  4.35round/s]\n",
      "Round: 100%|██████████████████████████████████████████████████████████████████████▋| 249/250 [00:56<00:00,  4.43round/s]"
     ]
    },
    {
     "name": "stdout",
     "output_type": "stream",
     "text": [
      "Train finished Global Round: 500\n",
      "(epoch = 2, round = 250, global round = 500), Loss/Training: 0.5751099090788345\n",
      "(epoch = 2, round = 250, global round = 500), Accuracy/Training: 69.28156666287146\n",
      "reporting (epoch = 2, round = 250, global round = 500) for aggregation\n",
      "(epoch = 2, round = 250, global round = 500), Loss/Aggregation: 0.3862599104642868\n",
      "(epoch = 2, round = 250, global round = 500), Accuracy/Aggregation: 76.92307692307692\n",
      "Running (epoch = 2, round = 250, global round = 500) for Eval\n",
      "(epoch = 2, round = 250, global round = 500), Loss/Eval: 0.798791266351862\n",
      "(epoch = 2, round = 250, global round = 500), Accuracy/Eval: 56.12676056338028\n",
      "Current eval accuracy: {'Accuracy': 56.12676056338028}%, Best so far: {'Accuracy': 60.70422535211268}%\n"
     ]
    },
    {
     "name": "stderr",
     "output_type": "stream",
     "text": [
      "Round: 100%|███████████████████████████████████████████████████████████████████████| 250/250 [00:59<00:00,  4.17round/s]\n",
      "Round: 100%|██████████████████████████████████████████████████████████████████████▋| 249/250 [00:55<00:00,  4.65round/s]"
     ]
    },
    {
     "name": "stdout",
     "output_type": "stream",
     "text": [
      "Train finished Global Round: 750\n",
      "(epoch = 3, round = 250, global round = 750), Loss/Training: 0.5489093869663478\n",
      "(epoch = 3, round = 250, global round = 750), Accuracy/Training: 70.73031135531136\n",
      "reporting (epoch = 3, round = 250, global round = 750) for aggregation\n",
      "(epoch = 3, round = 250, global round = 750), Loss/Aggregation: 0.41708656325936316\n",
      "(epoch = 3, round = 250, global round = 750), Accuracy/Aggregation: 66.66666666666667\n",
      "Running (epoch = 3, round = 250, global round = 750) for Eval\n",
      "(epoch = 3, round = 250, global round = 750), Loss/Eval: 0.7440321765069742\n",
      "(epoch = 3, round = 250, global round = 750), Accuracy/Eval: 57.92253521126761\n",
      "Current eval accuracy: {'Accuracy': 57.92253521126761}%, Best so far: {'Accuracy': 60.70422535211268}%\n"
     ]
    },
    {
     "name": "stderr",
     "output_type": "stream",
     "text": [
      "Round: 100%|███████████████████████████████████████████████████████████████████████| 250/250 [00:58<00:00,  4.29round/s]\n",
      "Round: 100%|██████████████████████████████████████████████████████████████████████▋| 249/250 [00:56<00:00,  4.60round/s]"
     ]
    },
    {
     "name": "stdout",
     "output_type": "stream",
     "text": [
      "Train finished Global Round: 1000\n",
      "(epoch = 4, round = 250, global round = 1000), Loss/Training: 0.5353184911075483\n",
      "(epoch = 4, round = 250, global round = 1000), Accuracy/Training: 72.05316928485115\n",
      "reporting (epoch = 4, round = 250, global round = 1000) for aggregation\n",
      "(epoch = 4, round = 250, global round = 1000), Loss/Aggregation: 0.5680184312164783\n",
      "(epoch = 4, round = 250, global round = 1000), Accuracy/Aggregation: 83.6734693877551\n",
      "Running (epoch = 4, round = 250, global round = 1000) for Eval\n",
      "(epoch = 4, round = 250, global round = 1000), Loss/Eval: 0.76475088140504\n",
      "(epoch = 4, round = 250, global round = 1000), Accuracy/Eval: 58.16901408450704\n",
      "Current eval accuracy: {'Accuracy': 58.16901408450704}%, Best so far: {'Accuracy': 60.70422535211268}%\n"
     ]
    },
    {
     "name": "stderr",
     "output_type": "stream",
     "text": [
      "Round: 100%|██████████████████████████████████████████████████████████████████████▋| 249/250 [00:59<00:00,  4.19round/s]\n",
      "Epoch:  75%|████████████████████████████████████████████████████████▎                  | 3/4 [03:55<01:18, 78.39s/epoch]"
     ]
    },
    {
     "name": "stdout",
     "output_type": "stream",
     "text": [
      "Running (epoch = 1, round = 1, global round = 1) for Test\n"
     ]
    },
    {
     "name": "stderr",
     "output_type": "stream",
     "text": [
      "\n",
      " 36%|█████████████▏                       | 142.0/400 [2:24:26<4:19:51, 60.43s/it, min_score=-60.1, models_evaluated=39]"
     ]
    },
    {
     "name": "stdout",
     "output_type": "stream",
     "text": [
      "(epoch = 1, round = 1, global round = 1), Loss/Test: 0.7647508814229715\n",
      "(epoch = 1, round = 1, global round = 1), Accuracy/Test: 58.16901408450704\n"
     ]
    },
    {
     "name": "stderr",
     "output_type": "stream",
     "text": [
      "Round: 100%|██████████████████████████████████████████████████████████████████████▋| 249/250 [00:54<00:00,  4.63round/s]"
     ]
    },
    {
     "name": "stdout",
     "output_type": "stream",
     "text": [
      "Train finished Global Round: 250\n",
      "(epoch = 1, round = 250, global round = 250), Loss/Training: 0.6943217542356295\n",
      "(epoch = 1, round = 250, global round = 250), Accuracy/Training: 52.18804159445407\n",
      "reporting (epoch = 1, round = 250, global round = 250) for aggregation\n",
      "(epoch = 1, round = 250, global round = 250), Loss/Aggregation: 0.6963117003440857\n",
      "(epoch = 1, round = 250, global round = 250), Accuracy/Aggregation: 44.827586206896555\n",
      "Running (epoch = 1, round = 250, global round = 250) for Eval\n",
      "(epoch = 1, round = 250, global round = 250), Loss/Eval: 0.6934148264945008\n",
      "(epoch = 1, round = 250, global round = 250), Accuracy/Eval: 50.70422535211268\n",
      "Current eval accuracy: {'Accuracy': 50.70422535211268}%, Best so far: {'Accuracy': 60.70422535211268}%\n"
     ]
    },
    {
     "name": "stderr",
     "output_type": "stream",
     "text": [
      "Round: 100%|███████████████████████████████████████████████████████████████████████| 250/250 [00:58<00:00,  4.29round/s]\n",
      "Round: 100%|██████████████████████████████████████████████████████████████████████▋| 249/250 [00:56<00:00,  4.47round/s]"
     ]
    },
    {
     "name": "stdout",
     "output_type": "stream",
     "text": [
      "Train finished Global Round: 500\n",
      "(epoch = 2, round = 250, global round = 500), Loss/Training: 0.7001880692327694\n",
      "(epoch = 2, round = 250, global round = 500), Accuracy/Training: 52.69786250722126\n",
      "reporting (epoch = 2, round = 250, global round = 500) for aggregation\n",
      "(epoch = 2, round = 250, global round = 500), Loss/Aggregation: 0.7051143527030945\n",
      "(epoch = 2, round = 250, global round = 500), Accuracy/Aggregation: 45.45454545454545\n",
      "Running (epoch = 2, round = 250, global round = 500) for Eval\n",
      "(epoch = 2, round = 250, global round = 500), Loss/Eval: 0.6948254220083063\n",
      "(epoch = 2, round = 250, global round = 500), Accuracy/Eval: 50.42253521126761\n",
      "Current eval accuracy: {'Accuracy': 50.42253521126761}%, Best so far: {'Accuracy': 60.70422535211268}%\n"
     ]
    },
    {
     "name": "stderr",
     "output_type": "stream",
     "text": [
      "Round: 100%|███████████████████████████████████████████████████████████████████████| 250/250 [01:00<00:00,  4.14round/s]\n",
      "Round: 100%|██████████████████████████████████████████████████████████████████████▋| 249/250 [00:54<00:00,  4.66round/s]"
     ]
    },
    {
     "name": "stdout",
     "output_type": "stream",
     "text": [
      "Train finished Global Round: 750\n",
      "(epoch = 3, round = 250, global round = 750), Loss/Training: 0.6934995974054431\n",
      "(epoch = 3, round = 250, global round = 750), Accuracy/Training: 52.50386057798367\n",
      "reporting (epoch = 3, round = 250, global round = 750) for aggregation\n",
      "(epoch = 3, round = 250, global round = 750), Loss/Aggregation: 0.7131880164146424\n",
      "(epoch = 3, round = 250, global round = 750), Accuracy/Aggregation: 60.0\n",
      "Running (epoch = 3, round = 250, global round = 750) for Eval\n",
      "(epoch = 3, round = 250, global round = 750), Loss/Eval: 0.7013748710623143\n",
      "(epoch = 3, round = 250, global round = 750), Accuracy/Eval: 50.105633802816904\n",
      "Current eval accuracy: {'Accuracy': 50.105633802816904}%, Best so far: {'Accuracy': 60.70422535211268}%\n"
     ]
    },
    {
     "name": "stderr",
     "output_type": "stream",
     "text": [
      "Round: 100%|███████████████████████████████████████████████████████████████████████| 250/250 [00:58<00:00,  4.30round/s]\n",
      "Round: 100%|██████████████████████████████████████████████████████████████████████▋| 249/250 [00:55<00:00,  4.65round/s]"
     ]
    },
    {
     "name": "stdout",
     "output_type": "stream",
     "text": [
      "Train finished Global Round: 1000\n",
      "(epoch = 4, round = 250, global round = 1000), Loss/Training: 0.6950773156004194\n",
      "(epoch = 4, round = 250, global round = 1000), Accuracy/Training: 49.654377880184335\n",
      "reporting (epoch = 4, round = 250, global round = 1000) for aggregation\n",
      "(epoch = 4, round = 250, global round = 1000), Loss/Aggregation: 0.7079410552978516\n",
      "(epoch = 4, round = 250, global round = 1000), Accuracy/Aggregation: 47.36842105263158\n",
      "Running (epoch = 4, round = 250, global round = 1000) for Eval\n",
      "(epoch = 4, round = 250, global round = 1000), Loss/Eval: 0.6934039268300469\n",
      "(epoch = 4, round = 250, global round = 1000), Accuracy/Eval: 50.70422535211268\n",
      "Current eval accuracy: {'Accuracy': 50.70422535211268}%, Best so far: {'Accuracy': 60.70422535211268}%\n"
     ]
    },
    {
     "name": "stderr",
     "output_type": "stream",
     "text": [
      "Round: 100%|██████████████████████████████████████████████████████████████████████▋| 249/250 [00:58<00:00,  4.24round/s]\n",
      "Epoch:  75%|████████████████████████████████████████████████████████▎                  | 3/4 [03:55<01:18, 78.51s/epoch]"
     ]
    },
    {
     "name": "stdout",
     "output_type": "stream",
     "text": [
      "Running (epoch = 1, round = 1, global round = 1) for Test\n"
     ]
    },
    {
     "name": "stderr",
     "output_type": "stream",
     "text": [
      "\n",
      " 36%|█████████████▌                       | 146.0/400 [2:28:25<4:14:51, 60.20s/it, min_score=-60.1, models_evaluated=41]"
     ]
    },
    {
     "name": "stdout",
     "output_type": "stream",
     "text": [
      "(epoch = 1, round = 1, global round = 1), Loss/Test: 0.6934039269734997\n",
      "(epoch = 1, round = 1, global round = 1), Accuracy/Test: 50.70422535211268\n"
     ]
    },
    {
     "name": "stderr",
     "output_type": "stream",
     "text": [
      "Round: 100%|██████████████████████████████████████████████████████████████████████▋| 249/250 [00:58<00:00,  4.38round/s]"
     ]
    },
    {
     "name": "stdout",
     "output_type": "stream",
     "text": [
      "Train finished Global Round: 250\n",
      "(epoch = 1, round = 250, global round = 250), Loss/Training: 0.39526761434393654\n",
      "(epoch = 1, round = 250, global round = 250), Accuracy/Training: 80.85262386089872\n",
      "reporting (epoch = 1, round = 250, global round = 250) for aggregation\n",
      "(epoch = 1, round = 250, global round = 250), Loss/Aggregation: 0.2081248715519905\n",
      "(epoch = 1, round = 250, global round = 250), Accuracy/Aggregation: 92.72727272727273\n",
      "Running (epoch = 1, round = 250, global round = 250) for Eval\n",
      "(epoch = 1, round = 250, global round = 250), Loss/Eval: 0.8708283480984707\n",
      "(epoch = 1, round = 250, global round = 250), Accuracy/Eval: 58.90845070422535\n",
      "Current eval accuracy: {'Accuracy': 58.90845070422535}%, Best so far: {'Accuracy': 60.70422535211268}%\n"
     ]
    },
    {
     "name": "stderr",
     "output_type": "stream",
     "text": [
      "Round: 100%|███████████████████████████████████████████████████████████████████████| 250/250 [01:01<00:00,  4.05round/s]\n",
      "Round: 100%|██████████████████████████████████████████████████████████████████████▋| 249/250 [00:56<00:00,  4.67round/s]"
     ]
    },
    {
     "name": "stdout",
     "output_type": "stream",
     "text": [
      "Train finished Global Round: 500\n",
      "(epoch = 2, round = 250, global round = 500), Loss/Training: 0.32889867075053875\n",
      "(epoch = 2, round = 250, global round = 500), Accuracy/Training: 83.86040207815677\n",
      "reporting (epoch = 2, round = 250, global round = 500) for aggregation\n",
      "(epoch = 2, round = 250, global round = 500), Loss/Aggregation: 0.1132252187623332\n",
      "(epoch = 2, round = 250, global round = 500), Accuracy/Aggregation: 95.14563106796116\n",
      "Running (epoch = 2, round = 250, global round = 500) for Eval\n",
      "(epoch = 2, round = 250, global round = 500), Loss/Eval: 0.9404132205577825\n",
      "(epoch = 2, round = 250, global round = 500), Accuracy/Eval: 58.80281690140845\n",
      "Current eval accuracy: {'Accuracy': 58.80281690140845}%, Best so far: {'Accuracy': 60.70422535211268}%\n"
     ]
    },
    {
     "name": "stderr",
     "output_type": "stream",
     "text": [
      "Round: 100%|███████████████████████████████████████████████████████████████████████| 250/250 [00:59<00:00,  4.22round/s]\n",
      "Round: 100%|██████████████████████████████████████████████████████████████████████▋| 249/250 [00:58<00:00,  4.39round/s]"
     ]
    },
    {
     "name": "stdout",
     "output_type": "stream",
     "text": [
      "Train finished Global Round: 750\n",
      "(epoch = 3, round = 250, global round = 750), Loss/Training: 0.274424743990183\n",
      "(epoch = 3, round = 250, global round = 750), Accuracy/Training: 86.19947922563115\n",
      "reporting (epoch = 3, round = 250, global round = 750) for aggregation\n",
      "(epoch = 3, round = 250, global round = 750), Loss/Aggregation: 0.10035831090062856\n",
      "(epoch = 3, round = 250, global round = 750), Accuracy/Aggregation: 100.0\n",
      "Running (epoch = 3, round = 250, global round = 750) for Eval\n",
      "(epoch = 3, round = 250, global round = 750), Loss/Eval: 1.0185283050010465\n",
      "(epoch = 3, round = 250, global round = 750), Accuracy/Eval: 58.41549295774648\n",
      "Current eval accuracy: {'Accuracy': 58.41549295774648}%, Best so far: {'Accuracy': 60.70422535211268}%\n"
     ]
    },
    {
     "name": "stderr",
     "output_type": "stream",
     "text": [
      "Round: 100%|███████████████████████████████████████████████████████████████████████| 250/250 [01:01<00:00,  4.08round/s]\n",
      "Round: 100%|██████████████████████████████████████████████████████████████████████▋| 249/250 [00:57<00:00,  4.60round/s]"
     ]
    },
    {
     "name": "stdout",
     "output_type": "stream",
     "text": [
      "Train finished Global Round: 1000\n",
      "(epoch = 4, round = 250, global round = 1000), Loss/Training: 0.24520399004921994\n",
      "(epoch = 4, round = 250, global round = 1000), Accuracy/Training: 87.47360231188173\n",
      "reporting (epoch = 4, round = 250, global round = 1000) for aggregation\n",
      "(epoch = 4, round = 250, global round = 1000), Loss/Aggregation: 0.0335070806730073\n",
      "(epoch = 4, round = 250, global round = 1000), Accuracy/Aggregation: 100.0\n",
      "Running (epoch = 4, round = 250, global round = 1000) for Eval\n",
      "(epoch = 4, round = 250, global round = 1000), Loss/Eval: 1.0623593301857053\n",
      "(epoch = 4, round = 250, global round = 1000), Accuracy/Eval: 60.070422535211264\n",
      "Current eval accuracy: {'Accuracy': 60.070422535211264}%, Best so far: {'Accuracy': 60.70422535211268}%\n"
     ]
    },
    {
     "name": "stderr",
     "output_type": "stream",
     "text": [
      "Round: 100%|███████████████████████████████████████████████████████████████████████| 250/250 [01:00<00:00,  4.13round/s]\n",
      "Round: 100%|██████████████████████████████████████████████████████████████████████▋| 249/250 [00:54<00:00,  4.59round/s]"
     ]
    },
    {
     "name": "stdout",
     "output_type": "stream",
     "text": [
      "Train finished Global Round: 1250\n",
      "(epoch = 5, round = 250, global round = 1250), Loss/Training: 0.22169456493610715\n",
      "(epoch = 5, round = 250, global round = 1250), Accuracy/Training: 88.90746934225196\n",
      "reporting (epoch = 5, round = 250, global round = 1250) for aggregation\n",
      "(epoch = 5, round = 250, global round = 1250), Loss/Aggregation: 0.055792306864168494\n",
      "(epoch = 5, round = 250, global round = 1250), Accuracy/Aggregation: 100.0\n",
      "Running (epoch = 5, round = 250, global round = 1250) for Eval\n",
      "(epoch = 5, round = 250, global round = 1250), Loss/Eval: 1.109536845763772\n",
      "(epoch = 5, round = 250, global round = 1250), Accuracy/Eval: 59.894366197183096\n",
      "Current eval accuracy: {'Accuracy': 59.894366197183096}%, Best so far: {'Accuracy': 60.70422535211268}%\n"
     ]
    },
    {
     "name": "stderr",
     "output_type": "stream",
     "text": [
      "Round: 100%|███████████████████████████████████████████████████████████████████████| 250/250 [00:57<00:00,  4.33round/s]\n",
      "Round: 100%|██████████████████████████████████████████████████████████████████████▋| 249/250 [00:54<00:00,  4.62round/s]"
     ]
    },
    {
     "name": "stdout",
     "output_type": "stream",
     "text": [
      "Train finished Global Round: 1500\n",
      "(epoch = 6, round = 250, global round = 1500), Loss/Training: 0.18711318665555798\n",
      "(epoch = 6, round = 250, global round = 1500), Accuracy/Training: 91.07178365480215\n",
      "reporting (epoch = 6, round = 250, global round = 1500) for aggregation\n",
      "(epoch = 6, round = 250, global round = 1500), Loss/Aggregation: 0.24526446741074323\n",
      "(epoch = 6, round = 250, global round = 1500), Accuracy/Aggregation: 93.10344827586206\n",
      "Running (epoch = 6, round = 250, global round = 1500) for Eval\n",
      "(epoch = 6, round = 250, global round = 1500), Loss/Eval: 1.214355356939154\n",
      "(epoch = 6, round = 250, global round = 1500), Accuracy/Eval: 59.75352112676056\n",
      "Current eval accuracy: {'Accuracy': 59.75352112676056}%, Best so far: {'Accuracy': 60.70422535211268}%\n"
     ]
    },
    {
     "name": "stderr",
     "output_type": "stream",
     "text": [
      "Round: 100%|███████████████████████████████████████████████████████████████████████| 250/250 [00:57<00:00,  4.33round/s]\n",
      "Round: 100%|██████████████████████████████████████████████████████████████████████▋| 249/250 [00:54<00:00,  4.68round/s]"
     ]
    },
    {
     "name": "stdout",
     "output_type": "stream",
     "text": [
      "Train finished Global Round: 1750\n",
      "(epoch = 7, round = 250, global round = 1750), Loss/Training: 0.14784882134761285\n",
      "(epoch = 7, round = 250, global round = 1750), Accuracy/Training: 93.03931987247609\n",
      "reporting (epoch = 7, round = 250, global round = 1750) for aggregation\n",
      "(epoch = 7, round = 250, global round = 1750), Loss/Aggregation: 0.015162680983485189\n",
      "(epoch = 7, round = 250, global round = 1750), Accuracy/Aggregation: 100.0\n",
      "Running (epoch = 7, round = 250, global round = 1750) for Eval\n",
      "(epoch = 7, round = 250, global round = 1750), Loss/Eval: 1.3637450852540012\n",
      "(epoch = 7, round = 250, global round = 1750), Accuracy/Eval: 59.683098591549296\n",
      "Current eval accuracy: {'Accuracy': 59.683098591549296}%, Best so far: {'Accuracy': 60.70422535211268}%\n"
     ]
    },
    {
     "name": "stderr",
     "output_type": "stream",
     "text": [
      "Round: 100%|███████████████████████████████████████████████████████████████████████| 250/250 [00:57<00:00,  4.32round/s]\n",
      "Round: 100%|██████████████████████████████████████████████████████████████████████▋| 249/250 [00:54<00:00,  4.65round/s]"
     ]
    },
    {
     "name": "stdout",
     "output_type": "stream",
     "text": [
      "Train finished Global Round: 2000\n",
      "(epoch = 8, round = 250, global round = 2000), Loss/Training: 0.13132276387138975\n",
      "(epoch = 8, round = 250, global round = 2000), Accuracy/Training: 93.83747178329571\n",
      "reporting (epoch = 8, round = 250, global round = 2000) for aggregation\n",
      "(epoch = 8, round = 250, global round = 2000), Loss/Aggregation: 0.012564254922926921\n",
      "(epoch = 8, round = 250, global round = 2000), Accuracy/Aggregation: 100.0\n",
      "Running (epoch = 8, round = 250, global round = 2000) for Eval\n",
      "(epoch = 8, round = 250, global round = 2000), Loss/Eval: 1.3575510370964627\n",
      "(epoch = 8, round = 250, global round = 2000), Accuracy/Eval: 59.04929577464789\n",
      "Current eval accuracy: {'Accuracy': 59.04929577464789}%, Best so far: {'Accuracy': 60.70422535211268}%\n"
     ]
    },
    {
     "name": "stderr",
     "output_type": "stream",
     "text": [
      "Round: 100%|██████████████████████████████████████████████████████████████████████▋| 249/250 [00:57<00:00,  4.32round/s]\n",
      "Epoch:  88%|█████████████████████████████████████████████████████████████████▋         | 7/8 [07:53<01:07, 67.68s/epoch]"
     ]
    },
    {
     "name": "stdout",
     "output_type": "stream",
     "text": [
      "Running (epoch = 1, round = 1, global round = 1) for Test\n"
     ]
    },
    {
     "name": "stderr",
     "output_type": "stream",
     "text": [
      "\n",
      " 38%|██████████████▏                      | 154.0/400 [2:36:22<4:05:37, 59.91s/it, min_score=-60.1, models_evaluated=41]"
     ]
    },
    {
     "name": "stdout",
     "output_type": "stream",
     "text": [
      "(epoch = 1, round = 1, global round = 1), Loss/Test: 1.3575510370980504\n",
      "(epoch = 1, round = 1, global round = 1), Accuracy/Test: 59.04929577464789\n"
     ]
    },
    {
     "name": "stderr",
     "output_type": "stream",
     "text": [
      "Round: 100%|██████████████████████████████████████████████████████████████████████▋| 249/250 [00:54<00:00,  4.43round/s]"
     ]
    },
    {
     "name": "stdout",
     "output_type": "stream",
     "text": [
      "Train finished Global Round: 250\n",
      "(epoch = 1, round = 250, global round = 250), Loss/Training: 0.569153911356904\n",
      "(epoch = 1, round = 250, global round = 250), Accuracy/Training: 68.96248212124546\n",
      "reporting (epoch = 1, round = 250, global round = 250) for aggregation\n",
      "(epoch = 1, round = 250, global round = 250), Loss/Aggregation: 0.5707279846072197\n",
      "(epoch = 1, round = 250, global round = 250), Accuracy/Aggregation: 75.0\n",
      "Running (epoch = 1, round = 250, global round = 250) for Eval\n",
      "(epoch = 1, round = 250, global round = 250), Loss/Eval: 0.6770367276370286\n",
      "(epoch = 1, round = 250, global round = 250), Accuracy/Eval: 60.84507042253521\n",
      "Current eval accuracy: {'Accuracy': 60.84507042253521}%, Best so far: {'Accuracy': 60.70422535211268}%\n"
     ]
    },
    {
     "name": "stderr",
     "output_type": "stream",
     "text": [
      "Round: 100%|███████████████████████████████████████████████████████████████████████| 250/250 [00:57<00:00,  4.33round/s]\n",
      "Round: 100%|██████████████████████████████████████████████████████████████████████▋| 249/250 [00:56<00:00,  4.42round/s]"
     ]
    },
    {
     "name": "stdout",
     "output_type": "stream",
     "text": [
      "Train finished Global Round: 500\n",
      "(epoch = 2, round = 250, global round = 500), Loss/Training: 0.5540609867871215\n",
      "(epoch = 2, round = 250, global round = 500), Accuracy/Training: 70.39919937729346\n",
      "reporting (epoch = 2, round = 250, global round = 500) for aggregation\n",
      "(epoch = 2, round = 250, global round = 500), Loss/Aggregation: 0.47367429211735723\n",
      "(epoch = 2, round = 250, global round = 500), Accuracy/Aggregation: 74.66666666666667\n",
      "Running (epoch = 2, round = 250, global round = 500) for Eval\n",
      "(epoch = 2, round = 250, global round = 500), Loss/Eval: 0.6831908318232051\n",
      "(epoch = 2, round = 250, global round = 500), Accuracy/Eval: 60.528169014084504\n",
      "Current eval accuracy: {'Accuracy': 60.528169014084504}%, Best so far: {'Accuracy': 60.84507042253521}%\n"
     ]
    },
    {
     "name": "stderr",
     "output_type": "stream",
     "text": [
      "Round: 100%|███████████████████████████████████████████████████████████████████████| 250/250 [00:59<00:00,  4.18round/s]\n",
      "Round: 100%|██████████████████████████████████████████████████████████████████████▋| 249/250 [00:57<00:00,  4.25round/s]"
     ]
    },
    {
     "name": "stdout",
     "output_type": "stream",
     "text": [
      "Train finished Global Round: 750\n",
      "(epoch = 3, round = 250, global round = 750), Loss/Training: 0.5428301055599696\n",
      "(epoch = 3, round = 250, global round = 750), Accuracy/Training: 71.18488253319714\n",
      "reporting (epoch = 3, round = 250, global round = 750) for aggregation\n",
      "(epoch = 3, round = 250, global round = 750), Loss/Aggregation: 0.47614617049694063\n",
      "(epoch = 3, round = 250, global round = 750), Accuracy/Aggregation: 80.95238095238095\n",
      "Running (epoch = 3, round = 250, global round = 750) for Eval\n",
      "(epoch = 3, round = 250, global round = 750), Loss/Eval: 0.7041585440457919\n",
      "(epoch = 3, round = 250, global round = 750), Accuracy/Eval: 58.59154929577465\n",
      "Current eval accuracy: {'Accuracy': 58.59154929577465}%, Best so far: {'Accuracy': 60.84507042253521}%\n"
     ]
    },
    {
     "name": "stderr",
     "output_type": "stream",
     "text": [
      "Round: 100%|███████████████████████████████████████████████████████████████████████| 250/250 [01:00<00:00,  4.14round/s]\n",
      "Round: 100%|██████████████████████████████████████████████████████████████████████▋| 249/250 [00:57<00:00,  4.45round/s]"
     ]
    },
    {
     "name": "stdout",
     "output_type": "stream",
     "text": [
      "Train finished Global Round: 1000\n",
      "(epoch = 4, round = 250, global round = 1000), Loss/Training: 0.5333721066305807\n",
      "(epoch = 4, round = 250, global round = 1000), Accuracy/Training: 72.30869001297017\n",
      "reporting (epoch = 4, round = 250, global round = 1000) for aggregation\n",
      "(epoch = 4, round = 250, global round = 1000), Loss/Aggregation: 0.3963800691068172\n",
      "(epoch = 4, round = 250, global round = 1000), Accuracy/Aggregation: 86.20689655172414\n",
      "Running (epoch = 4, round = 250, global round = 1000) for Eval\n",
      "(epoch = 4, round = 250, global round = 1000), Loss/Eval: 0.7408243359975828\n",
      "(epoch = 4, round = 250, global round = 1000), Accuracy/Eval: 60.24647887323944\n",
      "Current eval accuracy: {'Accuracy': 60.24647887323944}%, Best so far: {'Accuracy': 60.84507042253521}%\n"
     ]
    },
    {
     "name": "stderr",
     "output_type": "stream",
     "text": [
      "Round: 100%|███████████████████████████████████████████████████████████████████████| 250/250 [01:00<00:00,  4.16round/s]\n",
      "Round: 100%|██████████████████████████████████████████████████████████████████████▋| 249/250 [00:55<00:00,  4.69round/s]"
     ]
    },
    {
     "name": "stdout",
     "output_type": "stream",
     "text": [
      "Train finished Global Round: 1250\n",
      "(epoch = 5, round = 250, global round = 1250), Loss/Training: 0.5413293898874009\n",
      "(epoch = 5, round = 250, global round = 1250), Accuracy/Training: 70.67908512143363\n",
      "reporting (epoch = 5, round = 250, global round = 1250) for aggregation\n",
      "(epoch = 5, round = 250, global round = 1250), Loss/Aggregation: 0.275570222735405\n",
      "(epoch = 5, round = 250, global round = 1250), Accuracy/Aggregation: 90.9090909090909\n",
      "Running (epoch = 5, round = 250, global round = 1250) for Eval\n",
      "(epoch = 5, round = 250, global round = 1250), Loss/Eval: 0.7514987391975588\n",
      "(epoch = 5, round = 250, global round = 1250), Accuracy/Eval: 59.50704225352113\n",
      "Current eval accuracy: {'Accuracy': 59.50704225352113}%, Best so far: {'Accuracy': 60.84507042253521}%\n"
     ]
    },
    {
     "name": "stderr",
     "output_type": "stream",
     "text": [
      "Round: 100%|███████████████████████████████████████████████████████████████████████| 250/250 [00:58<00:00,  4.29round/s]\n",
      "Round: 100%|██████████████████████████████████████████████████████████████████████▋| 249/250 [00:54<00:00,  4.55round/s]"
     ]
    },
    {
     "name": "stdout",
     "output_type": "stream",
     "text": [
      "Train finished Global Round: 1500\n",
      "(epoch = 6, round = 250, global round = 1500), Loss/Training: 0.5516936059467064\n",
      "(epoch = 6, round = 250, global round = 1500), Accuracy/Training: 71.28273870901216\n",
      "reporting (epoch = 6, round = 250, global round = 1500) for aggregation\n",
      "(epoch = 6, round = 250, global round = 1500), Loss/Aggregation: 0.4055976986885071\n",
      "(epoch = 6, round = 250, global round = 1500), Accuracy/Aggregation: 81.25\n",
      "Running (epoch = 6, round = 250, global round = 1500) for Eval\n",
      "(epoch = 6, round = 250, global round = 1500), Loss/Eval: 0.7495117835637751\n",
      "(epoch = 6, round = 250, global round = 1500), Accuracy/Eval: 61.16197183098591\n",
      "Current eval accuracy: {'Accuracy': 61.16197183098591}%, Best so far: {'Accuracy': 60.84507042253521}%\n"
     ]
    },
    {
     "name": "stderr",
     "output_type": "stream",
     "text": [
      "Round: 100%|███████████████████████████████████████████████████████████████████████| 250/250 [00:57<00:00,  4.32round/s]\n",
      "Round: 100%|██████████████████████████████████████████████████████████████████████▋| 249/250 [00:56<00:00,  4.64round/s]"
     ]
    },
    {
     "name": "stdout",
     "output_type": "stream",
     "text": [
      "Train finished Global Round: 1750\n",
      "(epoch = 7, round = 250, global round = 1750), Loss/Training: 0.5264828701538743\n",
      "(epoch = 7, round = 250, global round = 1750), Accuracy/Training: 71.85292895720815\n",
      "reporting (epoch = 7, round = 250, global round = 1750) for aggregation\n",
      "(epoch = 7, round = 250, global round = 1750), Loss/Aggregation: 0.22859262690568963\n",
      "(epoch = 7, round = 250, global round = 1750), Accuracy/Aggregation: 90.8256880733945\n",
      "Running (epoch = 7, round = 250, global round = 1750) for Eval\n",
      "(epoch = 7, round = 250, global round = 1750), Loss/Eval: 0.7681286845411702\n",
      "(epoch = 7, round = 250, global round = 1750), Accuracy/Eval: 59.96478873239437\n",
      "Current eval accuracy: {'Accuracy': 59.96478873239437}%, Best so far: {'Accuracy': 61.16197183098591}%\n"
     ]
    },
    {
     "name": "stderr",
     "output_type": "stream",
     "text": [
      "Round: 100%|███████████████████████████████████████████████████████████████████████| 250/250 [00:59<00:00,  4.20round/s]\n",
      "Round: 100%|██████████████████████████████████████████████████████████████████████▋| 249/250 [00:54<00:00,  4.36round/s]"
     ]
    },
    {
     "name": "stdout",
     "output_type": "stream",
     "text": [
      "Train finished Global Round: 2000\n",
      "(epoch = 8, round = 250, global round = 2000), Loss/Training: 0.529829061226343\n",
      "(epoch = 8, round = 250, global round = 2000), Accuracy/Training: 72.45828698553949\n",
      "reporting (epoch = 8, round = 250, global round = 2000) for aggregation\n",
      "(epoch = 8, round = 250, global round = 2000), Loss/Aggregation: 0.2591321706771851\n",
      "(epoch = 8, round = 250, global round = 2000), Accuracy/Aggregation: 89.0909090909091\n",
      "Running (epoch = 8, round = 250, global round = 2000) for Eval\n",
      "(epoch = 8, round = 250, global round = 2000), Loss/Eval: 0.7395106195963432\n",
      "(epoch = 8, round = 250, global round = 2000), Accuracy/Eval: 58.62676056338028\n",
      "Current eval accuracy: {'Accuracy': 58.62676056338028}%, Best so far: {'Accuracy': 61.16197183098591}%\n"
     ]
    },
    {
     "name": "stderr",
     "output_type": "stream",
     "text": [
      "Round: 100%|██████████████████████████████████████████████████████████████████████▋| 249/250 [00:57<00:00,  4.30round/s]\n",
      "Epoch:  88%|█████████████████████████████████████████████████████████████████▋         | 7/8 [07:51<01:07, 67.37s/epoch]"
     ]
    },
    {
     "name": "stdout",
     "output_type": "stream",
     "text": [
      "Running (epoch = 1, round = 1, global round = 1) for Test\n"
     ]
    },
    {
     "name": "stderr",
     "output_type": "stream",
     "text": [
      "\n",
      " 40%|██████████████▉                      | 162.0/400 [2:44:17<3:56:41, 59.67s/it, min_score=-60.1, models_evaluated=43]"
     ]
    },
    {
     "name": "stdout",
     "output_type": "stream",
     "text": [
      "(epoch = 1, round = 1, global round = 1), Loss/Test: 0.7395106193094376\n",
      "(epoch = 1, round = 1, global round = 1), Accuracy/Test: 58.62676056338028\n"
     ]
    },
    {
     "name": "stderr",
     "output_type": "stream",
     "text": [
      "Round: 100%|██████████████████████████████████████████████████████████████████████▋| 249/250 [00:57<00:00,  4.36round/s]"
     ]
    },
    {
     "name": "stdout",
     "output_type": "stream",
     "text": [
      "Train finished Global Round: 250\n",
      "(epoch = 1, round = 250, global round = 250), Loss/Training: 0.7860510622409526\n",
      "(epoch = 1, round = 250, global round = 250), Accuracy/Training: 50.529302630142965\n",
      "reporting (epoch = 1, round = 250, global round = 250) for aggregation\n",
      "(epoch = 1, round = 250, global round = 250), Loss/Aggregation: 0.8814844012260437\n",
      "(epoch = 1, round = 250, global round = 250), Accuracy/Aggregation: 71.11111111111111\n",
      "Running (epoch = 1, round = 250, global round = 250) for Eval\n",
      "(epoch = 1, round = 250, global round = 250), Loss/Eval: 0.8245343740355572\n",
      "(epoch = 1, round = 250, global round = 250), Accuracy/Eval: 50.105633802816904\n",
      "Current eval accuracy: {'Accuracy': 50.105633802816904}%, Best so far: {'Accuracy': 61.16197183098591}%\n"
     ]
    },
    {
     "name": "stderr",
     "output_type": "stream",
     "text": [
      "Round: 100%|███████████████████████████████████████████████████████████████████████| 250/250 [01:01<00:00,  4.07round/s]\n",
      "Round: 100%|██████████████████████████████████████████████████████████████████████▋| 249/250 [00:57<00:00,  4.43round/s]"
     ]
    },
    {
     "name": "stdout",
     "output_type": "stream",
     "text": [
      "Train finished Global Round: 500\n",
      "(epoch = 2, round = 250, global round = 500), Loss/Training: 0.8031628613217142\n",
      "(epoch = 2, round = 250, global round = 500), Accuracy/Training: 52.18001168907072\n",
      "reporting (epoch = 2, round = 250, global round = 500) for aggregation\n",
      "(epoch = 2, round = 250, global round = 500), Loss/Aggregation: 0.6902922809123992\n",
      "(epoch = 2, round = 250, global round = 500), Accuracy/Aggregation: 44.44444444444444\n",
      "Running (epoch = 2, round = 250, global round = 500) for Eval\n",
      "(epoch = 2, round = 250, global round = 500), Loss/Eval: 0.6943861553815298\n",
      "(epoch = 2, round = 250, global round = 500), Accuracy/Eval: 49.894366197183096\n",
      "Current eval accuracy: {'Accuracy': 49.894366197183096}%, Best so far: {'Accuracy': 61.16197183098591}%\n"
     ]
    },
    {
     "name": "stderr",
     "output_type": "stream",
     "text": [
      "Round: 100%|███████████████████████████████████████████████████████████████████████| 250/250 [01:00<00:00,  4.16round/s]\n",
      "Round: 100%|██████████████████████████████████████████████████████████████████████▋| 249/250 [00:54<00:00,  4.67round/s]"
     ]
    },
    {
     "name": "stdout",
     "output_type": "stream",
     "text": [
      "Train finished Global Round: 750\n",
      "(epoch = 3, round = 250, global round = 750), Loss/Training: 0.7278425391182941\n",
      "(epoch = 3, round = 250, global round = 750), Accuracy/Training: 51.131171291652734\n",
      "reporting (epoch = 3, round = 250, global round = 750) for aggregation\n",
      "(epoch = 3, round = 250, global round = 750), Loss/Aggregation: 0.7944639652967453\n",
      "(epoch = 3, round = 250, global round = 750), Accuracy/Aggregation: 46.15384615384615\n",
      "Running (epoch = 3, round = 250, global round = 750) for Eval\n",
      "(epoch = 3, round = 250, global round = 750), Loss/Eval: 0.779731872650308\n",
      "(epoch = 3, round = 250, global round = 750), Accuracy/Eval: 49.894366197183096\n",
      "Current eval accuracy: {'Accuracy': 49.894366197183096}%, Best so far: {'Accuracy': 61.16197183098591}%\n"
     ]
    },
    {
     "name": "stderr",
     "output_type": "stream",
     "text": [
      "Round: 100%|███████████████████████████████████████████████████████████████████████| 250/250 [00:57<00:00,  4.36round/s]\n",
      "Round: 100%|██████████████████████████████████████████████████████████████████████▋| 249/250 [00:55<00:00,  4.64round/s]"
     ]
    },
    {
     "name": "stdout",
     "output_type": "stream",
     "text": [
      "Train finished Global Round: 1000\n",
      "(epoch = 4, round = 250, global round = 1000), Loss/Training: 0.7112720600164901\n",
      "(epoch = 4, round = 250, global round = 1000), Accuracy/Training: 50.9913692558899\n",
      "reporting (epoch = 4, round = 250, global round = 1000) for aggregation\n",
      "(epoch = 4, round = 250, global round = 1000), Loss/Aggregation: 0.6447825610637665\n",
      "(epoch = 4, round = 250, global round = 1000), Accuracy/Aggregation: 71.42857142857143\n",
      "Running (epoch = 4, round = 250, global round = 1000) for Eval\n",
      "(epoch = 4, round = 250, global round = 1000), Loss/Eval: 0.7262020589618667\n",
      "(epoch = 4, round = 250, global round = 1000), Accuracy/Eval: 49.894366197183096\n",
      "Current eval accuracy: {'Accuracy': 49.894366197183096}%, Best so far: {'Accuracy': 61.16197183098591}%\n"
     ]
    },
    {
     "name": "stderr",
     "output_type": "stream",
     "text": [
      "Round: 100%|██████████████████████████████████████████████████████████████████████▋| 249/250 [00:58<00:00,  4.28round/s]\n",
      "Epoch:  75%|████████████████████████████████████████████████████████▎                  | 3/4 [03:56<01:18, 78.99s/epoch]"
     ]
    },
    {
     "name": "stdout",
     "output_type": "stream",
     "text": [
      "Running (epoch = 1, round = 1, global round = 1) for Test\n"
     ]
    },
    {
     "name": "stderr",
     "output_type": "stream",
     "text": [
      "\n",
      " 42%|███████████████▎                     | 166.0/400 [2:48:17<3:53:00, 59.75s/it, min_score=-60.1, models_evaluated=43]"
     ]
    },
    {
     "name": "stdout",
     "output_type": "stream",
     "text": [
      "(epoch = 1, round = 1, global round = 1), Loss/Test: 0.726202058937958\n",
      "(epoch = 1, round = 1, global round = 1), Accuracy/Test: 49.894366197183096\n"
     ]
    },
    {
     "name": "stderr",
     "output_type": "stream",
     "text": [
      "Round: 100%|██████████████████████████████████████████████████████████████████████▋| 249/250 [00:55<00:00,  4.30round/s]"
     ]
    },
    {
     "name": "stdout",
     "output_type": "stream",
     "text": [
      "Train finished Global Round: 250\n",
      "(epoch = 1, round = 250, global round = 250), Loss/Training: 0.727665499044905\n",
      "(epoch = 1, round = 250, global round = 250), Accuracy/Training: 52.01535508637236\n",
      "reporting (epoch = 1, round = 250, global round = 250) for aggregation\n",
      "(epoch = 1, round = 250, global round = 250), Loss/Aggregation: 0.6860328858548944\n",
      "(epoch = 1, round = 250, global round = 250), Accuracy/Aggregation: 50.0\n",
      "Running (epoch = 1, round = 250, global round = 250) for Eval\n",
      "(epoch = 1, round = 250, global round = 250), Loss/Eval: 0.6969052314686575\n",
      "(epoch = 1, round = 250, global round = 250), Accuracy/Eval: 50.316901408450704\n",
      "Current eval accuracy: {'Accuracy': 50.316901408450704}%, Best so far: {'Accuracy': 61.16197183098591}%\n"
     ]
    },
    {
     "name": "stderr",
     "output_type": "stream",
     "text": [
      "Round: 100%|███████████████████████████████████████████████████████████████████████| 250/250 [00:59<00:00,  4.21round/s]\n",
      "Round: 100%|██████████████████████████████████████████████████████████████████████▋| 249/250 [00:56<00:00,  4.55round/s]"
     ]
    },
    {
     "name": "stdout",
     "output_type": "stream",
     "text": [
      "Train finished Global Round: 500\n",
      "(epoch = 2, round = 250, global round = 500), Loss/Training: 0.707661288088501\n",
      "(epoch = 2, round = 250, global round = 500), Accuracy/Training: 51.110374544249254\n",
      "reporting (epoch = 2, round = 250, global round = 500) for aggregation\n",
      "(epoch = 2, round = 250, global round = 500), Loss/Aggregation: 0.6218169033527374\n",
      "(epoch = 2, round = 250, global round = 500), Accuracy/Aggregation: 62.5\n",
      "Running (epoch = 2, round = 250, global round = 500) for Eval\n",
      "(epoch = 2, round = 250, global round = 500), Loss/Eval: 0.7233456649062531\n",
      "(epoch = 2, round = 250, global round = 500), Accuracy/Eval: 50.73943661971831\n",
      "Current eval accuracy: {'Accuracy': 50.73943661971831}%, Best so far: {'Accuracy': 61.16197183098591}%\n"
     ]
    },
    {
     "name": "stderr",
     "output_type": "stream",
     "text": [
      "Round: 100%|███████████████████████████████████████████████████████████████████████| 250/250 [00:59<00:00,  4.17round/s]\n",
      "Round: 100%|██████████████████████████████████████████████████████████████████████▋| 249/250 [00:57<00:00,  4.37round/s]"
     ]
    },
    {
     "name": "stdout",
     "output_type": "stream",
     "text": [
      "Train finished Global Round: 750\n",
      "(epoch = 3, round = 250, global round = 750), Loss/Training: 0.7091672105200922\n",
      "(epoch = 3, round = 250, global round = 750), Accuracy/Training: 50.739078068542646\n",
      "reporting (epoch = 3, round = 250, global round = 750) for aggregation\n",
      "(epoch = 3, round = 250, global round = 750), Loss/Aggregation: 0.6836252182722091\n",
      "(epoch = 3, round = 250, global round = 750), Accuracy/Aggregation: 52.17391304347826\n",
      "Running (epoch = 3, round = 250, global round = 750) for Eval\n",
      "(epoch = 3, round = 250, global round = 750), Loss/Eval: 0.7009037610306302\n",
      "(epoch = 3, round = 250, global round = 750), Accuracy/Eval: 52.147887323943664\n",
      "Current eval accuracy: {'Accuracy': 52.147887323943664}%, Best so far: {'Accuracy': 61.16197183098591}%\n"
     ]
    },
    {
     "name": "stderr",
     "output_type": "stream",
     "text": [
      "Round: 100%|███████████████████████████████████████████████████████████████████████| 250/250 [01:00<00:00,  4.14round/s]\n",
      "Round: 100%|██████████████████████████████████████████████████████████████████████▋| 249/250 [00:54<00:00,  4.67round/s]"
     ]
    },
    {
     "name": "stdout",
     "output_type": "stream",
     "text": [
      "Train finished Global Round: 1000\n",
      "(epoch = 4, round = 250, global round = 1000), Loss/Training: 0.7029769563799889\n",
      "(epoch = 4, round = 250, global round = 1000), Accuracy/Training: 52.76935516474631\n",
      "reporting (epoch = 4, round = 250, global round = 1000) for aggregation\n",
      "(epoch = 4, round = 250, global round = 1000), Loss/Aggregation: 0.658341949636286\n",
      "(epoch = 4, round = 250, global round = 1000), Accuracy/Aggregation: 70.27027027027027\n",
      "Running (epoch = 4, round = 250, global round = 1000) for Eval\n",
      "(epoch = 4, round = 250, global round = 1000), Loss/Eval: 0.6979757494540086\n",
      "(epoch = 4, round = 250, global round = 1000), Accuracy/Eval: 48.767605633802816\n",
      "Current eval accuracy: {'Accuracy': 48.767605633802816}%, Best so far: {'Accuracy': 61.16197183098591}%\n"
     ]
    },
    {
     "name": "stderr",
     "output_type": "stream",
     "text": [
      "Round: 100%|██████████████████████████████████████████████████████████████████████▋| 249/250 [00:57<00:00,  4.30round/s]\n",
      "Epoch:  75%|████████████████████████████████████████████████████████▎                  | 3/4 [03:57<01:19, 79.17s/epoch]"
     ]
    },
    {
     "name": "stdout",
     "output_type": "stream",
     "text": [
      "Running (epoch = 1, round = 1, global round = 1) for Test\n"
     ]
    },
    {
     "name": "stderr",
     "output_type": "stream",
     "text": [
      "\n",
      " 42%|███████████████▋                     | 170.0/400 [2:52:17<3:49:24, 59.85s/it, min_score=-60.1, models_evaluated=43]"
     ]
    },
    {
     "name": "stdout",
     "output_type": "stream",
     "text": [
      "(epoch = 1, round = 1, global round = 1), Loss/Test: 0.6979757494540086\n",
      "(epoch = 1, round = 1, global round = 1), Accuracy/Test: 48.767605633802816\n"
     ]
    },
    {
     "name": "stderr",
     "output_type": "stream",
     "text": [
      "Round: 100%|██████████████████████████████████████████████████████████████████████▋| 249/250 [00:54<00:00,  4.68round/s]"
     ]
    },
    {
     "name": "stdout",
     "output_type": "stream",
     "text": [
      "Train finished Global Round: 250\n",
      "(epoch = 1, round = 250, global round = 250), Loss/Training: 0.8593833550031734\n",
      "(epoch = 1, round = 250, global round = 250), Accuracy/Training: 50.757983012579295\n",
      "reporting (epoch = 1, round = 250, global round = 250) for aggregation\n",
      "(epoch = 1, round = 250, global round = 250), Loss/Aggregation: 0.6885853409767151\n",
      "(epoch = 1, round = 250, global round = 250), Accuracy/Aggregation: 50.0\n",
      "Running (epoch = 1, round = 250, global round = 250) for Eval\n",
      "(epoch = 1, round = 250, global round = 250), Loss/Eval: 0.7198936775165344\n",
      "(epoch = 1, round = 250, global round = 250), Accuracy/Eval: 51.19718309859155\n",
      "Current eval accuracy: {'Accuracy': 51.19718309859155}%, Best so far: {'Accuracy': 61.16197183098591}%\n"
     ]
    },
    {
     "name": "stderr",
     "output_type": "stream",
     "text": [
      "Round: 100%|███████████████████████████████████████████████████████████████████████| 250/250 [00:57<00:00,  4.31round/s]\n",
      "Round: 100%|██████████████████████████████████████████████████████████████████████▋| 249/250 [00:54<00:00,  4.66round/s]"
     ]
    },
    {
     "name": "stdout",
     "output_type": "stream",
     "text": [
      "Train finished Global Round: 500\n",
      "(epoch = 2, round = 250, global round = 500), Loss/Training: 0.7679326622348102\n",
      "(epoch = 2, round = 250, global round = 500), Accuracy/Training: 51.28757676974464\n",
      "reporting (epoch = 2, round = 250, global round = 500) for aggregation\n",
      "(epoch = 2, round = 250, global round = 500), Loss/Aggregation: 0.6776343584060669\n",
      "(epoch = 2, round = 250, global round = 500), Accuracy/Aggregation: 65.11627906976744\n",
      "Running (epoch = 2, round = 250, global round = 500) for Eval\n",
      "(epoch = 2, round = 250, global round = 500), Loss/Eval: 0.7136257144458505\n",
      "(epoch = 2, round = 250, global round = 500), Accuracy/Eval: 49.96478873239437\n",
      "Current eval accuracy: {'Accuracy': 49.96478873239437}%, Best so far: {'Accuracy': 61.16197183098591}%\n"
     ]
    },
    {
     "name": "stderr",
     "output_type": "stream",
     "text": [
      "Round: 100%|███████████████████████████████████████████████████████████████████████| 250/250 [00:57<00:00,  4.38round/s]\n",
      "Round: 100%|██████████████████████████████████████████████████████████████████████▋| 249/250 [00:54<00:00,  4.50round/s]"
     ]
    },
    {
     "name": "stdout",
     "output_type": "stream",
     "text": [
      "Train finished Global Round: 750\n",
      "(epoch = 3, round = 250, global round = 750), Loss/Training: 0.717296541364694\n",
      "(epoch = 3, round = 250, global round = 750), Accuracy/Training: 52.27005410491649\n",
      "reporting (epoch = 3, round = 250, global round = 750) for aggregation\n",
      "(epoch = 3, round = 250, global round = 750), Loss/Aggregation: 0.7242443472146988\n",
      "(epoch = 3, round = 250, global round = 750), Accuracy/Aggregation: 48.275862068965516\n",
      "Running (epoch = 3, round = 250, global round = 750) for Eval\n",
      "(epoch = 3, round = 250, global round = 750), Loss/Eval: 0.7229064418831552\n",
      "(epoch = 3, round = 250, global round = 750), Accuracy/Eval: 48.83802816901409\n",
      "Current eval accuracy: {'Accuracy': 48.83802816901409}%, Best so far: {'Accuracy': 61.16197183098591}%\n"
     ]
    },
    {
     "name": "stderr",
     "output_type": "stream",
     "text": [
      "Round: 100%|███████████████████████████████████████████████████████████████████████| 250/250 [00:57<00:00,  4.35round/s]\n",
      "Round: 100%|██████████████████████████████████████████████████████████████████████▋| 249/250 [00:54<00:00,  4.61round/s]"
     ]
    },
    {
     "name": "stdout",
     "output_type": "stream",
     "text": [
      "Train finished Global Round: 1000\n",
      "(epoch = 4, round = 250, global round = 1000), Loss/Training: 0.7080966631375436\n",
      "(epoch = 4, round = 250, global round = 1000), Accuracy/Training: 52.81314615300903\n",
      "reporting (epoch = 4, round = 250, global round = 1000) for aggregation\n",
      "(epoch = 4, round = 250, global round = 1000), Loss/Aggregation: 0.7021701216697693\n",
      "(epoch = 4, round = 250, global round = 1000), Accuracy/Aggregation: 64.38356164383562\n",
      "Running (epoch = 4, round = 250, global round = 1000) for Eval\n",
      "(epoch = 4, round = 250, global round = 1000), Loss/Eval: 0.7145566224209094\n",
      "(epoch = 4, round = 250, global round = 1000), Accuracy/Eval: 51.478873239436616\n",
      "Current eval accuracy: {'Accuracy': 51.478873239436616}%, Best so far: {'Accuracy': 61.16197183098591}%\n"
     ]
    },
    {
     "name": "stderr",
     "output_type": "stream",
     "text": [
      "Round: 100%|██████████████████████████████████████████████████████████████████████▋| 249/250 [00:57<00:00,  4.30round/s]\n",
      "Epoch:  75%|████████████████████████████████████████████████████████▎                  | 3/4 [03:50<01:16, 76.85s/epoch]"
     ]
    },
    {
     "name": "stdout",
     "output_type": "stream",
     "text": [
      "Running (epoch = 1, round = 1, global round = 1) for Test\n"
     ]
    },
    {
     "name": "stderr",
     "output_type": "stream",
     "text": [
      "\n",
      " 44%|████████████████                     | 174.0/400 [2:56:11<3:44:01, 59.47s/it, min_score=-60.1, models_evaluated=43]"
     ]
    },
    {
     "name": "stdout",
     "output_type": "stream",
     "text": [
      "(epoch = 1, round = 1, global round = 1), Loss/Test: 0.7145566223252743\n",
      "(epoch = 1, round = 1, global round = 1), Accuracy/Test: 51.478873239436616\n"
     ]
    },
    {
     "name": "stderr",
     "output_type": "stream",
     "text": [
      "Round: 100%|██████████████████████████████████████████████████████████████████████▋| 249/250 [00:54<00:00,  4.63round/s]"
     ]
    },
    {
     "name": "stdout",
     "output_type": "stream",
     "text": [
      "Train finished Global Round: 250\n",
      "(epoch = 1, round = 250, global round = 250), Loss/Training: 0.7307328608542953\n",
      "(epoch = 1, round = 250, global round = 250), Accuracy/Training: 50.28669724770642\n",
      "reporting (epoch = 1, round = 250, global round = 250) for aggregation\n",
      "(epoch = 1, round = 250, global round = 250), Loss/Aggregation: 0.7206050753593445\n",
      "(epoch = 1, round = 250, global round = 250), Accuracy/Aggregation: 50.0\n",
      "Running (epoch = 1, round = 250, global round = 250) for Eval\n",
      "(epoch = 1, round = 250, global round = 250), Loss/Eval: 0.6987210462909121\n",
      "(epoch = 1, round = 250, global round = 250), Accuracy/Eval: 49.894366197183096\n",
      "Current eval accuracy: {'Accuracy': 49.894366197183096}%, Best so far: {'Accuracy': 61.16197183098591}%\n"
     ]
    },
    {
     "name": "stderr",
     "output_type": "stream",
     "text": [
      "Round: 100%|███████████████████████████████████████████████████████████████████████| 250/250 [00:57<00:00,  4.36round/s]\n",
      "Round: 100%|██████████████████████████████████████████████████████████████████████▋| 249/250 [00:55<00:00,  4.58round/s]"
     ]
    },
    {
     "name": "stdout",
     "output_type": "stream",
     "text": [
      "Train finished Global Round: 500\n",
      "(epoch = 2, round = 250, global round = 500), Loss/Training: 0.7024628600616047\n",
      "(epoch = 2, round = 250, global round = 500), Accuracy/Training: 50.31712473572939\n",
      "reporting (epoch = 2, round = 250, global round = 500) for aggregation\n",
      "(epoch = 2, round = 250, global round = 500), Loss/Aggregation: 0.7356796056032181\n",
      "(epoch = 2, round = 250, global round = 500), Accuracy/Aggregation: 57.89473684210526\n",
      "Running (epoch = 2, round = 250, global round = 500) for Eval\n",
      "(epoch = 2, round = 250, global round = 500), Loss/Eval: 0.8137654005596545\n",
      "(epoch = 2, round = 250, global round = 500), Accuracy/Eval: 50.105633802816904\n",
      "Current eval accuracy: {'Accuracy': 50.105633802816904}%, Best so far: {'Accuracy': 61.16197183098591}%\n"
     ]
    },
    {
     "name": "stderr",
     "output_type": "stream",
     "text": [
      "Round: 100%|███████████████████████████████████████████████████████████████████████| 250/250 [00:58<00:00,  4.30round/s]\n",
      "Round: 100%|██████████████████████████████████████████████████████████████████████▋| 249/250 [00:57<00:00,  4.36round/s]"
     ]
    },
    {
     "name": "stdout",
     "output_type": "stream",
     "text": [
      "Train finished Global Round: 750\n",
      "(epoch = 3, round = 250, global round = 750), Loss/Training: 0.844764351169023\n",
      "(epoch = 3, round = 250, global round = 750), Accuracy/Training: 51.60219848594836\n",
      "reporting (epoch = 3, round = 250, global round = 750) for aggregation\n",
      "(epoch = 3, round = 250, global round = 750), Loss/Aggregation: 0.6992795020341873\n",
      "(epoch = 3, round = 250, global round = 750), Accuracy/Aggregation: 30.708661417322833\n",
      "Running (epoch = 3, round = 250, global round = 750) for Eval\n",
      "(epoch = 3, round = 250, global round = 750), Loss/Eval: 0.6936359389737768\n",
      "(epoch = 3, round = 250, global round = 750), Accuracy/Eval: 49.894366197183096\n",
      "Current eval accuracy: {'Accuracy': 49.894366197183096}%, Best so far: {'Accuracy': 61.16197183098591}%\n"
     ]
    },
    {
     "name": "stderr",
     "output_type": "stream",
     "text": [
      "Round: 100%|███████████████████████████████████████████████████████████████████████| 250/250 [01:00<00:00,  4.10round/s]\n",
      "Round: 100%|██████████████████████████████████████████████████████████████████████▋| 249/250 [00:54<00:00,  4.61round/s]"
     ]
    },
    {
     "name": "stdout",
     "output_type": "stream",
     "text": [
      "Train finished Global Round: 1000\n",
      "(epoch = 4, round = 250, global round = 1000), Loss/Training: 0.7370687322053153\n",
      "(epoch = 4, round = 250, global round = 1000), Accuracy/Training: 53.9778683750728\n",
      "reporting (epoch = 4, round = 250, global round = 1000) for aggregation\n",
      "(epoch = 4, round = 250, global round = 1000), Loss/Aggregation: 0.6848471954464912\n",
      "(epoch = 4, round = 250, global round = 1000), Accuracy/Aggregation: 80.55555555555556\n",
      "Running (epoch = 4, round = 250, global round = 1000) for Eval\n",
      "(epoch = 4, round = 250, global round = 1000), Loss/Eval: 0.9018362304901818\n",
      "(epoch = 4, round = 250, global round = 1000), Accuracy/Eval: 50.105633802816904\n",
      "Current eval accuracy: {'Accuracy': 50.105633802816904}%, Best so far: {'Accuracy': 61.16197183098591}%\n"
     ]
    },
    {
     "name": "stderr",
     "output_type": "stream",
     "text": [
      "Round: 100%|██████████████████████████████████████████████████████████████████████▋| 249/250 [00:58<00:00,  4.26round/s]\n",
      "Epoch:  75%|████████████████████████████████████████████████████████▎                  | 3/4 [03:54<01:18, 78.31s/epoch]"
     ]
    },
    {
     "name": "stdout",
     "output_type": "stream",
     "text": [
      "Running (epoch = 1, round = 1, global round = 1) for Test\n"
     ]
    },
    {
     "name": "stderr",
     "output_type": "stream",
     "text": [
      "\n",
      " 44%|████████████████▍                    | 178.0/400 [3:00:09<3:40:05, 59.49s/it, min_score=-60.1, models_evaluated=43]"
     ]
    },
    {
     "name": "stdout",
     "output_type": "stream",
     "text": [
      "(epoch = 1, round = 1, global round = 1), Loss/Test: 0.9018362302750026\n",
      "(epoch = 1, round = 1, global round = 1), Accuracy/Test: 50.105633802816904\n"
     ]
    },
    {
     "name": "stderr",
     "output_type": "stream",
     "text": [
      "Round: 100%|██████████████████████████████████████████████████████████████████████▋| 249/250 [00:54<00:00,  4.58round/s]"
     ]
    },
    {
     "name": "stdout",
     "output_type": "stream",
     "text": [
      "Train finished Global Round: 250\n",
      "(epoch = 1, round = 250, global round = 250), Loss/Training: 0.7176186097738145\n",
      "(epoch = 1, round = 250, global round = 250), Accuracy/Training: 50.76986245124205\n",
      "reporting (epoch = 1, round = 250, global round = 250) for aggregation\n",
      "(epoch = 1, round = 250, global round = 250), Loss/Aggregation: 0.6855897188186646\n",
      "(epoch = 1, round = 250, global round = 250), Accuracy/Aggregation: 64.28571428571429\n",
      "Running (epoch = 1, round = 250, global round = 250) for Eval\n",
      "(epoch = 1, round = 250, global round = 250), Loss/Eval: 0.6949950474550864\n",
      "(epoch = 1, round = 250, global round = 250), Accuracy/Eval: 49.894366197183096\n",
      "Current eval accuracy: {'Accuracy': 49.894366197183096}%, Best so far: {'Accuracy': 61.16197183098591}%\n"
     ]
    },
    {
     "name": "stderr",
     "output_type": "stream",
     "text": [
      "Round: 100%|███████████████████████████████████████████████████████████████████████| 250/250 [00:57<00:00,  4.36round/s]\n",
      "Round: 100%|██████████████████████████████████████████████████████████████████████▋| 249/250 [00:54<00:00,  3.18round/s]"
     ]
    },
    {
     "name": "stdout",
     "output_type": "stream",
     "text": [
      "Train finished Global Round: 500\n",
      "(epoch = 2, round = 250, global round = 500), Loss/Training: 0.8288369140794041\n",
      "(epoch = 2, round = 250, global round = 500), Accuracy/Training: 51.30901522620221\n",
      "reporting (epoch = 2, round = 250, global round = 500) for aggregation\n",
      "(epoch = 2, round = 250, global round = 500), Loss/Aggregation: 0.585533391345631\n",
      "(epoch = 2, round = 250, global round = 500), Accuracy/Aggregation: 84.50704225352112\n",
      "Running (epoch = 2, round = 250, global round = 500) for Eval\n",
      "(epoch = 2, round = 250, global round = 500), Loss/Eval: 0.7451083556540845\n",
      "(epoch = 2, round = 250, global round = 500), Accuracy/Eval: 49.82394366197183\n",
      "Current eval accuracy: {'Accuracy': 49.82394366197183}%, Best so far: {'Accuracy': 61.16197183098591}%\n"
     ]
    },
    {
     "name": "stderr",
     "output_type": "stream",
     "text": [
      "Round: 100%|███████████████████████████████████████████████████████████████████████| 250/250 [00:57<00:00,  4.36round/s]\n",
      "Round: 100%|██████████████████████████████████████████████████████████████████████▋| 249/250 [00:54<00:00,  4.59round/s]"
     ]
    },
    {
     "name": "stdout",
     "output_type": "stream",
     "text": [
      "Train finished Global Round: 750\n",
      "(epoch = 3, round = 250, global round = 750), Loss/Training: 0.7156525429711039\n",
      "(epoch = 3, round = 250, global round = 750), Accuracy/Training: 51.8970736629667\n",
      "reporting (epoch = 3, round = 250, global round = 750) for aggregation\n",
      "(epoch = 3, round = 250, global round = 750), Loss/Aggregation: 0.6533355414867401\n",
      "(epoch = 3, round = 250, global round = 750), Accuracy/Aggregation: 59.25925925925926\n",
      "Running (epoch = 3, round = 250, global round = 750) for Eval\n",
      "(epoch = 3, round = 250, global round = 750), Loss/Eval: 0.7045297955670512\n",
      "(epoch = 3, round = 250, global round = 750), Accuracy/Eval: 49.96478873239437\n",
      "Current eval accuracy: {'Accuracy': 49.96478873239437}%, Best so far: {'Accuracy': 61.16197183098591}%\n"
     ]
    },
    {
     "name": "stderr",
     "output_type": "stream",
     "text": [
      "Round: 100%|███████████████████████████████████████████████████████████████████████| 250/250 [00:57<00:00,  4.36round/s]\n",
      "Round: 100%|██████████████████████████████████████████████████████████████████████▋| 249/250 [00:54<00:00,  4.62round/s]"
     ]
    },
    {
     "name": "stdout",
     "output_type": "stream",
     "text": [
      "Train finished Global Round: 1000\n",
      "(epoch = 4, round = 250, global round = 1000), Loss/Training: 0.7097030403557796\n",
      "(epoch = 4, round = 250, global round = 1000), Accuracy/Training: 51.15692510143656\n",
      "reporting (epoch = 4, round = 250, global round = 1000) for aggregation\n",
      "(epoch = 4, round = 250, global round = 1000), Loss/Aggregation: 0.6379053375937722\n",
      "(epoch = 4, round = 250, global round = 1000), Accuracy/Aggregation: 67.12328767123287\n",
      "Running (epoch = 4, round = 250, global round = 1000) for Eval\n",
      "(epoch = 4, round = 250, global round = 1000), Loss/Eval: 0.7038626279749165\n",
      "(epoch = 4, round = 250, global round = 1000), Accuracy/Eval: 50.88028169014085\n",
      "Current eval accuracy: {'Accuracy': 50.88028169014085}%, Best so far: {'Accuracy': 61.16197183098591}%\n"
     ]
    },
    {
     "name": "stderr",
     "output_type": "stream",
     "text": [
      "Round: 100%|██████████████████████████████████████████████████████████████████████▋| 249/250 [00:57<00:00,  4.32round/s]\n",
      "Epoch:  75%|████████████████████████████████████████████████████████▎                  | 3/4 [03:49<01:16, 76.57s/epoch]"
     ]
    },
    {
     "name": "stdout",
     "output_type": "stream",
     "text": [
      "Running (epoch = 1, round = 1, global round = 1) for Test\n"
     ]
    },
    {
     "name": "stderr",
     "output_type": "stream",
     "text": [
      "\n",
      " 46%|████████████████▊                    | 182.0/400 [3:04:02<3:34:56, 59.16s/it, min_score=-60.1, models_evaluated=43]"
     ]
    },
    {
     "name": "stdout",
     "output_type": "stream",
     "text": [
      "(epoch = 1, round = 1, global round = 1), Loss/Test: 0.7038626281661868\n",
      "(epoch = 1, round = 1, global round = 1), Accuracy/Test: 50.88028169014085\n"
     ]
    },
    {
     "name": "stderr",
     "output_type": "stream",
     "text": [
      "Round: 100%|██████████████████████████████████████████████████████████████████████▋| 249/250 [00:54<00:00,  4.69round/s]"
     ]
    },
    {
     "name": "stdout",
     "output_type": "stream",
     "text": [
      "Train finished Global Round: 250\n",
      "(epoch = 1, round = 250, global round = 250), Loss/Training: 0.7015255849835127\n",
      "(epoch = 1, round = 250, global round = 250), Accuracy/Training: 49.87543006287816\n",
      "reporting (epoch = 1, round = 250, global round = 250) for aggregation\n",
      "(epoch = 1, round = 250, global round = 250), Loss/Aggregation: 0.6455345262180675\n",
      "(epoch = 1, round = 250, global round = 250), Accuracy/Aggregation: 84.0\n",
      "Running (epoch = 1, round = 250, global round = 250) for Eval\n",
      "(epoch = 1, round = 250, global round = 250), Loss/Eval: 0.6964919382412654\n",
      "(epoch = 1, round = 250, global round = 250), Accuracy/Eval: 50.88028169014085\n",
      "Current eval accuracy: {'Accuracy': 50.88028169014085}%, Best so far: {'Accuracy': 61.16197183098591}%\n"
     ]
    },
    {
     "name": "stderr",
     "output_type": "stream",
     "text": [
      "Round: 100%|███████████████████████████████████████████████████████████████████████| 250/250 [00:57<00:00,  4.35round/s]\n",
      "Round: 100%|██████████████████████████████████████████████████████████████████████▋| 249/250 [00:54<00:00,  4.55round/s]"
     ]
    },
    {
     "name": "stdout",
     "output_type": "stream",
     "text": [
      "Train finished Global Round: 500\n",
      "(epoch = 2, round = 250, global round = 500), Loss/Training: 0.7005395784915084\n",
      "(epoch = 2, round = 250, global round = 500), Accuracy/Training: 50.784623486045284\n",
      "reporting (epoch = 2, round = 250, global round = 500) for aggregation\n",
      "(epoch = 2, round = 250, global round = 500), Loss/Aggregation: 0.6765163004398346\n",
      "(epoch = 2, round = 250, global round = 500), Accuracy/Aggregation: 57.142857142857146\n",
      "Running (epoch = 2, round = 250, global round = 500) for Eval\n",
      "(epoch = 2, round = 250, global round = 500), Loss/Eval: 0.6919433017882581\n",
      "(epoch = 2, round = 250, global round = 500), Accuracy/Eval: 52.11267605633803\n",
      "Current eval accuracy: {'Accuracy': 52.11267605633803}%, Best so far: {'Accuracy': 61.16197183098591}%\n"
     ]
    },
    {
     "name": "stderr",
     "output_type": "stream",
     "text": [
      "Round: 100%|███████████████████████████████████████████████████████████████████████| 250/250 [00:57<00:00,  4.34round/s]\n",
      "Round: 100%|██████████████████████████████████████████████████████████████████████▋| 249/250 [00:54<00:00,  4.65round/s]"
     ]
    },
    {
     "name": "stdout",
     "output_type": "stream",
     "text": [
      "Train finished Global Round: 750\n",
      "(epoch = 3, round = 250, global round = 750), Loss/Training: 0.6972683766569545\n",
      "(epoch = 3, round = 250, global round = 750), Accuracy/Training: 51.23853211009175\n",
      "reporting (epoch = 3, round = 250, global round = 750) for aggregation\n",
      "(epoch = 3, round = 250, global round = 750), Loss/Aggregation: 0.6855960965156556\n",
      "(epoch = 3, round = 250, global round = 750), Accuracy/Aggregation: 68.96551724137932\n",
      "Running (epoch = 3, round = 250, global round = 750) for Eval\n",
      "(epoch = 3, round = 250, global round = 750), Loss/Eval: 0.6969668740878084\n",
      "(epoch = 3, round = 250, global round = 750), Accuracy/Eval: 50.105633802816904\n",
      "Current eval accuracy: {'Accuracy': 50.105633802816904}%, Best so far: {'Accuracy': 61.16197183098591}%\n"
     ]
    },
    {
     "name": "stderr",
     "output_type": "stream",
     "text": [
      "Round: 100%|███████████████████████████████████████████████████████████████████████| 250/250 [00:57<00:00,  4.36round/s]\n",
      "Round: 100%|██████████████████████████████████████████████████████████████████████▋| 249/250 [00:54<00:00,  4.60round/s]"
     ]
    },
    {
     "name": "stdout",
     "output_type": "stream",
     "text": [
      "Train finished Global Round: 1000\n",
      "(epoch = 4, round = 250, global round = 1000), Loss/Training: 0.697174390817891\n",
      "(epoch = 4, round = 250, global round = 1000), Accuracy/Training: 50.56141926790927\n",
      "reporting (epoch = 4, round = 250, global round = 1000) for aggregation\n",
      "(epoch = 4, round = 250, global round = 1000), Loss/Aggregation: 0.6641899287700653\n",
      "(epoch = 4, round = 250, global round = 1000), Accuracy/Aggregation: 55.73770491803279\n",
      "Running (epoch = 4, round = 250, global round = 1000) for Eval\n",
      "(epoch = 4, round = 250, global round = 1000), Loss/Eval: 0.7076551539564152\n",
      "(epoch = 4, round = 250, global round = 1000), Accuracy/Eval: 50.105633802816904\n",
      "Current eval accuracy: {'Accuracy': 50.105633802816904}%, Best so far: {'Accuracy': 61.16197183098591}%\n"
     ]
    },
    {
     "name": "stderr",
     "output_type": "stream",
     "text": [
      "Round: 100%|██████████████████████████████████████████████████████████████████████▋| 249/250 [00:57<00:00,  4.37round/s]\n",
      "Epoch:  75%|████████████████████████████████████████████████████████▎                  | 3/4 [03:49<01:16, 76.52s/epoch]"
     ]
    },
    {
     "name": "stdout",
     "output_type": "stream",
     "text": [
      "Running (epoch = 1, round = 1, global round = 1) for Test\n"
     ]
    },
    {
     "name": "stderr",
     "output_type": "stream",
     "text": [
      "\n",
      " 46%|█████████████████▏                   | 186.0/400 [3:07:55<3:29:57, 58.87s/it, min_score=-60.1, models_evaluated=43]"
     ]
    },
    {
     "name": "stdout",
     "output_type": "stream",
     "text": [
      "(epoch = 1, round = 1, global round = 1), Loss/Test: 0.7076551540281416\n",
      "(epoch = 1, round = 1, global round = 1), Accuracy/Test: 50.105633802816904\n"
     ]
    },
    {
     "name": "stderr",
     "output_type": "stream",
     "text": [
      "Round: 100%|██████████████████████████████████████████████████████████████████████▋| 249/250 [00:54<00:00,  4.62round/s]"
     ]
    },
    {
     "name": "stdout",
     "output_type": "stream",
     "text": [
      "Train finished Global Round: 250\n",
      "(epoch = 1, round = 250, global round = 250), Loss/Training: 0.7459249491593484\n",
      "(epoch = 1, round = 250, global round = 250), Accuracy/Training: 51.21457489878542\n",
      "reporting (epoch = 1, round = 250, global round = 250) for aggregation\n",
      "(epoch = 1, round = 250, global round = 250), Loss/Aggregation: 0.6763697147369385\n",
      "(epoch = 1, round = 250, global round = 250), Accuracy/Aggregation: 65.78947368421052\n",
      "Running (epoch = 1, round = 250, global round = 250) for Eval\n",
      "(epoch = 1, round = 250, global round = 250), Loss/Eval: 0.6971653514820746\n",
      "(epoch = 1, round = 250, global round = 250), Accuracy/Eval: 49.894366197183096\n",
      "Current eval accuracy: {'Accuracy': 49.894366197183096}%, Best so far: {'Accuracy': 61.16197183098591}%\n"
     ]
    },
    {
     "name": "stderr",
     "output_type": "stream",
     "text": [
      "Round: 100%|███████████████████████████████████████████████████████████████████████| 250/250 [00:57<00:00,  4.38round/s]\n",
      "Round: 100%|██████████████████████████████████████████████████████████████████████▋| 249/250 [00:54<00:00,  4.69round/s]"
     ]
    },
    {
     "name": "stdout",
     "output_type": "stream",
     "text": [
      "Train finished Global Round: 500\n",
      "(epoch = 2, round = 250, global round = 500), Loss/Training: 0.73105573201305\n",
      "(epoch = 2, round = 250, global round = 500), Accuracy/Training: 50.045923053372796\n",
      "reporting (epoch = 2, round = 250, global round = 500) for aggregation\n",
      "(epoch = 2, round = 250, global round = 500), Loss/Aggregation: 0.6424622625112534\n",
      "(epoch = 2, round = 250, global round = 500), Accuracy/Aggregation: 85.71428571428571\n",
      "Running (epoch = 2, round = 250, global round = 500) for Eval\n",
      "(epoch = 2, round = 250, global round = 500), Loss/Eval: 0.9245350746160714\n",
      "(epoch = 2, round = 250, global round = 500), Accuracy/Eval: 49.894366197183096\n",
      "Current eval accuracy: {'Accuracy': 49.894366197183096}%, Best so far: {'Accuracy': 61.16197183098591}%\n"
     ]
    },
    {
     "name": "stderr",
     "output_type": "stream",
     "text": [
      "Round: 100%|███████████████████████████████████████████████████████████████████████| 250/250 [00:57<00:00,  4.37round/s]\n",
      "Round: 100%|██████████████████████████████████████████████████████████████████████▋| 249/250 [00:54<00:00,  4.62round/s]"
     ]
    },
    {
     "name": "stdout",
     "output_type": "stream",
     "text": [
      "Train finished Global Round: 750\n",
      "(epoch = 3, round = 250, global round = 750), Loss/Training: 0.718358893179251\n",
      "(epoch = 3, round = 250, global round = 750), Accuracy/Training: 49.70817120622568\n",
      "reporting (epoch = 3, round = 250, global round = 750) for aggregation\n",
      "(epoch = 3, round = 250, global round = 750), Loss/Aggregation: 0.6247685492038727\n",
      "(epoch = 3, round = 250, global round = 750), Accuracy/Aggregation: 62.5\n",
      "Running (epoch = 3, round = 250, global round = 750) for Eval\n",
      "(epoch = 3, round = 250, global round = 750), Loss/Eval: 0.7273381639330252\n",
      "(epoch = 3, round = 250, global round = 750), Accuracy/Eval: 50.105633802816904\n",
      "Current eval accuracy: {'Accuracy': 50.105633802816904}%, Best so far: {'Accuracy': 61.16197183098591}%\n"
     ]
    },
    {
     "name": "stderr",
     "output_type": "stream",
     "text": [
      "Round: 100%|███████████████████████████████████████████████████████████████████████| 250/250 [00:57<00:00,  4.36round/s]\n",
      "Round: 100%|██████████████████████████████████████████████████████████████████████▋| 249/250 [00:54<00:00,  4.65round/s]"
     ]
    },
    {
     "name": "stdout",
     "output_type": "stream",
     "text": [
      "Train finished Global Round: 1000\n",
      "(epoch = 4, round = 250, global round = 1000), Loss/Training: 0.7278041460775563\n",
      "(epoch = 4, round = 250, global round = 1000), Accuracy/Training: 51.930304065596175\n",
      "reporting (epoch = 4, round = 250, global round = 1000) for aggregation\n",
      "(epoch = 4, round = 250, global round = 1000), Loss/Aggregation: 0.9077767208218575\n",
      "(epoch = 4, round = 250, global round = 1000), Accuracy/Aggregation: 57.89473684210526\n",
      "Running (epoch = 4, round = 250, global round = 1000) for Eval\n",
      "(epoch = 4, round = 250, global round = 1000), Loss/Eval: 0.9556402398121677\n",
      "(epoch = 4, round = 250, global round = 1000), Accuracy/Eval: 49.894366197183096\n",
      "Current eval accuracy: {'Accuracy': 49.894366197183096}%, Best so far: {'Accuracy': 61.16197183098591}%\n"
     ]
    },
    {
     "name": "stderr",
     "output_type": "stream",
     "text": [
      "Round: 100%|██████████████████████████████████████████████████████████████████████▋| 249/250 [00:57<00:00,  4.35round/s]\n",
      "Epoch:  75%|████████████████████████████████████████████████████████▎                  | 3/4 [03:48<01:16, 76.32s/epoch]"
     ]
    },
    {
     "name": "stdout",
     "output_type": "stream",
     "text": [
      "Running (epoch = 1, round = 1, global round = 1) for Test\n"
     ]
    },
    {
     "name": "stderr",
     "output_type": "stream",
     "text": [
      "\n",
      " 48%|█████████████████▌                   | 190.0/400 [3:11:47<3:25:16, 58.65s/it, min_score=-60.1, models_evaluated=43]"
     ]
    },
    {
     "name": "stdout",
     "output_type": "stream",
     "text": [
      "(epoch = 1, round = 1, global round = 1), Loss/Test: 0.955640239758373\n",
      "(epoch = 1, round = 1, global round = 1), Accuracy/Test: 49.894366197183096\n"
     ]
    },
    {
     "name": "stderr",
     "output_type": "stream",
     "text": [
      "Round: 100%|██████████████████████████████████████████████████████████████████████▋| 249/250 [00:54<00:00,  4.71round/s]"
     ]
    },
    {
     "name": "stdout",
     "output_type": "stream",
     "text": [
      "Train finished Global Round: 250\n",
      "(epoch = 1, round = 250, global round = 250), Loss/Training: 0.7802645978015338\n",
      "(epoch = 1, round = 250, global round = 250), Accuracy/Training: 50.891276118522015\n",
      "reporting (epoch = 1, round = 250, global round = 250) for aggregation\n",
      "(epoch = 1, round = 250, global round = 250), Loss/Aggregation: 0.5357126891613007\n",
      "(epoch = 1, round = 250, global round = 250), Accuracy/Aggregation: 81.81818181818181\n",
      "Running (epoch = 1, round = 250, global round = 250) for Eval\n",
      "(epoch = 1, round = 250, global round = 250), Loss/Eval: 0.7398520178145498\n",
      "(epoch = 1, round = 250, global round = 250), Accuracy/Eval: 50.352112676056336\n",
      "Current eval accuracy: {'Accuracy': 50.352112676056336}%, Best so far: {'Accuracy': 61.16197183098591}%\n"
     ]
    },
    {
     "name": "stderr",
     "output_type": "stream",
     "text": [
      "Round: 100%|███████████████████████████████████████████████████████████████████████| 250/250 [00:57<00:00,  4.36round/s]\n",
      "Round: 100%|██████████████████████████████████████████████████████████████████████▋| 249/250 [00:54<00:00,  4.67round/s]"
     ]
    },
    {
     "name": "stdout",
     "output_type": "stream",
     "text": [
      "Train finished Global Round: 500\n",
      "(epoch = 2, round = 250, global round = 500), Loss/Training: 0.7136209123705677\n",
      "(epoch = 2, round = 250, global round = 500), Accuracy/Training: 52.05209587391923\n",
      "reporting (epoch = 2, round = 250, global round = 500) for aggregation\n",
      "(epoch = 2, round = 250, global round = 500), Loss/Aggregation: 0.43322622701525687\n",
      "(epoch = 2, round = 250, global round = 500), Accuracy/Aggregation: 80.0\n",
      "Running (epoch = 2, round = 250, global round = 500) for Eval\n",
      "(epoch = 2, round = 250, global round = 500), Loss/Eval: 0.895533994703923\n",
      "(epoch = 2, round = 250, global round = 500), Accuracy/Eval: 50.28169014084507\n",
      "Current eval accuracy: {'Accuracy': 50.28169014084507}%, Best so far: {'Accuracy': 61.16197183098591}%\n"
     ]
    },
    {
     "name": "stderr",
     "output_type": "stream",
     "text": [
      "Round: 100%|███████████████████████████████████████████████████████████████████████| 250/250 [00:57<00:00,  4.34round/s]\n",
      "Round: 100%|██████████████████████████████████████████████████████████████████████▋| 249/250 [00:57<00:00,  4.44round/s]"
     ]
    },
    {
     "name": "stdout",
     "output_type": "stream",
     "text": [
      "Train finished Global Round: 750\n",
      "(epoch = 3, round = 250, global round = 750), Loss/Training: 0.7546813071859637\n",
      "(epoch = 3, round = 250, global round = 750), Accuracy/Training: 51.77755488688287\n",
      "reporting (epoch = 3, round = 250, global round = 750) for aggregation\n",
      "(epoch = 3, round = 250, global round = 750), Loss/Aggregation: 0.6258337914943695\n",
      "(epoch = 3, round = 250, global round = 750), Accuracy/Aggregation: 66.66666666666667\n",
      "Running (epoch = 3, round = 250, global round = 750) for Eval\n",
      "(epoch = 3, round = 250, global round = 750), Loss/Eval: 0.724437893979099\n",
      "(epoch = 3, round = 250, global round = 750), Accuracy/Eval: 50.809859154929576\n",
      "Current eval accuracy: {'Accuracy': 50.809859154929576}%, Best so far: {'Accuracy': 61.16197183098591}%\n"
     ]
    },
    {
     "name": "stderr",
     "output_type": "stream",
     "text": [
      "Round: 100%|███████████████████████████████████████████████████████████████████████| 250/250 [01:01<00:00,  4.09round/s]\n",
      "Round: 100%|██████████████████████████████████████████████████████████████████████▋| 249/250 [00:54<00:00,  4.60round/s]"
     ]
    },
    {
     "name": "stdout",
     "output_type": "stream",
     "text": [
      "Train finished Global Round: 1000\n",
      "(epoch = 4, round = 250, global round = 1000), Loss/Training: 0.7364458354238814\n",
      "(epoch = 4, round = 250, global round = 1000), Accuracy/Training: 51.96911196911197\n",
      "reporting (epoch = 4, round = 250, global round = 1000) for aggregation\n",
      "(epoch = 4, round = 250, global round = 1000), Loss/Aggregation: 0.6259440302848815\n",
      "(epoch = 4, round = 250, global round = 1000), Accuracy/Aggregation: 66.66666666666667\n",
      "Running (epoch = 4, round = 250, global round = 1000) for Eval\n",
      "(epoch = 4, round = 250, global round = 1000), Loss/Eval: 0.7246092056001567\n",
      "(epoch = 4, round = 250, global round = 1000), Accuracy/Eval: 50.95070422535211\n",
      "Current eval accuracy: {'Accuracy': 50.95070422535211}%, Best so far: {'Accuracy': 61.16197183098591}%\n"
     ]
    },
    {
     "name": "stderr",
     "output_type": "stream",
     "text": [
      "Round: 100%|██████████████████████████████████████████████████████████████████████▋| 249/250 [00:57<00:00,  4.34round/s]\n",
      "Epoch:  75%|████████████████████████████████████████████████████████▎                  | 3/4 [03:53<01:17, 77.83s/epoch]"
     ]
    },
    {
     "name": "stdout",
     "output_type": "stream",
     "text": [
      "Running (epoch = 1, round = 1, global round = 1) for Test\n"
     ]
    },
    {
     "name": "stderr",
     "output_type": "stream",
     "text": [
      "\n",
      " 48%|█████████████████▉                   | 194.0/400 [3:15:44<3:21:51, 58.79s/it, min_score=-60.1, models_evaluated=43]"
     ]
    },
    {
     "name": "stdout",
     "output_type": "stream",
     "text": [
      "(epoch = 1, round = 1, global round = 1), Loss/Test: 0.7246092056240655\n",
      "(epoch = 1, round = 1, global round = 1), Accuracy/Test: 50.95070422535211\n"
     ]
    },
    {
     "name": "stderr",
     "output_type": "stream",
     "text": [
      "Round: 100%|██████████████████████████████████████████████████████████████████████▋| 249/250 [00:51<00:00,  5.07round/s]"
     ]
    },
    {
     "name": "stdout",
     "output_type": "stream",
     "text": [
      "Train finished Global Round: 250\n",
      "(epoch = 1, round = 250, global round = 250), Loss/Training: 0.768868724761752\n",
      "(epoch = 1, round = 250, global round = 250), Accuracy/Training: 49.81986618630983\n",
      "reporting (epoch = 1, round = 250, global round = 250) for aggregation\n",
      "(epoch = 1, round = 250, global round = 250), Loss/Aggregation: 0.6292460292577744\n",
      "(epoch = 1, round = 250, global round = 250), Accuracy/Aggregation: 70.58823529411765\n",
      "Running (epoch = 1, round = 250, global round = 250) for Eval\n",
      "(epoch = 1, round = 250, global round = 250), Loss/Eval: 1.1203561782989333\n",
      "(epoch = 1, round = 250, global round = 250), Accuracy/Eval: 49.71830985915493\n",
      "Current eval accuracy: {'Accuracy': 49.71830985915493}%, Best so far: {'Accuracy': 61.16197183098591}%\n"
     ]
    },
    {
     "name": "stderr",
     "output_type": "stream",
     "text": [
      "Round: 100%|███████████████████████████████████████████████████████████████████████| 250/250 [00:54<00:00,  4.59round/s]\n",
      "Round: 100%|██████████████████████████████████████████████████████████████████████▋| 249/250 [00:57<00:00,  4.35round/s]"
     ]
    },
    {
     "name": "stdout",
     "output_type": "stream",
     "text": [
      "Train finished Global Round: 500\n",
      "(epoch = 2, round = 250, global round = 500), Loss/Training: 0.7677568397597395\n",
      "(epoch = 2, round = 250, global round = 500), Accuracy/Training: 50.12594458438287\n",
      "reporting (epoch = 2, round = 250, global round = 500) for aggregation\n",
      "(epoch = 2, round = 250, global round = 500), Loss/Aggregation: 0.5566667348146439\n",
      "(epoch = 2, round = 250, global round = 500), Accuracy/Aggregation: 80.55555555555556\n",
      "Running (epoch = 2, round = 250, global round = 500) for Eval\n",
      "(epoch = 2, round = 250, global round = 500), Loss/Eval: 0.7327059552617404\n",
      "(epoch = 2, round = 250, global round = 500), Accuracy/Eval: 50.985915492957744\n",
      "Current eval accuracy: {'Accuracy': 50.985915492957744}%, Best so far: {'Accuracy': 61.16197183098591}%\n"
     ]
    },
    {
     "name": "stderr",
     "output_type": "stream",
     "text": [
      "Round: 100%|███████████████████████████████████████████████████████████████████████| 250/250 [01:01<00:00,  4.08round/s]\n",
      "Round: 100%|██████████████████████████████████████████████████████████████████████▋| 249/250 [00:57<00:00,  4.30round/s]"
     ]
    },
    {
     "name": "stdout",
     "output_type": "stream",
     "text": [
      "Train finished Global Round: 750\n",
      "(epoch = 3, round = 250, global round = 750), Loss/Training: 0.7433002720558152\n",
      "(epoch = 3, round = 250, global round = 750), Accuracy/Training: 51.45246478873239\n",
      "reporting (epoch = 3, round = 250, global round = 750) for aggregation\n",
      "(epoch = 3, round = 250, global round = 750), Loss/Aggregation: 0.6312301486730576\n",
      "(epoch = 3, round = 250, global round = 750), Accuracy/Aggregation: 70.0\n",
      "Running (epoch = 3, round = 250, global round = 750) for Eval\n",
      "(epoch = 3, round = 250, global round = 750), Loss/Eval: 0.7161131941837046\n",
      "(epoch = 3, round = 250, global round = 750), Accuracy/Eval: 50.49295774647887\n",
      "Current eval accuracy: {'Accuracy': 50.49295774647887}%, Best so far: {'Accuracy': 61.16197183098591}%\n"
     ]
    },
    {
     "name": "stderr",
     "output_type": "stream",
     "text": [
      "Round: 100%|███████████████████████████████████████████████████████████████████████| 250/250 [01:01<00:00,  4.06round/s]\n",
      "Round: 100%|██████████████████████████████████████████████████████████████████████▋| 249/250 [00:54<00:00,  4.62round/s]"
     ]
    },
    {
     "name": "stdout",
     "output_type": "stream",
     "text": [
      "Train finished Global Round: 1000\n",
      "(epoch = 4, round = 250, global round = 1000), Loss/Training: 0.725699863474472\n",
      "(epoch = 4, round = 250, global round = 1000), Accuracy/Training: 52.016985138004245\n",
      "reporting (epoch = 4, round = 250, global round = 1000) for aggregation\n",
      "(epoch = 4, round = 250, global round = 1000), Loss/Aggregation: 0.600799947977066\n",
      "(epoch = 4, round = 250, global round = 1000), Accuracy/Aggregation: 70.58823529411765\n",
      "Running (epoch = 4, round = 250, global round = 1000) for Eval\n",
      "(epoch = 4, round = 250, global round = 1000), Loss/Eval: 0.7536949835122947\n",
      "(epoch = 4, round = 250, global round = 1000), Accuracy/Eval: 50.17605633802817\n",
      "Current eval accuracy: {'Accuracy': 50.17605633802817}%, Best so far: {'Accuracy': 61.16197183098591}%\n"
     ]
    },
    {
     "name": "stderr",
     "output_type": "stream",
     "text": [
      "Round: 100%|██████████████████████████████████████████████████████████████████████▋| 249/250 [00:57<00:00,  4.31round/s]\n",
      "Epoch:  75%|████████████████████████████████████████████████████████▎                  | 3/4 [03:55<01:18, 78.34s/epoch]"
     ]
    },
    {
     "name": "stdout",
     "output_type": "stream",
     "text": [
      "Running (epoch = 1, round = 1, global round = 1) for Test\n"
     ]
    },
    {
     "name": "stderr",
     "output_type": "stream",
     "text": [
      "\n",
      " 50%|██████████████████▎                  | 198.0/400 [3:19:42<3:18:46, 59.04s/it, min_score=-60.1, models_evaluated=43]"
     ]
    },
    {
     "name": "stdout",
     "output_type": "stream",
     "text": [
      "(epoch = 1, round = 1, global round = 1), Loss/Test: 0.7536949836677018\n",
      "(epoch = 1, round = 1, global round = 1), Accuracy/Test: 50.17605633802817\n"
     ]
    },
    {
     "name": "stderr",
     "output_type": "stream",
     "text": [
      "Round: 100%|██████████████████████████████████████████████████████████████████████▋| 249/250 [00:54<00:00,  4.67round/s]"
     ]
    },
    {
     "name": "stdout",
     "output_type": "stream",
     "text": [
      "Train finished Global Round: 250\n",
      "(epoch = 1, round = 250, global round = 250), Loss/Training: 0.7628352536500488\n",
      "(epoch = 1, round = 250, global round = 250), Accuracy/Training: 49.51757790839525\n",
      "reporting (epoch = 1, round = 250, global round = 250) for aggregation\n",
      "(epoch = 1, round = 250, global round = 250), Loss/Aggregation: 0.6886135816574097\n",
      "(epoch = 1, round = 250, global round = 250), Accuracy/Aggregation: 34.04255319148936\n",
      "Running (epoch = 1, round = 250, global round = 250) for Eval\n",
      "(epoch = 1, round = 250, global round = 250), Loss/Eval: 0.6930900219957894\n",
      "(epoch = 1, round = 250, global round = 250), Accuracy/Eval: 50.49295774647887\n",
      "Current eval accuracy: {'Accuracy': 50.49295774647887}%, Best so far: {'Accuracy': 61.16197183098591}%\n"
     ]
    },
    {
     "name": "stderr",
     "output_type": "stream",
     "text": [
      "Round: 100%|███████████████████████████████████████████████████████████████████████| 250/250 [00:57<00:00,  4.34round/s]\n",
      "Round: 100%|██████████████████████████████████████████████████████████████████████▋| 249/250 [00:54<00:00,  4.35round/s]"
     ]
    },
    {
     "name": "stdout",
     "output_type": "stream",
     "text": [
      "Train finished Global Round: 500\n",
      "(epoch = 2, round = 250, global round = 500), Loss/Training: 0.7099187896363526\n",
      "(epoch = 2, round = 250, global round = 500), Accuracy/Training: 50.508988520684426\n",
      "reporting (epoch = 2, round = 250, global round = 500) for aggregation\n",
      "(epoch = 2, round = 250, global round = 500), Loss/Aggregation: 0.6945901572704315\n",
      "(epoch = 2, round = 250, global round = 500), Accuracy/Aggregation: 50.0\n",
      "Running (epoch = 2, round = 250, global round = 500) for Eval\n",
      "(epoch = 2, round = 250, global round = 500), Loss/Eval: 0.6957122497335285\n",
      "(epoch = 2, round = 250, global round = 500), Accuracy/Eval: 49.894366197183096\n",
      "Current eval accuracy: {'Accuracy': 49.894366197183096}%, Best so far: {'Accuracy': 61.16197183098591}%\n"
     ]
    },
    {
     "name": "stderr",
     "output_type": "stream",
     "text": [
      "Round: 100%|███████████████████████████████████████████████████████████████████████| 250/250 [00:57<00:00,  4.34round/s]\n",
      "Round: 100%|██████████████████████████████████████████████████████████████████████▋| 249/250 [00:49<00:00,  5.08round/s]"
     ]
    },
    {
     "name": "stdout",
     "output_type": "stream",
     "text": [
      "Train finished Global Round: 750\n",
      "(epoch = 3, round = 250, global round = 750), Loss/Training: 0.7019681202224161\n",
      "(epoch = 3, round = 250, global round = 750), Accuracy/Training: 51.73223066607063\n",
      "reporting (epoch = 3, round = 250, global round = 750) for aggregation\n",
      "(epoch = 3, round = 250, global round = 750), Loss/Aggregation: 0.6971708953380584\n",
      "(epoch = 3, round = 250, global round = 750), Accuracy/Aggregation: 42.30769230769231\n",
      "Running (epoch = 3, round = 250, global round = 750) for Eval\n",
      "(epoch = 3, round = 250, global round = 750), Loss/Eval: 0.6934719141879045\n",
      "(epoch = 3, round = 250, global round = 750), Accuracy/Eval: 49.894366197183096\n",
      "Current eval accuracy: {'Accuracy': 49.894366197183096}%, Best so far: {'Accuracy': 61.16197183098591}%\n"
     ]
    },
    {
     "name": "stderr",
     "output_type": "stream",
     "text": [
      "Round: 100%|███████████████████████████████████████████████████████████████████████| 250/250 [00:53<00:00,  4.66round/s]\n",
      "Round: 100%|██████████████████████████████████████████████████████████████████████▋| 249/250 [00:57<00:00,  4.41round/s]"
     ]
    },
    {
     "name": "stdout",
     "output_type": "stream",
     "text": [
      "Train finished Global Round: 1000\n",
      "(epoch = 4, round = 250, global round = 1000), Loss/Training: 0.6952594246944898\n",
      "(epoch = 4, round = 250, global round = 1000), Accuracy/Training: 51.013861839844196\n",
      "reporting (epoch = 4, round = 250, global round = 1000) for aggregation\n",
      "(epoch = 4, round = 250, global round = 1000), Loss/Aggregation: 0.6987706065177918\n",
      "(epoch = 4, round = 250, global round = 1000), Accuracy/Aggregation: 53.333333333333336\n",
      "Running (epoch = 4, round = 250, global round = 1000) for Eval\n",
      "(epoch = 4, round = 250, global round = 1000), Loss/Eval: 0.6939847710569652\n",
      "(epoch = 4, round = 250, global round = 1000), Accuracy/Eval: 50.105633802816904\n",
      "Current eval accuracy: {'Accuracy': 50.105633802816904}%, Best so far: {'Accuracy': 61.16197183098591}%\n"
     ]
    },
    {
     "name": "stderr",
     "output_type": "stream",
     "text": [
      "Round: 100%|██████████████████████████████████████████████████████████████████████▋| 249/250 [01:01<00:00,  4.06round/s]\n",
      "Epoch:  75%|████████████████████████████████████████████████████████▎                  | 3/4 [03:50<01:16, 76.71s/epoch]"
     ]
    },
    {
     "name": "stdout",
     "output_type": "stream",
     "text": [
      "Running (epoch = 1, round = 1, global round = 1) for Test\n"
     ]
    },
    {
     "name": "stderr",
     "output_type": "stream",
     "text": [
      "\n",
      " 50%|██████████████████▋                  | 202.0/400 [3:23:36<3:14:17, 58.88s/it, min_score=-60.1, models_evaluated=48]"
     ]
    },
    {
     "name": "stdout",
     "output_type": "stream",
     "text": [
      "(epoch = 1, round = 1, global round = 1), Loss/Test: 0.6939847711286916\n",
      "(epoch = 1, round = 1, global round = 1), Accuracy/Test: 50.105633802816904\n"
     ]
    },
    {
     "name": "stderr",
     "output_type": "stream",
     "text": [
      "Round: 100%|██████████████████████████████████████████████████████████████████████▋| 249/250 [00:54<00:00,  4.65round/s]"
     ]
    },
    {
     "name": "stdout",
     "output_type": "stream",
     "text": [
      "Train finished Global Round: 250\n",
      "(epoch = 1, round = 250, global round = 250), Loss/Training: 0.7304419668976792\n",
      "(epoch = 1, round = 250, global round = 250), Accuracy/Training: 51.730218205862904\n",
      "reporting (epoch = 1, round = 250, global round = 250) for aggregation\n",
      "(epoch = 1, round = 250, global round = 250), Loss/Aggregation: 0.5829507350921631\n",
      "(epoch = 1, round = 250, global round = 250), Accuracy/Aggregation: 75.0\n",
      "Running (epoch = 1, round = 250, global round = 250) for Eval\n",
      "(epoch = 1, round = 250, global round = 250), Loss/Eval: 0.7522711571959\n",
      "(epoch = 1, round = 250, global round = 250), Accuracy/Eval: 50.0\n",
      "Current eval accuracy: {'Accuracy': 50.0}%, Best so far: {'Accuracy': 61.16197183098591}%\n"
     ]
    },
    {
     "name": "stderr",
     "output_type": "stream",
     "text": [
      "Round: 100%|███████████████████████████████████████████████████████████████████████| 250/250 [00:57<00:00,  4.32round/s]\n",
      "Round: 100%|██████████████████████████████████████████████████████████████████████▋| 249/250 [00:54<00:00,  4.65round/s]"
     ]
    },
    {
     "name": "stdout",
     "output_type": "stream",
     "text": [
      "Train finished Global Round: 500\n",
      "(epoch = 2, round = 250, global round = 500), Loss/Training: 0.7197350147008612\n",
      "(epoch = 2, round = 250, global round = 500), Accuracy/Training: 50.51150895140665\n",
      "reporting (epoch = 2, round = 250, global round = 500) for aggregation\n",
      "(epoch = 2, round = 250, global round = 500), Loss/Aggregation: 0.5684937953948974\n",
      "(epoch = 2, round = 250, global round = 500), Accuracy/Aggregation: 66.66666666666667\n",
      "Running (epoch = 2, round = 250, global round = 500) for Eval\n",
      "(epoch = 2, round = 250, global round = 500), Loss/Eval: 0.7387126137394529\n",
      "(epoch = 2, round = 250, global round = 500), Accuracy/Eval: 49.225352112676056\n",
      "Current eval accuracy: {'Accuracy': 49.225352112676056}%, Best so far: {'Accuracy': 61.16197183098591}%\n"
     ]
    },
    {
     "name": "stderr",
     "output_type": "stream",
     "text": [
      "Round: 100%|███████████████████████████████████████████████████████████████████████| 250/250 [00:57<00:00,  4.34round/s]\n",
      "Round: 100%|██████████████████████████████████████████████████████████████████████▋| 249/250 [00:54<00:00,  4.64round/s]"
     ]
    },
    {
     "name": "stdout",
     "output_type": "stream",
     "text": [
      "Train finished Global Round: 750\n",
      "(epoch = 3, round = 250, global round = 750), Loss/Training: 0.740074913931056\n",
      "(epoch = 3, round = 250, global round = 750), Accuracy/Training: 52.0389249304912\n",
      "reporting (epoch = 3, round = 250, global round = 750) for aggregation\n",
      "(epoch = 3, round = 250, global round = 750), Loss/Aggregation: 0.6025556921958923\n",
      "(epoch = 3, round = 250, global round = 750), Accuracy/Aggregation: 67.3913043478261\n",
      "Running (epoch = 3, round = 250, global round = 750) for Eval\n",
      "(epoch = 3, round = 250, global round = 750), Loss/Eval: 0.7493142586812598\n",
      "(epoch = 3, round = 250, global round = 750), Accuracy/Eval: 49.29577464788732\n",
      "Current eval accuracy: {'Accuracy': 49.29577464788732}%, Best so far: {'Accuracy': 61.16197183098591}%\n"
     ]
    },
    {
     "name": "stderr",
     "output_type": "stream",
     "text": [
      "Round: 100%|███████████████████████████████████████████████████████████████████████| 250/250 [00:57<00:00,  4.36round/s]\n",
      "Round: 100%|██████████████████████████████████████████████████████████████████████▋| 249/250 [00:55<00:00,  4.67round/s]"
     ]
    },
    {
     "name": "stdout",
     "output_type": "stream",
     "text": [
      "Train finished Global Round: 1000\n",
      "(epoch = 4, round = 250, global round = 1000), Loss/Training: 0.719497840463525\n",
      "(epoch = 4, round = 250, global round = 1000), Accuracy/Training: 52.29490022172949\n",
      "reporting (epoch = 4, round = 250, global round = 1000) for aggregation\n",
      "(epoch = 4, round = 250, global round = 1000), Loss/Aggregation: 0.6097299695014954\n",
      "(epoch = 4, round = 250, global round = 1000), Accuracy/Aggregation: 78.26086956521739\n",
      "Running (epoch = 4, round = 250, global round = 1000) for Eval\n",
      "(epoch = 4, round = 250, global round = 1000), Loss/Eval: 0.6983007973772046\n",
      "(epoch = 4, round = 250, global round = 1000), Accuracy/Eval: 51.09154929577465\n",
      "Current eval accuracy: {'Accuracy': 51.09154929577465}%, Best so far: {'Accuracy': 61.16197183098591}%\n"
     ]
    },
    {
     "name": "stderr",
     "output_type": "stream",
     "text": [
      "Round: 100%|██████████████████████████████████████████████████████████████████████▋| 249/250 [00:58<00:00,  4.29round/s]\n",
      "Epoch:  75%|████████████████████████████████████████████████████████▎                  | 3/4 [03:50<01:16, 76.95s/epoch]"
     ]
    },
    {
     "name": "stdout",
     "output_type": "stream",
     "text": [
      "Running (epoch = 1, round = 1, global round = 1) for Test\n"
     ]
    },
    {
     "name": "stderr",
     "output_type": "stream",
     "text": [
      "\n",
      " 52%|███████████████████                  | 206.0/400 [3:27:30<3:09:59, 58.76s/it, min_score=-60.1, models_evaluated=48]"
     ]
    },
    {
     "name": "stdout",
     "output_type": "stream",
     "text": [
      "(epoch = 1, round = 1, global round = 1), Loss/Test: 0.6983007976402014\n",
      "(epoch = 1, round = 1, global round = 1), Accuracy/Test: 51.09154929577465\n"
     ]
    },
    {
     "name": "stderr",
     "output_type": "stream",
     "text": [
      "Round: 100%|██████████████████████████████████████████████████████████████████████▋| 249/250 [00:54<00:00,  4.67round/s]"
     ]
    },
    {
     "name": "stdout",
     "output_type": "stream",
     "text": [
      "Train finished Global Round: 250\n",
      "(epoch = 1, round = 250, global round = 250), Loss/Training: 0.7707900740659198\n",
      "(epoch = 1, round = 250, global round = 250), Accuracy/Training: 51.376945684118866\n",
      "reporting (epoch = 1, round = 250, global round = 250) for aggregation\n",
      "(epoch = 1, round = 250, global round = 250), Loss/Aggregation: 0.6804071426391601\n",
      "(epoch = 1, round = 250, global round = 250), Accuracy/Aggregation: 57.4468085106383\n",
      "Running (epoch = 1, round = 250, global round = 250) for Eval\n",
      "(epoch = 1, round = 250, global round = 250), Loss/Eval: 0.6990278466992047\n",
      "(epoch = 1, round = 250, global round = 250), Accuracy/Eval: 48.90845070422535\n",
      "Current eval accuracy: {'Accuracy': 48.90845070422535}%, Best so far: {'Accuracy': 61.16197183098591}%\n"
     ]
    },
    {
     "name": "stderr",
     "output_type": "stream",
     "text": [
      "Round: 100%|███████████████████████████████████████████████████████████████████████| 250/250 [00:57<00:00,  4.35round/s]\n",
      "Round: 100%|██████████████████████████████████████████████████████████████████████▋| 249/250 [00:54<00:00,  4.57round/s]"
     ]
    },
    {
     "name": "stdout",
     "output_type": "stream",
     "text": [
      "Train finished Global Round: 500\n",
      "(epoch = 2, round = 250, global round = 500), Loss/Training: 0.7380681857673741\n",
      "(epoch = 2, round = 250, global round = 500), Accuracy/Training: 49.90385702974777\n",
      "reporting (epoch = 2, round = 250, global round = 500) for aggregation\n",
      "(epoch = 2, round = 250, global round = 500), Loss/Aggregation: 0.6056662678718567\n",
      "(epoch = 2, round = 250, global round = 500), Accuracy/Aggregation: 68.18181818181819\n",
      "Running (epoch = 2, round = 250, global round = 500) for Eval\n",
      "(epoch = 2, round = 250, global round = 500), Loss/Eval: 0.7030075734224943\n",
      "(epoch = 2, round = 250, global round = 500), Accuracy/Eval: 50.809859154929576\n",
      "Current eval accuracy: {'Accuracy': 50.809859154929576}%, Best so far: {'Accuracy': 61.16197183098591}%\n"
     ]
    },
    {
     "name": "stderr",
     "output_type": "stream",
     "text": [
      "Round: 100%|███████████████████████████████████████████████████████████████████████| 250/250 [00:57<00:00,  4.37round/s]\n",
      "Round: 100%|██████████████████████████████████████████████████████████████████████▋| 249/250 [00:56<00:00,  4.36round/s]"
     ]
    },
    {
     "name": "stdout",
     "output_type": "stream",
     "text": [
      "Train finished Global Round: 750\n",
      "(epoch = 3, round = 250, global round = 750), Loss/Training: 0.7613809534899482\n",
      "(epoch = 3, round = 250, global round = 750), Accuracy/Training: 51.612109278857986\n",
      "reporting (epoch = 3, round = 250, global round = 750) for aggregation\n",
      "(epoch = 3, round = 250, global round = 750), Loss/Aggregation: 0.5572262138128281\n",
      "(epoch = 3, round = 250, global round = 750), Accuracy/Aggregation: 65.51724137931035\n",
      "Running (epoch = 3, round = 250, global round = 750) for Eval\n",
      "(epoch = 3, round = 250, global round = 750), Loss/Eval: 0.7283603832965461\n",
      "(epoch = 3, round = 250, global round = 750), Accuracy/Eval: 50.03521126760563\n",
      "Current eval accuracy: {'Accuracy': 50.03521126760563}%, Best so far: {'Accuracy': 61.16197183098591}%\n"
     ]
    },
    {
     "name": "stderr",
     "output_type": "stream",
     "text": [
      "Round: 100%|███████████████████████████████████████████████████████████████████████| 250/250 [01:00<00:00,  4.14round/s]\n",
      "Round: 100%|██████████████████████████████████████████████████████████████████████▋| 249/250 [00:57<00:00,  4.36round/s]"
     ]
    },
    {
     "name": "stdout",
     "output_type": "stream",
     "text": [
      "Train finished Global Round: 1000\n",
      "(epoch = 4, round = 250, global round = 1000), Loss/Training: 0.7287866367114878\n",
      "(epoch = 4, round = 250, global round = 1000), Accuracy/Training: 50.57029926595144\n",
      "reporting (epoch = 4, round = 250, global round = 1000) for aggregation\n",
      "(epoch = 4, round = 250, global round = 1000), Loss/Aggregation: 0.666738098859787\n",
      "(epoch = 4, round = 250, global round = 1000), Accuracy/Aggregation: 75.0\n",
      "Running (epoch = 4, round = 250, global round = 1000) for Eval\n",
      "(epoch = 4, round = 250, global round = 1000), Loss/Eval: 0.6958908282677619\n",
      "(epoch = 4, round = 250, global round = 1000), Accuracy/Eval: 50.88028169014085\n",
      "Current eval accuracy: {'Accuracy': 50.88028169014085}%, Best so far: {'Accuracy': 61.16197183098591}%\n"
     ]
    },
    {
     "name": "stderr",
     "output_type": "stream",
     "text": [
      "Round: 100%|██████████████████████████████████████████████████████████████████████▋| 249/250 [01:01<00:00,  4.06round/s]\n",
      "Epoch:  75%|████████████████████████████████████████████████████████▎                  | 3/4 [03:56<01:18, 78.79s/epoch]"
     ]
    },
    {
     "name": "stdout",
     "output_type": "stream",
     "text": [
      "Running (epoch = 1, round = 1, global round = 1) for Test\n"
     ]
    },
    {
     "name": "stderr",
     "output_type": "stream",
     "text": [
      "\n",
      " 52%|███████████████████▍                 | 210.0/400 [3:31:31<3:07:22, 59.17s/it, min_score=-60.1, models_evaluated=48]"
     ]
    },
    {
     "name": "stdout",
     "output_type": "stream",
     "text": [
      "(epoch = 1, round = 1, global round = 1), Loss/Test: 0.6958908282916707\n",
      "(epoch = 1, round = 1, global round = 1), Accuracy/Test: 50.88028169014085\n"
     ]
    },
    {
     "name": "stderr",
     "output_type": "stream",
     "text": [
      "Round: 100%|██████████████████████████████████████████████████████████████████████▋| 249/250 [00:55<00:00,  4.65round/s]"
     ]
    },
    {
     "name": "stdout",
     "output_type": "stream",
     "text": [
      "Train finished Global Round: 250\n",
      "(epoch = 1, round = 250, global round = 250), Loss/Training: 0.7259862207829053\n",
      "(epoch = 1, round = 250, global round = 250), Accuracy/Training: 50.260025424708196\n",
      "reporting (epoch = 1, round = 250, global round = 250) for aggregation\n",
      "(epoch = 1, round = 250, global round = 250), Loss/Aggregation: 0.5903755307197571\n",
      "(epoch = 1, round = 250, global round = 250), Accuracy/Aggregation: 80.0\n",
      "Running (epoch = 1, round = 250, global round = 250) for Eval\n",
      "(epoch = 1, round = 250, global round = 250), Loss/Eval: 0.7199666324720486\n",
      "(epoch = 1, round = 250, global round = 250), Accuracy/Eval: 50.352112676056336\n",
      "Current eval accuracy: {'Accuracy': 50.352112676056336}%, Best so far: {'Accuracy': 61.16197183098591}%\n"
     ]
    },
    {
     "name": "stderr",
     "output_type": "stream",
     "text": [
      "Round: 100%|███████████████████████████████████████████████████████████████████████| 250/250 [00:58<00:00,  4.25round/s]\n",
      "Round: 100%|██████████████████████████████████████████████████████████████████████▋| 249/250 [00:58<00:00,  4.40round/s]"
     ]
    },
    {
     "name": "stdout",
     "output_type": "stream",
     "text": [
      "Train finished Global Round: 500\n",
      "(epoch = 2, round = 250, global round = 500), Loss/Training: 0.7233006077884384\n",
      "(epoch = 2, round = 250, global round = 500), Accuracy/Training: 52.3966766084363\n",
      "reporting (epoch = 2, round = 250, global round = 500) for aggregation\n",
      "(epoch = 2, round = 250, global round = 500), Loss/Aggregation: 0.6172023996710777\n",
      "(epoch = 2, round = 250, global round = 500), Accuracy/Aggregation: 62.5\n",
      "Running (epoch = 2, round = 250, global round = 500) for Eval\n",
      "(epoch = 2, round = 250, global round = 500), Loss/Eval: 0.702688501815312\n",
      "(epoch = 2, round = 250, global round = 500), Accuracy/Eval: 49.401408450704224\n",
      "Current eval accuracy: {'Accuracy': 49.401408450704224}%, Best so far: {'Accuracy': 61.16197183098591}%\n"
     ]
    },
    {
     "name": "stderr",
     "output_type": "stream",
     "text": [
      "Round: 100%|███████████████████████████████████████████████████████████████████████| 250/250 [01:01<00:00,  4.09round/s]\n",
      "Round: 100%|██████████████████████████████████████████████████████████████████████▋| 249/250 [00:57<00:00,  4.34round/s]"
     ]
    },
    {
     "name": "stdout",
     "output_type": "stream",
     "text": [
      "Train finished Global Round: 750\n",
      "(epoch = 3, round = 250, global round = 750), Loss/Training: 0.7156275361067054\n",
      "(epoch = 3, round = 250, global round = 750), Accuracy/Training: 50.77030001158346\n",
      "reporting (epoch = 3, round = 250, global round = 750) for aggregation\n",
      "(epoch = 3, round = 250, global round = 750), Loss/Aggregation: 0.6718506932258606\n",
      "(epoch = 3, round = 250, global round = 750), Accuracy/Aggregation: 56.25\n",
      "Running (epoch = 3, round = 250, global round = 750) for Eval\n",
      "(epoch = 3, round = 250, global round = 750), Loss/Eval: 0.7197110769239908\n",
      "(epoch = 3, round = 250, global round = 750), Accuracy/Eval: 50.45774647887324\n",
      "Current eval accuracy: {'Accuracy': 50.45774647887324}%, Best so far: {'Accuracy': 61.16197183098591}%\n"
     ]
    },
    {
     "name": "stderr",
     "output_type": "stream",
     "text": [
      "Round: 100%|███████████████████████████████████████████████████████████████████████| 250/250 [01:00<00:00,  4.11round/s]\n",
      "Round: 100%|██████████████████████████████████████████████████████████████████████▋| 249/250 [00:55<00:00,  4.63round/s]"
     ]
    },
    {
     "name": "stdout",
     "output_type": "stream",
     "text": [
      "Train finished Global Round: 1000\n",
      "(epoch = 4, round = 250, global round = 1000), Loss/Training: 0.7274283827155037\n",
      "(epoch = 4, round = 250, global round = 1000), Accuracy/Training: 52.01224350980615\n",
      "reporting (epoch = 4, round = 250, global round = 1000) for aggregation\n",
      "(epoch = 4, round = 250, global round = 1000), Loss/Aggregation: 0.6198852002620697\n",
      "(epoch = 4, round = 250, global round = 1000), Accuracy/Aggregation: 77.27272727272727\n",
      "Running (epoch = 4, round = 250, global round = 1000) for Eval\n",
      "(epoch = 4, round = 250, global round = 1000), Loss/Eval: 0.6961623745818383\n",
      "(epoch = 4, round = 250, global round = 1000), Accuracy/Eval: 50.73943661971831\n",
      "Current eval accuracy: {'Accuracy': 50.73943661971831}%, Best so far: {'Accuracy': 61.16197183098591}%\n"
     ]
    },
    {
     "name": "stderr",
     "output_type": "stream",
     "text": [
      "Round: 100%|██████████████████████████████████████████████████████████████████████▋| 249/250 [00:58<00:00,  4.22round/s]\n",
      "Epoch:  75%|████████████████████████████████████████████████████████▎                  | 3/4 [03:59<01:19, 79.95s/epoch]"
     ]
    },
    {
     "name": "stdout",
     "output_type": "stream",
     "text": [
      "Running (epoch = 1, round = 1, global round = 1) for Test\n"
     ]
    },
    {
     "name": "stderr",
     "output_type": "stream",
     "text": [
      "\n",
      " 54%|███████████████████▊                 | 214.0/400 [3:35:34<3:04:52, 59.64s/it, min_score=-60.1, models_evaluated=48]"
     ]
    },
    {
     "name": "stdout",
     "output_type": "stream",
     "text": [
      "(epoch = 1, round = 1, global round = 1), Loss/Test: 0.6961623746535647\n",
      "(epoch = 1, round = 1, global round = 1), Accuracy/Test: 50.73943661971831\n"
     ]
    },
    {
     "name": "stderr",
     "output_type": "stream",
     "text": [
      "Round: 100%|██████████████████████████████████████████████████████████████████████▋| 249/250 [00:55<00:00,  4.38round/s]"
     ]
    },
    {
     "name": "stdout",
     "output_type": "stream",
     "text": [
      "Train finished Global Round: 250\n",
      "(epoch = 1, round = 250, global round = 250), Loss/Training: 0.734773634582628\n",
      "(epoch = 1, round = 250, global round = 250), Accuracy/Training: 50.621749943477276\n",
      "reporting (epoch = 1, round = 250, global round = 250) for aggregation\n",
      "(epoch = 1, round = 250, global round = 250), Loss/Aggregation: 0.6588724762201309\n",
      "(epoch = 1, round = 250, global round = 250), Accuracy/Aggregation: 54.54545454545455\n",
      "Running (epoch = 1, round = 250, global round = 250) for Eval\n",
      "(epoch = 1, round = 250, global round = 250), Loss/Eval: 0.7120099444012541\n",
      "(epoch = 1, round = 250, global round = 250), Accuracy/Eval: 50.73943661971831\n",
      "Current eval accuracy: {'Accuracy': 50.73943661971831}%, Best so far: {'Accuracy': 61.16197183098591}%\n"
     ]
    },
    {
     "name": "stderr",
     "output_type": "stream",
     "text": [
      "Round: 100%|███████████████████████████████████████████████████████████████████████| 250/250 [00:58<00:00,  4.26round/s]\n",
      "Round: 100%|██████████████████████████████████████████████████████████████████████▋| 249/250 [00:55<00:00,  4.66round/s]"
     ]
    },
    {
     "name": "stdout",
     "output_type": "stream",
     "text": [
      "Train finished Global Round: 500\n",
      "(epoch = 2, round = 250, global round = 500), Loss/Training: 0.7369630655452939\n",
      "(epoch = 2, round = 250, global round = 500), Accuracy/Training: 50.09924109748978\n",
      "reporting (epoch = 2, round = 250, global round = 500) for aggregation\n",
      "(epoch = 2, round = 250, global round = 500), Loss/Aggregation: 0.6393015444278717\n",
      "(epoch = 2, round = 250, global round = 500), Accuracy/Aggregation: 64.28571428571429\n",
      "Running (epoch = 2, round = 250, global round = 500) for Eval\n",
      "(epoch = 2, round = 250, global round = 500), Loss/Eval: 0.7149542304248251\n",
      "(epoch = 2, round = 250, global round = 500), Accuracy/Eval: 48.732394366197184\n",
      "Current eval accuracy: {'Accuracy': 48.732394366197184}%, Best so far: {'Accuracy': 61.16197183098591}%\n"
     ]
    },
    {
     "name": "stderr",
     "output_type": "stream",
     "text": [
      "Round: 100%|███████████████████████████████████████████████████████████████████████| 250/250 [00:57<00:00,  4.31round/s]\n",
      "Round: 100%|██████████████████████████████████████████████████████████████████████▋| 249/250 [00:57<00:00,  3.52round/s]"
     ]
    },
    {
     "name": "stdout",
     "output_type": "stream",
     "text": [
      "Train finished Global Round: 750\n",
      "(epoch = 3, round = 250, global round = 750), Loss/Training: 0.7776318971124785\n",
      "(epoch = 3, round = 250, global round = 750), Accuracy/Training: 50.209839123338774\n",
      "reporting (epoch = 3, round = 250, global round = 750) for aggregation\n",
      "(epoch = 3, round = 250, global round = 750), Loss/Aggregation: 0.7082163974642753\n",
      "(epoch = 3, round = 250, global round = 750), Accuracy/Aggregation: 77.27272727272727\n",
      "Running (epoch = 3, round = 250, global round = 750) for Eval\n",
      "(epoch = 3, round = 250, global round = 750), Loss/Eval: 0.7838177185997254\n",
      "(epoch = 3, round = 250, global round = 750), Accuracy/Eval: 49.96478873239437\n",
      "Current eval accuracy: {'Accuracy': 49.96478873239437}%, Best so far: {'Accuracy': 61.16197183098591}%\n"
     ]
    },
    {
     "name": "stderr",
     "output_type": "stream",
     "text": [
      "Round: 100%|███████████████████████████████████████████████████████████████████████| 250/250 [01:00<00:00,  4.13round/s]\n",
      "Round: 100%|██████████████████████████████████████████████████████████████████████▋| 249/250 [00:54<00:00,  4.39round/s]"
     ]
    },
    {
     "name": "stdout",
     "output_type": "stream",
     "text": [
      "Train finished Global Round: 1000\n",
      "(epoch = 4, round = 250, global round = 1000), Loss/Training: 0.7416324755835041\n",
      "(epoch = 4, round = 250, global round = 1000), Accuracy/Training: 50.78468298807282\n",
      "reporting (epoch = 4, round = 250, global round = 1000) for aggregation\n",
      "(epoch = 4, round = 250, global round = 1000), Loss/Aggregation: 0.6408280670642853\n",
      "(epoch = 4, round = 250, global round = 1000), Accuracy/Aggregation: 66.66666666666667\n",
      "Running (epoch = 4, round = 250, global round = 1000) for Eval\n",
      "(epoch = 4, round = 250, global round = 1000), Loss/Eval: 0.7009719394317746\n",
      "(epoch = 4, round = 250, global round = 1000), Accuracy/Eval: 49.61267605633803\n",
      "Current eval accuracy: {'Accuracy': 49.61267605633803}%, Best so far: {'Accuracy': 61.16197183098591}%\n"
     ]
    },
    {
     "name": "stderr",
     "output_type": "stream",
     "text": [
      "Round: 100%|██████████████████████████████████████████████████████████████████████▋| 249/250 [00:57<00:00,  4.30round/s]\n",
      "Epoch:  75%|████████████████████████████████████████████████████████▎                  | 3/4 [03:55<01:18, 78.38s/epoch]"
     ]
    },
    {
     "name": "stdout",
     "output_type": "stream",
     "text": [
      "Running (epoch = 1, round = 1, global round = 1) for Test\n"
     ]
    },
    {
     "name": "stderr",
     "output_type": "stream",
     "text": [
      "\n",
      " 55%|████████████████████▏                | 218.0/400 [3:39:33<3:00:56, 59.65s/it, min_score=-60.1, models_evaluated=48]"
     ]
    },
    {
     "name": "stdout",
     "output_type": "stream",
     "text": [
      "(epoch = 1, round = 1, global round = 1), Loss/Test: 0.7009719392883218\n",
      "(epoch = 1, round = 1, global round = 1), Accuracy/Test: 49.61267605633803\n"
     ]
    },
    {
     "name": "stderr",
     "output_type": "stream",
     "text": [
      "Round: 100%|██████████████████████████████████████████████████████████████████████▋| 249/250 [00:54<00:00,  4.65round/s]"
     ]
    },
    {
     "name": "stdout",
     "output_type": "stream",
     "text": [
      "Train finished Global Round: 250\n",
      "(epoch = 1, round = 250, global round = 250), Loss/Training: 0.8168527983034624\n",
      "(epoch = 1, round = 250, global round = 250), Accuracy/Training: 51.073101645059374\n",
      "reporting (epoch = 1, round = 250, global round = 250) for aggregation\n",
      "(epoch = 1, round = 250, global round = 250), Loss/Aggregation: 0.6918497264385224\n",
      "(epoch = 1, round = 250, global round = 250), Accuracy/Aggregation: 50.0\n",
      "Running (epoch = 1, round = 250, global round = 250) for Eval\n",
      "(epoch = 1, round = 250, global round = 250), Loss/Eval: 0.6932205817472777\n",
      "(epoch = 1, round = 250, global round = 250), Accuracy/Eval: 50.105633802816904\n",
      "Current eval accuracy: {'Accuracy': 50.105633802816904}%, Best so far: {'Accuracy': 61.16197183098591}%\n"
     ]
    },
    {
     "name": "stderr",
     "output_type": "stream",
     "text": [
      "Round: 100%|███████████████████████████████████████████████████████████████████████| 250/250 [00:57<00:00,  4.33round/s]\n",
      "Round: 100%|██████████████████████████████████████████████████████████████████████▋| 249/250 [00:55<00:00,  4.57round/s]"
     ]
    },
    {
     "name": "stdout",
     "output_type": "stream",
     "text": [
      "Train finished Global Round: 500\n",
      "(epoch = 2, round = 250, global round = 500), Loss/Training: 0.715993745058172\n",
      "(epoch = 2, round = 250, global round = 500), Accuracy/Training: 50.00574778710197\n",
      "reporting (epoch = 2, round = 250, global round = 500) for aggregation\n",
      "(epoch = 2, round = 250, global round = 500), Loss/Aggregation: 0.701339727640152\n",
      "(epoch = 2, round = 250, global round = 500), Accuracy/Aggregation: 55.81395348837209\n",
      "Running (epoch = 2, round = 250, global round = 500) for Eval\n",
      "(epoch = 2, round = 250, global round = 500), Loss/Eval: 0.7039553673928204\n",
      "(epoch = 2, round = 250, global round = 500), Accuracy/Eval: 49.894366197183096\n",
      "Current eval accuracy: {'Accuracy': 49.894366197183096}%, Best so far: {'Accuracy': 61.16197183098591}%\n"
     ]
    },
    {
     "name": "stderr",
     "output_type": "stream",
     "text": [
      "Round: 100%|███████████████████████████████████████████████████████████████████████| 250/250 [00:58<00:00,  4.25round/s]\n",
      "Round: 100%|██████████████████████████████████████████████████████████████████████▋| 249/250 [00:56<00:00,  4.44round/s]"
     ]
    },
    {
     "name": "stdout",
     "output_type": "stream",
     "text": [
      "Train finished Global Round: 750\n",
      "(epoch = 3, round = 250, global round = 750), Loss/Training: 0.7191127205081431\n",
      "(epoch = 3, round = 250, global round = 750), Accuracy/Training: 50.67110490711908\n",
      "reporting (epoch = 3, round = 250, global round = 750) for aggregation\n",
      "(epoch = 3, round = 250, global round = 750), Loss/Aggregation: 0.7188543140888214\n",
      "(epoch = 3, round = 250, global round = 750), Accuracy/Aggregation: 58.62068965517241\n",
      "Running (epoch = 3, round = 250, global round = 750) for Eval\n",
      "(epoch = 3, round = 250, global round = 750), Loss/Eval: 0.7087073564959777\n",
      "(epoch = 3, round = 250, global round = 750), Accuracy/Eval: 49.894366197183096\n",
      "Current eval accuracy: {'Accuracy': 49.894366197183096}%, Best so far: {'Accuracy': 61.16197183098591}%\n"
     ]
    },
    {
     "name": "stderr",
     "output_type": "stream",
     "text": [
      "Round: 100%|███████████████████████████████████████████████████████████████████████| 250/250 [00:59<00:00,  4.18round/s]\n",
      "Round: 100%|██████████████████████████████████████████████████████████████████████▋| 249/250 [00:54<00:00,  4.67round/s]"
     ]
    },
    {
     "name": "stdout",
     "output_type": "stream",
     "text": [
      "Train finished Global Round: 1000\n",
      "(epoch = 4, round = 250, global round = 1000), Loss/Training: 0.7097781021118448\n",
      "(epoch = 4, round = 250, global round = 1000), Accuracy/Training: 50.251658659345686\n",
      "reporting (epoch = 4, round = 250, global round = 1000) for aggregation\n",
      "(epoch = 4, round = 250, global round = 1000), Loss/Aggregation: 0.7055925548076629\n",
      "(epoch = 4, round = 250, global round = 1000), Accuracy/Aggregation: 66.66666666666667\n",
      "Running (epoch = 4, round = 250, global round = 1000) for Eval\n",
      "(epoch = 4, round = 250, global round = 1000), Loss/Eval: 0.6990092001523639\n",
      "(epoch = 4, round = 250, global round = 1000), Accuracy/Eval: 50.105633802816904\n",
      "Current eval accuracy: {'Accuracy': 50.105633802816904}%, Best so far: {'Accuracy': 61.16197183098591}%\n"
     ]
    },
    {
     "name": "stderr",
     "output_type": "stream",
     "text": [
      "Round: 100%|██████████████████████████████████████████████████████████████████████▋| 249/250 [00:57<00:00,  4.33round/s]\n",
      "Epoch:  75%|████████████████████████████████████████████████████████▎                  | 3/4 [03:53<01:17, 77.97s/epoch]"
     ]
    },
    {
     "name": "stdout",
     "output_type": "stream",
     "text": [
      "Running (epoch = 1, round = 1, global round = 1) for Test\n"
     ]
    },
    {
     "name": "stderr",
     "output_type": "stream",
     "text": [
      "\n",
      " 56%|████████████████████▌                | 222.0/400 [3:43:29<2:56:36, 59.53s/it, min_score=-60.1, models_evaluated=51]"
     ]
    },
    {
     "name": "stdout",
     "output_type": "stream",
     "text": [
      "(epoch = 1, round = 1, global round = 1), Loss/Test: 0.6990092004153607\n",
      "(epoch = 1, round = 1, global round = 1), Accuracy/Test: 50.105633802816904\n"
     ]
    },
    {
     "name": "stderr",
     "output_type": "stream",
     "text": [
      "Round: 100%|██████████████████████████████████████████████████████████████████████▋| 249/250 [00:54<00:00,  4.72round/s]"
     ]
    },
    {
     "name": "stdout",
     "output_type": "stream",
     "text": [
      "Train finished Global Round: 250\n",
      "(epoch = 1, round = 250, global round = 250), Loss/Training: 0.7233290374418684\n",
      "(epoch = 1, round = 250, global round = 250), Accuracy/Training: 51.47247119078105\n",
      "reporting (epoch = 1, round = 250, global round = 250) for aggregation\n",
      "(epoch = 1, round = 250, global round = 250), Loss/Aggregation: 0.6345094978809357\n",
      "(epoch = 1, round = 250, global round = 250), Accuracy/Aggregation: 63.333333333333336\n",
      "Running (epoch = 1, round = 250, global round = 250) for Eval\n",
      "(epoch = 1, round = 250, global round = 250), Loss/Eval: 0.7261684425130361\n",
      "(epoch = 1, round = 250, global round = 250), Accuracy/Eval: 51.514084507042256\n",
      "Current eval accuracy: {'Accuracy': 51.514084507042256}%, Best so far: {'Accuracy': 61.16197183098591}%\n"
     ]
    },
    {
     "name": "stderr",
     "output_type": "stream",
     "text": [
      "Round: 100%|███████████████████████████████████████████████████████████████████████| 250/250 [00:57<00:00,  4.35round/s]\n",
      "Round: 100%|██████████████████████████████████████████████████████████████████████▋| 249/250 [00:54<00:00,  4.64round/s]"
     ]
    },
    {
     "name": "stdout",
     "output_type": "stream",
     "text": [
      "Train finished Global Round: 500\n",
      "(epoch = 2, round = 250, global round = 500), Loss/Training: 0.7274355628951029\n",
      "(epoch = 2, round = 250, global round = 500), Accuracy/Training: 51.62207710132716\n",
      "reporting (epoch = 2, round = 250, global round = 500) for aggregation\n",
      "(epoch = 2, round = 250, global round = 500), Loss/Aggregation: 0.6998360455036163\n",
      "(epoch = 2, round = 250, global round = 500), Accuracy/Aggregation: 60.0\n",
      "Running (epoch = 2, round = 250, global round = 500) for Eval\n",
      "(epoch = 2, round = 250, global round = 500), Loss/Eval: 0.698015201177838\n",
      "(epoch = 2, round = 250, global round = 500), Accuracy/Eval: 50.352112676056336\n",
      "Current eval accuracy: {'Accuracy': 50.352112676056336}%, Best so far: {'Accuracy': 61.16197183098591}%\n"
     ]
    },
    {
     "name": "stderr",
     "output_type": "stream",
     "text": [
      "Round: 100%|███████████████████████████████████████████████████████████████████████| 250/250 [00:57<00:00,  4.33round/s]\n",
      "Round: 100%|██████████████████████████████████████████████████████████████████████▋| 249/250 [00:56<00:00,  4.69round/s]"
     ]
    },
    {
     "name": "stdout",
     "output_type": "stream",
     "text": [
      "Train finished Global Round: 750\n",
      "(epoch = 3, round = 250, global round = 750), Loss/Training: 0.717909331889573\n",
      "(epoch = 3, round = 250, global round = 750), Accuracy/Training: 51.97811447811448\n",
      "reporting (epoch = 3, round = 250, global round = 750) for aggregation\n",
      "(epoch = 3, round = 250, global round = 750), Loss/Aggregation: 0.6145026575435292\n",
      "(epoch = 3, round = 250, global round = 750), Accuracy/Aggregation: 43.47826086956522\n",
      "Running (epoch = 3, round = 250, global round = 750) for Eval\n",
      "(epoch = 3, round = 250, global round = 750), Loss/Eval: 0.7109242153607647\n",
      "(epoch = 3, round = 250, global round = 750), Accuracy/Eval: 49.7887323943662\n",
      "Current eval accuracy: {'Accuracy': 49.7887323943662}%, Best so far: {'Accuracy': 61.16197183098591}%\n"
     ]
    },
    {
     "name": "stderr",
     "output_type": "stream",
     "text": [
      "Round: 100%|███████████████████████████████████████████████████████████████████████| 250/250 [00:59<00:00,  4.20round/s]\n",
      "Round: 100%|██████████████████████████████████████████████████████████████████████▋| 249/250 [00:54<00:00,  4.65round/s]"
     ]
    },
    {
     "name": "stdout",
     "output_type": "stream",
     "text": [
      "Train finished Global Round: 1000\n",
      "(epoch = 4, round = 250, global round = 1000), Loss/Training: 0.702036265496023\n",
      "(epoch = 4, round = 250, global round = 1000), Accuracy/Training: 49.92879833497645\n",
      "reporting (epoch = 4, round = 250, global round = 1000) for aggregation\n",
      "(epoch = 4, round = 250, global round = 1000), Loss/Aggregation: 0.6981648981571198\n",
      "(epoch = 4, round = 250, global round = 1000), Accuracy/Aggregation: 40.0\n",
      "Running (epoch = 4, round = 250, global round = 1000) for Eval\n",
      "(epoch = 4, round = 250, global round = 1000), Loss/Eval: 0.6991827083468389\n",
      "(epoch = 4, round = 250, global round = 1000), Accuracy/Eval: 50.774647887323944\n",
      "Current eval accuracy: {'Accuracy': 50.774647887323944}%, Best so far: {'Accuracy': 61.16197183098591}%\n"
     ]
    },
    {
     "name": "stderr",
     "output_type": "stream",
     "text": [
      "Round: 100%|███████████████████████████████████████████████████████████████████████| 250/250 [00:57<00:00,  4.34round/s]\n",
      "Round: 100%|██████████████████████████████████████████████████████████████████████▋| 249/250 [00:57<00:00,  4.41round/s]"
     ]
    },
    {
     "name": "stdout",
     "output_type": "stream",
     "text": [
      "Train finished Global Round: 1250\n",
      "(epoch = 5, round = 250, global round = 1250), Loss/Training: 0.7045249666938888\n",
      "(epoch = 5, round = 250, global round = 1250), Accuracy/Training: 51.88892476590249\n",
      "reporting (epoch = 5, round = 250, global round = 1250) for aggregation\n",
      "(epoch = 5, round = 250, global round = 1250), Loss/Aggregation: 0.6372257091104985\n",
      "(epoch = 5, round = 250, global round = 1250), Accuracy/Aggregation: 57.142857142857146\n",
      "Running (epoch = 5, round = 250, global round = 1250) for Eval\n",
      "(epoch = 5, round = 250, global round = 1250), Loss/Eval: 0.6991226561173253\n",
      "(epoch = 5, round = 250, global round = 1250), Accuracy/Eval: 50.03521126760563\n",
      "Current eval accuracy: {'Accuracy': 50.03521126760563}%, Best so far: {'Accuracy': 61.16197183098591}%\n"
     ]
    },
    {
     "name": "stderr",
     "output_type": "stream",
     "text": [
      "Round: 100%|███████████████████████████████████████████████████████████████████████| 250/250 [01:00<00:00,  4.11round/s]\n",
      "Round: 100%|██████████████████████████████████████████████████████████████████████▋| 249/250 [00:55<00:00,  4.56round/s]"
     ]
    },
    {
     "name": "stdout",
     "output_type": "stream",
     "text": [
      "Train finished Global Round: 1500\n",
      "(epoch = 6, round = 250, global round = 1500), Loss/Training: 0.7005447138025559\n",
      "(epoch = 6, round = 250, global round = 1500), Accuracy/Training: 50.605135165705235\n",
      "reporting (epoch = 6, round = 250, global round = 1500) for aggregation\n",
      "(epoch = 6, round = 250, global round = 1500), Loss/Aggregation: 0.70640429854393\n",
      "(epoch = 6, round = 250, global round = 1500), Accuracy/Aggregation: 50.0\n",
      "Running (epoch = 6, round = 250, global round = 1500) for Eval\n",
      "(epoch = 6, round = 250, global round = 1500), Loss/Eval: 0.6944949141573915\n",
      "(epoch = 6, round = 250, global round = 1500), Accuracy/Eval: 49.894366197183096\n",
      "Current eval accuracy: {'Accuracy': 49.894366197183096}%, Best so far: {'Accuracy': 61.16197183098591}%\n"
     ]
    },
    {
     "name": "stderr",
     "output_type": "stream",
     "text": [
      "Round: 100%|███████████████████████████████████████████████████████████████████████| 250/250 [00:58<00:00,  4.26round/s]\n",
      "Round: 100%|██████████████████████████████████████████████████████████████████████▋| 249/250 [00:57<00:00,  4.26round/s]"
     ]
    },
    {
     "name": "stdout",
     "output_type": "stream",
     "text": [
      "Train finished Global Round: 1750\n",
      "(epoch = 7, round = 250, global round = 1750), Loss/Training: 0.7160505536952523\n",
      "(epoch = 7, round = 250, global round = 1750), Accuracy/Training: 50.027867573291715\n",
      "reporting (epoch = 7, round = 250, global round = 1750) for aggregation\n",
      "(epoch = 7, round = 250, global round = 1750), Loss/Aggregation: 0.6671798337589611\n",
      "(epoch = 7, round = 250, global round = 1750), Accuracy/Aggregation: 72.52747252747253\n",
      "Running (epoch = 7, round = 250, global round = 1750) for Eval\n",
      "(epoch = 7, round = 250, global round = 1750), Loss/Eval: 0.7114479750128836\n",
      "(epoch = 7, round = 250, global round = 1750), Accuracy/Eval: 49.894366197183096\n",
      "Current eval accuracy: {'Accuracy': 49.894366197183096}%, Best so far: {'Accuracy': 61.16197183098591}%\n"
     ]
    },
    {
     "name": "stderr",
     "output_type": "stream",
     "text": [
      "Round: 100%|███████████████████████████████████████████████████████████████████████| 250/250 [01:00<00:00,  4.13round/s]\n",
      "Round: 100%|██████████████████████████████████████████████████████████████████████▋| 249/250 [00:55<00:00,  4.61round/s]"
     ]
    },
    {
     "name": "stdout",
     "output_type": "stream",
     "text": [
      "Train finished Global Round: 2000\n",
      "(epoch = 8, round = 250, global round = 2000), Loss/Training: 0.7216207577641988\n",
      "(epoch = 8, round = 250, global round = 2000), Accuracy/Training: 50.64095772857294\n",
      "reporting (epoch = 8, round = 250, global round = 2000) for aggregation\n",
      "(epoch = 8, round = 250, global round = 2000), Loss/Aggregation: 0.6620732426643372\n",
      "(epoch = 8, round = 250, global round = 2000), Accuracy/Aggregation: 52.5\n",
      "Running (epoch = 8, round = 250, global round = 2000) for Eval\n",
      "(epoch = 8, round = 250, global round = 2000), Loss/Eval: 0.6945274421983318\n",
      "(epoch = 8, round = 250, global round = 2000), Accuracy/Eval: 49.7887323943662\n",
      "Current eval accuracy: {'Accuracy': 49.7887323943662}%, Best so far: {'Accuracy': 61.16197183098591}%\n"
     ]
    },
    {
     "name": "stderr",
     "output_type": "stream",
     "text": [
      "Round: 100%|██████████████████████████████████████████████████████████████████████▋| 249/250 [00:58<00:00,  4.26round/s]\n",
      "Epoch:  88%|█████████████████████████████████████████████████████████████████▋         | 7/8 [07:50<01:07, 67.25s/epoch]"
     ]
    },
    {
     "name": "stdout",
     "output_type": "stream",
     "text": [
      "Running (epoch = 1, round = 1, global round = 1) for Test\n"
     ]
    },
    {
     "name": "stderr",
     "output_type": "stream",
     "text": [
      "\n",
      " 57%|█████████████████████▎               | 230.0/400 [3:51:23<2:48:16, 59.39s/it, min_score=-60.1, models_evaluated=51]"
     ]
    },
    {
     "name": "stdout",
     "output_type": "stream",
     "text": [
      "(epoch = 1, round = 1, global round = 1), Loss/Test: 0.6945274419233807\n",
      "(epoch = 1, round = 1, global round = 1), Accuracy/Test: 49.7887323943662\n"
     ]
    },
    {
     "name": "stderr",
     "output_type": "stream",
     "text": [
      "Round: 100%|██████████████████████████████████████████████████████████████████████▋| 249/250 [00:55<00:00,  4.69round/s]"
     ]
    },
    {
     "name": "stdout",
     "output_type": "stream",
     "text": [
      "Train finished Global Round: 250\n",
      "(epoch = 1, round = 250, global round = 250), Loss/Training: 0.7432603940579162\n",
      "(epoch = 1, round = 250, global round = 250), Accuracy/Training: 51.28345166575642\n",
      "reporting (epoch = 1, round = 250, global round = 250) for aggregation\n",
      "(epoch = 1, round = 250, global round = 250), Loss/Aggregation: 0.592701330780983\n",
      "(epoch = 1, round = 250, global round = 250), Accuracy/Aggregation: 66.66666666666667\n",
      "Running (epoch = 1, round = 250, global round = 250) for Eval\n",
      "(epoch = 1, round = 250, global round = 250), Loss/Eval: 0.7452343924369288\n",
      "(epoch = 1, round = 250, global round = 250), Accuracy/Eval: 48.83802816901409\n",
      "Current eval accuracy: {'Accuracy': 48.83802816901409}%, Best so far: {'Accuracy': 61.16197183098591}%\n"
     ]
    },
    {
     "name": "stderr",
     "output_type": "stream",
     "text": [
      "Round: 100%|███████████████████████████████████████████████████████████████████████| 250/250 [00:58<00:00,  4.27round/s]\n",
      "Round: 100%|██████████████████████████████████████████████████████████████████████▋| 249/250 [00:54<00:00,  4.58round/s]"
     ]
    },
    {
     "name": "stdout",
     "output_type": "stream",
     "text": [
      "Train finished Global Round: 500\n",
      "(epoch = 2, round = 250, global round = 500), Loss/Training: 0.7218960271953461\n",
      "(epoch = 2, round = 250, global round = 500), Accuracy/Training: 51.930853214718965\n",
      "reporting (epoch = 2, round = 250, global round = 500) for aggregation\n",
      "(epoch = 2, round = 250, global round = 500), Loss/Aggregation: 0.6720325499773026\n",
      "(epoch = 2, round = 250, global round = 500), Accuracy/Aggregation: 59.375\n",
      "Running (epoch = 2, round = 250, global round = 500) for Eval\n",
      "(epoch = 2, round = 250, global round = 500), Loss/Eval: 0.8839935810804648\n",
      "(epoch = 2, round = 250, global round = 500), Accuracy/Eval: 50.140845070422536\n",
      "Current eval accuracy: {'Accuracy': 50.140845070422536}%, Best so far: {'Accuracy': 61.16197183098591}%\n"
     ]
    },
    {
     "name": "stderr",
     "output_type": "stream",
     "text": [
      "Round: 100%|███████████████████████████████████████████████████████████████████████| 250/250 [00:57<00:00,  4.32round/s]\n",
      "Round: 100%|██████████████████████████████████████████████████████████████████████▋| 249/250 [00:57<00:00,  4.64round/s]"
     ]
    },
    {
     "name": "stdout",
     "output_type": "stream",
     "text": [
      "Train finished Global Round: 750\n",
      "(epoch = 3, round = 250, global round = 750), Loss/Training: 1.8723888722256303\n",
      "(epoch = 3, round = 250, global round = 750), Accuracy/Training: 50.57484220018034\n",
      "reporting (epoch = 3, round = 250, global round = 750) for aggregation\n",
      "(epoch = 3, round = 250, global round = 750), Loss/Aggregation: 1.020586657524109\n",
      "(epoch = 3, round = 250, global round = 750), Accuracy/Aggregation: 56.666666666666664\n",
      "Running (epoch = 3, round = 250, global round = 750) for Eval\n",
      "(epoch = 3, round = 250, global round = 750), Loss/Eval: 0.9116267247251214\n",
      "(epoch = 3, round = 250, global round = 750), Accuracy/Eval: 51.40845070422535\n",
      "Current eval accuracy: {'Accuracy': 51.40845070422535}%, Best so far: {'Accuracy': 61.16197183098591}%\n"
     ]
    },
    {
     "name": "stderr",
     "output_type": "stream",
     "text": [
      "Round: 100%|███████████████████████████████████████████████████████████████████████| 250/250 [01:01<00:00,  4.07round/s]\n",
      "Round: 100%|██████████████████████████████████████████████████████████████████████▋| 249/250 [00:54<00:00,  4.66round/s]"
     ]
    },
    {
     "name": "stdout",
     "output_type": "stream",
     "text": [
      "Train finished Global Round: 1000\n",
      "(epoch = 4, round = 250, global round = 1000), Loss/Training: 1.1966046464546463\n",
      "(epoch = 4, round = 250, global round = 1000), Accuracy/Training: 51.73440065681445\n",
      "reporting (epoch = 4, round = 250, global round = 1000) for aggregation\n",
      "(epoch = 4, round = 250, global round = 1000), Loss/Aggregation: 1.025765635818243\n",
      "(epoch = 4, round = 250, global round = 1000), Accuracy/Aggregation: 55.55555555555556\n",
      "Running (epoch = 4, round = 250, global round = 1000) for Eval\n",
      "(epoch = 4, round = 250, global round = 1000), Loss/Eval: 1.4250559345032243\n",
      "(epoch = 4, round = 250, global round = 1000), Accuracy/Eval: 49.96478873239437\n",
      "Current eval accuracy: {'Accuracy': 49.96478873239437}%, Best so far: {'Accuracy': 61.16197183098591}%\n"
     ]
    },
    {
     "name": "stderr",
     "output_type": "stream",
     "text": [
      "Round: 100%|███████████████████████████████████████████████████████████████████████| 250/250 [00:57<00:00,  4.34round/s]\n",
      "Round: 100%|██████████████████████████████████████████████████████████████████████▋| 249/250 [00:58<00:00,  4.64round/s]"
     ]
    },
    {
     "name": "stdout",
     "output_type": "stream",
     "text": [
      "Train finished Global Round: 1250\n",
      "(epoch = 5, round = 250, global round = 1250), Loss/Training: 1.082075696869568\n",
      "(epoch = 5, round = 250, global round = 1250), Accuracy/Training: 51.99652777777778\n",
      "reporting (epoch = 5, round = 250, global round = 1250) for aggregation\n",
      "(epoch = 5, round = 250, global round = 1250), Loss/Aggregation: 0.8398239850997925\n",
      "(epoch = 5, round = 250, global round = 1250), Accuracy/Aggregation: 55.81395348837209\n",
      "Running (epoch = 5, round = 250, global round = 1250) for Eval\n",
      "(epoch = 5, round = 250, global round = 1250), Loss/Eval: 1.1777711825525052\n",
      "(epoch = 5, round = 250, global round = 1250), Accuracy/Eval: 49.15492957746479\n",
      "Current eval accuracy: {'Accuracy': 49.15492957746479}%, Best so far: {'Accuracy': 61.16197183098591}%\n"
     ]
    },
    {
     "name": "stderr",
     "output_type": "stream",
     "text": [
      "Round: 100%|███████████████████████████████████████████████████████████████████████| 250/250 [01:01<00:00,  4.06round/s]\n",
      "Round: 100%|██████████████████████████████████████████████████████████████████████▋| 249/250 [00:54<00:00,  4.61round/s]"
     ]
    },
    {
     "name": "stdout",
     "output_type": "stream",
     "text": [
      "Train finished Global Round: 1500\n",
      "(epoch = 6, round = 250, global round = 1500), Loss/Training: 1.0939063025021207\n",
      "(epoch = 6, round = 250, global round = 1500), Accuracy/Training: 50.746094660760086\n",
      "reporting (epoch = 6, round = 250, global round = 1500) for aggregation\n",
      "(epoch = 6, round = 250, global round = 1500), Loss/Aggregation: 0.6869786337018013\n",
      "(epoch = 6, round = 250, global round = 1500), Accuracy/Aggregation: 65.0\n",
      "Running (epoch = 6, round = 250, global round = 1500) for Eval\n",
      "(epoch = 6, round = 250, global round = 1500), Loss/Eval: 0.8532031941688233\n",
      "(epoch = 6, round = 250, global round = 1500), Accuracy/Eval: 50.17605633802817\n",
      "Current eval accuracy: {'Accuracy': 50.17605633802817}%, Best so far: {'Accuracy': 61.16197183098591}%\n"
     ]
    },
    {
     "name": "stderr",
     "output_type": "stream",
     "text": [
      "Round: 100%|███████████████████████████████████████████████████████████████████████| 250/250 [00:57<00:00,  4.34round/s]\n",
      "Round: 100%|██████████████████████████████████████████████████████████████████████▋| 249/250 [00:52<00:00,  4.62round/s]"
     ]
    },
    {
     "name": "stdout",
     "output_type": "stream",
     "text": [
      "Train finished Global Round: 1750\n",
      "(epoch = 7, round = 250, global round = 1750), Loss/Training: 1.1921766131090135\n",
      "(epoch = 7, round = 250, global round = 1750), Accuracy/Training: 50.73853615520282\n",
      "reporting (epoch = 7, round = 250, global round = 1750) for aggregation\n",
      "(epoch = 7, round = 250, global round = 1750), Loss/Aggregation: 0.5979960337281227\n",
      "(epoch = 7, round = 250, global round = 1750), Accuracy/Aggregation: 65.625\n",
      "Running (epoch = 7, round = 250, global round = 1750) for Eval\n",
      "(epoch = 7, round = 250, global round = 1750), Loss/Eval: 0.7934539597601034\n",
      "(epoch = 7, round = 250, global round = 1750), Accuracy/Eval: 50.140845070422536\n",
      "Current eval accuracy: {'Accuracy': 50.140845070422536}%, Best so far: {'Accuracy': 61.16197183098591}%\n"
     ]
    },
    {
     "name": "stderr",
     "output_type": "stream",
     "text": [
      "Round: 100%|███████████████████████████████████████████████████████████████████████| 250/250 [00:55<00:00,  4.53round/s]\n",
      "Round: 100%|██████████████████████████████████████████████████████████████████████▋| 249/250 [00:55<00:00,  4.58round/s]"
     ]
    },
    {
     "name": "stdout",
     "output_type": "stream",
     "text": [
      "Train finished Global Round: 2000\n",
      "(epoch = 8, round = 250, global round = 2000), Loss/Training: 1.035429050663652\n",
      "(epoch = 8, round = 250, global round = 2000), Accuracy/Training: 50.99574848959499\n",
      "reporting (epoch = 8, round = 250, global round = 2000) for aggregation\n",
      "(epoch = 8, round = 250, global round = 2000), Loss/Aggregation: 0.5150034546852111\n",
      "(epoch = 8, round = 250, global round = 2000), Accuracy/Aggregation: 70.0\n",
      "Running (epoch = 8, round = 250, global round = 2000) for Eval\n",
      "(epoch = 8, round = 250, global round = 2000), Loss/Eval: 0.871065563628001\n",
      "(epoch = 8, round = 250, global round = 2000), Accuracy/Eval: 50.598591549295776\n",
      "Current eval accuracy: {'Accuracy': 50.598591549295776}%, Best so far: {'Accuracy': 61.16197183098591}%\n"
     ]
    },
    {
     "name": "stderr",
     "output_type": "stream",
     "text": [
      "Round: 100%|██████████████████████████████████████████████████████████████████████▋| 249/250 [00:58<00:00,  4.26round/s]\n",
      "Epoch:  88%|█████████████████████████████████████████████████████████████████▋         | 7/8 [07:48<01:06, 66.91s/epoch]"
     ]
    },
    {
     "name": "stdout",
     "output_type": "stream",
     "text": [
      "Running (epoch = 1, round = 1, global round = 1) for Test\n"
     ]
    },
    {
     "name": "stderr",
     "output_type": "stream",
     "text": [
      "\n",
      " 60%|██████████████████████               | 238.0/400 [3:59:15<2:39:51, 59.21s/it, min_score=-60.1, models_evaluated=53]"
     ]
    },
    {
     "name": "stdout",
     "output_type": "stream",
     "text": [
      "(epoch = 1, round = 1, global round = 1), Loss/Test: 0.8710655635801834\n",
      "(epoch = 1, round = 1, global round = 1), Accuracy/Test: 50.598591549295776\n"
     ]
    },
    {
     "name": "stderr",
     "output_type": "stream",
     "text": [
      "Round: 100%|██████████████████████████████████████████████████████████████████████▋| 249/250 [00:55<00:00,  4.62round/s]"
     ]
    },
    {
     "name": "stdout",
     "output_type": "stream",
     "text": [
      "Train finished Global Round: 250\n",
      "(epoch = 1, round = 250, global round = 250), Loss/Training: 0.6995644179105948\n",
      "(epoch = 1, round = 250, global round = 250), Accuracy/Training: 51.965981886459026\n",
      "reporting (epoch = 1, round = 250, global round = 250) for aggregation\n",
      "(epoch = 1, round = 250, global round = 250), Loss/Aggregation: 0.6641273677349091\n",
      "(epoch = 1, round = 250, global round = 250), Accuracy/Aggregation: 72.72727272727273\n",
      "Running (epoch = 1, round = 250, global round = 250) for Eval\n",
      "(epoch = 1, round = 250, global round = 250), Loss/Eval: 0.6946178776549374\n",
      "(epoch = 1, round = 250, global round = 250), Accuracy/Eval: 50.105633802816904\n",
      "Current eval accuracy: {'Accuracy': 50.105633802816904}%, Best so far: {'Accuracy': 61.16197183098591}%\n"
     ]
    },
    {
     "name": "stderr",
     "output_type": "stream",
     "text": [
      "Round: 100%|███████████████████████████████████████████████████████████████████████| 250/250 [00:58<00:00,  4.31round/s]\n",
      "Round: 100%|██████████████████████████████████████████████████████████████████████▋| 249/250 [00:54<00:00,  4.52round/s]"
     ]
    },
    {
     "name": "stdout",
     "output_type": "stream",
     "text": [
      "Train finished Global Round: 500\n",
      "(epoch = 2, round = 250, global round = 500), Loss/Training: 0.6966573073195225\n",
      "(epoch = 2, round = 250, global round = 500), Accuracy/Training: 51.37425312330255\n",
      "reporting (epoch = 2, round = 250, global round = 500) for aggregation\n",
      "(epoch = 2, round = 250, global round = 500), Loss/Aggregation: 0.661858011375774\n",
      "(epoch = 2, round = 250, global round = 500), Accuracy/Aggregation: 46.15384615384615\n",
      "Running (epoch = 2, round = 250, global round = 500) for Eval\n",
      "(epoch = 2, round = 250, global round = 500), Loss/Eval: 0.720485657707568\n",
      "(epoch = 2, round = 250, global round = 500), Accuracy/Eval: 50.105633802816904\n",
      "Current eval accuracy: {'Accuracy': 50.105633802816904}%, Best so far: {'Accuracy': 61.16197183098591}%\n"
     ]
    },
    {
     "name": "stderr",
     "output_type": "stream",
     "text": [
      "Round: 100%|███████████████████████████████████████████████████████████████████████| 250/250 [00:57<00:00,  4.37round/s]\n",
      "Round: 100%|██████████████████████████████████████████████████████████████████████▋| 249/250 [00:54<00:00,  4.66round/s]"
     ]
    },
    {
     "name": "stdout",
     "output_type": "stream",
     "text": [
      "Train finished Global Round: 750\n",
      "(epoch = 3, round = 250, global round = 750), Loss/Training: 0.7006360224611153\n",
      "(epoch = 3, round = 250, global round = 750), Accuracy/Training: 50.63963573287077\n",
      "reporting (epoch = 3, round = 250, global round = 750) for aggregation\n",
      "(epoch = 3, round = 250, global round = 750), Loss/Aggregation: 0.7011909723281861\n",
      "(epoch = 3, round = 250, global round = 750), Accuracy/Aggregation: 36.0\n",
      "Running (epoch = 3, round = 250, global round = 750) for Eval\n",
      "(epoch = 3, round = 250, global round = 750), Loss/Eval: 0.6936102560902522\n",
      "(epoch = 3, round = 250, global round = 750), Accuracy/Eval: 49.894366197183096\n",
      "Current eval accuracy: {'Accuracy': 49.894366197183096}%, Best so far: {'Accuracy': 61.16197183098591}%\n"
     ]
    },
    {
     "name": "stderr",
     "output_type": "stream",
     "text": [
      "Round: 100%|███████████████████████████████████████████████████████████████████████| 250/250 [00:57<00:00,  4.32round/s]\n",
      "Round: 100%|██████████████████████████████████████████████████████████████████████▋| 249/250 [00:57<00:00,  4.36round/s]"
     ]
    },
    {
     "name": "stdout",
     "output_type": "stream",
     "text": [
      "Train finished Global Round: 1000\n",
      "(epoch = 4, round = 250, global round = 1000), Loss/Training: 0.6956307405486266\n",
      "(epoch = 4, round = 250, global round = 1000), Accuracy/Training: 51.200800533689126\n",
      "reporting (epoch = 4, round = 250, global round = 1000) for aggregation\n",
      "(epoch = 4, round = 250, global round = 1000), Loss/Aggregation: 0.7129676699638366\n",
      "(epoch = 4, round = 250, global round = 1000), Accuracy/Aggregation: 13.333333333333334\n",
      "Running (epoch = 4, round = 250, global round = 1000) for Eval\n",
      "(epoch = 4, round = 250, global round = 1000), Loss/Eval: 0.6934689319473264\n",
      "(epoch = 4, round = 250, global round = 1000), Accuracy/Eval: 49.894366197183096\n",
      "Current eval accuracy: {'Accuracy': 49.894366197183096}%, Best so far: {'Accuracy': 61.16197183098591}%\n"
     ]
    },
    {
     "name": "stderr",
     "output_type": "stream",
     "text": [
      "Round: 100%|███████████████████████████████████████████████████████████████████████| 250/250 [01:01<00:00,  4.10round/s]\n",
      "Round: 100%|██████████████████████████████████████████████████████████████████████▋| 249/250 [00:59<00:00,  4.32round/s]"
     ]
    },
    {
     "name": "stdout",
     "output_type": "stream",
     "text": [
      "Train finished Global Round: 1250\n",
      "(epoch = 5, round = 250, global round = 1250), Loss/Training: 0.6978740166437508\n",
      "(epoch = 5, round = 250, global round = 1250), Accuracy/Training: 48.44767694311767\n",
      "reporting (epoch = 5, round = 250, global round = 1250) for aggregation\n",
      "(epoch = 5, round = 250, global round = 1250), Loss/Aggregation: 0.7212197959423066\n",
      "(epoch = 5, round = 250, global round = 1250), Accuracy/Aggregation: 61.36363636363637\n",
      "Running (epoch = 5, round = 250, global round = 1250) for Eval\n",
      "(epoch = 5, round = 250, global round = 1250), Loss/Eval: 0.696527795264676\n",
      "(epoch = 5, round = 250, global round = 1250), Accuracy/Eval: 49.894366197183096\n",
      "Current eval accuracy: {'Accuracy': 49.894366197183096}%, Best so far: {'Accuracy': 61.16197183098591}%\n"
     ]
    },
    {
     "name": "stderr",
     "output_type": "stream",
     "text": [
      "Round: 100%|███████████████████████████████████████████████████████████████████████| 250/250 [01:02<00:00,  3.98round/s]\n",
      "Round: 100%|██████████████████████████████████████████████████████████████████████▋| 249/250 [00:56<00:00,  4.39round/s]"
     ]
    },
    {
     "name": "stdout",
     "output_type": "stream",
     "text": [
      "Train finished Global Round: 1500\n",
      "(epoch = 6, round = 250, global round = 1500), Loss/Training: 0.7184073011770892\n",
      "(epoch = 6, round = 250, global round = 1500), Accuracy/Training: 51.8170019467878\n",
      "reporting (epoch = 6, round = 250, global round = 1500) for aggregation\n",
      "(epoch = 6, round = 250, global round = 1500), Loss/Aggregation: 0.7841717302799225\n",
      "(epoch = 6, round = 250, global round = 1500), Accuracy/Aggregation: 51.5625\n",
      "Running (epoch = 6, round = 250, global round = 1500) for Eval\n",
      "(epoch = 6, round = 250, global round = 1500), Loss/Eval: 0.7176089594749576\n",
      "(epoch = 6, round = 250, global round = 1500), Accuracy/Eval: 50.105633802816904\n",
      "Current eval accuracy: {'Accuracy': 50.105633802816904}%, Best so far: {'Accuracy': 61.16197183098591}%\n"
     ]
    },
    {
     "name": "stderr",
     "output_type": "stream",
     "text": [
      "Round: 100%|███████████████████████████████████████████████████████████████████████| 250/250 [01:00<00:00,  4.16round/s]\n",
      "Round: 100%|██████████████████████████████████████████████████████████████████████▋| 249/250 [00:59<00:00,  4.41round/s]"
     ]
    },
    {
     "name": "stdout",
     "output_type": "stream",
     "text": [
      "Train finished Global Round: 1750\n",
      "(epoch = 7, round = 250, global round = 1750), Loss/Training: 0.7060840991231547\n",
      "(epoch = 7, round = 250, global round = 1750), Accuracy/Training: 50.6487794149989\n",
      "reporting (epoch = 7, round = 250, global round = 1750) for aggregation\n",
      "(epoch = 7, round = 250, global round = 1750), Loss/Aggregation: 0.690741473978216\n",
      "(epoch = 7, round = 250, global round = 1750), Accuracy/Aggregation: 34.21052631578947\n",
      "Running (epoch = 7, round = 250, global round = 1750) for Eval\n",
      "(epoch = 7, round = 250, global round = 1750), Loss/Eval: 0.6944115348862588\n",
      "(epoch = 7, round = 250, global round = 1750), Accuracy/Eval: 49.894366197183096\n",
      "Current eval accuracy: {'Accuracy': 49.894366197183096}%, Best so far: {'Accuracy': 61.16197183098591}%\n"
     ]
    },
    {
     "name": "stderr",
     "output_type": "stream",
     "text": [
      "Round: 100%|███████████████████████████████████████████████████████████████████████| 250/250 [01:02<00:00,  4.00round/s]\n",
      "Round: 100%|██████████████████████████████████████████████████████████████████████▋| 249/250 [00:57<00:00,  4.32round/s]"
     ]
    },
    {
     "name": "stdout",
     "output_type": "stream",
     "text": [
      "Train finished Global Round: 2000\n",
      "(epoch = 8, round = 250, global round = 2000), Loss/Training: 0.7000575479609256\n",
      "(epoch = 8, round = 250, global round = 2000), Accuracy/Training: 50.46519088867501\n",
      "reporting (epoch = 8, round = 250, global round = 2000) for aggregation\n",
      "(epoch = 8, round = 250, global round = 2000), Loss/Aggregation: 0.6983658909797669\n",
      "(epoch = 8, round = 250, global round = 2000), Accuracy/Aggregation: 48.648648648648646\n",
      "Running (epoch = 8, round = 250, global round = 2000) for Eval\n",
      "(epoch = 8, round = 250, global round = 2000), Loss/Eval: 0.695360492904455\n",
      "(epoch = 8, round = 250, global round = 2000), Accuracy/Eval: 49.894366197183096\n",
      "Current eval accuracy: {'Accuracy': 49.894366197183096}%, Best so far: {'Accuracy': 61.16197183098591}%\n"
     ]
    },
    {
     "name": "stderr",
     "output_type": "stream",
     "text": [
      "Round: 100%|██████████████████████████████████████████████████████████████████████▋| 249/250 [01:01<00:00,  4.08round/s]\n",
      "Epoch:  88%|█████████████████████████████████████████████████████████████████▋         | 7/8 [08:00<01:08, 68.66s/epoch]"
     ]
    },
    {
     "name": "stdout",
     "output_type": "stream",
     "text": [
      "Running (epoch = 1, round = 1, global round = 1) for Test\n"
     ]
    },
    {
     "name": "stderr",
     "output_type": "stream",
     "text": [
      "\n",
      " 62%|██████████████████████▊              | 246.0/400 [4:07:19<2:33:13, 59.70s/it, min_score=-60.1, models_evaluated=53]"
     ]
    },
    {
     "name": "stdout",
     "output_type": "stream",
     "text": [
      "(epoch = 1, round = 1, global round = 1), Loss/Test: 0.6953604930479078\n",
      "(epoch = 1, round = 1, global round = 1), Accuracy/Test: 49.894366197183096\n"
     ]
    },
    {
     "name": "stderr",
     "output_type": "stream",
     "text": [
      "Round: 100%|██████████████████████████████████████████████████████████████████████▋| 249/250 [00:55<00:00,  3.78round/s]"
     ]
    },
    {
     "name": "stdout",
     "output_type": "stream",
     "text": [
      "Train finished Global Round: 250\n",
      "(epoch = 1, round = 250, global round = 250), Loss/Training: 0.6976814527710004\n",
      "(epoch = 1, round = 250, global round = 250), Accuracy/Training: 50.26195153896529\n",
      "reporting (epoch = 1, round = 250, global round = 250) for aggregation\n",
      "(epoch = 1, round = 250, global round = 250), Loss/Aggregation: 0.6935527443885803\n",
      "(epoch = 1, round = 250, global round = 250), Accuracy/Aggregation: 45.833333333333336\n",
      "Running (epoch = 1, round = 250, global round = 250) for Eval\n",
      "(epoch = 1, round = 250, global round = 250), Loss/Eval: 0.6969839306992792\n",
      "(epoch = 1, round = 250, global round = 250), Accuracy/Eval: 50.105633802816904\n",
      "Current eval accuracy: {'Accuracy': 50.105633802816904}%, Best so far: {'Accuracy': 61.16197183098591}%\n"
     ]
    },
    {
     "name": "stderr",
     "output_type": "stream",
     "text": [
      "Round: 100%|███████████████████████████████████████████████████████████████████████| 250/250 [00:58<00:00,  4.28round/s]\n",
      "Round: 100%|██████████████████████████████████████████████████████████████████████▋| 249/250 [00:56<00:00,  4.61round/s]"
     ]
    },
    {
     "name": "stdout",
     "output_type": "stream",
     "text": [
      "Train finished Global Round: 500\n",
      "(epoch = 2, round = 250, global round = 500), Loss/Training: 0.6939573384241041\n",
      "(epoch = 2, round = 250, global round = 500), Accuracy/Training: 51.65687687022055\n",
      "reporting (epoch = 2, round = 250, global round = 500) for aggregation\n",
      "(epoch = 2, round = 250, global round = 500), Loss/Aggregation: 0.6938266336917878\n",
      "(epoch = 2, round = 250, global round = 500), Accuracy/Aggregation: 57.89473684210526\n",
      "Running (epoch = 2, round = 250, global round = 500) for Eval\n",
      "(epoch = 2, round = 250, global round = 500), Loss/Eval: 0.6908487433465283\n",
      "(epoch = 2, round = 250, global round = 500), Accuracy/Eval: 50.105633802816904\n",
      "Current eval accuracy: {'Accuracy': 50.105633802816904}%, Best so far: {'Accuracy': 61.16197183098591}%\n"
     ]
    },
    {
     "name": "stderr",
     "output_type": "stream",
     "text": [
      "Round: 100%|███████████████████████████████████████████████████████████████████████| 250/250 [00:59<00:00,  4.21round/s]\n",
      "Round: 100%|██████████████████████████████████████████████████████████████████████▋| 249/250 [00:57<00:00,  4.38round/s]"
     ]
    },
    {
     "name": "stdout",
     "output_type": "stream",
     "text": [
      "Train finished Global Round: 750\n",
      "(epoch = 3, round = 250, global round = 750), Loss/Training: 0.6970168721822286\n",
      "(epoch = 3, round = 250, global round = 750), Accuracy/Training: 51.317598533455545\n",
      "reporting (epoch = 3, round = 250, global round = 750) for aggregation\n",
      "(epoch = 3, round = 250, global round = 750), Loss/Aggregation: 0.689492637460882\n",
      "(epoch = 3, round = 250, global round = 750), Accuracy/Aggregation: 36.111111111111114\n",
      "Running (epoch = 3, round = 250, global round = 750) for Eval\n",
      "(epoch = 3, round = 250, global round = 750), Loss/Eval: 0.6924762006414209\n",
      "(epoch = 3, round = 250, global round = 750), Accuracy/Eval: 51.19718309859155\n",
      "Current eval accuracy: {'Accuracy': 51.19718309859155}%, Best so far: {'Accuracy': 61.16197183098591}%\n"
     ]
    },
    {
     "name": "stderr",
     "output_type": "stream",
     "text": [
      "Round: 100%|███████████████████████████████████████████████████████████████████████| 250/250 [01:01<00:00,  4.10round/s]\n",
      "Round: 100%|██████████████████████████████████████████████████████████████████████▋| 249/250 [00:56<00:00,  3.25round/s]"
     ]
    },
    {
     "name": "stdout",
     "output_type": "stream",
     "text": [
      "Train finished Global Round: 1000\n",
      "(epoch = 4, round = 250, global round = 1000), Loss/Training: 0.6874640692217601\n",
      "(epoch = 4, round = 250, global round = 1000), Accuracy/Training: 53.68252516010979\n",
      "reporting (epoch = 4, round = 250, global round = 1000) for aggregation\n",
      "(epoch = 4, round = 250, global round = 1000), Loss/Aggregation: 0.7269722104072571\n",
      "(epoch = 4, round = 250, global round = 1000), Accuracy/Aggregation: 50.0\n",
      "Running (epoch = 4, round = 250, global round = 1000) for Eval\n",
      "(epoch = 4, round = 250, global round = 1000), Loss/Eval: 0.7039410256094427\n",
      "(epoch = 4, round = 250, global round = 1000), Accuracy/Eval: 50.49295774647887\n",
      "Current eval accuracy: {'Accuracy': 50.49295774647887}%, Best so far: {'Accuracy': 61.16197183098591}%\n"
     ]
    },
    {
     "name": "stderr",
     "output_type": "stream",
     "text": [
      "Round: 100%|███████████████████████████████████████████████████████████████████████| 250/250 [00:59<00:00,  4.18round/s]\n",
      "Round: 100%|██████████████████████████████████████████████████████████████████████▋| 249/250 [00:56<00:00,  4.43round/s]"
     ]
    },
    {
     "name": "stdout",
     "output_type": "stream",
     "text": [
      "Train finished Global Round: 1250\n",
      "(epoch = 5, round = 250, global round = 1250), Loss/Training: 0.6906386871719847\n",
      "(epoch = 5, round = 250, global round = 1250), Accuracy/Training: 52.67107178855415\n",
      "reporting (epoch = 5, round = 250, global round = 1250) for aggregation\n",
      "(epoch = 5, round = 250, global round = 1250), Loss/Aggregation: 0.6865910112857818\n",
      "(epoch = 5, round = 250, global round = 1250), Accuracy/Aggregation: 47.36842105263158\n",
      "Running (epoch = 5, round = 250, global round = 1250) for Eval\n",
      "(epoch = 5, round = 250, global round = 1250), Loss/Eval: 0.6889904754686872\n",
      "(epoch = 5, round = 250, global round = 1250), Accuracy/Eval: 52.74647887323944\n",
      "Current eval accuracy: {'Accuracy': 52.74647887323944}%, Best so far: {'Accuracy': 61.16197183098591}%\n"
     ]
    },
    {
     "name": "stderr",
     "output_type": "stream",
     "text": [
      "Round: 100%|███████████████████████████████████████████████████████████████████████| 250/250 [00:59<00:00,  4.20round/s]\n",
      "Round: 100%|██████████████████████████████████████████████████████████████████████▋| 249/250 [00:55<00:00,  4.40round/s]"
     ]
    },
    {
     "name": "stdout",
     "output_type": "stream",
     "text": [
      "Train finished Global Round: 1500\n",
      "(epoch = 6, round = 250, global round = 1500), Loss/Training: 0.6889428245471473\n",
      "(epoch = 6, round = 250, global round = 1500), Accuracy/Training: 52.9438303631852\n",
      "reporting (epoch = 6, round = 250, global round = 1500) for aggregation\n",
      "(epoch = 6, round = 250, global round = 1500), Loss/Aggregation: 0.677457645535469\n",
      "(epoch = 6, round = 250, global round = 1500), Accuracy/Aggregation: 51.515151515151516\n",
      "Running (epoch = 6, round = 250, global round = 1500) for Eval\n",
      "(epoch = 6, round = 250, global round = 1500), Loss/Eval: 0.6935170248383936\n",
      "(epoch = 6, round = 250, global round = 1500), Accuracy/Eval: 52.04225352112676\n",
      "Current eval accuracy: {'Accuracy': 52.04225352112676}%, Best so far: {'Accuracy': 61.16197183098591}%\n"
     ]
    },
    {
     "name": "stderr",
     "output_type": "stream",
     "text": [
      "Round: 100%|███████████████████████████████████████████████████████████████████████| 250/250 [00:58<00:00,  4.26round/s]\n",
      "Round: 100%|██████████████████████████████████████████████████████████████████████▋| 249/250 [00:54<00:00,  4.69round/s]"
     ]
    },
    {
     "name": "stdout",
     "output_type": "stream",
     "text": [
      "Train finished Global Round: 1750\n",
      "(epoch = 7, round = 250, global round = 1750), Loss/Training: 0.6898060910309268\n",
      "(epoch = 7, round = 250, global round = 1750), Accuracy/Training: 53.12259059367772\n",
      "reporting (epoch = 7, round = 250, global round = 1750) for aggregation\n",
      "(epoch = 7, round = 250, global round = 1750), Loss/Aggregation: 0.6917544782161713\n",
      "(epoch = 7, round = 250, global round = 1750), Accuracy/Aggregation: 65.9090909090909\n",
      "Running (epoch = 7, round = 250, global round = 1750) for Eval\n",
      "(epoch = 7, round = 250, global round = 1750), Loss/Eval: 0.6934514866145892\n",
      "(epoch = 7, round = 250, global round = 1750), Accuracy/Eval: 52.429577464788736\n",
      "Current eval accuracy: {'Accuracy': 52.429577464788736}%, Best so far: {'Accuracy': 61.16197183098591}%\n"
     ]
    },
    {
     "name": "stderr",
     "output_type": "stream",
     "text": [
      "Round: 100%|███████████████████████████████████████████████████████████████████████| 250/250 [00:57<00:00,  4.36round/s]\n",
      "Round: 100%|██████████████████████████████████████████████████████████████████████▋| 249/250 [00:56<00:00,  4.42round/s]"
     ]
    },
    {
     "name": "stdout",
     "output_type": "stream",
     "text": [
      "Train finished Global Round: 2000\n",
      "(epoch = 8, round = 250, global round = 2000), Loss/Training: 0.6885900463180981\n",
      "(epoch = 8, round = 250, global round = 2000), Accuracy/Training: 54.12259752075514\n",
      "reporting (epoch = 8, round = 250, global round = 2000) for aggregation\n",
      "(epoch = 8, round = 250, global round = 2000), Loss/Aggregation: 0.688889104127884\n",
      "(epoch = 8, round = 250, global round = 2000), Accuracy/Aggregation: 66.66666666666667\n",
      "Running (epoch = 8, round = 250, global round = 2000) for Eval\n",
      "(epoch = 8, round = 250, global round = 2000), Loss/Eval: 0.6919547699562192\n",
      "(epoch = 8, round = 250, global round = 2000), Accuracy/Eval: 52.605633802816904\n",
      "Current eval accuracy: {'Accuracy': 52.605633802816904}%, Best so far: {'Accuracy': 61.16197183098591}%\n"
     ]
    },
    {
     "name": "stderr",
     "output_type": "stream",
     "text": [
      "Round: 100%|██████████████████████████████████████████████████████████████████████▋| 249/250 [00:59<00:00,  4.19round/s]\n",
      "Epoch:  88%|█████████████████████████████████████████████████████████████████▋         | 7/8 [07:53<01:07, 67.67s/epoch]"
     ]
    },
    {
     "name": "stdout",
     "output_type": "stream",
     "text": [
      "Running (epoch = 1, round = 1, global round = 1) for Test\n"
     ]
    },
    {
     "name": "stderr",
     "output_type": "stream",
     "text": [
      "\n",
      " 64%|███████████████████████▍             | 254.0/400 [4:15:16<2:25:11, 59.67s/it, min_score=-60.1, models_evaluated=53]"
     ]
    },
    {
     "name": "stdout",
     "output_type": "stream",
     "text": [
      "(epoch = 1, round = 1, global round = 1), Loss/Test: 0.6919547700757632\n",
      "(epoch = 1, round = 1, global round = 1), Accuracy/Test: 52.605633802816904\n"
     ]
    },
    {
     "name": "stderr",
     "output_type": "stream",
     "text": [
      "Round: 100%|██████████████████████████████████████████████████████████████████████▋| 249/250 [00:57<00:00,  4.41round/s]"
     ]
    },
    {
     "name": "stdout",
     "output_type": "stream",
     "text": [
      "Train finished Global Round: 250\n",
      "(epoch = 1, round = 250, global round = 250), Loss/Training: 0.689501299468207\n",
      "(epoch = 1, round = 250, global round = 250), Accuracy/Training: 53.564547206165706\n",
      "reporting (epoch = 1, round = 250, global round = 250) for aggregation\n",
      "(epoch = 1, round = 250, global round = 250), Loss/Aggregation: 0.6878414750099182\n",
      "(epoch = 1, round = 250, global round = 250), Accuracy/Aggregation: 47.05882352941177\n",
      "Running (epoch = 1, round = 250, global round = 250) for Eval\n",
      "(epoch = 1, round = 250, global round = 250), Loss/Eval: 0.689680287685444\n",
      "(epoch = 1, round = 250, global round = 250), Accuracy/Eval: 53.556338028169016\n",
      "Current eval accuracy: {'Accuracy': 53.556338028169016}%, Best so far: {'Accuracy': 61.16197183098591}%\n"
     ]
    },
    {
     "name": "stderr",
     "output_type": "stream",
     "text": [
      "Round: 100%|███████████████████████████████████████████████████████████████████████| 250/250 [01:00<00:00,  4.10round/s]\n",
      "Round: 100%|██████████████████████████████████████████████████████████████████████▋| 249/250 [00:57<00:00,  4.38round/s]"
     ]
    },
    {
     "name": "stdout",
     "output_type": "stream",
     "text": [
      "Train finished Global Round: 500\n",
      "(epoch = 2, round = 250, global round = 500), Loss/Training: 0.6783208999478997\n",
      "(epoch = 2, round = 250, global round = 500), Accuracy/Training: 55.7650800863342\n",
      "reporting (epoch = 2, round = 250, global round = 500) for aggregation\n",
      "(epoch = 2, round = 250, global round = 500), Loss/Aggregation: 0.628820771520788\n",
      "(epoch = 2, round = 250, global round = 500), Accuracy/Aggregation: 60.869565217391305\n",
      "Running (epoch = 2, round = 250, global round = 500) for Eval\n",
      "(epoch = 2, round = 250, global round = 500), Loss/Eval: 0.6812975497739266\n",
      "(epoch = 2, round = 250, global round = 500), Accuracy/Eval: 56.232394366197184\n",
      "Current eval accuracy: {'Accuracy': 56.232394366197184}%, Best so far: {'Accuracy': 61.16197183098591}%\n"
     ]
    },
    {
     "name": "stderr",
     "output_type": "stream",
     "text": [
      "Round: 100%|███████████████████████████████████████████████████████████████████████| 250/250 [01:00<00:00,  4.13round/s]\n",
      "Round: 100%|██████████████████████████████████████████████████████████████████████▋| 249/250 [00:54<00:00,  3.99round/s]"
     ]
    },
    {
     "name": "stdout",
     "output_type": "stream",
     "text": [
      "Train finished Global Round: 750\n",
      "(epoch = 3, round = 250, global round = 750), Loss/Training: 0.6530444129692178\n",
      "(epoch = 3, round = 250, global round = 750), Accuracy/Training: 60.33913736201206\n",
      "reporting (epoch = 3, round = 250, global round = 750) for aggregation\n",
      "(epoch = 3, round = 250, global round = 750), Loss/Aggregation: 0.580438406765461\n",
      "(epoch = 3, round = 250, global round = 750), Accuracy/Aggregation: 66.66666666666667\n",
      "Running (epoch = 3, round = 250, global round = 750) for Eval\n",
      "(epoch = 3, round = 250, global round = 750), Loss/Eval: 0.6744711559147802\n",
      "(epoch = 3, round = 250, global round = 750), Accuracy/Eval: 59.33098591549296\n",
      "Current eval accuracy: {'Accuracy': 59.33098591549296}%, Best so far: {'Accuracy': 61.16197183098591}%\n"
     ]
    },
    {
     "name": "stderr",
     "output_type": "stream",
     "text": [
      "Round: 100%|███████████████████████████████████████████████████████████████████████| 250/250 [00:57<00:00,  4.32round/s]\n",
      "Round: 100%|██████████████████████████████████████████████████████████████████████▋| 249/250 [00:54<00:00,  4.60round/s]"
     ]
    },
    {
     "name": "stdout",
     "output_type": "stream",
     "text": [
      "Train finished Global Round: 1000\n",
      "(epoch = 4, round = 250, global round = 1000), Loss/Training: 0.6493138828662941\n",
      "(epoch = 4, round = 250, global round = 1000), Accuracy/Training: 62.50506277845282\n",
      "reporting (epoch = 4, round = 250, global round = 1000) for aggregation\n",
      "(epoch = 4, round = 250, global round = 1000), Loss/Aggregation: 0.5585082456469536\n",
      "(epoch = 4, round = 250, global round = 1000), Accuracy/Aggregation: 85.18518518518519\n",
      "Running (epoch = 4, round = 250, global round = 1000) for Eval\n",
      "(epoch = 4, round = 250, global round = 1000), Loss/Eval: 0.6659811133249094\n",
      "(epoch = 4, round = 250, global round = 1000), Accuracy/Eval: 58.098591549295776\n",
      "Current eval accuracy: {'Accuracy': 58.098591549295776}%, Best so far: {'Accuracy': 61.16197183098591}%\n"
     ]
    },
    {
     "name": "stderr",
     "output_type": "stream",
     "text": [
      "Round: 100%|███████████████████████████████████████████████████████████████████████| 250/250 [00:57<00:00,  4.33round/s]\n",
      "Round: 100%|██████████████████████████████████████████████████████████████████████▋| 249/250 [00:57<00:00,  4.32round/s]"
     ]
    },
    {
     "name": "stdout",
     "output_type": "stream",
     "text": [
      "Train finished Global Round: 1250\n",
      "(epoch = 5, round = 250, global round = 1250), Loss/Training: 0.6325690756815545\n",
      "(epoch = 5, round = 250, global round = 1250), Accuracy/Training: 64.17175286433238\n",
      "reporting (epoch = 5, round = 250, global round = 1250) for aggregation\n",
      "(epoch = 5, round = 250, global round = 1250), Loss/Aggregation: 0.615397498011589\n",
      "(epoch = 5, round = 250, global round = 1250), Accuracy/Aggregation: 69.76744186046511\n",
      "Running (epoch = 5, round = 250, global round = 1250) for Eval\n",
      "(epoch = 5, round = 250, global round = 1250), Loss/Eval: 0.6708677581100879\n",
      "(epoch = 5, round = 250, global round = 1250), Accuracy/Eval: 59.26056338028169\n",
      "Current eval accuracy: {'Accuracy': 59.26056338028169}%, Best so far: {'Accuracy': 61.16197183098591}%\n"
     ]
    },
    {
     "name": "stderr",
     "output_type": "stream",
     "text": [
      "Round: 100%|███████████████████████████████████████████████████████████████████████| 250/250 [01:00<00:00,  4.12round/s]\n",
      "Round: 100%|██████████████████████████████████████████████████████████████████████▋| 249/250 [00:56<00:00,  4.65round/s]"
     ]
    },
    {
     "name": "stdout",
     "output_type": "stream",
     "text": [
      "Train finished Global Round: 1500\n",
      "(epoch = 6, round = 250, global round = 1500), Loss/Training: 0.5988585509384199\n",
      "(epoch = 6, round = 250, global round = 1500), Accuracy/Training: 66.63989904783756\n",
      "reporting (epoch = 6, round = 250, global round = 1500) for aggregation\n",
      "(epoch = 6, round = 250, global round = 1500), Loss/Aggregation: 0.5205108478665352\n",
      "(epoch = 6, round = 250, global round = 1500), Accuracy/Aggregation: 72.22222222222223\n",
      "Running (epoch = 6, round = 250, global round = 1500) for Eval\n",
      "(epoch = 6, round = 250, global round = 1500), Loss/Eval: 0.6687547743105285\n",
      "(epoch = 6, round = 250, global round = 1500), Accuracy/Eval: 59.82394366197183\n",
      "Current eval accuracy: {'Accuracy': 59.82394366197183}%, Best so far: {'Accuracy': 61.16197183098591}%\n"
     ]
    },
    {
     "name": "stderr",
     "output_type": "stream",
     "text": [
      "Round: 100%|███████████████████████████████████████████████████████████████████████| 250/250 [00:59<00:00,  4.19round/s]\n",
      "Round: 100%|██████████████████████████████████████████████████████████████████████▋| 249/250 [00:57<00:00,  4.42round/s]"
     ]
    },
    {
     "name": "stdout",
     "output_type": "stream",
     "text": [
      "Train finished Global Round: 1750\n",
      "(epoch = 7, round = 250, global round = 1750), Loss/Training: 0.5841853385314623\n",
      "(epoch = 7, round = 250, global round = 1750), Accuracy/Training: 68.45122215011897\n",
      "reporting (epoch = 7, round = 250, global round = 1750) for aggregation\n",
      "(epoch = 7, round = 250, global round = 1750), Loss/Aggregation: 0.5067754045128823\n",
      "(epoch = 7, round = 250, global round = 1750), Accuracy/Aggregation: 66.66666666666667\n",
      "Running (epoch = 7, round = 250, global round = 1750) for Eval\n",
      "(epoch = 7, round = 250, global round = 1750), Loss/Eval: 0.6986599952935861\n",
      "(epoch = 7, round = 250, global round = 1750), Accuracy/Eval: 59.859154929577464\n",
      "Current eval accuracy: {'Accuracy': 59.859154929577464}%, Best so far: {'Accuracy': 61.16197183098591}%\n"
     ]
    },
    {
     "name": "stderr",
     "output_type": "stream",
     "text": [
      "Round: 100%|███████████████████████████████████████████████████████████████████████| 250/250 [01:00<00:00,  4.15round/s]\n",
      "Round: 100%|██████████████████████████████████████████████████████████████████████▋| 249/250 [00:56<00:00,  3.73round/s]"
     ]
    },
    {
     "name": "stdout",
     "output_type": "stream",
     "text": [
      "Train finished Global Round: 2000\n",
      "(epoch = 8, round = 250, global round = 2000), Loss/Training: 0.5439793013473282\n",
      "(epoch = 8, round = 250, global round = 2000), Accuracy/Training: 69.524113023157\n",
      "reporting (epoch = 8, round = 250, global round = 2000) for aggregation\n",
      "(epoch = 8, round = 250, global round = 2000), Loss/Aggregation: 0.5800050795078278\n",
      "(epoch = 8, round = 250, global round = 2000), Accuracy/Aggregation: 72.72727272727273\n",
      "Running (epoch = 8, round = 250, global round = 2000) for Eval\n",
      "(epoch = 8, round = 250, global round = 2000), Loss/Eval: 0.7106571184139515\n",
      "(epoch = 8, round = 250, global round = 2000), Accuracy/Eval: 60.38732394366197\n",
      "Current eval accuracy: {'Accuracy': 60.38732394366197}%, Best so far: {'Accuracy': 61.16197183098591}%\n"
     ]
    },
    {
     "name": "stderr",
     "output_type": "stream",
     "text": [
      "Round: 100%|██████████████████████████████████████████████████████████████████████▋| 249/250 [00:59<00:00,  4.15round/s]\n",
      "Epoch:  88%|█████████████████████████████████████████████████████████████████▋         | 7/8 [07:57<01:08, 68.24s/epoch]"
     ]
    },
    {
     "name": "stdout",
     "output_type": "stream",
     "text": [
      "Running (epoch = 1, round = 1, global round = 1) for Test\n"
     ]
    },
    {
     "name": "stderr",
     "output_type": "stream",
     "text": [
      "\n",
      " 66%|████████████████████████▏            | 262.0/400 [4:23:18<2:17:37, 59.84s/it, min_score=-60.4, models_evaluated=53]"
     ]
    },
    {
     "name": "stdout",
     "output_type": "stream",
     "text": [
      "(epoch = 1, round = 1, global round = 1), Loss/Test: 0.7106571183780883\n",
      "(epoch = 1, round = 1, global round = 1), Accuracy/Test: 60.38732394366197\n"
     ]
    },
    {
     "name": "stderr",
     "output_type": "stream",
     "text": [
      "Round: 100%|██████████████████████████████████████████████████████████████████████▋| 249/250 [00:55<00:00,  4.05round/s]"
     ]
    },
    {
     "name": "stdout",
     "output_type": "stream",
     "text": [
      "Train finished Global Round: 250\n",
      "(epoch = 1, round = 250, global round = 250), Loss/Training: 0.6958627224086769\n",
      "(epoch = 1, round = 250, global round = 250), Accuracy/Training: 49.63920301561659\n",
      "reporting (epoch = 1, round = 250, global round = 250) for aggregation\n",
      "(epoch = 1, round = 250, global round = 250), Loss/Aggregation: 0.6887417018413544\n",
      "(epoch = 1, round = 250, global round = 250), Accuracy/Aggregation: 42.857142857142854\n",
      "Running (epoch = 1, round = 250, global round = 250) for Eval\n",
      "(epoch = 1, round = 250, global round = 250), Loss/Eval: 0.6923870389307545\n",
      "(epoch = 1, round = 250, global round = 250), Accuracy/Eval: 50.88028169014085\n",
      "Current eval accuracy: {'Accuracy': 50.88028169014085}%, Best so far: {'Accuracy': 61.16197183098591}%\n"
     ]
    },
    {
     "name": "stderr",
     "output_type": "stream",
     "text": [
      "Round: 100%|███████████████████████████████████████████████████████████████████████| 250/250 [00:58<00:00,  4.26round/s]\n",
      "Round: 100%|██████████████████████████████████████████████████████████████████████▋| 249/250 [00:57<00:00,  4.34round/s]"
     ]
    },
    {
     "name": "stdout",
     "output_type": "stream",
     "text": [
      "Train finished Global Round: 500\n",
      "(epoch = 2, round = 250, global round = 500), Loss/Training: 0.6926836775458863\n",
      "(epoch = 2, round = 250, global round = 500), Accuracy/Training: 51.14942528735632\n",
      "reporting (epoch = 2, round = 250, global round = 500) for aggregation\n",
      "(epoch = 2, round = 250, global round = 500), Loss/Aggregation: 0.6762983083724976\n",
      "(epoch = 2, round = 250, global round = 500), Accuracy/Aggregation: 56.52173913043478\n",
      "Running (epoch = 2, round = 250, global round = 500) for Eval\n",
      "(epoch = 2, round = 250, global round = 500), Loss/Eval: 0.6970158080606637\n",
      "(epoch = 2, round = 250, global round = 500), Accuracy/Eval: 50.105633802816904\n",
      "Current eval accuracy: {'Accuracy': 50.105633802816904}%, Best so far: {'Accuracy': 61.16197183098591}%\n"
     ]
    },
    {
     "name": "stderr",
     "output_type": "stream",
     "text": [
      "Round: 100%|███████████████████████████████████████████████████████████████████████| 250/250 [01:00<00:00,  4.13round/s]\n",
      "Round: 100%|██████████████████████████████████████████████████████████████████████▋| 249/250 [00:54<00:00,  4.61round/s]"
     ]
    },
    {
     "name": "stdout",
     "output_type": "stream",
     "text": [
      "Train finished Global Round: 750\n",
      "(epoch = 3, round = 250, global round = 750), Loss/Training: 0.6938683951595364\n",
      "(epoch = 3, round = 250, global round = 750), Accuracy/Training: 51.005833836250254\n",
      "reporting (epoch = 3, round = 250, global round = 750) for aggregation\n",
      "(epoch = 3, round = 250, global round = 750), Loss/Aggregation: 0.6856479287147522\n",
      "(epoch = 3, round = 250, global round = 750), Accuracy/Aggregation: 54.54545454545455\n",
      "Running (epoch = 3, round = 250, global round = 750) for Eval\n",
      "(epoch = 3, round = 250, global round = 750), Loss/Eval: 0.69290265707524\n",
      "(epoch = 3, round = 250, global round = 750), Accuracy/Eval: 50.84507042253521\n",
      "Current eval accuracy: {'Accuracy': 50.84507042253521}%, Best so far: {'Accuracy': 61.16197183098591}%\n"
     ]
    },
    {
     "name": "stderr",
     "output_type": "stream",
     "text": [
      "Round: 100%|███████████████████████████████████████████████████████████████████████| 250/250 [00:57<00:00,  4.33round/s]\n",
      "Round: 100%|██████████████████████████████████████████████████████████████████████▋| 249/250 [00:56<00:00,  3.89round/s]"
     ]
    },
    {
     "name": "stdout",
     "output_type": "stream",
     "text": [
      "Train finished Global Round: 1000\n",
      "(epoch = 4, round = 250, global round = 1000), Loss/Training: 0.698223200973794\n",
      "(epoch = 4, round = 250, global round = 1000), Accuracy/Training: 51.63134880591995\n",
      "reporting (epoch = 4, round = 250, global round = 1000) for aggregation\n",
      "(epoch = 4, round = 250, global round = 1000), Loss/Aggregation: 0.6787316083908081\n",
      "(epoch = 4, round = 250, global round = 1000), Accuracy/Aggregation: 60.0\n",
      "Running (epoch = 4, round = 250, global round = 1000) for Eval\n",
      "(epoch = 4, round = 250, global round = 1000), Loss/Eval: 0.6934901720254334\n",
      "(epoch = 4, round = 250, global round = 1000), Accuracy/Eval: 50.105633802816904\n",
      "Current eval accuracy: {'Accuracy': 50.105633802816904}%, Best so far: {'Accuracy': 61.16197183098591}%\n"
     ]
    },
    {
     "name": "stderr",
     "output_type": "stream",
     "text": [
      "Round: 100%|███████████████████████████████████████████████████████████████████████| 250/250 [00:59<00:00,  4.20round/s]\n",
      "Round: 100%|██████████████████████████████████████████████████████████████████████▋| 249/250 [00:54<00:00,  4.67round/s]"
     ]
    },
    {
     "name": "stdout",
     "output_type": "stream",
     "text": [
      "Train finished Global Round: 1250\n",
      "(epoch = 5, round = 250, global round = 1250), Loss/Training: 0.7007517095881292\n",
      "(epoch = 5, round = 250, global round = 1250), Accuracy/Training: 51.18869874813369\n",
      "reporting (epoch = 5, round = 250, global round = 1250) for aggregation\n",
      "(epoch = 5, round = 250, global round = 1250), Loss/Aggregation: 0.6857639789581299\n",
      "(epoch = 5, round = 250, global round = 1250), Accuracy/Aggregation: 53.84615384615385\n",
      "Running (epoch = 5, round = 250, global round = 1250) for Eval\n",
      "(epoch = 5, round = 250, global round = 1250), Loss/Eval: 0.6951799763167091\n",
      "(epoch = 5, round = 250, global round = 1250), Accuracy/Eval: 50.105633802816904\n",
      "Current eval accuracy: {'Accuracy': 50.105633802816904}%, Best so far: {'Accuracy': 61.16197183098591}%\n"
     ]
    },
    {
     "name": "stderr",
     "output_type": "stream",
     "text": [
      "Round: 100%|███████████████████████████████████████████████████████████████████████| 250/250 [00:57<00:00,  4.33round/s]\n",
      "Round: 100%|██████████████████████████████████████████████████████████████████████▋| 249/250 [00:54<00:00,  4.69round/s]"
     ]
    },
    {
     "name": "stdout",
     "output_type": "stream",
     "text": [
      "Train finished Global Round: 1500\n",
      "(epoch = 6, round = 250, global round = 1500), Loss/Training: 0.6957241111899739\n",
      "(epoch = 6, round = 250, global round = 1500), Accuracy/Training: 52.16686480060521\n",
      "reporting (epoch = 6, round = 250, global round = 1500) for aggregation\n",
      "(epoch = 6, round = 250, global round = 1500), Loss/Aggregation: 0.698238629102707\n",
      "(epoch = 6, round = 250, global round = 1500), Accuracy/Aggregation: 46.875\n",
      "Running (epoch = 6, round = 250, global round = 1500) for Eval\n",
      "(epoch = 6, round = 250, global round = 1500), Loss/Eval: 0.6934015168227492\n",
      "(epoch = 6, round = 250, global round = 1500), Accuracy/Eval: 50.28169014084507\n",
      "Current eval accuracy: {'Accuracy': 50.28169014084507}%, Best so far: {'Accuracy': 61.16197183098591}%\n"
     ]
    },
    {
     "name": "stderr",
     "output_type": "stream",
     "text": [
      "Round: 100%|███████████████████████████████████████████████████████████████████████| 250/250 [00:57<00:00,  4.35round/s]\n",
      "Round: 100%|██████████████████████████████████████████████████████████████████████▋| 249/250 [00:55<00:00,  4.60round/s]"
     ]
    },
    {
     "name": "stdout",
     "output_type": "stream",
     "text": [
      "Train finished Global Round: 1750\n",
      "(epoch = 7, round = 250, global round = 1750), Loss/Training: 0.7019152087030411\n",
      "(epoch = 7, round = 250, global round = 1750), Accuracy/Training: 50.70075120529207\n",
      "reporting (epoch = 7, round = 250, global round = 1750) for aggregation\n",
      "(epoch = 7, round = 250, global round = 1750), Loss/Aggregation: 0.6702249646186829\n",
      "(epoch = 7, round = 250, global round = 1750), Accuracy/Aggregation: 53.333333333333336\n",
      "Running (epoch = 7, round = 250, global round = 1750) for Eval\n",
      "(epoch = 7, round = 250, global round = 1750), Loss/Eval: 0.693877817084882\n",
      "(epoch = 7, round = 250, global round = 1750), Accuracy/Eval: 51.056338028169016\n",
      "Current eval accuracy: {'Accuracy': 51.056338028169016}%, Best so far: {'Accuracy': 61.16197183098591}%\n"
     ]
    },
    {
     "name": "stderr",
     "output_type": "stream",
     "text": [
      "Round: 100%|███████████████████████████████████████████████████████████████████████| 250/250 [00:58<00:00,  4.27round/s]\n",
      "Round: 100%|██████████████████████████████████████████████████████████████████████▋| 249/250 [00:56<00:00,  4.69round/s]"
     ]
    },
    {
     "name": "stdout",
     "output_type": "stream",
     "text": [
      "Train finished Global Round: 2000\n",
      "(epoch = 8, round = 250, global round = 2000), Loss/Training: 0.6939227926512426\n",
      "(epoch = 8, round = 250, global round = 2000), Accuracy/Training: 50.408749447635884\n",
      "reporting (epoch = 8, round = 250, global round = 2000) for aggregation\n",
      "(epoch = 8, round = 250, global round = 2000), Loss/Aggregation: 0.7153777241706848\n",
      "(epoch = 8, round = 250, global round = 2000), Accuracy/Aggregation: 33.333333333333336\n",
      "Running (epoch = 8, round = 250, global round = 2000) for Eval\n",
      "(epoch = 8, round = 250, global round = 2000), Loss/Eval: 0.6938149195763657\n",
      "(epoch = 8, round = 250, global round = 2000), Accuracy/Eval: 50.105633802816904\n",
      "Current eval accuracy: {'Accuracy': 50.105633802816904}%, Best so far: {'Accuracy': 61.16197183098591}%\n"
     ]
    },
    {
     "name": "stderr",
     "output_type": "stream",
     "text": [
      "Round: 100%|██████████████████████████████████████████████████████████████████████▋| 249/250 [00:59<00:00,  4.18round/s]\n",
      "Epoch:  88%|█████████████████████████████████████████████████████████████████▋         | 7/8 [07:49<01:07, 67.10s/epoch]"
     ]
    },
    {
     "name": "stdout",
     "output_type": "stream",
     "text": [
      "Running (epoch = 1, round = 1, global round = 1) for Test\n"
     ]
    },
    {
     "name": "stderr",
     "output_type": "stream",
     "text": [
      "\n",
      " 68%|████████████████████████▉            | 270.0/400 [4:31:10<2:09:08, 59.60s/it, min_score=-60.4, models_evaluated=53]"
     ]
    },
    {
     "name": "stdout",
     "output_type": "stream",
     "text": [
      "(epoch = 1, round = 1, global round = 1), Loss/Test: 0.6938149195524569\n",
      "(epoch = 1, round = 1, global round = 1), Accuracy/Test: 50.105633802816904\n"
     ]
    },
    {
     "name": "stderr",
     "output_type": "stream",
     "text": [
      "Round: 100%|██████████████████████████████████████████████████████████████████████▋| 249/250 [00:58<00:00,  4.62round/s]"
     ]
    },
    {
     "name": "stdout",
     "output_type": "stream",
     "text": [
      "Train finished Global Round: 250\n",
      "(epoch = 1, round = 250, global round = 250), Loss/Training: 0.7572324371187763\n",
      "(epoch = 1, round = 250, global round = 250), Accuracy/Training: 50.62848398732102\n",
      "reporting (epoch = 1, round = 250, global round = 250) for aggregation\n",
      "(epoch = 1, round = 250, global round = 250), Loss/Aggregation: 0.6530507159504023\n",
      "(epoch = 1, round = 250, global round = 250), Accuracy/Aggregation: 50.68493150684932\n",
      "Running (epoch = 1, round = 250, global round = 250) for Eval\n",
      "(epoch = 1, round = 250, global round = 250), Loss/Eval: 0.7330462846395437\n",
      "(epoch = 1, round = 250, global round = 250), Accuracy/Eval: 50.985915492957744\n",
      "Current eval accuracy: {'Accuracy': 50.985915492957744}%, Best so far: {'Accuracy': 61.16197183098591}%\n"
     ]
    },
    {
     "name": "stderr",
     "output_type": "stream",
     "text": [
      "Round: 100%|███████████████████████████████████████████████████████████████████████| 250/250 [01:01<00:00,  4.07round/s]\n",
      "Round: 100%|██████████████████████████████████████████████████████████████████████▋| 249/250 [00:57<00:00,  4.43round/s]"
     ]
    },
    {
     "name": "stdout",
     "output_type": "stream",
     "text": [
      "Train finished Global Round: 500\n",
      "(epoch = 2, round = 250, global round = 500), Loss/Training: 0.7149270498234293\n",
      "(epoch = 2, round = 250, global round = 500), Accuracy/Training: 52.852367087242534\n",
      "reporting (epoch = 2, round = 250, global round = 500) for aggregation\n",
      "(epoch = 2, round = 250, global round = 500), Loss/Aggregation: 0.6263403475284577\n",
      "(epoch = 2, round = 250, global round = 500), Accuracy/Aggregation: 73.33333333333333\n",
      "Running (epoch = 2, round = 250, global round = 500) for Eval\n",
      "(epoch = 2, round = 250, global round = 500), Loss/Eval: 0.7045116098205392\n",
      "(epoch = 2, round = 250, global round = 500), Accuracy/Eval: 50.38732394366197\n",
      "Current eval accuracy: {'Accuracy': 50.38732394366197}%, Best so far: {'Accuracy': 61.16197183098591}%\n"
     ]
    },
    {
     "name": "stderr",
     "output_type": "stream",
     "text": [
      "Round: 100%|███████████████████████████████████████████████████████████████████████| 250/250 [01:00<00:00,  4.16round/s]\n",
      "Round: 100%|██████████████████████████████████████████████████████████████████████▋| 249/250 [01:02<00:00,  4.34round/s]"
     ]
    },
    {
     "name": "stdout",
     "output_type": "stream",
     "text": [
      "Train finished Global Round: 750\n",
      "(epoch = 3, round = 250, global round = 750), Loss/Training: 0.7263322124425942\n",
      "(epoch = 3, round = 250, global round = 750), Accuracy/Training: 50.033017829628\n",
      "reporting (epoch = 3, round = 250, global round = 750) for aggregation\n",
      "(epoch = 3, round = 250, global round = 750), Loss/Aggregation: 0.6776739209890366\n",
      "(epoch = 3, round = 250, global round = 750), Accuracy/Aggregation: 72.72727272727273\n",
      "Running (epoch = 3, round = 250, global round = 750) for Eval\n",
      "(epoch = 3, round = 250, global round = 750), Loss/Eval: 0.7044945295034907\n",
      "(epoch = 3, round = 250, global round = 750), Accuracy/Eval: 50.42253521126761\n",
      "Current eval accuracy: {'Accuracy': 50.42253521126761}%, Best so far: {'Accuracy': 61.16197183098591}%\n"
     ]
    },
    {
     "name": "stderr",
     "output_type": "stream",
     "text": [
      "Round: 100%|███████████████████████████████████████████████████████████████████████| 250/250 [01:05<00:00,  3.84round/s]\n",
      "Round: 100%|██████████████████████████████████████████████████████████████████████▋| 249/250 [00:58<00:00,  4.41round/s]"
     ]
    },
    {
     "name": "stdout",
     "output_type": "stream",
     "text": [
      "Train finished Global Round: 1000\n",
      "(epoch = 4, round = 250, global round = 1000), Loss/Training: 0.7209551219754524\n",
      "(epoch = 4, round = 250, global round = 1000), Accuracy/Training: 51.94068905364152\n",
      "reporting (epoch = 4, round = 250, global round = 1000) for aggregation\n",
      "(epoch = 4, round = 250, global round = 1000), Loss/Aggregation: 0.6374347262084484\n",
      "(epoch = 4, round = 250, global round = 1000), Accuracy/Aggregation: 62.96296296296296\n",
      "Running (epoch = 4, round = 250, global round = 1000) for Eval\n",
      "(epoch = 4, round = 250, global round = 1000), Loss/Eval: 0.8929585320938557\n",
      "(epoch = 4, round = 250, global round = 1000), Accuracy/Eval: 48.978873239436616\n",
      "Current eval accuracy: {'Accuracy': 48.978873239436616}%, Best so far: {'Accuracy': 61.16197183098591}%\n"
     ]
    },
    {
     "name": "stderr",
     "output_type": "stream",
     "text": [
      "Round: 100%|███████████████████████████████████████████████████████████████████████| 250/250 [01:01<00:00,  4.04round/s]\n",
      "Round: 100%|██████████████████████████████████████████████████████████████████████▋| 249/250 [00:54<00:00,  4.62round/s]"
     ]
    },
    {
     "name": "stdout",
     "output_type": "stream",
     "text": [
      "Train finished Global Round: 1250\n",
      "(epoch = 5, round = 250, global round = 1250), Loss/Training: 0.7675162329331158\n",
      "(epoch = 5, round = 250, global round = 1250), Accuracy/Training: 51.471816283924845\n",
      "reporting (epoch = 5, round = 250, global round = 1250) for aggregation\n",
      "(epoch = 5, round = 250, global round = 1250), Loss/Aggregation: 0.7201487123966217\n",
      "(epoch = 5, round = 250, global round = 1250), Accuracy/Aggregation: 40.0\n",
      "Running (epoch = 5, round = 250, global round = 1250) for Eval\n",
      "(epoch = 5, round = 250, global round = 1250), Loss/Eval: 0.7031119465827942\n",
      "(epoch = 5, round = 250, global round = 1250), Accuracy/Eval: 50.03521126760563\n",
      "Current eval accuracy: {'Accuracy': 50.03521126760563}%, Best so far: {'Accuracy': 61.16197183098591}%\n"
     ]
    },
    {
     "name": "stderr",
     "output_type": "stream",
     "text": [
      "Round: 100%|███████████████████████████████████████████████████████████████████████| 250/250 [00:57<00:00,  4.33round/s]\n",
      "Round: 100%|██████████████████████████████████████████████████████████████████████▋| 249/250 [00:56<00:00,  4.60round/s]"
     ]
    },
    {
     "name": "stdout",
     "output_type": "stream",
     "text": [
      "Train finished Global Round: 1500\n",
      "(epoch = 6, round = 250, global round = 1500), Loss/Training: 0.7328190880858293\n",
      "(epoch = 6, round = 250, global round = 1500), Accuracy/Training: 52.11649170335252\n",
      "reporting (epoch = 6, round = 250, global round = 1500) for aggregation\n",
      "(epoch = 6, round = 250, global round = 1500), Loss/Aggregation: 0.6249121487140655\n",
      "(epoch = 6, round = 250, global round = 1500), Accuracy/Aggregation: 74.07407407407408\n",
      "Running (epoch = 6, round = 250, global round = 1500) for Eval\n",
      "(epoch = 6, round = 250, global round = 1500), Loss/Eval: 0.7207016771994725\n",
      "(epoch = 6, round = 250, global round = 1500), Accuracy/Eval: 50.316901408450704\n",
      "Current eval accuracy: {'Accuracy': 50.316901408450704}%, Best so far: {'Accuracy': 61.16197183098591}%\n"
     ]
    },
    {
     "name": "stderr",
     "output_type": "stream",
     "text": [
      "Round: 100%|███████████████████████████████████████████████████████████████████████| 250/250 [00:59<00:00,  4.22round/s]\n",
      "Round: 100%|██████████████████████████████████████████████████████████████████████▋| 249/250 [00:57<00:00,  4.41round/s]"
     ]
    },
    {
     "name": "stdout",
     "output_type": "stream",
     "text": [
      "Train finished Global Round: 1750\n",
      "(epoch = 7, round = 250, global round = 1750), Loss/Training: 0.7380084634418665\n",
      "(epoch = 7, round = 250, global round = 1750), Accuracy/Training: 51.176096630642085\n",
      "reporting (epoch = 7, round = 250, global round = 1750) for aggregation\n",
      "(epoch = 7, round = 250, global round = 1750), Loss/Aggregation: 0.6875788986682891\n",
      "(epoch = 7, round = 250, global round = 1750), Accuracy/Aggregation: 65.78947368421052\n",
      "Running (epoch = 7, round = 250, global round = 1750) for Eval\n",
      "(epoch = 7, round = 250, global round = 1750), Loss/Eval: 0.7006069177061595\n",
      "(epoch = 7, round = 250, global round = 1750), Accuracy/Eval: 49.57746478873239\n",
      "Current eval accuracy: {'Accuracy': 49.57746478873239}%, Best so far: {'Accuracy': 61.16197183098591}%\n"
     ]
    },
    {
     "name": "stderr",
     "output_type": "stream",
     "text": [
      "Round: 100%|███████████████████████████████████████████████████████████████████████| 250/250 [01:00<00:00,  4.16round/s]\n",
      "Round: 100%|██████████████████████████████████████████████████████████████████████▋| 249/250 [00:56<00:00,  4.44round/s]"
     ]
    },
    {
     "name": "stdout",
     "output_type": "stream",
     "text": [
      "Train finished Global Round: 2000\n",
      "(epoch = 8, round = 250, global round = 2000), Loss/Training: 0.736140183264107\n",
      "(epoch = 8, round = 250, global round = 2000), Accuracy/Training: 49.90028805672502\n",
      "reporting (epoch = 8, round = 250, global round = 2000) for aggregation\n",
      "(epoch = 8, round = 250, global round = 2000), Loss/Aggregation: 0.6211998224258423\n",
      "(epoch = 8, round = 250, global round = 2000), Accuracy/Aggregation: 72.0\n",
      "Running (epoch = 8, round = 250, global round = 2000) for Eval\n",
      "(epoch = 8, round = 250, global round = 2000), Loss/Eval: 0.7030852917227648\n",
      "(epoch = 8, round = 250, global round = 2000), Accuracy/Eval: 49.436619718309856\n",
      "Current eval accuracy: {'Accuracy': 49.436619718309856}%, Best so far: {'Accuracy': 61.16197183098591}%\n"
     ]
    },
    {
     "name": "stderr",
     "output_type": "stream",
     "text": [
      "Round: 100%|██████████████████████████████████████████████████████████████████████▋| 249/250 [01:00<00:00,  4.13round/s]\n",
      "Epoch:  88%|█████████████████████████████████████████████████████████████████▋         | 7/8 [08:05<01:09, 69.42s/epoch]"
     ]
    },
    {
     "name": "stdout",
     "output_type": "stream",
     "text": [
      "Running (epoch = 1, round = 1, global round = 1) for Test\n"
     ]
    },
    {
     "name": "stderr",
     "output_type": "stream",
     "text": [
      "\n",
      " 70%|█████████████████████████▋           | 278.0/400 [4:39:20<2:02:13, 60.11s/it, min_score=-60.4, models_evaluated=53]"
     ]
    },
    {
     "name": "stdout",
     "output_type": "stream",
     "text": [
      "(epoch = 1, round = 1, global round = 1), Loss/Test: 0.7030852916749472\n",
      "(epoch = 1, round = 1, global round = 1), Accuracy/Test: 49.436619718309856\n"
     ]
    },
    {
     "name": "stderr",
     "output_type": "stream",
     "text": [
      "Round: 100%|██████████████████████████████████████████████████████████████████████▋| 249/250 [00:56<00:00,  3.77round/s]"
     ]
    },
    {
     "name": "stdout",
     "output_type": "stream",
     "text": [
      "Train finished Global Round: 250\n",
      "(epoch = 1, round = 250, global round = 250), Loss/Training: 0.7103191216447503\n",
      "(epoch = 1, round = 250, global round = 250), Accuracy/Training: 51.54280747501087\n",
      "reporting (epoch = 1, round = 250, global round = 250) for aggregation\n",
      "(epoch = 1, round = 250, global round = 250), Loss/Aggregation: 0.6950302064418793\n",
      "(epoch = 1, round = 250, global round = 250), Accuracy/Aggregation: 34.78260869565217\n",
      "Running (epoch = 1, round = 250, global round = 250) for Eval\n",
      "(epoch = 1, round = 250, global round = 250), Loss/Eval: 0.7075467681100557\n",
      "(epoch = 1, round = 250, global round = 250), Accuracy/Eval: 50.42253521126761\n",
      "Current eval accuracy: {'Accuracy': 50.42253521126761}%, Best so far: {'Accuracy': 61.16197183098591}%\n"
     ]
    },
    {
     "name": "stderr",
     "output_type": "stream",
     "text": [
      "Round: 100%|███████████████████████████████████████████████████████████████████████| 250/250 [00:59<00:00,  4.22round/s]\n",
      "Round: 100%|██████████████████████████████████████████████████████████████████████▋| 249/250 [00:54<00:00,  4.65round/s]"
     ]
    },
    {
     "name": "stdout",
     "output_type": "stream",
     "text": [
      "Train finished Global Round: 500\n",
      "(epoch = 2, round = 250, global round = 500), Loss/Training: 0.6937332713789797\n",
      "(epoch = 2, round = 250, global round = 500), Accuracy/Training: 51.76536312849162\n",
      "reporting (epoch = 2, round = 250, global round = 500) for aggregation\n",
      "(epoch = 2, round = 250, global round = 500), Loss/Aggregation: 0.6959361553192138\n",
      "(epoch = 2, round = 250, global round = 500), Accuracy/Aggregation: 55.55555555555556\n",
      "Running (epoch = 2, round = 250, global round = 500) for Eval\n",
      "(epoch = 2, round = 250, global round = 500), Loss/Eval: 0.6921959530503885\n",
      "(epoch = 2, round = 250, global round = 500), Accuracy/Eval: 52.147887323943664\n",
      "Current eval accuracy: {'Accuracy': 52.147887323943664}%, Best so far: {'Accuracy': 61.16197183098591}%\n"
     ]
    },
    {
     "name": "stderr",
     "output_type": "stream",
     "text": [
      "Round: 100%|███████████████████████████████████████████████████████████████████████| 250/250 [00:58<00:00,  4.28round/s]\n",
      "Round: 100%|██████████████████████████████████████████████████████████████████████▋| 249/250 [00:57<00:00,  4.39round/s]"
     ]
    },
    {
     "name": "stdout",
     "output_type": "stream",
     "text": [
      "Train finished Global Round: 750\n",
      "(epoch = 3, round = 250, global round = 750), Loss/Training: 0.6948505599594003\n",
      "(epoch = 3, round = 250, global round = 750), Accuracy/Training: 50.4744642285958\n",
      "reporting (epoch = 3, round = 250, global round = 750) for aggregation\n",
      "(epoch = 3, round = 250, global round = 750), Loss/Aggregation: 0.6851658940315246\n",
      "(epoch = 3, round = 250, global round = 750), Accuracy/Aggregation: 47.61904761904762\n",
      "Running (epoch = 3, round = 250, global round = 750) for Eval\n",
      "(epoch = 3, round = 250, global round = 750), Loss/Eval: 0.6932962847626262\n",
      "(epoch = 3, round = 250, global round = 750), Accuracy/Eval: 49.929577464788736\n",
      "Current eval accuracy: {'Accuracy': 49.929577464788736}%, Best so far: {'Accuracy': 61.16197183098591}%\n"
     ]
    },
    {
     "name": "stderr",
     "output_type": "stream",
     "text": [
      "Round: 100%|███████████████████████████████████████████████████████████████████████| 250/250 [01:01<00:00,  4.08round/s]\n",
      "Round: 100%|██████████████████████████████████████████████████████████████████████▋| 249/250 [00:55<00:00,  3.68round/s]"
     ]
    },
    {
     "name": "stdout",
     "output_type": "stream",
     "text": [
      "Train finished Global Round: 1000\n",
      "(epoch = 4, round = 250, global round = 1000), Loss/Training: 0.6958241945793194\n",
      "(epoch = 4, round = 250, global round = 1000), Accuracy/Training: 52.72727272727273\n",
      "reporting (epoch = 4, round = 250, global round = 1000) for aggregation\n",
      "(epoch = 4, round = 250, global round = 1000), Loss/Aggregation: 0.6891366491715113\n",
      "(epoch = 4, round = 250, global round = 1000), Accuracy/Aggregation: 68.93203883495146\n",
      "Running (epoch = 4, round = 250, global round = 1000) for Eval\n",
      "(epoch = 4, round = 250, global round = 1000), Loss/Eval: 0.6916234288596266\n",
      "(epoch = 4, round = 250, global round = 1000), Accuracy/Eval: 50.105633802816904\n",
      "Current eval accuracy: {'Accuracy': 50.105633802816904}%, Best so far: {'Accuracy': 61.16197183098591}%\n"
     ]
    },
    {
     "name": "stderr",
     "output_type": "stream",
     "text": [
      "Round: 100%|███████████████████████████████████████████████████████████████████████| 250/250 [00:59<00:00,  4.20round/s]\n",
      "Round: 100%|██████████████████████████████████████████████████████████████████████▋| 249/250 [00:57<00:00,  4.34round/s]"
     ]
    },
    {
     "name": "stdout",
     "output_type": "stream",
     "text": [
      "Train finished Global Round: 1250\n",
      "(epoch = 5, round = 250, global round = 1250), Loss/Training: 0.6942506864473112\n",
      "(epoch = 5, round = 250, global round = 1250), Accuracy/Training: 52.46437994722955\n",
      "reporting (epoch = 5, round = 250, global round = 1250) for aggregation\n",
      "(epoch = 5, round = 250, global round = 1250), Loss/Aggregation: 0.7051227152347564\n",
      "(epoch = 5, round = 250, global round = 1250), Accuracy/Aggregation: 63.829787234042556\n",
      "Running (epoch = 5, round = 250, global round = 1250) for Eval\n",
      "(epoch = 5, round = 250, global round = 1250), Loss/Eval: 0.6932232265748798\n",
      "(epoch = 5, round = 250, global round = 1250), Accuracy/Eval: 50.105633802816904\n",
      "Current eval accuracy: {'Accuracy': 50.105633802816904}%, Best so far: {'Accuracy': 61.16197183098591}%\n"
     ]
    },
    {
     "name": "stderr",
     "output_type": "stream",
     "text": [
      "Round: 100%|███████████████████████████████████████████████████████████████████████| 250/250 [01:00<00:00,  4.13round/s]\n",
      "Round: 100%|██████████████████████████████████████████████████████████████████████▋| 249/250 [00:54<00:00,  4.59round/s]"
     ]
    },
    {
     "name": "stdout",
     "output_type": "stream",
     "text": [
      "Train finished Global Round: 1500\n",
      "(epoch = 6, round = 250, global round = 1500), Loss/Training: 0.6942880170545161\n",
      "(epoch = 6, round = 250, global round = 1500), Accuracy/Training: 51.662192855667975\n",
      "reporting (epoch = 6, round = 250, global round = 1500) for aggregation\n",
      "(epoch = 6, round = 250, global round = 1500), Loss/Aggregation: 0.686797559261322\n",
      "(epoch = 6, round = 250, global round = 1500), Accuracy/Aggregation: 57.142857142857146\n",
      "Running (epoch = 6, round = 250, global round = 1500) for Eval\n",
      "(epoch = 6, round = 250, global round = 1500), Loss/Eval: 0.6935167521345916\n",
      "(epoch = 6, round = 250, global round = 1500), Accuracy/Eval: 51.16197183098591\n",
      "Current eval accuracy: {'Accuracy': 51.16197183098591}%, Best so far: {'Accuracy': 61.16197183098591}%\n"
     ]
    },
    {
     "name": "stderr",
     "output_type": "stream",
     "text": [
      "Round: 100%|███████████████████████████████████████████████████████████████████████| 250/250 [00:57<00:00,  4.36round/s]\n",
      "Round: 100%|██████████████████████████████████████████████████████████████████████▋| 249/250 [00:54<00:00,  4.65round/s]"
     ]
    },
    {
     "name": "stdout",
     "output_type": "stream",
     "text": [
      "Train finished Global Round: 1750\n",
      "(epoch = 7, round = 250, global round = 1750), Loss/Training: 0.6949882829383484\n",
      "(epoch = 7, round = 250, global round = 1750), Accuracy/Training: 50.64168086314594\n",
      "reporting (epoch = 7, round = 250, global round = 1750) for aggregation\n",
      "(epoch = 7, round = 250, global round = 1750), Loss/Aggregation: 0.699870640039444\n",
      "(epoch = 7, round = 250, global round = 1750), Accuracy/Aggregation: 42.857142857142854\n",
      "Running (epoch = 7, round = 250, global round = 1750) for Eval\n",
      "(epoch = 7, round = 250, global round = 1750), Loss/Eval: 0.6955253145228989\n",
      "(epoch = 7, round = 250, global round = 1750), Accuracy/Eval: 51.056338028169016\n",
      "Current eval accuracy: {'Accuracy': 51.056338028169016}%, Best so far: {'Accuracy': 61.16197183098591}%\n"
     ]
    },
    {
     "name": "stderr",
     "output_type": "stream",
     "text": [
      "Round: 100%|███████████████████████████████████████████████████████████████████████| 250/250 [00:57<00:00,  4.38round/s]\n",
      "Round: 100%|██████████████████████████████████████████████████████████████████████▋| 249/250 [00:54<00:00,  4.64round/s]"
     ]
    },
    {
     "name": "stdout",
     "output_type": "stream",
     "text": [
      "Train finished Global Round: 2000\n",
      "(epoch = 8, round = 250, global round = 2000), Loss/Training: 0.6941639975791583\n",
      "(epoch = 8, round = 250, global round = 2000), Accuracy/Training: 52.04653622421999\n",
      "reporting (epoch = 8, round = 250, global round = 2000) for aggregation\n",
      "(epoch = 8, round = 250, global round = 2000), Loss/Aggregation: 0.6538865268230438\n",
      "(epoch = 8, round = 250, global round = 2000), Accuracy/Aggregation: 80.0\n",
      "Running (epoch = 8, round = 250, global round = 2000) for Eval\n",
      "(epoch = 8, round = 250, global round = 2000), Loss/Eval: 0.6946079606900863\n",
      "(epoch = 8, round = 250, global round = 2000), Accuracy/Eval: 50.563380281690144\n",
      "Current eval accuracy: {'Accuracy': 50.563380281690144}%, Best so far: {'Accuracy': 61.16197183098591}%\n"
     ]
    },
    {
     "name": "stderr",
     "output_type": "stream",
     "text": [
      "Round: 100%|██████████████████████████████████████████████████████████████████████▋| 249/250 [00:57<00:00,  4.34round/s]\n",
      "Epoch:  88%|█████████████████████████████████████████████████████████████████▋         | 7/8 [07:50<01:07, 67.23s/epoch]"
     ]
    },
    {
     "name": "stdout",
     "output_type": "stream",
     "text": [
      "Running (epoch = 1, round = 1, global round = 1) for Test\n"
     ]
    },
    {
     "name": "stderr",
     "output_type": "stream",
     "text": [
      "\n",
      " 72%|██████████████████████████▍          | 286.0/400 [4:47:14<1:53:41, 59.84s/it, min_score=-60.4, models_evaluated=53]"
     ]
    },
    {
     "name": "stdout",
     "output_type": "stream",
     "text": [
      "(epoch = 1, round = 1, global round = 1), Loss/Test: 0.6946079606183599\n",
      "(epoch = 1, round = 1, global round = 1), Accuracy/Test: 50.563380281690144\n"
     ]
    },
    {
     "name": "stderr",
     "output_type": "stream",
     "text": [
      "Round: 100%|██████████████████████████████████████████████████████████████████████▋| 249/250 [00:54<00:00,  4.63round/s]"
     ]
    },
    {
     "name": "stdout",
     "output_type": "stream",
     "text": [
      "Train finished Global Round: 250\n",
      "(epoch = 1, round = 250, global round = 250), Loss/Training: 0.7104400160693204\n",
      "(epoch = 1, round = 250, global round = 250), Accuracy/Training: 50.03388299073865\n",
      "reporting (epoch = 1, round = 250, global round = 250) for aggregation\n",
      "(epoch = 1, round = 250, global round = 250), Loss/Aggregation: 0.6619795024394989\n",
      "(epoch = 1, round = 250, global round = 250), Accuracy/Aggregation: 70.0\n",
      "Running (epoch = 1, round = 250, global round = 250) for Eval\n",
      "(epoch = 1, round = 250, global round = 250), Loss/Eval: 0.6963175780984516\n",
      "(epoch = 1, round = 250, global round = 250), Accuracy/Eval: 50.105633802816904\n",
      "Current eval accuracy: {'Accuracy': 50.105633802816904}%, Best so far: {'Accuracy': 61.16197183098591}%\n"
     ]
    },
    {
     "name": "stderr",
     "output_type": "stream",
     "text": [
      "Round: 100%|███████████████████████████████████████████████████████████████████████| 250/250 [00:57<00:00,  4.34round/s]\n",
      "Round: 100%|██████████████████████████████████████████████████████████████████████▋| 249/250 [00:58<00:00,  4.43round/s]"
     ]
    },
    {
     "name": "stdout",
     "output_type": "stream",
     "text": [
      "Train finished Global Round: 500\n",
      "(epoch = 2, round = 250, global round = 500), Loss/Training: 0.6944890195947739\n",
      "(epoch = 2, round = 250, global round = 500), Accuracy/Training: 50.82895685305324\n",
      "reporting (epoch = 2, round = 250, global round = 500) for aggregation\n",
      "(epoch = 2, round = 250, global round = 500), Loss/Aggregation: 0.6934725880622864\n",
      "(epoch = 2, round = 250, global round = 500), Accuracy/Aggregation: 36.36363636363637\n",
      "Running (epoch = 2, round = 250, global round = 500) for Eval\n",
      "(epoch = 2, round = 250, global round = 500), Loss/Eval: 0.6931415382896711\n",
      "(epoch = 2, round = 250, global round = 500), Accuracy/Eval: 49.894366197183096\n",
      "Current eval accuracy: {'Accuracy': 49.894366197183096}%, Best so far: {'Accuracy': 61.16197183098591}%\n"
     ]
    },
    {
     "name": "stderr",
     "output_type": "stream",
     "text": [
      "Round: 100%|███████████████████████████████████████████████████████████████████████| 250/250 [01:01<00:00,  4.09round/s]\n",
      "Round: 100%|██████████████████████████████████████████████████████████████████████▋| 249/250 [00:54<00:00,  4.65round/s]"
     ]
    },
    {
     "name": "stdout",
     "output_type": "stream",
     "text": [
      "Train finished Global Round: 750\n",
      "(epoch = 3, round = 250, global round = 750), Loss/Training: 0.7020496910526639\n",
      "(epoch = 3, round = 250, global round = 750), Accuracy/Training: 52.264770240700216\n",
      "reporting (epoch = 3, round = 250, global round = 750) for aggregation\n",
      "(epoch = 3, round = 250, global round = 750), Loss/Aggregation: 0.693664675951004\n",
      "(epoch = 3, round = 250, global round = 750), Accuracy/Aggregation: 42.10526315789474\n",
      "Running (epoch = 3, round = 250, global round = 750) for Eval\n",
      "(epoch = 3, round = 250, global round = 750), Loss/Eval: 0.6931642829726319\n",
      "(epoch = 3, round = 250, global round = 750), Accuracy/Eval: 50.105633802816904\n",
      "Current eval accuracy: {'Accuracy': 50.105633802816904}%, Best so far: {'Accuracy': 61.16197183098591}%\n"
     ]
    },
    {
     "name": "stderr",
     "output_type": "stream",
     "text": [
      "Round: 100%|███████████████████████████████████████████████████████████████████████| 250/250 [00:57<00:00,  4.35round/s]\n",
      "Round: 100%|██████████████████████████████████████████████████████████████████████▋| 249/250 [00:56<00:00,  4.38round/s]"
     ]
    },
    {
     "name": "stdout",
     "output_type": "stream",
     "text": [
      "Train finished Global Round: 1000\n",
      "(epoch = 4, round = 250, global round = 1000), Loss/Training: 0.7127847729109668\n",
      "(epoch = 4, round = 250, global round = 1000), Accuracy/Training: 51.41872487076393\n",
      "reporting (epoch = 4, round = 250, global round = 1000) for aggregation\n",
      "(epoch = 4, round = 250, global round = 1000), Loss/Aggregation: 0.7220088422298432\n",
      "(epoch = 4, round = 250, global round = 1000), Accuracy/Aggregation: 36.36363636363637\n",
      "Running (epoch = 4, round = 250, global round = 1000) for Eval\n",
      "(epoch = 4, round = 250, global round = 1000), Loss/Eval: 0.6989722925403058\n",
      "(epoch = 4, round = 250, global round = 1000), Accuracy/Eval: 49.894366197183096\n",
      "Current eval accuracy: {'Accuracy': 49.894366197183096}%, Best so far: {'Accuracy': 61.16197183098591}%\n"
     ]
    },
    {
     "name": "stderr",
     "output_type": "stream",
     "text": [
      "Round: 100%|███████████████████████████████████████████████████████████████████████| 250/250 [00:59<00:00,  4.20round/s]\n",
      "Round: 100%|██████████████████████████████████████████████████████████████████████▋| 249/250 [00:54<00:00,  4.64round/s]"
     ]
    },
    {
     "name": "stdout",
     "output_type": "stream",
     "text": [
      "Train finished Global Round: 1250\n",
      "(epoch = 5, round = 250, global round = 1250), Loss/Training: 0.7080642858510605\n",
      "(epoch = 5, round = 250, global round = 1250), Accuracy/Training: 49.584133077415224\n",
      "reporting (epoch = 5, round = 250, global round = 1250) for aggregation\n",
      "(epoch = 5, round = 250, global round = 1250), Loss/Aggregation: 0.7038652539253235\n",
      "(epoch = 5, round = 250, global round = 1250), Accuracy/Aggregation: 44.44444444444444\n",
      "Running (epoch = 5, round = 250, global round = 1250) for Eval\n",
      "(epoch = 5, round = 250, global round = 1250), Loss/Eval: 0.6940801078614297\n",
      "(epoch = 5, round = 250, global round = 1250), Accuracy/Eval: 49.894366197183096\n",
      "Current eval accuracy: {'Accuracy': 49.894366197183096}%, Best so far: {'Accuracy': 61.16197183098591}%\n"
     ]
    },
    {
     "name": "stderr",
     "output_type": "stream",
     "text": [
      "Round: 100%|███████████████████████████████████████████████████████████████████████| 250/250 [00:57<00:00,  4.33round/s]\n",
      "Round: 100%|██████████████████████████████████████████████████████████████████████▋| 249/250 [00:58<00:00,  4.44round/s]"
     ]
    },
    {
     "name": "stdout",
     "output_type": "stream",
     "text": [
      "Train finished Global Round: 1500\n",
      "(epoch = 6, round = 250, global round = 1500), Loss/Training: 0.7262297632587605\n",
      "(epoch = 6, round = 250, global round = 1500), Accuracy/Training: 50.179993454783464\n",
      "reporting (epoch = 6, round = 250, global round = 1500) for aggregation\n",
      "(epoch = 6, round = 250, global round = 1500), Loss/Aggregation: 0.7675311446189881\n",
      "(epoch = 6, round = 250, global round = 1500), Accuracy/Aggregation: 60.37735849056604\n",
      "Running (epoch = 6, round = 250, global round = 1500) for Eval\n",
      "(epoch = 6, round = 250, global round = 1500), Loss/Eval: 0.72938031510469\n",
      "(epoch = 6, round = 250, global round = 1500), Accuracy/Eval: 50.105633802816904\n",
      "Current eval accuracy: {'Accuracy': 50.105633802816904}%, Best so far: {'Accuracy': 61.16197183098591}%\n"
     ]
    },
    {
     "name": "stderr",
     "output_type": "stream",
     "text": [
      "Round: 100%|███████████████████████████████████████████████████████████████████████| 250/250 [01:01<00:00,  4.06round/s]\n",
      "Round: 100%|██████████████████████████████████████████████████████████████████████▋| 249/250 [00:54<00:00,  4.57round/s]"
     ]
    },
    {
     "name": "stdout",
     "output_type": "stream",
     "text": [
      "Train finished Global Round: 1750\n",
      "(epoch = 7, round = 250, global round = 1750), Loss/Training: 0.955098172384823\n",
      "(epoch = 7, round = 250, global round = 1750), Accuracy/Training: 50.89170605930382\n",
      "reporting (epoch = 7, round = 250, global round = 1750) for aggregation\n",
      "(epoch = 7, round = 250, global round = 1750), Loss/Aggregation: 0.7186388969421387\n",
      "(epoch = 7, round = 250, global round = 1750), Accuracy/Aggregation: 59.375\n",
      "Running (epoch = 7, round = 250, global round = 1750) for Eval\n",
      "(epoch = 7, round = 250, global round = 1750), Loss/Eval: 0.7173034194072374\n",
      "(epoch = 7, round = 250, global round = 1750), Accuracy/Eval: 50.105633802816904\n",
      "Current eval accuracy: {'Accuracy': 50.105633802816904}%, Best so far: {'Accuracy': 61.16197183098591}%\n"
     ]
    },
    {
     "name": "stderr",
     "output_type": "stream",
     "text": [
      "Round: 100%|███████████████████████████████████████████████████████████████████████| 250/250 [00:57<00:00,  4.34round/s]\n",
      "Round: 100%|██████████████████████████████████████████████████████████████████████▋| 249/250 [00:59<00:00,  4.45round/s]"
     ]
    },
    {
     "name": "stdout",
     "output_type": "stream",
     "text": [
      "Train finished Global Round: 2000\n",
      "(epoch = 8, round = 250, global round = 2000), Loss/Training: 0.7210047136987281\n",
      "(epoch = 8, round = 250, global round = 2000), Accuracy/Training: 51.63973384030418\n",
      "reporting (epoch = 8, round = 250, global round = 2000) for aggregation\n",
      "(epoch = 8, round = 250, global round = 2000), Loss/Aggregation: 1.1064783826470375\n",
      "(epoch = 8, round = 250, global round = 2000), Accuracy/Aggregation: 66.66666666666667\n",
      "Running (epoch = 8, round = 250, global round = 2000) for Eval\n",
      "(epoch = 8, round = 250, global round = 2000), Loss/Eval: 1.2697902023373864\n",
      "(epoch = 8, round = 250, global round = 2000), Accuracy/Eval: 49.894366197183096\n",
      "Current eval accuracy: {'Accuracy': 49.894366197183096}%, Best so far: {'Accuracy': 61.16197183098591}%\n"
     ]
    },
    {
     "name": "stderr",
     "output_type": "stream",
     "text": [
      "Round: 100%|██████████████████████████████████████████████████████████████████████▋| 249/250 [01:02<00:00,  3.98round/s]\n",
      "Epoch:  88%|█████████████████████████████████████████████████████████████████▋         | 7/8 [07:55<01:07, 67.88s/epoch]"
     ]
    },
    {
     "name": "stdout",
     "output_type": "stream",
     "text": [
      "Running (epoch = 1, round = 1, global round = 1) for Test\n"
     ]
    },
    {
     "name": "stderr",
     "output_type": "stream",
     "text": [
      "\n",
      " 74%|███████████████████████████▏         | 294.0/400 [4:55:13<1:45:43, 59.85s/it, min_score=-60.4, models_evaluated=57]"
     ]
    },
    {
     "name": "stdout",
     "output_type": "stream",
     "text": [
      "(epoch = 1, round = 1, global round = 1), Loss/Test: 1.2697902027259043\n",
      "(epoch = 1, round = 1, global round = 1), Accuracy/Test: 49.894366197183096\n"
     ]
    },
    {
     "name": "stderr",
     "output_type": "stream",
     "text": [
      "Round: 100%|██████████████████████████████████████████████████████████████████████▋| 249/250 [00:57<00:00,  4.63round/s]"
     ]
    },
    {
     "name": "stdout",
     "output_type": "stream",
     "text": [
      "Train finished Global Round: 250\n",
      "(epoch = 1, round = 250, global round = 250), Loss/Training: 0.5263252322063748\n",
      "(epoch = 1, round = 250, global round = 250), Accuracy/Training: 71.66595197255575\n",
      "reporting (epoch = 1, round = 250, global round = 250) for aggregation\n",
      "(epoch = 1, round = 250, global round = 250), Loss/Aggregation: 0.48938154578208926\n",
      "(epoch = 1, round = 250, global round = 250), Accuracy/Aggregation: 76.92307692307692\n",
      "Running (epoch = 1, round = 250, global round = 250) for Eval\n",
      "(epoch = 1, round = 250, global round = 250), Loss/Eval: 0.7218244479945982\n",
      "(epoch = 1, round = 250, global round = 250), Accuracy/Eval: 59.57746478873239\n",
      "Current eval accuracy: {'Accuracy': 59.57746478873239}%, Best so far: {'Accuracy': 61.16197183098591}%\n"
     ]
    },
    {
     "name": "stderr",
     "output_type": "stream",
     "text": [
      "Round: 100%|███████████████████████████████████████████████████████████████████████| 250/250 [01:00<00:00,  4.10round/s]\n",
      "Round: 100%|██████████████████████████████████████████████████████████████████████▋| 249/250 [00:58<00:00,  4.37round/s]"
     ]
    },
    {
     "name": "stdout",
     "output_type": "stream",
     "text": [
      "Train finished Global Round: 500\n",
      "(epoch = 2, round = 250, global round = 500), Loss/Training: 0.4944218903749135\n",
      "(epoch = 2, round = 250, global round = 500), Accuracy/Training: 74.37805655964279\n",
      "reporting (epoch = 2, round = 250, global round = 500) for aggregation\n",
      "(epoch = 2, round = 250, global round = 500), Loss/Aggregation: 0.385036900639534\n",
      "(epoch = 2, round = 250, global round = 500), Accuracy/Aggregation: 84.21052631578948\n",
      "Running (epoch = 2, round = 250, global round = 500) for Eval\n",
      "(epoch = 2, round = 250, global round = 500), Loss/Eval: 0.7436186150295419\n",
      "(epoch = 2, round = 250, global round = 500), Accuracy/Eval: 59.04929577464789\n",
      "Current eval accuracy: {'Accuracy': 59.04929577464789}%, Best so far: {'Accuracy': 61.16197183098591}%\n"
     ]
    },
    {
     "name": "stderr",
     "output_type": "stream",
     "text": [
      "Round: 100%|███████████████████████████████████████████████████████████████████████| 250/250 [01:01<00:00,  4.09round/s]\n",
      "Round: 100%|██████████████████████████████████████████████████████████████████████▋| 249/250 [00:58<00:00,  4.41round/s]"
     ]
    },
    {
     "name": "stdout",
     "output_type": "stream",
     "text": [
      "Train finished Global Round: 750\n",
      "(epoch = 3, round = 250, global round = 750), Loss/Training: 0.47276478141710143\n",
      "(epoch = 3, round = 250, global round = 750), Accuracy/Training: 75.5894128113879\n",
      "reporting (epoch = 3, round = 250, global round = 750) for aggregation\n",
      "(epoch = 3, round = 250, global round = 750), Loss/Aggregation: 0.338150542601943\n",
      "(epoch = 3, round = 250, global round = 750), Accuracy/Aggregation: 88.88888888888889\n",
      "Running (epoch = 3, round = 250, global round = 750) for Eval\n",
      "(epoch = 3, round = 250, global round = 750), Loss/Eval: 0.7849544960463019\n",
      "(epoch = 3, round = 250, global round = 750), Accuracy/Eval: 59.29577464788732\n",
      "Current eval accuracy: {'Accuracy': 59.29577464788732}%, Best so far: {'Accuracy': 61.16197183098591}%\n"
     ]
    },
    {
     "name": "stderr",
     "output_type": "stream",
     "text": [
      "Round: 100%|███████████████████████████████████████████████████████████████████████| 250/250 [01:01<00:00,  4.06round/s]\n",
      "Round: 100%|██████████████████████████████████████████████████████████████████████▋| 249/250 [00:55<00:00,  4.70round/s]"
     ]
    },
    {
     "name": "stdout",
     "output_type": "stream",
     "text": [
      "Train finished Global Round: 1000\n",
      "(epoch = 4, round = 250, global round = 1000), Loss/Training: 0.4369941551143544\n",
      "(epoch = 4, round = 250, global round = 1000), Accuracy/Training: 78.2312925170068\n",
      "reporting (epoch = 4, round = 250, global round = 1000) for aggregation\n",
      "(epoch = 4, round = 250, global round = 1000), Loss/Aggregation: 0.5086260437965393\n",
      "(epoch = 4, round = 250, global round = 1000), Accuracy/Aggregation: 80.76923076923077\n",
      "Running (epoch = 4, round = 250, global round = 1000) for Eval\n",
      "(epoch = 4, round = 250, global round = 1000), Loss/Eval: 0.8051014726569093\n",
      "(epoch = 4, round = 250, global round = 1000), Accuracy/Eval: 59.36619718309859\n",
      "Current eval accuracy: {'Accuracy': 59.36619718309859}%, Best so far: {'Accuracy': 61.16197183098591}%\n"
     ]
    },
    {
     "name": "stderr",
     "output_type": "stream",
     "text": [
      "Round: 100%|███████████████████████████████████████████████████████████████████████| 250/250 [00:58<00:00,  4.27round/s]\n",
      "Round: 100%|██████████████████████████████████████████████████████████████████████▋| 249/250 [00:57<00:00,  4.68round/s]"
     ]
    },
    {
     "name": "stdout",
     "output_type": "stream",
     "text": [
      "Train finished Global Round: 1250\n",
      "(epoch = 5, round = 250, global round = 1250), Loss/Training: 0.40037234263239097\n",
      "(epoch = 5, round = 250, global round = 1250), Accuracy/Training: 79.99548685546655\n",
      "reporting (epoch = 5, round = 250, global round = 1250) for aggregation\n",
      "(epoch = 5, round = 250, global round = 1250), Loss/Aggregation: 0.17879358287900687\n",
      "(epoch = 5, round = 250, global round = 1250), Accuracy/Aggregation: 95.65217391304348\n",
      "Running (epoch = 5, round = 250, global round = 1250) for Eval\n",
      "(epoch = 5, round = 250, global round = 1250), Loss/Eval: 0.8621704025630011\n",
      "(epoch = 5, round = 250, global round = 1250), Accuracy/Eval: 58.41549295774648\n",
      "Current eval accuracy: {'Accuracy': 58.41549295774648}%, Best so far: {'Accuracy': 61.16197183098591}%\n"
     ]
    },
    {
     "name": "stderr",
     "output_type": "stream",
     "text": [
      "Round: 100%|███████████████████████████████████████████████████████████████████████| 250/250 [01:00<00:00,  4.14round/s]\n",
      "Round: 100%|██████████████████████████████████████████████████████████████████████▋| 249/250 [00:57<00:00,  4.44round/s]"
     ]
    },
    {
     "name": "stdout",
     "output_type": "stream",
     "text": [
      "Train finished Global Round: 1500\n",
      "(epoch = 6, round = 250, global round = 1500), Loss/Training: 0.37217755566735533\n",
      "(epoch = 6, round = 250, global round = 1500), Accuracy/Training: 80.78587699316628\n",
      "reporting (epoch = 6, round = 250, global round = 1500) for aggregation\n",
      "(epoch = 6, round = 250, global round = 1500), Loss/Aggregation: 0.2629958547651768\n",
      "(epoch = 6, round = 250, global round = 1500), Accuracy/Aggregation: 88.46153846153847\n",
      "Running (epoch = 6, round = 250, global round = 1500) for Eval\n",
      "(epoch = 6, round = 250, global round = 1500), Loss/Eval: 0.8964627109637213\n",
      "(epoch = 6, round = 250, global round = 1500), Accuracy/Eval: 59.26056338028169\n",
      "Current eval accuracy: {'Accuracy': 59.26056338028169}%, Best so far: {'Accuracy': 61.16197183098591}%\n"
     ]
    },
    {
     "name": "stderr",
     "output_type": "stream",
     "text": [
      "Round: 100%|███████████████████████████████████████████████████████████████████████| 250/250 [01:00<00:00,  4.12round/s]\n",
      "Round: 100%|██████████████████████████████████████████████████████████████████████▋| 249/250 [00:58<00:00,  4.65round/s]"
     ]
    },
    {
     "name": "stdout",
     "output_type": "stream",
     "text": [
      "Train finished Global Round: 1750\n",
      "(epoch = 7, round = 250, global round = 1750), Loss/Training: 0.338245860141585\n",
      "(epoch = 7, round = 250, global round = 1750), Accuracy/Training: 82.80682443588333\n",
      "reporting (epoch = 7, round = 250, global round = 1750) for aggregation\n",
      "(epoch = 7, round = 250, global round = 1750), Loss/Aggregation: 0.40813369788229464\n",
      "(epoch = 7, round = 250, global round = 1750), Accuracy/Aggregation: 90.56603773584905\n",
      "Running (epoch = 7, round = 250, global round = 1750) for Eval\n",
      "(epoch = 7, round = 250, global round = 1750), Loss/Eval: 0.9723784137390945\n",
      "(epoch = 7, round = 250, global round = 1750), Accuracy/Eval: 58.80281690140845\n",
      "Current eval accuracy: {'Accuracy': 58.80281690140845}%, Best so far: {'Accuracy': 61.16197183098591}%\n"
     ]
    },
    {
     "name": "stderr",
     "output_type": "stream",
     "text": [
      "Round: 100%|███████████████████████████████████████████████████████████████████████| 250/250 [01:01<00:00,  4.07round/s]\n",
      "Round: 100%|██████████████████████████████████████████████████████████████████████▋| 249/250 [00:57<00:00,  4.65round/s]"
     ]
    },
    {
     "name": "stdout",
     "output_type": "stream",
     "text": [
      "Train finished Global Round: 2000\n",
      "(epoch = 8, round = 250, global round = 2000), Loss/Training: 0.30316718189402525\n",
      "(epoch = 8, round = 250, global round = 2000), Accuracy/Training: 85.0181323662738\n",
      "reporting (epoch = 8, round = 250, global round = 2000) for aggregation\n",
      "(epoch = 8, round = 250, global round = 2000), Loss/Aggregation: 0.19207875011488795\n",
      "(epoch = 8, round = 250, global round = 2000), Accuracy/Aggregation: 100.0\n",
      "Running (epoch = 8, round = 250, global round = 2000) for Eval\n",
      "(epoch = 8, round = 250, global round = 2000), Loss/Eval: 0.9873975162714265\n",
      "(epoch = 8, round = 250, global round = 2000), Accuracy/Eval: 60.316901408450704\n",
      "Current eval accuracy: {'Accuracy': 60.316901408450704}%, Best so far: {'Accuracy': 61.16197183098591}%\n"
     ]
    },
    {
     "name": "stderr",
     "output_type": "stream",
     "text": [
      "Round: 100%|██████████████████████████████████████████████████████████████████████▋| 249/250 [01:00<00:00,  4.15round/s]\n",
      "Epoch:  88%|█████████████████████████████████████████████████████████████████▋         | 7/8 [08:04<01:09, 69.25s/epoch]"
     ]
    },
    {
     "name": "stdout",
     "output_type": "stream",
     "text": [
      "Running (epoch = 1, round = 1, global round = 1) for Test\n"
     ]
    },
    {
     "name": "stderr",
     "output_type": "stream",
     "text": [
      "\n",
      " 76%|███████████████████████████▉         | 302.0/400 [5:03:21<1:38:20, 60.20s/it, min_score=-60.4, models_evaluated=57]"
     ]
    },
    {
     "name": "stdout",
     "output_type": "stream",
     "text": [
      "(epoch = 1, round = 1, global round = 1), Loss/Test: 0.9873975162893581\n",
      "(epoch = 1, round = 1, global round = 1), Accuracy/Test: 60.316901408450704\n"
     ]
    },
    {
     "name": "stderr",
     "output_type": "stream",
     "text": [
      "Round: 100%|██████████████████████████████████████████████████████████████████████▋| 249/250 [00:56<00:00,  4.66round/s]"
     ]
    },
    {
     "name": "stdout",
     "output_type": "stream",
     "text": [
      "Train finished Global Round: 250\n",
      "(epoch = 1, round = 250, global round = 250), Loss/Training: 0.6858819559181146\n",
      "(epoch = 1, round = 250, global round = 250), Accuracy/Training: 55.474533200751296\n",
      "reporting (epoch = 1, round = 250, global round = 250) for aggregation\n",
      "(epoch = 1, round = 250, global round = 250), Loss/Aggregation: 0.6567023515701294\n",
      "(epoch = 1, round = 250, global round = 250), Accuracy/Aggregation: 77.77777777777777\n",
      "Running (epoch = 1, round = 250, global round = 250) for Eval\n",
      "(epoch = 1, round = 250, global round = 250), Loss/Eval: 0.6864846101665038\n",
      "(epoch = 1, round = 250, global round = 250), Accuracy/Eval: 54.15492957746479\n",
      "Current eval accuracy: {'Accuracy': 54.15492957746479}%, Best so far: {'Accuracy': 61.16197183098591}%\n"
     ]
    },
    {
     "name": "stderr",
     "output_type": "stream",
     "text": [
      "Round: 100%|███████████████████████████████████████████████████████████████████████| 250/250 [00:59<00:00,  4.22round/s]\n",
      "Round: 100%|██████████████████████████████████████████████████████████████████████▋| 249/250 [00:54<00:00,  4.65round/s]"
     ]
    },
    {
     "name": "stdout",
     "output_type": "stream",
     "text": [
      "Train finished Global Round: 500\n",
      "(epoch = 2, round = 250, global round = 500), Loss/Training: 0.6838035289511185\n",
      "(epoch = 2, round = 250, global round = 500), Accuracy/Training: 54.874746106973596\n",
      "reporting (epoch = 2, round = 250, global round = 500) for aggregation\n",
      "(epoch = 2, round = 250, global round = 500), Loss/Aggregation: 0.6462257713079452\n",
      "(epoch = 2, round = 250, global round = 500), Accuracy/Aggregation: 77.77777777777777\n",
      "Running (epoch = 2, round = 250, global round = 500) for Eval\n",
      "(epoch = 2, round = 250, global round = 500), Loss/Eval: 0.685443917133222\n",
      "(epoch = 2, round = 250, global round = 500), Accuracy/Eval: 54.401408450704224\n",
      "Current eval accuracy: {'Accuracy': 54.401408450704224}%, Best so far: {'Accuracy': 61.16197183098591}%\n"
     ]
    },
    {
     "name": "stderr",
     "output_type": "stream",
     "text": [
      "Round: 100%|███████████████████████████████████████████████████████████████████████| 250/250 [00:57<00:00,  4.38round/s]\n",
      "Round: 100%|██████████████████████████████████████████████████████████████████████▋| 249/250 [00:56<00:00,  4.64round/s]"
     ]
    },
    {
     "name": "stdout",
     "output_type": "stream",
     "text": [
      "Train finished Global Round: 750\n",
      "(epoch = 3, round = 250, global round = 750), Loss/Training: 0.6814025592872839\n",
      "(epoch = 3, round = 250, global round = 750), Accuracy/Training: 56.85191203553244\n",
      "reporting (epoch = 3, round = 250, global round = 750) for aggregation\n",
      "(epoch = 3, round = 250, global round = 750), Loss/Aggregation: 0.6509541302919388\n",
      "(epoch = 3, round = 250, global round = 750), Accuracy/Aggregation: 60.0\n",
      "Running (epoch = 3, round = 250, global round = 750) for Eval\n",
      "(epoch = 3, round = 250, global round = 750), Loss/Eval: 0.698528706901914\n",
      "(epoch = 3, round = 250, global round = 750), Accuracy/Eval: 52.394366197183096\n",
      "Current eval accuracy: {'Accuracy': 52.394366197183096}%, Best so far: {'Accuracy': 61.16197183098591}%\n"
     ]
    },
    {
     "name": "stderr",
     "output_type": "stream",
     "text": [
      "Round: 100%|███████████████████████████████████████████████████████████████████████| 250/250 [00:59<00:00,  4.19round/s]\n",
      "Round: 100%|██████████████████████████████████████████████████████████████████████▋| 249/250 [00:54<00:00,  4.51round/s]"
     ]
    },
    {
     "name": "stdout",
     "output_type": "stream",
     "text": [
      "Train finished Global Round: 1000\n",
      "(epoch = 4, round = 250, global round = 1000), Loss/Training: 0.6760347981367371\n",
      "(epoch = 4, round = 250, global round = 1000), Accuracy/Training: 57.500280489173115\n",
      "reporting (epoch = 4, round = 250, global round = 1000) for aggregation\n",
      "(epoch = 4, round = 250, global round = 1000), Loss/Aggregation: 0.7220012158155441\n",
      "(epoch = 4, round = 250, global round = 1000), Accuracy/Aggregation: 43.10344827586207\n",
      "Running (epoch = 4, round = 250, global round = 1000) for Eval\n",
      "(epoch = 4, round = 250, global round = 1000), Loss/Eval: 0.6824959263151733\n",
      "(epoch = 4, round = 250, global round = 1000), Accuracy/Eval: 56.12676056338028\n",
      "Current eval accuracy: {'Accuracy': 56.12676056338028}%, Best so far: {'Accuracy': 61.16197183098591}%\n"
     ]
    },
    {
     "name": "stderr",
     "output_type": "stream",
     "text": [
      "Round: 100%|███████████████████████████████████████████████████████████████████████| 250/250 [00:57<00:00,  4.33round/s]\n",
      "Round: 100%|██████████████████████████████████████████████████████████████████████▋| 249/250 [00:55<00:00,  4.36round/s]"
     ]
    },
    {
     "name": "stdout",
     "output_type": "stream",
     "text": [
      "Train finished Global Round: 1250\n",
      "(epoch = 5, round = 250, global round = 1250), Loss/Training: 0.6753988741013447\n",
      "(epoch = 5, round = 250, global round = 1250), Accuracy/Training: 57.59651307596513\n",
      "reporting (epoch = 5, round = 250, global round = 1250) for aggregation\n",
      "(epoch = 5, round = 250, global round = 1250), Loss/Aggregation: 0.683603210882707\n",
      "(epoch = 5, round = 250, global round = 1250), Accuracy/Aggregation: 58.064516129032256\n",
      "Running (epoch = 5, round = 250, global round = 1250) for Eval\n",
      "(epoch = 5, round = 250, global round = 1250), Loss/Eval: 0.6885236348737162\n",
      "(epoch = 5, round = 250, global round = 1250), Accuracy/Eval: 55.70422535211268\n",
      "Current eval accuracy: {'Accuracy': 55.70422535211268}%, Best so far: {'Accuracy': 61.16197183098591}%\n"
     ]
    },
    {
     "name": "stderr",
     "output_type": "stream",
     "text": [
      "Round: 100%|███████████████████████████████████████████████████████████████████████| 250/250 [00:58<00:00,  4.29round/s]\n",
      "Round: 100%|██████████████████████████████████████████████████████████████████████▋| 249/250 [00:54<00:00,  4.67round/s]"
     ]
    },
    {
     "name": "stdout",
     "output_type": "stream",
     "text": [
      "Train finished Global Round: 1500\n",
      "(epoch = 6, round = 250, global round = 1500), Loss/Training: 0.6696083460280474\n",
      "(epoch = 6, round = 250, global round = 1500), Accuracy/Training: 58.61328753890737\n",
      "reporting (epoch = 6, round = 250, global round = 1500) for aggregation\n",
      "(epoch = 6, round = 250, global round = 1500), Loss/Aggregation: 0.640380346775055\n",
      "(epoch = 6, round = 250, global round = 1500), Accuracy/Aggregation: 63.333333333333336\n",
      "Running (epoch = 6, round = 250, global round = 1500) for Eval\n",
      "(epoch = 6, round = 250, global round = 1500), Loss/Eval: 0.6906466056931595\n",
      "(epoch = 6, round = 250, global round = 1500), Accuracy/Eval: 54.82394366197183\n",
      "Current eval accuracy: {'Accuracy': 54.82394366197183}%, Best so far: {'Accuracy': 61.16197183098591}%\n"
     ]
    },
    {
     "name": "stderr",
     "output_type": "stream",
     "text": [
      "Round: 100%|███████████████████████████████████████████████████████████████████████| 250/250 [00:57<00:00,  4.32round/s]\n",
      "Round: 100%|██████████████████████████████████████████████████████████████████████▋| 249/250 [00:56<00:00,  4.61round/s]"
     ]
    },
    {
     "name": "stdout",
     "output_type": "stream",
     "text": [
      "Train finished Global Round: 1750\n",
      "(epoch = 7, round = 250, global round = 1750), Loss/Training: 0.6688506183562125\n",
      "(epoch = 7, round = 250, global round = 1750), Accuracy/Training: 59.47211579395488\n",
      "reporting (epoch = 7, round = 250, global round = 1750) for aggregation\n",
      "(epoch = 7, round = 250, global round = 1750), Loss/Aggregation: 0.711355060338974\n",
      "(epoch = 7, round = 250, global round = 1750), Accuracy/Aggregation: 68.96551724137932\n",
      "Running (epoch = 7, round = 250, global round = 1750) for Eval\n",
      "(epoch = 7, round = 250, global round = 1750), Loss/Eval: 0.6889056435218727\n",
      "(epoch = 7, round = 250, global round = 1750), Accuracy/Eval: 56.056338028169016\n",
      "Current eval accuracy: {'Accuracy': 56.056338028169016}%, Best so far: {'Accuracy': 61.16197183098591}%\n"
     ]
    },
    {
     "name": "stderr",
     "output_type": "stream",
     "text": [
      "Round: 100%|███████████████████████████████████████████████████████████████████████| 250/250 [00:59<00:00,  4.17round/s]\n",
      "Round: 100%|██████████████████████████████████████████████████████████████████████▋| 249/250 [00:57<00:00,  4.65round/s]"
     ]
    },
    {
     "name": "stdout",
     "output_type": "stream",
     "text": [
      "Train finished Global Round: 2000\n",
      "(epoch = 8, round = 250, global round = 2000), Loss/Training: 0.6758152413641727\n",
      "(epoch = 8, round = 250, global round = 2000), Accuracy/Training: 58.22314501147416\n",
      "reporting (epoch = 8, round = 250, global round = 2000) for aggregation\n",
      "(epoch = 8, round = 250, global round = 2000), Loss/Aggregation: 0.6944679319858551\n",
      "(epoch = 8, round = 250, global round = 2000), Accuracy/Aggregation: 64.44444444444444\n",
      "Running (epoch = 8, round = 250, global round = 2000) for Eval\n",
      "(epoch = 8, round = 250, global round = 2000), Loss/Eval: 0.674741769657047\n",
      "(epoch = 8, round = 250, global round = 2000), Accuracy/Eval: 59.683098591549296\n",
      "Current eval accuracy: {'Accuracy': 59.683098591549296}%, Best so far: {'Accuracy': 61.16197183098591}%\n"
     ]
    },
    {
     "name": "stderr",
     "output_type": "stream",
     "text": [
      "Round: 100%|██████████████████████████████████████████████████████████████████████▋| 249/250 [01:00<00:00,  4.15round/s]\n",
      "Epoch:  88%|█████████████████████████████████████████████████████████████████▋         | 7/8 [07:49<01:07, 67.13s/epoch]"
     ]
    },
    {
     "name": "stdout",
     "output_type": "stream",
     "text": [
      "Running (epoch = 1, round = 1, global round = 1) for Test\n"
     ]
    },
    {
     "name": "stderr",
     "output_type": "stream",
     "text": [
      "\n",
      " 78%|████████████████████████████▋        | 310.0/400 [5:11:15<1:29:51, 59.90s/it, min_score=-60.4, models_evaluated=57]"
     ]
    },
    {
     "name": "stdout",
     "output_type": "stream",
     "text": [
      "(epoch = 1, round = 1, global round = 1), Loss/Test: 0.6747417696211838\n",
      "(epoch = 1, round = 1, global round = 1), Accuracy/Test: 59.683098591549296\n"
     ]
    },
    {
     "name": "stderr",
     "output_type": "stream",
     "text": [
      "Round: 100%|██████████████████████████████████████████████████████████████████████▋| 249/250 [00:58<00:00,  4.71round/s]"
     ]
    },
    {
     "name": "stdout",
     "output_type": "stream",
     "text": [
      "Train finished Global Round: 250\n",
      "(epoch = 1, round = 250, global round = 250), Loss/Training: 0.6979686093829784\n",
      "(epoch = 1, round = 250, global round = 250), Accuracy/Training: 51.80660523863754\n",
      "reporting (epoch = 1, round = 250, global round = 250) for aggregation\n",
      "(epoch = 1, round = 250, global round = 250), Loss/Aggregation: 0.6787378311157226\n",
      "(epoch = 1, round = 250, global round = 250), Accuracy/Aggregation: 62.5\n",
      "Running (epoch = 1, round = 250, global round = 250) for Eval\n",
      "(epoch = 1, round = 250, global round = 250), Loss/Eval: 0.6910044758663185\n",
      "(epoch = 1, round = 250, global round = 250), Accuracy/Eval: 51.514084507042256\n",
      "Current eval accuracy: {'Accuracy': 51.514084507042256}%, Best so far: {'Accuracy': 61.16197183098591}%\n"
     ]
    },
    {
     "name": "stderr",
     "output_type": "stream",
     "text": [
      "Round: 100%|███████████████████████████████████████████████████████████████████████| 250/250 [01:01<00:00,  4.07round/s]\n",
      "Round: 100%|██████████████████████████████████████████████████████████████████████▋| 249/250 [00:57<00:00,  4.64round/s]"
     ]
    },
    {
     "name": "stdout",
     "output_type": "stream",
     "text": [
      "Train finished Global Round: 500\n",
      "(epoch = 2, round = 250, global round = 500), Loss/Training: 0.6984372682163652\n",
      "(epoch = 2, round = 250, global round = 500), Accuracy/Training: 53.2315183709606\n",
      "reporting (epoch = 2, round = 250, global round = 500) for aggregation\n",
      "(epoch = 2, round = 250, global round = 500), Loss/Aggregation: 0.6731131970882416\n",
      "(epoch = 2, round = 250, global round = 500), Accuracy/Aggregation: 60.396039603960396\n",
      "Running (epoch = 2, round = 250, global round = 500) for Eval\n",
      "(epoch = 2, round = 250, global round = 500), Loss/Eval: 0.6961607023792672\n",
      "(epoch = 2, round = 250, global round = 500), Accuracy/Eval: 50.105633802816904\n",
      "Current eval accuracy: {'Accuracy': 50.105633802816904}%, Best so far: {'Accuracy': 61.16197183098591}%\n"
     ]
    },
    {
     "name": "stderr",
     "output_type": "stream",
     "text": [
      "Round: 100%|███████████████████████████████████████████████████████████████████████| 250/250 [01:00<00:00,  4.16round/s]\n",
      "Round: 100%|██████████████████████████████████████████████████████████████████████▋| 249/250 [00:56<00:00,  4.61round/s]"
     ]
    },
    {
     "name": "stdout",
     "output_type": "stream",
     "text": [
      "Train finished Global Round: 750\n",
      "(epoch = 3, round = 250, global round = 750), Loss/Training: 0.6964026161049076\n",
      "(epoch = 3, round = 250, global round = 750), Accuracy/Training: 51.44284128745838\n",
      "reporting (epoch = 3, round = 250, global round = 750) for aggregation\n",
      "(epoch = 3, round = 250, global round = 750), Loss/Aggregation: 0.7058953821659089\n",
      "(epoch = 3, round = 250, global round = 750), Accuracy/Aggregation: 28.571428571428573\n",
      "Running (epoch = 3, round = 250, global round = 750) for Eval\n",
      "(epoch = 3, round = 250, global round = 750), Loss/Eval: 0.6935745735174195\n",
      "(epoch = 3, round = 250, global round = 750), Accuracy/Eval: 49.894366197183096\n",
      "Current eval accuracy: {'Accuracy': 49.894366197183096}%, Best so far: {'Accuracy': 61.16197183098591}%\n"
     ]
    },
    {
     "name": "stderr",
     "output_type": "stream",
     "text": [
      "Round: 100%|███████████████████████████████████████████████████████████████████████| 250/250 [01:00<00:00,  4.13round/s]\n",
      "Round: 100%|██████████████████████████████████████████████████████████████████████▋| 249/250 [00:54<00:00,  4.59round/s]"
     ]
    },
    {
     "name": "stdout",
     "output_type": "stream",
     "text": [
      "Train finished Global Round: 1000\n",
      "(epoch = 4, round = 250, global round = 1000), Loss/Training: 0.695008504322476\n",
      "(epoch = 4, round = 250, global round = 1000), Accuracy/Training: 51.65708311552535\n",
      "reporting (epoch = 4, round = 250, global round = 1000) for aggregation\n",
      "(epoch = 4, round = 250, global round = 1000), Loss/Aggregation: 0.6976625382900238\n",
      "(epoch = 4, round = 250, global round = 1000), Accuracy/Aggregation: 42.30769230769231\n",
      "Running (epoch = 4, round = 250, global round = 1000) for Eval\n",
      "(epoch = 4, round = 250, global round = 1000), Loss/Eval: 0.6932769423022693\n",
      "(epoch = 4, round = 250, global round = 1000), Accuracy/Eval: 50.105633802816904\n",
      "Current eval accuracy: {'Accuracy': 50.105633802816904}%, Best so far: {'Accuracy': 61.16197183098591}%\n"
     ]
    },
    {
     "name": "stderr",
     "output_type": "stream",
     "text": [
      "Round: 100%|███████████████████████████████████████████████████████████████████████| 250/250 [00:57<00:00,  4.33round/s]\n",
      "Round: 100%|██████████████████████████████████████████████████████████████████████▋| 249/250 [01:00<00:00,  4.41round/s]"
     ]
    },
    {
     "name": "stdout",
     "output_type": "stream",
     "text": [
      "Train finished Global Round: 1250\n",
      "(epoch = 5, round = 250, global round = 1250), Loss/Training: 0.695297661558183\n",
      "(epoch = 5, round = 250, global round = 1250), Accuracy/Training: 51.256390732078756\n",
      "reporting (epoch = 5, round = 250, global round = 1250) for aggregation\n",
      "(epoch = 5, round = 250, global round = 1250), Loss/Aggregation: 0.716580412604592\n",
      "(epoch = 5, round = 250, global round = 1250), Accuracy/Aggregation: 44.44444444444444\n",
      "Running (epoch = 5, round = 250, global round = 1250) for Eval\n",
      "(epoch = 5, round = 250, global round = 1250), Loss/Eval: 0.6964964309323995\n",
      "(epoch = 5, round = 250, global round = 1250), Accuracy/Eval: 50.105633802816904\n",
      "Current eval accuracy: {'Accuracy': 50.105633802816904}%, Best so far: {'Accuracy': 61.16197183098591}%\n"
     ]
    },
    {
     "name": "stderr",
     "output_type": "stream",
     "text": [
      "Round: 100%|███████████████████████████████████████████████████████████████████████| 250/250 [01:02<00:00,  3.97round/s]\n",
      "Round: 100%|██████████████████████████████████████████████████████████████████████▋| 249/250 [00:56<00:00,  4.42round/s]"
     ]
    },
    {
     "name": "stdout",
     "output_type": "stream",
     "text": [
      "Train finished Global Round: 1500\n",
      "(epoch = 6, round = 250, global round = 1500), Loss/Training: 0.6942243492787281\n",
      "(epoch = 6, round = 250, global round = 1500), Accuracy/Training: 50.95356103868118\n",
      "reporting (epoch = 6, round = 250, global round = 1500) for aggregation\n",
      "(epoch = 6, round = 250, global round = 1500), Loss/Aggregation: 0.6874222695827484\n",
      "(epoch = 6, round = 250, global round = 1500), Accuracy/Aggregation: 58.8235294117647\n",
      "Running (epoch = 6, round = 250, global round = 1500) for Eval\n",
      "(epoch = 6, round = 250, global round = 1500), Loss/Eval: 0.6936086916655745\n",
      "(epoch = 6, round = 250, global round = 1500), Accuracy/Eval: 49.894366197183096\n",
      "Current eval accuracy: {'Accuracy': 49.894366197183096}%, Best so far: {'Accuracy': 61.16197183098591}%\n"
     ]
    },
    {
     "name": "stderr",
     "output_type": "stream",
     "text": [
      "Round: 100%|███████████████████████████████████████████████████████████████████████| 250/250 [00:59<00:00,  4.21round/s]\n",
      "Round: 100%|██████████████████████████████████████████████████████████████████████▋| 249/250 [00:57<00:00,  4.38round/s]"
     ]
    },
    {
     "name": "stdout",
     "output_type": "stream",
     "text": [
      "Train finished Global Round: 1750\n",
      "(epoch = 7, round = 250, global round = 1750), Loss/Training: 0.695157457506332\n",
      "(epoch = 7, round = 250, global round = 1750), Accuracy/Training: 51.901635927894134\n",
      "reporting (epoch = 7, round = 250, global round = 1750) for aggregation\n",
      "(epoch = 7, round = 250, global round = 1750), Loss/Aggregation: 0.6993466973304748\n",
      "(epoch = 7, round = 250, global round = 1750), Accuracy/Aggregation: 30.76923076923077\n",
      "Running (epoch = 7, round = 250, global round = 1750) for Eval\n",
      "(epoch = 7, round = 250, global round = 1750), Loss/Eval: 0.6933331285381814\n",
      "(epoch = 7, round = 250, global round = 1750), Accuracy/Eval: 50.105633802816904\n",
      "Current eval accuracy: {'Accuracy': 50.105633802816904}%, Best so far: {'Accuracy': 61.16197183098591}%\n"
     ]
    },
    {
     "name": "stderr",
     "output_type": "stream",
     "text": [
      "Round: 100%|███████████████████████████████████████████████████████████████████████| 250/250 [01:00<00:00,  4.15round/s]\n",
      "Round: 100%|██████████████████████████████████████████████████████████████████████▋| 249/250 [00:56<00:00,  4.67round/s]"
     ]
    },
    {
     "name": "stdout",
     "output_type": "stream",
     "text": [
      "Train finished Global Round: 2000\n",
      "(epoch = 8, round = 250, global round = 2000), Loss/Training: 0.6939740948127231\n",
      "(epoch = 8, round = 250, global round = 2000), Accuracy/Training: 50.813430252682586\n",
      "reporting (epoch = 8, round = 250, global round = 2000) for aggregation\n",
      "(epoch = 8, round = 250, global round = 2000), Loss/Aggregation: 0.7035163879394531\n",
      "(epoch = 8, round = 250, global round = 2000), Accuracy/Aggregation: 39.130434782608695\n",
      "Running (epoch = 8, round = 250, global round = 2000) for Eval\n",
      "(epoch = 8, round = 250, global round = 2000), Loss/Eval: 0.6938660653824315\n",
      "(epoch = 8, round = 250, global round = 2000), Accuracy/Eval: 49.894366197183096\n",
      "Current eval accuracy: {'Accuracy': 49.894366197183096}%, Best so far: {'Accuracy': 61.16197183098591}%\n"
     ]
    },
    {
     "name": "stderr",
     "output_type": "stream",
     "text": [
      "Round: 100%|██████████████████████████████████████████████████████████████████████▋| 249/250 [00:59<00:00,  4.22round/s]\n",
      "Epoch:  88%|█████████████████████████████████████████████████████████████████▋         | 7/8 [08:01<01:08, 68.79s/epoch]"
     ]
    },
    {
     "name": "stdout",
     "output_type": "stream",
     "text": [
      "Running (epoch = 1, round = 1, global round = 1) for Test\n"
     ]
    },
    {
     "name": "stderr",
     "output_type": "stream",
     "text": [
      "\n",
      " 80%|█████████████████████████████▍       | 318.0/400 [5:19:20<1:22:08, 60.11s/it, min_score=-60.4, models_evaluated=60]"
     ]
    },
    {
     "name": "stdout",
     "output_type": "stream",
     "text": [
      "(epoch = 1, round = 1, global round = 1), Loss/Test: 0.693866065191161\n",
      "(epoch = 1, round = 1, global round = 1), Accuracy/Test: 49.894366197183096\n"
     ]
    },
    {
     "name": "stderr",
     "output_type": "stream",
     "text": [
      "Round: 100%|██████████████████████████████████████████████████████████████████████▋| 249/250 [00:55<00:00,  4.65round/s]"
     ]
    },
    {
     "name": "stdout",
     "output_type": "stream",
     "text": [
      "Train finished Global Round: 250\n",
      "(epoch = 1, round = 250, global round = 250), Loss/Training: 0.7359493880662037\n",
      "(epoch = 1, round = 250, global round = 250), Accuracy/Training: 48.51647707282749\n",
      "reporting (epoch = 1, round = 250, global round = 250) for aggregation\n",
      "(epoch = 1, round = 250, global round = 250), Loss/Aggregation: 0.7326186776161194\n",
      "(epoch = 1, round = 250, global round = 250), Accuracy/Aggregation: 52.0\n",
      "Running (epoch = 1, round = 250, global round = 250) for Eval\n",
      "(epoch = 1, round = 250, global round = 250), Loss/Eval: 0.6974587802230905\n",
      "(epoch = 1, round = 250, global round = 250), Accuracy/Eval: 50.105633802816904\n",
      "Current eval accuracy: {'Accuracy': 50.105633802816904}%, Best so far: {'Accuracy': 61.16197183098591}%\n"
     ]
    },
    {
     "name": "stderr",
     "output_type": "stream",
     "text": [
      "Round: 100%|███████████████████████████████████████████████████████████████████████| 250/250 [00:58<00:00,  4.26round/s]\n",
      "Round: 100%|██████████████████████████████████████████████████████████████████████▋| 249/250 [00:57<00:00,  4.32round/s]"
     ]
    },
    {
     "name": "stdout",
     "output_type": "stream",
     "text": [
      "Train finished Global Round: 500\n",
      "(epoch = 2, round = 250, global round = 500), Loss/Training: 0.714859598293753\n",
      "(epoch = 2, round = 250, global round = 500), Accuracy/Training: 52.52821180555556\n",
      "reporting (epoch = 2, round = 250, global round = 500) for aggregation\n",
      "(epoch = 2, round = 250, global round = 500), Loss/Aggregation: 0.6322390913963318\n",
      "(epoch = 2, round = 250, global round = 500), Accuracy/Aggregation: 75.40983606557377\n",
      "Running (epoch = 2, round = 250, global round = 500) for Eval\n",
      "(epoch = 2, round = 250, global round = 500), Loss/Eval: 0.7141350092440306\n",
      "(epoch = 2, round = 250, global round = 500), Accuracy/Eval: 49.894366197183096\n",
      "Current eval accuracy: {'Accuracy': 49.894366197183096}%, Best so far: {'Accuracy': 61.16197183098591}%\n"
     ]
    },
    {
     "name": "stderr",
     "output_type": "stream",
     "text": [
      "Round: 100%|███████████████████████████████████████████████████████████████████████| 250/250 [01:00<00:00,  4.16round/s]\n",
      "Round: 100%|██████████████████████████████████████████████████████████████████████▋| 249/250 [01:00<00:00,  4.43round/s]"
     ]
    },
    {
     "name": "stdout",
     "output_type": "stream",
     "text": [
      "Train finished Global Round: 750\n",
      "(epoch = 3, round = 250, global round = 750), Loss/Training: 0.7073830308241221\n",
      "(epoch = 3, round = 250, global round = 750), Accuracy/Training: 50.86271567891973\n",
      "reporting (epoch = 3, round = 250, global round = 750) for aggregation\n",
      "(epoch = 3, round = 250, global round = 750), Loss/Aggregation: 0.6820715129375458\n",
      "(epoch = 3, round = 250, global round = 750), Accuracy/Aggregation: 73.33333333333333\n",
      "Running (epoch = 3, round = 250, global round = 750) for Eval\n",
      "(epoch = 3, round = 250, global round = 750), Loss/Eval: 0.7516835089242463\n",
      "(epoch = 3, round = 250, global round = 750), Accuracy/Eval: 50.105633802816904\n",
      "Current eval accuracy: {'Accuracy': 50.105633802816904}%, Best so far: {'Accuracy': 61.16197183098591}%\n"
     ]
    },
    {
     "name": "stderr",
     "output_type": "stream",
     "text": [
      "Round: 100%|███████████████████████████████████████████████████████████████████████| 250/250 [01:03<00:00,  3.92round/s]\n",
      "Round: 100%|██████████████████████████████████████████████████████████████████████▋| 249/250 [00:58<00:00,  4.30round/s]"
     ]
    },
    {
     "name": "stdout",
     "output_type": "stream",
     "text": [
      "Train finished Global Round: 1000\n",
      "(epoch = 4, round = 250, global round = 1000), Loss/Training: 0.7104391071417889\n",
      "(epoch = 4, round = 250, global round = 1000), Accuracy/Training: 50.16443762332822\n",
      "reporting (epoch = 4, round = 250, global round = 1000) for aggregation\n",
      "(epoch = 4, round = 250, global round = 1000), Loss/Aggregation: 0.7395897269248962\n",
      "(epoch = 4, round = 250, global round = 1000), Accuracy/Aggregation: 38.297872340425535\n",
      "Running (epoch = 4, round = 250, global round = 1000) for Eval\n",
      "(epoch = 4, round = 250, global round = 1000), Loss/Eval: 0.7055627936777512\n",
      "(epoch = 4, round = 250, global round = 1000), Accuracy/Eval: 50.105633802816904\n",
      "Current eval accuracy: {'Accuracy': 50.105633802816904}%, Best so far: {'Accuracy': 61.16197183098591}%\n"
     ]
    },
    {
     "name": "stderr",
     "output_type": "stream",
     "text": [
      "Round: 100%|███████████████████████████████████████████████████████████████████████| 250/250 [01:01<00:00,  4.03round/s]\n",
      "Round: 100%|██████████████████████████████████████████████████████████████████████▋| 249/250 [00:54<00:00,  4.61round/s]"
     ]
    },
    {
     "name": "stdout",
     "output_type": "stream",
     "text": [
      "Train finished Global Round: 1250\n",
      "(epoch = 5, round = 250, global round = 1250), Loss/Training: 0.7095299625609981\n",
      "(epoch = 5, round = 250, global round = 1250), Accuracy/Training: 50.99066271919836\n",
      "reporting (epoch = 5, round = 250, global round = 1250) for aggregation\n",
      "(epoch = 5, round = 250, global round = 1250), Loss/Aggregation: 0.686604255437851\n",
      "(epoch = 5, round = 250, global round = 1250), Accuracy/Aggregation: 47.72727272727273\n",
      "Running (epoch = 5, round = 250, global round = 1250) for Eval\n",
      "(epoch = 5, round = 250, global round = 1250), Loss/Eval: 0.6947751524598542\n",
      "(epoch = 5, round = 250, global round = 1250), Accuracy/Eval: 49.894366197183096\n",
      "Current eval accuracy: {'Accuracy': 49.894366197183096}%, Best so far: {'Accuracy': 61.16197183098591}%\n"
     ]
    },
    {
     "name": "stderr",
     "output_type": "stream",
     "text": [
      "Round: 100%|███████████████████████████████████████████████████████████████████████| 250/250 [00:57<00:00,  4.34round/s]\n",
      "Round: 100%|██████████████████████████████████████████████████████████████████████▋| 249/250 [00:57<00:00,  4.45round/s]"
     ]
    },
    {
     "name": "stdout",
     "output_type": "stream",
     "text": [
      "Train finished Global Round: 1500\n",
      "(epoch = 6, round = 250, global round = 1500), Loss/Training: 0.755542292290985\n",
      "(epoch = 6, round = 250, global round = 1500), Accuracy/Training: 52.20433092726263\n",
      "reporting (epoch = 6, round = 250, global round = 1500) for aggregation\n",
      "(epoch = 6, round = 250, global round = 1500), Loss/Aggregation: 0.673335075378418\n",
      "(epoch = 6, round = 250, global round = 1500), Accuracy/Aggregation: 78.125\n",
      "Running (epoch = 6, round = 250, global round = 1500) for Eval\n",
      "(epoch = 6, round = 250, global round = 1500), Loss/Eval: 0.6961719557027285\n",
      "(epoch = 6, round = 250, global round = 1500), Accuracy/Eval: 49.894366197183096\n",
      "Current eval accuracy: {'Accuracy': 49.894366197183096}%, Best so far: {'Accuracy': 61.16197183098591}%\n"
     ]
    },
    {
     "name": "stderr",
     "output_type": "stream",
     "text": [
      "Round: 100%|███████████████████████████████████████████████████████████████████████| 250/250 [01:00<00:00,  4.15round/s]\n",
      "Round: 100%|██████████████████████████████████████████████████████████████████████▋| 249/250 [00:56<00:00,  4.62round/s]"
     ]
    },
    {
     "name": "stdout",
     "output_type": "stream",
     "text": [
      "Train finished Global Round: 1750\n",
      "(epoch = 7, round = 250, global round = 1750), Loss/Training: 0.7206217759581591\n",
      "(epoch = 7, round = 250, global round = 1750), Accuracy/Training: 50.43218439867677\n",
      "reporting (epoch = 7, round = 250, global round = 1750) for aggregation\n",
      "(epoch = 7, round = 250, global round = 1750), Loss/Aggregation: 0.6157179832458496\n",
      "(epoch = 7, round = 250, global round = 1750), Accuracy/Aggregation: 77.77777777777777\n",
      "Running (epoch = 7, round = 250, global round = 1750) for Eval\n",
      "(epoch = 7, round = 250, global round = 1750), Loss/Eval: 0.7229990760604875\n",
      "(epoch = 7, round = 250, global round = 1750), Accuracy/Eval: 50.105633802816904\n",
      "Current eval accuracy: {'Accuracy': 50.105633802816904}%, Best so far: {'Accuracy': 61.16197183098591}%\n"
     ]
    },
    {
     "name": "stderr",
     "output_type": "stream",
     "text": [
      "Round: 100%|███████████████████████████████████████████████████████████████████████| 250/250 [00:59<00:00,  4.21round/s]\n",
      "Round: 100%|██████████████████████████████████████████████████████████████████████▋| 249/250 [00:54<00:00,  4.56round/s]"
     ]
    },
    {
     "name": "stdout",
     "output_type": "stream",
     "text": [
      "Train finished Global Round: 2000\n",
      "(epoch = 8, round = 250, global round = 2000), Loss/Training: 1.6672195432999177\n",
      "(epoch = 8, round = 250, global round = 2000), Accuracy/Training: 50.88244732056904\n",
      "reporting (epoch = 8, round = 250, global round = 2000) for aggregation\n",
      "(epoch = 8, round = 250, global round = 2000), Loss/Aggregation: 0.9349944509565831\n",
      "(epoch = 8, round = 250, global round = 2000), Accuracy/Aggregation: 69.56521739130434\n",
      "Running (epoch = 8, round = 250, global round = 2000) for Eval\n",
      "(epoch = 8, round = 250, global round = 2000), Loss/Eval: 1.2802745041273447\n",
      "(epoch = 8, round = 250, global round = 2000), Accuracy/Eval: 50.105633802816904\n",
      "Current eval accuracy: {'Accuracy': 50.105633802816904}%, Best so far: {'Accuracy': 61.16197183098591}%\n"
     ]
    },
    {
     "name": "stderr",
     "output_type": "stream",
     "text": [
      "Round: 100%|███████████████████████████████████████████████████████████████████████| 250/250 [00:57<00:00,  4.34round/s]\n",
      "Round: 100%|██████████████████████████████████████████████████████████████████████▋| 249/250 [00:56<00:00,  4.14round/s]"
     ]
    },
    {
     "name": "stdout",
     "output_type": "stream",
     "text": [
      "Train finished Global Round: 2250\n",
      "(epoch = 9, round = 250, global round = 2250), Loss/Training: 0.920388756125323\n",
      "(epoch = 9, round = 250, global round = 2250), Accuracy/Training: 51.1167688924893\n",
      "reporting (epoch = 9, round = 250, global round = 2250) for aggregation\n",
      "(epoch = 9, round = 250, global round = 2250), Loss/Aggregation: 0.6500997394323349\n",
      "(epoch = 9, round = 250, global round = 2250), Accuracy/Aggregation: 56.52173913043478\n",
      "Running (epoch = 9, round = 250, global round = 2250) for Eval\n",
      "(epoch = 9, round = 250, global round = 2250), Loss/Eval: 0.7315871912823161\n",
      "(epoch = 9, round = 250, global round = 2250), Accuracy/Eval: 49.82394366197183\n",
      "Current eval accuracy: {'Accuracy': 49.82394366197183}%, Best so far: {'Accuracy': 61.16197183098591}%\n"
     ]
    },
    {
     "name": "stderr",
     "output_type": "stream",
     "text": [
      "Round: 100%|███████████████████████████████████████████████████████████████████████| 250/250 [00:59<00:00,  4.20round/s]\n",
      "Round: 100%|██████████████████████████████████████████████████████████████████████▋| 249/250 [00:57<00:00,  4.37round/s]"
     ]
    },
    {
     "name": "stdout",
     "output_type": "stream",
     "text": [
      "Train finished Global Round: 2500\n",
      "(epoch = 10, round = 250, global round = 2500), Loss/Training: 0.838747284702627\n",
      "(epoch = 10, round = 250, global round = 2500), Accuracy/Training: 52.110817941952504\n",
      "reporting (epoch = 10, round = 250, global round = 2500) for aggregation\n",
      "(epoch = 10, round = 250, global round = 2500), Loss/Aggregation: 0.593777348101139\n",
      "(epoch = 10, round = 250, global round = 2500), Accuracy/Aggregation: 65.38461538461539\n",
      "Running (epoch = 10, round = 250, global round = 2500) for Eval\n",
      "(epoch = 10, round = 250, global round = 2500), Loss/Eval: 0.8198764330344749\n",
      "(epoch = 10, round = 250, global round = 2500), Accuracy/Eval: 50.528169014084504\n",
      "Current eval accuracy: {'Accuracy': 50.528169014084504}%, Best so far: {'Accuracy': 61.16197183098591}%\n"
     ]
    },
    {
     "name": "stderr",
     "output_type": "stream",
     "text": [
      "Round: 100%|███████████████████████████████████████████████████████████████████████| 250/250 [01:00<00:00,  4.12round/s]\n",
      "Round: 100%|██████████████████████████████████████████████████████████████████████▋| 249/250 [00:57<00:00,  4.64round/s]"
     ]
    },
    {
     "name": "stdout",
     "output_type": "stream",
     "text": [
      "Train finished Global Round: 2750\n",
      "(epoch = 11, round = 250, global round = 2750), Loss/Training: 0.8278648597981302\n",
      "(epoch = 11, round = 250, global round = 2750), Accuracy/Training: 51.080699467796244\n",
      "reporting (epoch = 11, round = 250, global round = 2750) for aggregation\n",
      "(epoch = 11, round = 250, global round = 2750), Loss/Aggregation: 0.6732273638248444\n",
      "(epoch = 11, round = 250, global round = 2750), Accuracy/Aggregation: 55.10204081632653\n",
      "Running (epoch = 11, round = 250, global round = 2750) for Eval\n",
      "(epoch = 11, round = 250, global round = 2750), Loss/Eval: 0.7152282683857942\n",
      "(epoch = 11, round = 250, global round = 2750), Accuracy/Eval: 49.225352112676056\n",
      "Current eval accuracy: {'Accuracy': 49.225352112676056}%, Best so far: {'Accuracy': 61.16197183098591}%\n"
     ]
    },
    {
     "name": "stderr",
     "output_type": "stream",
     "text": [
      "Round: 100%|███████████████████████████████████████████████████████████████████████| 250/250 [01:00<00:00,  4.14round/s]\n",
      "Round: 100%|██████████████████████████████████████████████████████████████████████▋| 249/250 [00:54<00:00,  4.65round/s]"
     ]
    },
    {
     "name": "stdout",
     "output_type": "stream",
     "text": [
      "Train finished Global Round: 3000\n",
      "(epoch = 12, round = 250, global round = 3000), Loss/Training: 0.8085124665086322\n",
      "(epoch = 12, round = 250, global round = 3000), Accuracy/Training: 51.411268519519844\n",
      "reporting (epoch = 12, round = 250, global round = 3000) for aggregation\n",
      "(epoch = 12, round = 250, global round = 3000), Loss/Aggregation: 0.6929339706897736\n",
      "(epoch = 12, round = 250, global round = 3000), Accuracy/Aggregation: 64.70588235294117\n",
      "Running (epoch = 12, round = 250, global round = 3000) for Eval\n",
      "(epoch = 12, round = 250, global round = 3000), Loss/Eval: 0.7673904008407264\n",
      "(epoch = 12, round = 250, global round = 3000), Accuracy/Eval: 49.436619718309856\n",
      "Current eval accuracy: {'Accuracy': 49.436619718309856}%, Best so far: {'Accuracy': 61.16197183098591}%\n"
     ]
    },
    {
     "name": "stderr",
     "output_type": "stream",
     "text": [
      "Round: 100%|███████████████████████████████████████████████████████████████████████| 250/250 [00:57<00:00,  4.33round/s]\n",
      "Round: 100%|██████████████████████████████████████████████████████████████████████▋| 249/250 [00:55<00:00,  4.68round/s]"
     ]
    },
    {
     "name": "stdout",
     "output_type": "stream",
     "text": [
      "Train finished Global Round: 3250\n",
      "(epoch = 13, round = 250, global round = 3250), Loss/Training: 0.7683825323604868\n",
      "(epoch = 13, round = 250, global round = 3250), Accuracy/Training: 51.70672813083086\n",
      "reporting (epoch = 13, round = 250, global round = 3250) for aggregation\n",
      "(epoch = 13, round = 250, global round = 3250), Loss/Aggregation: 0.5550640016794205\n",
      "(epoch = 13, round = 250, global round = 3250), Accuracy/Aggregation: 66.66666666666667\n",
      "Running (epoch = 13, round = 250, global round = 3250) for Eval\n",
      "(epoch = 13, round = 250, global round = 3250), Loss/Eval: 0.7422308925041653\n",
      "(epoch = 13, round = 250, global round = 3250), Accuracy/Eval: 50.985915492957744\n",
      "Current eval accuracy: {'Accuracy': 50.985915492957744}%, Best so far: {'Accuracy': 61.16197183098591}%\n"
     ]
    },
    {
     "name": "stderr",
     "output_type": "stream",
     "text": [
      "Round: 100%|███████████████████████████████████████████████████████████████████████| 250/250 [00:58<00:00,  4.27round/s]\n",
      "Round: 100%|██████████████████████████████████████████████████████████████████████▋| 249/250 [00:55<00:00,  4.67round/s]"
     ]
    },
    {
     "name": "stdout",
     "output_type": "stream",
     "text": [
      "Train finished Global Round: 3500\n",
      "(epoch = 14, round = 250, global round = 3500), Loss/Training: 0.7845364386376251\n",
      "(epoch = 14, round = 250, global round = 3500), Accuracy/Training: 50.753990093560816\n",
      "reporting (epoch = 14, round = 250, global round = 3500) for aggregation\n",
      "(epoch = 14, round = 250, global round = 3500), Loss/Aggregation: 0.7555529028177261\n",
      "(epoch = 14, round = 250, global round = 3500), Accuracy/Aggregation: 49.056603773584904\n",
      "Running (epoch = 14, round = 250, global round = 3500) for Eval\n",
      "(epoch = 14, round = 250, global round = 3500), Loss/Eval: 0.7126639817452459\n",
      "(epoch = 14, round = 250, global round = 3500), Accuracy/Eval: 50.45774647887324\n",
      "Current eval accuracy: {'Accuracy': 50.45774647887324}%, Best so far: {'Accuracy': 61.16197183098591}%\n"
     ]
    },
    {
     "name": "stderr",
     "output_type": "stream",
     "text": [
      "Round: 100%|███████████████████████████████████████████████████████████████████████| 250/250 [00:59<00:00,  4.21round/s]\n",
      "Round: 100%|██████████████████████████████████████████████████████████████████████▋| 249/250 [00:56<00:00,  4.65round/s]"
     ]
    },
    {
     "name": "stdout",
     "output_type": "stream",
     "text": [
      "Train finished Global Round: 3750\n",
      "(epoch = 15, round = 250, global round = 3750), Loss/Training: 0.7674941379997757\n",
      "(epoch = 15, round = 250, global round = 3750), Accuracy/Training: 50.086256469235195\n",
      "reporting (epoch = 15, round = 250, global round = 3750) for aggregation\n",
      "(epoch = 15, round = 250, global round = 3750), Loss/Aggregation: 0.8082675904035568\n",
      "(epoch = 15, round = 250, global round = 3750), Accuracy/Aggregation: 66.66666666666667\n",
      "Running (epoch = 15, round = 250, global round = 3750) for Eval\n",
      "(epoch = 15, round = 250, global round = 3750), Loss/Eval: 0.8420189161442379\n",
      "(epoch = 15, round = 250, global round = 3750), Accuracy/Eval: 50.105633802816904\n",
      "Current eval accuracy: {'Accuracy': 50.105633802816904}%, Best so far: {'Accuracy': 61.16197183098591}%\n"
     ]
    },
    {
     "name": "stderr",
     "output_type": "stream",
     "text": [
      "Round: 100%|███████████████████████████████████████████████████████████████████████| 250/250 [00:59<00:00,  4.23round/s]\n",
      "Round: 100%|██████████████████████████████████████████████████████████████████████▋| 249/250 [00:54<00:00,  4.52round/s]"
     ]
    },
    {
     "name": "stdout",
     "output_type": "stream",
     "text": [
      "Train finished Global Round: 4000\n",
      "(epoch = 16, round = 250, global round = 4000), Loss/Training: 0.746416059782061\n",
      "(epoch = 16, round = 250, global round = 4000), Accuracy/Training: 51.88474870017331\n",
      "reporting (epoch = 16, round = 250, global round = 4000) for aggregation\n",
      "(epoch = 16, round = 250, global round = 4000), Loss/Aggregation: 0.6422007517381148\n",
      "(epoch = 16, round = 250, global round = 4000), Accuracy/Aggregation: 63.1578947368421\n",
      "Running (epoch = 16, round = 250, global round = 4000) for Eval\n",
      "(epoch = 16, round = 250, global round = 4000), Loss/Eval: 0.7282635210820866\n",
      "(epoch = 16, round = 250, global round = 4000), Accuracy/Eval: 50.38732394366197\n",
      "Current eval accuracy: {'Accuracy': 50.38732394366197}%, Best so far: {'Accuracy': 61.16197183098591}%\n"
     ]
    },
    {
     "name": "stderr",
     "output_type": "stream",
     "text": [
      "Round: 100%|██████████████████████████████████████████████████████████████████████▋| 249/250 [00:57<00:00,  4.32round/s]\n",
      "Epoch:  94%|████████████████████████████████████████████████████████████████████▍    | 15/16 [15:52<01:03, 63.51s/epoch]"
     ]
    },
    {
     "name": "stdout",
     "output_type": "stream",
     "text": [
      "Running (epoch = 1, round = 1, global round = 1) for Test\n"
     ]
    },
    {
     "name": "stderr",
     "output_type": "stream",
     "text": [
      "\n",
      " 84%|██████████████████████████████▉      | 334.0/400 [5:35:16<1:05:56, 59.95s/it, min_score=-60.4, models_evaluated=60]"
     ]
    },
    {
     "name": "stdout",
     "output_type": "stream",
     "text": [
      "(epoch = 1, round = 1, global round = 1), Loss/Test: 0.7282635211299042\n",
      "(epoch = 1, round = 1, global round = 1), Accuracy/Test: 50.38732394366197\n"
     ]
    },
    {
     "name": "stderr",
     "output_type": "stream",
     "text": [
      "Round: 100%|██████████████████████████████████████████████████████████████████████▋| 249/250 [00:54<00:00,  4.62round/s]"
     ]
    },
    {
     "name": "stdout",
     "output_type": "stream",
     "text": [
      "Train finished Global Round: 250\n",
      "(epoch = 1, round = 250, global round = 250), Loss/Training: 0.7488557605250128\n",
      "(epoch = 1, round = 250, global round = 250), Accuracy/Training: 49.93384785005512\n",
      "reporting (epoch = 1, round = 250, global round = 250) for aggregation\n",
      "(epoch = 1, round = 250, global round = 250), Loss/Aggregation: 0.6621486097574234\n",
      "(epoch = 1, round = 250, global round = 250), Accuracy/Aggregation: 61.53846153846154\n",
      "Running (epoch = 1, round = 250, global round = 250) for Eval\n",
      "(epoch = 1, round = 250, global round = 250), Loss/Eval: 0.763421732010346\n",
      "(epoch = 1, round = 250, global round = 250), Accuracy/Eval: 49.894366197183096\n",
      "Current eval accuracy: {'Accuracy': 49.894366197183096}%, Best so far: {'Accuracy': 61.16197183098591}%\n"
     ]
    },
    {
     "name": "stderr",
     "output_type": "stream",
     "text": [
      "Round: 100%|███████████████████████████████████████████████████████████████████████| 250/250 [00:58<00:00,  4.28round/s]\n",
      "Round: 100%|██████████████████████████████████████████████████████████████████████▋| 249/250 [00:57<00:00,  4.43round/s]"
     ]
    },
    {
     "name": "stdout",
     "output_type": "stream",
     "text": [
      "Train finished Global Round: 500\n",
      "(epoch = 2, round = 250, global round = 500), Loss/Training: 0.7272466393043222\n",
      "(epoch = 2, round = 250, global round = 500), Accuracy/Training: 51.46924829157175\n",
      "reporting (epoch = 2, round = 250, global round = 500) for aggregation\n",
      "(epoch = 2, round = 250, global round = 500), Loss/Aggregation: 0.6899784922599792\n",
      "(epoch = 2, round = 250, global round = 500), Accuracy/Aggregation: 62.06896551724138\n",
      "Running (epoch = 2, round = 250, global round = 500) for Eval\n",
      "(epoch = 2, round = 250, global round = 500), Loss/Eval: 0.6936451633723443\n",
      "(epoch = 2, round = 250, global round = 500), Accuracy/Eval: 49.71830985915493\n",
      "Current eval accuracy: {'Accuracy': 49.71830985915493}%, Best so far: {'Accuracy': 61.16197183098591}%\n"
     ]
    },
    {
     "name": "stderr",
     "output_type": "stream",
     "text": [
      "Round: 100%|███████████████████████████████████████████████████████████████████████| 250/250 [01:00<00:00,  4.12round/s]\n",
      "Round: 100%|██████████████████████████████████████████████████████████████████████▋| 249/250 [01:03<00:00,  4.42round/s]"
     ]
    },
    {
     "name": "stdout",
     "output_type": "stream",
     "text": [
      "Train finished Global Round: 750\n",
      "(epoch = 3, round = 250, global round = 750), Loss/Training: 0.7141211224655806\n",
      "(epoch = 3, round = 250, global round = 750), Accuracy/Training: 52.03507252652089\n",
      "reporting (epoch = 3, round = 250, global round = 750) for aggregation\n",
      "(epoch = 3, round = 250, global round = 750), Loss/Aggregation: 0.7115953624248504\n",
      "(epoch = 3, round = 250, global round = 750), Accuracy/Aggregation: 52.11267605633803\n",
      "Running (epoch = 3, round = 250, global round = 750) for Eval\n",
      "(epoch = 3, round = 250, global round = 750), Loss/Eval: 0.6975318136293631\n",
      "(epoch = 3, round = 250, global round = 750), Accuracy/Eval: 50.105633802816904\n",
      "Current eval accuracy: {'Accuracy': 50.105633802816904}%, Best so far: {'Accuracy': 61.16197183098591}%\n"
     ]
    },
    {
     "name": "stderr",
     "output_type": "stream",
     "text": [
      "Round: 100%|███████████████████████████████████████████████████████████████████████| 250/250 [01:06<00:00,  3.77round/s]\n",
      "Round: 100%|██████████████████████████████████████████████████████████████████████▋| 249/250 [00:58<00:00,  4.40round/s]"
     ]
    },
    {
     "name": "stdout",
     "output_type": "stream",
     "text": [
      "Train finished Global Round: 1000\n",
      "(epoch = 4, round = 250, global round = 1000), Loss/Training: 0.6977629896269589\n",
      "(epoch = 4, round = 250, global round = 1000), Accuracy/Training: 50.76136610833152\n",
      "reporting (epoch = 4, round = 250, global round = 1000) for aggregation\n",
      "(epoch = 4, round = 250, global round = 1000), Loss/Aggregation: 0.7205204546451569\n",
      "(epoch = 4, round = 250, global round = 1000), Accuracy/Aggregation: 55.26315789473684\n",
      "Running (epoch = 4, round = 250, global round = 1000) for Eval\n",
      "(epoch = 4, round = 250, global round = 1000), Loss/Eval: 0.7021473168226977\n",
      "(epoch = 4, round = 250, global round = 1000), Accuracy/Eval: 50.105633802816904\n",
      "Current eval accuracy: {'Accuracy': 50.105633802816904}%, Best so far: {'Accuracy': 61.16197183098591}%\n"
     ]
    },
    {
     "name": "stderr",
     "output_type": "stream",
     "text": [
      "Round: 100%|███████████████████████████████████████████████████████████████████████| 250/250 [01:02<00:00,  4.02round/s]\n",
      "Round: 100%|██████████████████████████████████████████████████████████████████████▋| 249/250 [00:55<00:00,  4.44round/s]"
     ]
    },
    {
     "name": "stdout",
     "output_type": "stream",
     "text": [
      "Train finished Global Round: 1250\n",
      "(epoch = 5, round = 250, global round = 1250), Loss/Training: 0.95530675233887\n",
      "(epoch = 5, round = 250, global round = 1250), Accuracy/Training: 52.245599838154966\n",
      "reporting (epoch = 5, round = 250, global round = 1250) for aggregation\n",
      "(epoch = 5, round = 250, global round = 1250), Loss/Aggregation: 0.6770971796729348\n",
      "(epoch = 5, round = 250, global round = 1250), Accuracy/Aggregation: 73.17073170731707\n",
      "Running (epoch = 5, round = 250, global round = 1250) for Eval\n",
      "(epoch = 5, round = 250, global round = 1250), Loss/Eval: 0.7147731472582306\n",
      "(epoch = 5, round = 250, global round = 1250), Accuracy/Eval: 49.894366197183096\n",
      "Current eval accuracy: {'Accuracy': 49.894366197183096}%, Best so far: {'Accuracy': 61.16197183098591}%\n"
     ]
    },
    {
     "name": "stderr",
     "output_type": "stream",
     "text": [
      "Round: 100%|███████████████████████████████████████████████████████████████████████| 250/250 [00:58<00:00,  4.30round/s]\n",
      "Round: 100%|██████████████████████████████████████████████████████████████████████▋| 249/250 [00:54<00:00,  4.59round/s]"
     ]
    },
    {
     "name": "stdout",
     "output_type": "stream",
     "text": [
      "Train finished Global Round: 1500\n",
      "(epoch = 6, round = 250, global round = 1500), Loss/Training: 0.8143904844544325\n",
      "(epoch = 6, round = 250, global round = 1500), Accuracy/Training: 51.17365790045642\n",
      "reporting (epoch = 6, round = 250, global round = 1500) for aggregation\n",
      "(epoch = 6, round = 250, global round = 1500), Loss/Aggregation: 0.6970655798912049\n",
      "(epoch = 6, round = 250, global round = 1500), Accuracy/Aggregation: 44.11764705882353\n",
      "Running (epoch = 6, round = 250, global round = 1500) for Eval\n",
      "(epoch = 6, round = 250, global round = 1500), Loss/Eval: 0.6942983717981516\n",
      "(epoch = 6, round = 250, global round = 1500), Accuracy/Eval: 49.57746478873239\n",
      "Current eval accuracy: {'Accuracy': 49.57746478873239}%, Best so far: {'Accuracy': 61.16197183098591}%\n"
     ]
    },
    {
     "name": "stderr",
     "output_type": "stream",
     "text": [
      "Round: 100%|███████████████████████████████████████████████████████████████████████| 250/250 [00:57<00:00,  4.32round/s]\n",
      "Round: 100%|██████████████████████████████████████████████████████████████████████▋| 249/250 [00:57<00:00,  4.41round/s]"
     ]
    },
    {
     "name": "stdout",
     "output_type": "stream",
     "text": [
      "Train finished Global Round: 1750\n",
      "(epoch = 7, round = 250, global round = 1750), Loss/Training: 0.7713278628779393\n",
      "(epoch = 7, round = 250, global round = 1750), Accuracy/Training: 50.44089742158723\n",
      "reporting (epoch = 7, round = 250, global round = 1750) for aggregation\n",
      "(epoch = 7, round = 250, global round = 1750), Loss/Aggregation: 0.6218263642354445\n",
      "(epoch = 7, round = 250, global round = 1750), Accuracy/Aggregation: 62.6865671641791\n",
      "Running (epoch = 7, round = 250, global round = 1750) for Eval\n",
      "(epoch = 7, round = 250, global round = 1750), Loss/Eval: 0.8220279217184762\n",
      "(epoch = 7, round = 250, global round = 1750), Accuracy/Eval: 50.0\n",
      "Current eval accuracy: {'Accuracy': 50.0}%, Best so far: {'Accuracy': 61.16197183098591}%\n"
     ]
    },
    {
     "name": "stderr",
     "output_type": "stream",
     "text": [
      "Round: 100%|███████████████████████████████████████████████████████████████████████| 250/250 [01:01<00:00,  4.07round/s]\n",
      "Round: 100%|██████████████████████████████████████████████████████████████████████▋| 249/250 [00:55<00:00,  4.61round/s]"
     ]
    },
    {
     "name": "stdout",
     "output_type": "stream",
     "text": [
      "Train finished Global Round: 2000\n",
      "(epoch = 8, round = 250, global round = 2000), Loss/Training: 0.7385220199882511\n",
      "(epoch = 8, round = 250, global round = 2000), Accuracy/Training: 50.09049773755656\n",
      "reporting (epoch = 8, round = 250, global round = 2000) for aggregation\n",
      "(epoch = 8, round = 250, global round = 2000), Loss/Aggregation: 0.6685260593891144\n",
      "(epoch = 8, round = 250, global round = 2000), Accuracy/Aggregation: 57.142857142857146\n",
      "Running (epoch = 8, round = 250, global round = 2000) for Eval\n",
      "(epoch = 8, round = 250, global round = 2000), Loss/Eval: 0.7002175126121649\n",
      "(epoch = 8, round = 250, global round = 2000), Accuracy/Eval: 51.76056338028169\n",
      "Current eval accuracy: {'Accuracy': 51.76056338028169}%, Best so far: {'Accuracy': 61.16197183098591}%\n"
     ]
    },
    {
     "name": "stderr",
     "output_type": "stream",
     "text": [
      "Round: 100%|███████████████████████████████████████████████████████████████████████| 250/250 [00:58<00:00,  4.27round/s]\n",
      "Round: 100%|██████████████████████████████████████████████████████████████████████▋| 249/250 [00:54<00:00,  4.65round/s]"
     ]
    },
    {
     "name": "stdout",
     "output_type": "stream",
     "text": [
      "Train finished Global Round: 2250\n",
      "(epoch = 9, round = 250, global round = 2250), Loss/Training: 0.7332428167229241\n",
      "(epoch = 9, round = 250, global round = 2250), Accuracy/Training: 50.424808836023786\n",
      "reporting (epoch = 9, round = 250, global round = 2250) for aggregation\n",
      "(epoch = 9, round = 250, global round = 2250), Loss/Aggregation: 0.6277086049318313\n",
      "(epoch = 9, round = 250, global round = 2250), Accuracy/Aggregation: 51.31578947368421\n",
      "Running (epoch = 9, round = 250, global round = 2250) for Eval\n",
      "(epoch = 9, round = 250, global round = 2250), Loss/Eval: 0.7156599759935998\n",
      "(epoch = 9, round = 250, global round = 2250), Accuracy/Eval: 49.61267605633803\n",
      "Current eval accuracy: {'Accuracy': 49.61267605633803}%, Best so far: {'Accuracy': 61.16197183098591}%\n"
     ]
    },
    {
     "name": "stderr",
     "output_type": "stream",
     "text": [
      "Round: 100%|███████████████████████████████████████████████████████████████████████| 250/250 [00:57<00:00,  4.35round/s]\n",
      "Round: 100%|██████████████████████████████████████████████████████████████████████▋| 249/250 [00:54<00:00,  4.67round/s]"
     ]
    },
    {
     "name": "stdout",
     "output_type": "stream",
     "text": [
      "Train finished Global Round: 2500\n",
      "(epoch = 10, round = 250, global round = 2500), Loss/Training: 0.7385754096986992\n",
      "(epoch = 10, round = 250, global round = 2500), Accuracy/Training: 51.24814772597743\n",
      "reporting (epoch = 10, round = 250, global round = 2500) for aggregation\n",
      "(epoch = 10, round = 250, global round = 2500), Loss/Aggregation: 0.7009940385818482\n",
      "(epoch = 10, round = 250, global round = 2500), Accuracy/Aggregation: 54.285714285714285\n",
      "Running (epoch = 10, round = 250, global round = 2500) for Eval\n",
      "(epoch = 10, round = 250, global round = 2500), Loss/Eval: 0.6934444327407987\n",
      "(epoch = 10, round = 250, global round = 2500), Accuracy/Eval: 50.598591549295776\n",
      "Current eval accuracy: {'Accuracy': 50.598591549295776}%, Best so far: {'Accuracy': 61.16197183098591}%\n"
     ]
    },
    {
     "name": "stderr",
     "output_type": "stream",
     "text": [
      "Round: 100%|███████████████████████████████████████████████████████████████████████| 250/250 [00:57<00:00,  4.34round/s]\n",
      "Round: 100%|██████████████████████████████████████████████████████████████████████▋| 249/250 [00:57<00:00,  4.43round/s]"
     ]
    },
    {
     "name": "stdout",
     "output_type": "stream",
     "text": [
      "Train finished Global Round: 2750\n",
      "(epoch = 11, round = 250, global round = 2750), Loss/Training: 0.7370688449569268\n",
      "(epoch = 11, round = 250, global round = 2750), Accuracy/Training: 51.76444640494045\n",
      "reporting (epoch = 11, round = 250, global round = 2750) for aggregation\n",
      "(epoch = 11, round = 250, global round = 2750), Loss/Aggregation: 0.6736654371023179\n",
      "(epoch = 11, round = 250, global round = 2750), Accuracy/Aggregation: 62.0\n",
      "Running (epoch = 11, round = 250, global round = 2750) for Eval\n",
      "(epoch = 11, round = 250, global round = 2750), Loss/Eval: 0.7149369465004141\n",
      "(epoch = 11, round = 250, global round = 2750), Accuracy/Eval: 49.471830985915496\n",
      "Current eval accuracy: {'Accuracy': 49.471830985915496}%, Best so far: {'Accuracy': 61.16197183098591}%\n"
     ]
    },
    {
     "name": "stderr",
     "output_type": "stream",
     "text": [
      "Round: 100%|███████████████████████████████████████████████████████████████████████| 250/250 [01:00<00:00,  4.15round/s]\n",
      "Round: 100%|██████████████████████████████████████████████████████████████████████▋| 249/250 [00:54<00:00,  4.63round/s]"
     ]
    },
    {
     "name": "stdout",
     "output_type": "stream",
     "text": [
      "Train finished Global Round: 3000\n",
      "(epoch = 12, round = 250, global round = 3000), Loss/Training: 0.7324081799935682\n",
      "(epoch = 12, round = 250, global round = 3000), Accuracy/Training: 50.92974056341165\n",
      "reporting (epoch = 12, round = 250, global round = 3000) for aggregation\n",
      "(epoch = 12, round = 250, global round = 3000), Loss/Aggregation: 0.6327874064445496\n",
      "(epoch = 12, round = 250, global round = 3000), Accuracy/Aggregation: 71.42857142857143\n",
      "Running (epoch = 12, round = 250, global round = 3000) for Eval\n",
      "(epoch = 12, round = 250, global round = 3000), Loss/Eval: 0.7014302432752259\n",
      "(epoch = 12, round = 250, global round = 3000), Accuracy/Eval: 50.316901408450704\n",
      "Current eval accuracy: {'Accuracy': 50.316901408450704}%, Best so far: {'Accuracy': 61.16197183098591}%\n"
     ]
    },
    {
     "name": "stderr",
     "output_type": "stream",
     "text": [
      "Round: 100%|███████████████████████████████████████████████████████████████████████| 250/250 [00:57<00:00,  4.36round/s]\n",
      "Round: 100%|██████████████████████████████████████████████████████████████████████▋| 249/250 [00:55<00:00,  4.58round/s]"
     ]
    },
    {
     "name": "stdout",
     "output_type": "stream",
     "text": [
      "Train finished Global Round: 3250\n",
      "(epoch = 13, round = 250, global round = 3250), Loss/Training: 0.7373974060841285\n",
      "(epoch = 13, round = 250, global round = 3250), Accuracy/Training: 49.60950764006791\n",
      "reporting (epoch = 13, round = 250, global round = 3250) for aggregation\n",
      "(epoch = 13, round = 250, global round = 3250), Loss/Aggregation: 0.6671828150749206\n",
      "(epoch = 13, round = 250, global round = 3250), Accuracy/Aggregation: 62.264150943396224\n",
      "Running (epoch = 13, round = 250, global round = 3250) for Eval\n",
      "(epoch = 13, round = 250, global round = 3250), Loss/Eval: 0.6943539957468451\n",
      "(epoch = 13, round = 250, global round = 3250), Accuracy/Eval: 50.528169014084504\n",
      "Current eval accuracy: {'Accuracy': 50.528169014084504}%, Best so far: {'Accuracy': 61.16197183098591}%\n"
     ]
    },
    {
     "name": "stderr",
     "output_type": "stream",
     "text": [
      "Round: 100%|███████████████████████████████████████████████████████████████████████| 250/250 [00:58<00:00,  4.30round/s]\n",
      "Round: 100%|██████████████████████████████████████████████████████████████████████▋| 249/250 [01:00<00:00,  4.42round/s]"
     ]
    },
    {
     "name": "stdout",
     "output_type": "stream",
     "text": [
      "Train finished Global Round: 3500\n",
      "(epoch = 14, round = 250, global round = 3500), Loss/Training: 0.7256973861354813\n",
      "(epoch = 14, round = 250, global round = 3500), Accuracy/Training: 51.81981221647853\n",
      "reporting (epoch = 14, round = 250, global round = 3500) for aggregation\n",
      "(epoch = 14, round = 250, global round = 3500), Loss/Aggregation: 0.7243093684315681\n",
      "(epoch = 14, round = 250, global round = 3500), Accuracy/Aggregation: 57.69230769230769\n",
      "Running (epoch = 14, round = 250, global round = 3500) for Eval\n",
      "(epoch = 14, round = 250, global round = 3500), Loss/Eval: 0.7581284797507216\n",
      "(epoch = 14, round = 250, global round = 3500), Accuracy/Eval: 49.894366197183096\n",
      "Current eval accuracy: {'Accuracy': 49.894366197183096}%, Best so far: {'Accuracy': 61.16197183098591}%\n"
     ]
    },
    {
     "name": "stderr",
     "output_type": "stream",
     "text": [
      "Round: 100%|███████████████████████████████████████████████████████████████████████| 250/250 [01:03<00:00,  3.94round/s]\n",
      "Round: 100%|██████████████████████████████████████████████████████████████████████▋| 249/250 [00:57<00:00,  4.60round/s]"
     ]
    },
    {
     "name": "stdout",
     "output_type": "stream",
     "text": [
      "Train finished Global Round: 3750\n",
      "(epoch = 15, round = 250, global round = 3750), Loss/Training: 0.740338463900712\n",
      "(epoch = 15, round = 250, global round = 3750), Accuracy/Training: 49.73491257755217\n",
      "reporting (epoch = 15, round = 250, global round = 3750) for aggregation\n",
      "(epoch = 15, round = 250, global round = 3750), Loss/Aggregation: 0.6333247802474282\n",
      "(epoch = 15, round = 250, global round = 3750), Accuracy/Aggregation: 49.20634920634921\n",
      "Running (epoch = 15, round = 250, global round = 3750) for Eval\n",
      "(epoch = 15, round = 250, global round = 3750), Loss/Eval: 0.7007910619765173\n",
      "(epoch = 15, round = 250, global round = 3750), Accuracy/Eval: 49.014084507042256\n",
      "Current eval accuracy: {'Accuracy': 49.014084507042256}%, Best so far: {'Accuracy': 61.16197183098591}%\n"
     ]
    },
    {
     "name": "stderr",
     "output_type": "stream",
     "text": [
      "Round: 100%|███████████████████████████████████████████████████████████████████████| 250/250 [01:00<00:00,  4.10round/s]\n",
      "Round: 100%|██████████████████████████████████████████████████████████████████████▋| 249/250 [00:54<00:00,  4.64round/s]"
     ]
    },
    {
     "name": "stdout",
     "output_type": "stream",
     "text": [
      "Train finished Global Round: 4000\n",
      "(epoch = 16, round = 250, global round = 4000), Loss/Training: 0.7248806692867474\n",
      "(epoch = 16, round = 250, global round = 4000), Accuracy/Training: 51.70421721548238\n",
      "reporting (epoch = 16, round = 250, global round = 4000) for aggregation\n",
      "(epoch = 16, round = 250, global round = 4000), Loss/Aggregation: 0.7023012638092041\n",
      "(epoch = 16, round = 250, global round = 4000), Accuracy/Aggregation: 60.0\n",
      "Running (epoch = 16, round = 250, global round = 4000) for Eval\n",
      "(epoch = 16, round = 250, global round = 4000), Loss/Eval: 0.6959999378813925\n",
      "(epoch = 16, round = 250, global round = 4000), Accuracy/Eval: 50.316901408450704\n",
      "Current eval accuracy: {'Accuracy': 50.316901408450704}%, Best so far: {'Accuracy': 61.16197183098591}%\n"
     ]
    },
    {
     "name": "stderr",
     "output_type": "stream",
     "text": [
      "Round: 100%|██████████████████████████████████████████████████████████████████████▋| 249/250 [00:57<00:00,  4.33round/s]\n",
      "Epoch:  94%|████████████████████████████████████████████████████████████████████▍    | 15/16 [15:56<01:03, 63.76s/epoch]"
     ]
    },
    {
     "name": "stdout",
     "output_type": "stream",
     "text": [
      "Running (epoch = 1, round = 1, global round = 1) for Test\n"
     ]
    },
    {
     "name": "stderr",
     "output_type": "stream",
     "text": [
      "\n",
      " 88%|██████████████████████████████████▏    | 350.0/400 [5:51:16<49:58, 59.96s/it, min_score=-60.4, models_evaluated=60]"
     ]
    },
    {
     "name": "stdout",
     "output_type": "stream",
     "text": [
      "(epoch = 1, round = 1, global round = 1), Loss/Test: 0.6959999379770276\n",
      "(epoch = 1, round = 1, global round = 1), Accuracy/Test: 50.316901408450704\n"
     ]
    },
    {
     "name": "stderr",
     "output_type": "stream",
     "text": [
      "Round: 100%|██████████████████████████████████████████████████████████████████████▋| 249/250 [00:58<00:00,  4.48round/s]"
     ]
    },
    {
     "name": "stdout",
     "output_type": "stream",
     "text": [
      "Train finished Global Round: 250\n",
      "(epoch = 1, round = 250, global round = 250), Loss/Training: 0.7362438895235826\n",
      "(epoch = 1, round = 250, global round = 250), Accuracy/Training: 51.72451790633609\n",
      "reporting (epoch = 1, round = 250, global round = 250) for aggregation\n",
      "(epoch = 1, round = 250, global round = 250), Loss/Aggregation: 0.5640654891729355\n",
      "(epoch = 1, round = 250, global round = 250), Accuracy/Aggregation: 84.61538461538461\n",
      "Running (epoch = 1, round = 250, global round = 250) for Eval\n",
      "(epoch = 1, round = 250, global round = 250), Loss/Eval: 0.7555121341970519\n",
      "(epoch = 1, round = 250, global round = 250), Accuracy/Eval: 51.056338028169016\n",
      "Current eval accuracy: {'Accuracy': 51.056338028169016}%, Best so far: {'Accuracy': 61.16197183098591}%\n"
     ]
    },
    {
     "name": "stderr",
     "output_type": "stream",
     "text": [
      "Round: 100%|███████████████████████████████████████████████████████████████████████| 250/250 [01:01<00:00,  4.08round/s]\n",
      "Round: 100%|██████████████████████████████████████████████████████████████████████▋| 249/250 [00:54<00:00,  4.67round/s]"
     ]
    },
    {
     "name": "stdout",
     "output_type": "stream",
     "text": [
      "Train finished Global Round: 500\n",
      "(epoch = 2, round = 250, global round = 500), Loss/Training: 0.730570621998991\n",
      "(epoch = 2, round = 250, global round = 500), Accuracy/Training: 51.446981686638026\n",
      "reporting (epoch = 2, round = 250, global round = 500) for aggregation\n",
      "(epoch = 2, round = 250, global round = 500), Loss/Aggregation: 0.6342638850212097\n",
      "(epoch = 2, round = 250, global round = 500), Accuracy/Aggregation: 71.05263157894737\n",
      "Running (epoch = 2, round = 250, global round = 500) for Eval\n",
      "(epoch = 2, round = 250, global round = 500), Loss/Eval: 0.7038660765566885\n",
      "(epoch = 2, round = 250, global round = 500), Accuracy/Eval: 50.17605633802817\n",
      "Current eval accuracy: {'Accuracy': 50.17605633802817}%, Best so far: {'Accuracy': 61.16197183098591}%\n"
     ]
    },
    {
     "name": "stderr",
     "output_type": "stream",
     "text": [
      "Round: 100%|███████████████████████████████████████████████████████████████████████| 250/250 [00:57<00:00,  4.37round/s]\n",
      "Round: 100%|██████████████████████████████████████████████████████████████████████▋| 249/250 [00:57<00:00,  4.42round/s]"
     ]
    },
    {
     "name": "stdout",
     "output_type": "stream",
     "text": [
      "Train finished Global Round: 750\n",
      "(epoch = 3, round = 250, global round = 750), Loss/Training: 0.7255983431747819\n",
      "(epoch = 3, round = 250, global round = 750), Accuracy/Training: 52.21680336954112\n",
      "reporting (epoch = 3, round = 250, global round = 750) for aggregation\n",
      "(epoch = 3, round = 250, global round = 750), Loss/Aggregation: 0.6172434151172638\n",
      "(epoch = 3, round = 250, global round = 750), Accuracy/Aggregation: 69.6969696969697\n",
      "Running (epoch = 3, round = 250, global round = 750) for Eval\n",
      "(epoch = 3, round = 250, global round = 750), Loss/Eval: 0.7492254345748399\n",
      "(epoch = 3, round = 250, global round = 750), Accuracy/Eval: 48.90845070422535\n",
      "Current eval accuracy: {'Accuracy': 48.90845070422535}%, Best so far: {'Accuracy': 61.16197183098591}%\n"
     ]
    },
    {
     "name": "stderr",
     "output_type": "stream",
     "text": [
      "Round: 100%|███████████████████████████████████████████████████████████████████████| 250/250 [01:00<00:00,  4.12round/s]\n",
      "Round: 100%|██████████████████████████████████████████████████████████████████████▋| 249/250 [00:54<00:00,  4.64round/s]"
     ]
    },
    {
     "name": "stdout",
     "output_type": "stream",
     "text": [
      "Train finished Global Round: 1000\n",
      "(epoch = 4, round = 250, global round = 1000), Loss/Training: 0.7207558372518649\n",
      "(epoch = 4, round = 250, global round = 1000), Accuracy/Training: 51.216476179698994\n",
      "reporting (epoch = 4, round = 250, global round = 1000) for aggregation\n",
      "(epoch = 4, round = 250, global round = 1000), Loss/Aggregation: 0.6931249678134919\n",
      "(epoch = 4, round = 250, global round = 1000), Accuracy/Aggregation: 53.84615384615385\n",
      "Running (epoch = 4, round = 250, global round = 1000) for Eval\n",
      "(epoch = 4, round = 250, global round = 1000), Loss/Eval: 0.701049331490457\n",
      "(epoch = 4, round = 250, global round = 1000), Accuracy/Eval: 48.943661971830984\n",
      "Current eval accuracy: {'Accuracy': 48.943661971830984}%, Best so far: {'Accuracy': 61.16197183098591}%\n"
     ]
    },
    {
     "name": "stderr",
     "output_type": "stream",
     "text": [
      "Round: 100%|███████████████████████████████████████████████████████████████████████| 250/250 [00:57<00:00,  4.36round/s]\n",
      "Round: 100%|██████████████████████████████████████████████████████████████████████▋| 249/250 [00:57<00:00,  4.47round/s]"
     ]
    },
    {
     "name": "stdout",
     "output_type": "stream",
     "text": [
      "Train finished Global Round: 1250\n",
      "(epoch = 5, round = 250, global round = 1250), Loss/Training: 0.710431164238398\n",
      "(epoch = 5, round = 250, global round = 1250), Accuracy/Training: 50.78249036062599\n",
      "reporting (epoch = 5, round = 250, global round = 1250) for aggregation\n",
      "(epoch = 5, round = 250, global round = 1250), Loss/Aggregation: 0.6571597874164581\n",
      "(epoch = 5, round = 250, global round = 1250), Accuracy/Aggregation: 70.37037037037037\n",
      "Running (epoch = 5, round = 250, global round = 1250) for Eval\n",
      "(epoch = 5, round = 250, global round = 1250), Loss/Eval: 0.7028904398951815\n",
      "(epoch = 5, round = 250, global round = 1250), Accuracy/Eval: 50.38732394366197\n",
      "Current eval accuracy: {'Accuracy': 50.38732394366197}%, Best so far: {'Accuracy': 61.16197183098591}%\n"
     ]
    },
    {
     "name": "stderr",
     "output_type": "stream",
     "text": [
      "Round: 100%|███████████████████████████████████████████████████████████████████████| 250/250 [01:00<00:00,  4.16round/s]\n",
      "Round: 100%|██████████████████████████████████████████████████████████████████████▋| 249/250 [00:57<00:00,  4.40round/s]"
     ]
    },
    {
     "name": "stdout",
     "output_type": "stream",
     "text": [
      "Train finished Global Round: 1500\n",
      "(epoch = 6, round = 250, global round = 1500), Loss/Training: 0.7178480460839626\n",
      "(epoch = 6, round = 250, global round = 1500), Accuracy/Training: 50.791242141773246\n",
      "reporting (epoch = 6, round = 250, global round = 1500) for aggregation\n",
      "(epoch = 6, round = 250, global round = 1500), Loss/Aggregation: 0.6558698087930679\n",
      "(epoch = 6, round = 250, global round = 1500), Accuracy/Aggregation: 57.142857142857146\n",
      "Running (epoch = 6, round = 250, global round = 1500) for Eval\n",
      "(epoch = 6, round = 250, global round = 1500), Loss/Eval: 0.7161714770901026\n",
      "(epoch = 6, round = 250, global round = 1500), Accuracy/Eval: 49.33098591549296\n",
      "Current eval accuracy: {'Accuracy': 49.33098591549296}%, Best so far: {'Accuracy': 61.16197183098591}%\n"
     ]
    },
    {
     "name": "stderr",
     "output_type": "stream",
     "text": [
      "Round: 100%|███████████████████████████████████████████████████████████████████████| 250/250 [01:00<00:00,  4.11round/s]\n",
      "Round: 100%|██████████████████████████████████████████████████████████████████████▋| 249/250 [00:55<00:00,  4.65round/s]"
     ]
    },
    {
     "name": "stdout",
     "output_type": "stream",
     "text": [
      "Train finished Global Round: 1750\n",
      "(epoch = 7, round = 250, global round = 1750), Loss/Training: 0.7385921386151052\n",
      "(epoch = 7, round = 250, global round = 1750), Accuracy/Training: 51.8881426841352\n",
      "reporting (epoch = 7, round = 250, global round = 1750) for aggregation\n",
      "(epoch = 7, round = 250, global round = 1750), Loss/Aggregation: 0.6530090630054474\n",
      "(epoch = 7, round = 250, global round = 1750), Accuracy/Aggregation: 50.0\n",
      "Running (epoch = 7, round = 250, global round = 1750) for Eval\n",
      "(epoch = 7, round = 250, global round = 1750), Loss/Eval: 0.6969104378495024\n",
      "(epoch = 7, round = 250, global round = 1750), Accuracy/Eval: 51.16197183098591\n",
      "Current eval accuracy: {'Accuracy': 51.16197183098591}%, Best so far: {'Accuracy': 61.16197183098591}%\n"
     ]
    },
    {
     "name": "stderr",
     "output_type": "stream",
     "text": [
      "Round: 100%|███████████████████████████████████████████████████████████████████████| 250/250 [00:58<00:00,  4.26round/s]\n",
      "Round: 100%|██████████████████████████████████████████████████████████████████████▋| 249/250 [00:58<00:00,  4.65round/s]"
     ]
    },
    {
     "name": "stdout",
     "output_type": "stream",
     "text": [
      "Train finished Global Round: 2000\n",
      "(epoch = 8, round = 250, global round = 2000), Loss/Training: 0.7282212698586117\n",
      "(epoch = 8, round = 250, global round = 2000), Accuracy/Training: 50.62577517194723\n",
      "reporting (epoch = 8, round = 250, global round = 2000) for aggregation\n",
      "(epoch = 8, round = 250, global round = 2000), Loss/Aggregation: 0.6213340610265732\n",
      "(epoch = 8, round = 250, global round = 2000), Accuracy/Aggregation: 60.869565217391305\n",
      "Running (epoch = 8, round = 250, global round = 2000) for Eval\n",
      "(epoch = 8, round = 250, global round = 2000), Loss/Eval: 0.7299157140714502\n",
      "(epoch = 8, round = 250, global round = 2000), Accuracy/Eval: 50.84507042253521\n",
      "Current eval accuracy: {'Accuracy': 50.84507042253521}%, Best so far: {'Accuracy': 61.16197183098591}%\n"
     ]
    },
    {
     "name": "stderr",
     "output_type": "stream",
     "text": [
      "Round: 100%|███████████████████████████████████████████████████████████████████████| 250/250 [01:00<00:00,  4.10round/s]\n",
      "Round: 100%|██████████████████████████████████████████████████████████████████████▋| 249/250 [01:00<00:00,  4.55round/s]"
     ]
    },
    {
     "name": "stdout",
     "output_type": "stream",
     "text": [
      "Train finished Global Round: 2250\n",
      "(epoch = 9, round = 250, global round = 2250), Loss/Training: 0.7225556413689666\n",
      "(epoch = 9, round = 250, global round = 2250), Accuracy/Training: 50.78406318968521\n",
      "reporting (epoch = 9, round = 250, global round = 2250) for aggregation\n",
      "(epoch = 9, round = 250, global round = 2250), Loss/Aggregation: 0.5960155829787255\n",
      "(epoch = 9, round = 250, global round = 2250), Accuracy/Aggregation: 50.0\n",
      "Running (epoch = 9, round = 250, global round = 2250) for Eval\n",
      "(epoch = 9, round = 250, global round = 2250), Loss/Eval: 0.7590689549138161\n",
      "(epoch = 9, round = 250, global round = 2250), Accuracy/Eval: 49.436619718309856\n",
      "Current eval accuracy: {'Accuracy': 49.436619718309856}%, Best so far: {'Accuracy': 61.16197183098591}%\n"
     ]
    },
    {
     "name": "stderr",
     "output_type": "stream",
     "text": [
      "Round: 100%|███████████████████████████████████████████████████████████████████████| 250/250 [01:03<00:00,  3.95round/s]\n",
      "Round: 100%|██████████████████████████████████████████████████████████████████████▋| 249/250 [00:54<00:00,  4.67round/s]"
     ]
    },
    {
     "name": "stdout",
     "output_type": "stream",
     "text": [
      "Train finished Global Round: 2500\n",
      "(epoch = 10, round = 250, global round = 2500), Loss/Training: 0.72112031334255\n",
      "(epoch = 10, round = 250, global round = 2500), Accuracy/Training: 50.447696003494215\n",
      "reporting (epoch = 10, round = 250, global round = 2500) for aggregation\n",
      "(epoch = 10, round = 250, global round = 2500), Loss/Aggregation: 0.7012679696083068\n",
      "(epoch = 10, round = 250, global round = 2500), Accuracy/Aggregation: 51.724137931034484\n",
      "Running (epoch = 10, round = 250, global round = 2500) for Eval\n",
      "(epoch = 10, round = 250, global round = 2500), Loss/Eval: 0.6950141670614948\n",
      "(epoch = 10, round = 250, global round = 2500), Accuracy/Eval: 50.563380281690144\n",
      "Current eval accuracy: {'Accuracy': 50.563380281690144}%, Best so far: {'Accuracy': 61.16197183098591}%\n"
     ]
    },
    {
     "name": "stderr",
     "output_type": "stream",
     "text": [
      "Round: 100%|███████████████████████████████████████████████████████████████████████| 250/250 [00:57<00:00,  4.34round/s]\n",
      "Round: 100%|██████████████████████████████████████████████████████████████████████▋| 249/250 [00:58<00:00,  4.42round/s]"
     ]
    },
    {
     "name": "stdout",
     "output_type": "stream",
     "text": [
      "Train finished Global Round: 2750\n",
      "(epoch = 11, round = 250, global round = 2750), Loss/Training: 0.7143362429436474\n",
      "(epoch = 11, round = 250, global round = 2750), Accuracy/Training: 50.206043956043956\n",
      "reporting (epoch = 11, round = 250, global round = 2750) for aggregation\n",
      "(epoch = 11, round = 250, global round = 2750), Loss/Aggregation: 0.5889599844813347\n",
      "(epoch = 11, round = 250, global round = 2750), Accuracy/Aggregation: 64.70588235294117\n",
      "Running (epoch = 11, round = 250, global round = 2750) for Eval\n",
      "(epoch = 11, round = 250, global round = 2750), Loss/Eval: 0.7768702907551258\n",
      "(epoch = 11, round = 250, global round = 2750), Accuracy/Eval: 50.17605633802817\n",
      "Current eval accuracy: {'Accuracy': 50.17605633802817}%, Best so far: {'Accuracy': 61.16197183098591}%\n"
     ]
    },
    {
     "name": "stderr",
     "output_type": "stream",
     "text": [
      "Round: 100%|███████████████████████████████████████████████████████████████████████| 250/250 [01:01<00:00,  4.05round/s]\n",
      "Round: 100%|██████████████████████████████████████████████████████████████████████▋| 249/250 [00:57<00:00,  4.38round/s]"
     ]
    },
    {
     "name": "stdout",
     "output_type": "stream",
     "text": [
      "Train finished Global Round: 3000\n",
      "(epoch = 12, round = 250, global round = 3000), Loss/Training: 0.7090281465902555\n",
      "(epoch = 12, round = 250, global round = 3000), Accuracy/Training: 51.97165742452249\n",
      "reporting (epoch = 12, round = 250, global round = 3000) for aggregation\n",
      "(epoch = 12, round = 250, global round = 3000), Loss/Aggregation: 0.5525437206029892\n",
      "(epoch = 12, round = 250, global round = 3000), Accuracy/Aggregation: 66.66666666666667\n",
      "Running (epoch = 12, round = 250, global round = 3000) for Eval\n",
      "(epoch = 12, round = 250, global round = 3000), Loss/Eval: 0.707439033545455\n",
      "(epoch = 12, round = 250, global round = 3000), Accuracy/Eval: 49.859154929577464\n",
      "Current eval accuracy: {'Accuracy': 49.859154929577464}%, Best so far: {'Accuracy': 61.16197183098591}%\n"
     ]
    },
    {
     "name": "stderr",
     "output_type": "stream",
     "text": [
      "Round: 100%|███████████████████████████████████████████████████████████████████████| 250/250 [01:00<00:00,  4.13round/s]\n",
      "Round: 100%|██████████████████████████████████████████████████████████████████████▋| 249/250 [01:00<00:00,  4.47round/s]"
     ]
    },
    {
     "name": "stdout",
     "output_type": "stream",
     "text": [
      "Train finished Global Round: 3250\n",
      "(epoch = 13, round = 250, global round = 3250), Loss/Training: 0.7452963140590538\n",
      "(epoch = 13, round = 250, global round = 3250), Accuracy/Training: 50.60199518403853\n",
      "reporting (epoch = 13, round = 250, global round = 3250) for aggregation\n",
      "(epoch = 13, round = 250, global round = 3250), Loss/Aggregation: 0.8026275535424551\n",
      "(epoch = 13, round = 250, global round = 3250), Accuracy/Aggregation: 73.73737373737374\n",
      "Running (epoch = 13, round = 250, global round = 3250) for Eval\n",
      "(epoch = 13, round = 250, global round = 3250), Loss/Eval: 0.7275388067953567\n",
      "(epoch = 13, round = 250, global round = 3250), Accuracy/Eval: 49.683098591549296\n",
      "Current eval accuracy: {'Accuracy': 49.683098591549296}%, Best so far: {'Accuracy': 61.16197183098591}%\n"
     ]
    },
    {
     "name": "stderr",
     "output_type": "stream",
     "text": [
      "Round: 100%|███████████████████████████████████████████████████████████████████████| 250/250 [01:03<00:00,  3.96round/s]\n",
      "Round: 100%|██████████████████████████████████████████████████████████████████████▋| 249/250 [00:56<00:00,  3.85round/s]"
     ]
    },
    {
     "name": "stdout",
     "output_type": "stream",
     "text": [
      "Train finished Global Round: 3500\n",
      "(epoch = 14, round = 250, global round = 3500), Loss/Training: 0.7236300550681236\n",
      "(epoch = 14, round = 250, global round = 3500), Accuracy/Training: 50.74858600421426\n",
      "reporting (epoch = 14, round = 250, global round = 3500) for aggregation\n",
      "(epoch = 14, round = 250, global round = 3500), Loss/Aggregation: 0.5721337646245956\n",
      "(epoch = 14, round = 250, global round = 3500), Accuracy/Aggregation: 78.78787878787878\n",
      "Running (epoch = 14, round = 250, global round = 3500) for Eval\n",
      "(epoch = 14, round = 250, global round = 3500), Loss/Eval: 0.716244888207638\n",
      "(epoch = 14, round = 250, global round = 3500), Accuracy/Eval: 50.0\n",
      "Current eval accuracy: {'Accuracy': 50.0}%, Best so far: {'Accuracy': 61.16197183098591}%\n"
     ]
    },
    {
     "name": "stderr",
     "output_type": "stream",
     "text": [
      "Round: 100%|███████████████████████████████████████████████████████████████████████| 250/250 [00:59<00:00,  4.18round/s]\n",
      "Round: 100%|██████████████████████████████████████████████████████████████████████▋| 249/250 [00:57<00:00,  4.61round/s]"
     ]
    },
    {
     "name": "stdout",
     "output_type": "stream",
     "text": [
      "Train finished Global Round: 3750\n",
      "(epoch = 15, round = 250, global round = 3750), Loss/Training: 0.7190791070697894\n",
      "(epoch = 15, round = 250, global round = 3750), Accuracy/Training: 51.252028750289824\n",
      "reporting (epoch = 15, round = 250, global round = 3750) for aggregation\n",
      "(epoch = 15, round = 250, global round = 3750), Loss/Aggregation: 0.7269365906715393\n",
      "(epoch = 15, round = 250, global round = 3750), Accuracy/Aggregation: 64.28571428571429\n",
      "Running (epoch = 15, round = 250, global round = 3750) for Eval\n",
      "(epoch = 15, round = 250, global round = 3750), Loss/Eval: 0.7361355418786915\n",
      "(epoch = 15, round = 250, global round = 3750), Accuracy/Eval: 47.95774647887324\n",
      "Current eval accuracy: {'Accuracy': 47.95774647887324}%, Best so far: {'Accuracy': 61.16197183098591}%\n"
     ]
    },
    {
     "name": "stderr",
     "output_type": "stream",
     "text": [
      "Round: 100%|███████████████████████████████████████████████████████████████████████| 250/250 [01:00<00:00,  4.16round/s]\n",
      "Round: 100%|██████████████████████████████████████████████████████████████████████▋| 249/250 [00:58<00:00,  4.39round/s]"
     ]
    },
    {
     "name": "stdout",
     "output_type": "stream",
     "text": [
      "Train finished Global Round: 4000\n",
      "(epoch = 16, round = 250, global round = 4000), Loss/Training: 0.7846176792944387\n",
      "(epoch = 16, round = 250, global round = 4000), Accuracy/Training: 51.81026340644349\n",
      "reporting (epoch = 16, round = 250, global round = 4000) for aggregation\n",
      "(epoch = 16, round = 250, global round = 4000), Loss/Aggregation: 0.697226756811142\n",
      "(epoch = 16, round = 250, global round = 4000), Accuracy/Aggregation: 57.89473684210526\n",
      "Running (epoch = 16, round = 250, global round = 4000) for Eval\n",
      "(epoch = 16, round = 250, global round = 4000), Loss/Eval: 0.7028681326476723\n",
      "(epoch = 16, round = 250, global round = 4000), Accuracy/Eval: 51.58450704225352\n",
      "Current eval accuracy: {'Accuracy': 51.58450704225352}%, Best so far: {'Accuracy': 61.16197183098591}%\n"
     ]
    },
    {
     "name": "stderr",
     "output_type": "stream",
     "text": [
      "Round: 100%|██████████████████████████████████████████████████████████████████████▋| 249/250 [01:01<00:00,  4.03round/s]\n",
      "Epoch:  94%|████████████████████████████████████████████████████████████████████▍    | 15/16 [16:05<01:04, 64.35s/epoch]"
     ]
    },
    {
     "name": "stdout",
     "output_type": "stream",
     "text": [
      "Running (epoch = 1, round = 1, global round = 1) for Test\n"
     ]
    },
    {
     "name": "stderr",
     "output_type": "stream",
     "text": [
      "\n",
      " 92%|███████████████████████████████████▋   | 366.0/400 [6:07:24<34:05, 60.16s/it, min_score=-60.4, models_evaluated=60]"
     ]
    },
    {
     "name": "stdout",
     "output_type": "stream",
     "text": [
      "(epoch = 1, round = 1, global round = 1), Loss/Test: 0.7028681328150339\n",
      "(epoch = 1, round = 1, global round = 1), Accuracy/Test: 51.58450704225352\n"
     ]
    },
    {
     "name": "stderr",
     "output_type": "stream",
     "text": [
      "Round: 100%|██████████████████████████████████████████████████████████████████████▋| 249/250 [00:56<00:00,  4.62round/s]"
     ]
    },
    {
     "name": "stdout",
     "output_type": "stream",
     "text": [
      "Train finished Global Round: 250\n",
      "(epoch = 1, round = 250, global round = 250), Loss/Training: 0.7010405804389365\n",
      "(epoch = 1, round = 250, global round = 250), Accuracy/Training: 50.880829015544045\n",
      "reporting (epoch = 1, round = 250, global round = 250) for aggregation\n",
      "(epoch = 1, round = 250, global round = 250), Loss/Aggregation: 0.6834129214286804\n",
      "(epoch = 1, round = 250, global round = 250), Accuracy/Aggregation: 70.0\n",
      "Running (epoch = 1, round = 250, global round = 250) for Eval\n",
      "(epoch = 1, round = 250, global round = 250), Loss/Eval: 0.6920436498538299\n",
      "(epoch = 1, round = 250, global round = 250), Accuracy/Eval: 50.45774647887324\n",
      "Current eval accuracy: {'Accuracy': 50.45774647887324}%, Best so far: {'Accuracy': 61.16197183098591}%\n"
     ]
    },
    {
     "name": "stderr",
     "output_type": "stream",
     "text": [
      "Round: 100%|███████████████████████████████████████████████████████████████████████| 250/250 [00:59<00:00,  4.22round/s]\n",
      "Round: 100%|██████████████████████████████████████████████████████████████████████▋| 249/250 [00:54<00:00,  4.66round/s]"
     ]
    },
    {
     "name": "stdout",
     "output_type": "stream",
     "text": [
      "Train finished Global Round: 500\n",
      "(epoch = 2, round = 250, global round = 500), Loss/Training: 0.694655017831731\n",
      "(epoch = 2, round = 250, global round = 500), Accuracy/Training: 54.02701350675338\n",
      "reporting (epoch = 2, round = 250, global round = 500) for aggregation\n",
      "(epoch = 2, round = 250, global round = 500), Loss/Aggregation: 0.61963931620121\n",
      "(epoch = 2, round = 250, global round = 500), Accuracy/Aggregation: 85.0\n",
      "Running (epoch = 2, round = 250, global round = 500) for Eval\n",
      "(epoch = 2, round = 250, global round = 500), Loss/Eval: 0.6922628020384299\n",
      "(epoch = 2, round = 250, global round = 500), Accuracy/Eval: 53.34507042253521\n",
      "Current eval accuracy: {'Accuracy': 53.34507042253521}%, Best so far: {'Accuracy': 61.16197183098591}%\n"
     ]
    },
    {
     "name": "stderr",
     "output_type": "stream",
     "text": [
      "Round: 100%|███████████████████████████████████████████████████████████████████████| 250/250 [00:58<00:00,  4.27round/s]\n",
      "Round: 100%|██████████████████████████████████████████████████████████████████████▋| 249/250 [00:57<00:00,  4.59round/s]"
     ]
    },
    {
     "name": "stdout",
     "output_type": "stream",
     "text": [
      "Train finished Global Round: 750\n",
      "(epoch = 3, round = 250, global round = 750), Loss/Training: 0.6859720083051452\n",
      "(epoch = 3, round = 250, global round = 750), Accuracy/Training: 56.64488017429194\n",
      "reporting (epoch = 3, round = 250, global round = 750) for aggregation\n",
      "(epoch = 3, round = 250, global round = 750), Loss/Aggregation: 0.6320201516151428\n",
      "(epoch = 3, round = 250, global round = 750), Accuracy/Aggregation: 60.0\n",
      "Running (epoch = 3, round = 250, global round = 750) for Eval\n",
      "(epoch = 3, round = 250, global round = 750), Loss/Eval: 0.6900142493541586\n",
      "(epoch = 3, round = 250, global round = 750), Accuracy/Eval: 52.605633802816904\n",
      "Current eval accuracy: {'Accuracy': 52.605633802816904}%, Best so far: {'Accuracy': 61.16197183098591}%\n"
     ]
    },
    {
     "name": "stderr",
     "output_type": "stream",
     "text": [
      "Round: 100%|███████████████████████████████████████████████████████████████████████| 250/250 [01:00<00:00,  4.15round/s]\n",
      "Round: 100%|██████████████████████████████████████████████████████████████████████▋| 249/250 [00:55<00:00,  4.46round/s]"
     ]
    },
    {
     "name": "stdout",
     "output_type": "stream",
     "text": [
      "Train finished Global Round: 1000\n",
      "(epoch = 4, round = 250, global round = 1000), Loss/Training: 0.674816523761123\n",
      "(epoch = 4, round = 250, global round = 1000), Accuracy/Training: 59.3915773519541\n",
      "reporting (epoch = 4, round = 250, global round = 1000) for aggregation\n",
      "(epoch = 4, round = 250, global round = 1000), Loss/Aggregation: 0.5067892849445343\n",
      "(epoch = 4, round = 250, global round = 1000), Accuracy/Aggregation: 82.14285714285714\n",
      "Running (epoch = 4, round = 250, global round = 1000) for Eval\n",
      "(epoch = 4, round = 250, global round = 1000), Loss/Eval: 0.70377179521229\n",
      "(epoch = 4, round = 250, global round = 1000), Accuracy/Eval: 53.90845070422535\n",
      "Current eval accuracy: {'Accuracy': 53.90845070422535}%, Best so far: {'Accuracy': 61.16197183098591}%\n"
     ]
    },
    {
     "name": "stderr",
     "output_type": "stream",
     "text": [
      "Round: 100%|███████████████████████████████████████████████████████████████████████| 250/250 [00:58<00:00,  4.27round/s]\n",
      "Round: 100%|██████████████████████████████████████████████████████████████████████▋| 249/250 [00:54<00:00,  4.62round/s]"
     ]
    },
    {
     "name": "stdout",
     "output_type": "stream",
     "text": [
      "Train finished Global Round: 1250\n",
      "(epoch = 5, round = 250, global round = 1250), Loss/Training: 0.6672425726114117\n",
      "(epoch = 5, round = 250, global round = 1250), Accuracy/Training: 59.31972789115646\n",
      "reporting (epoch = 5, round = 250, global round = 1250) for aggregation\n",
      "(epoch = 5, round = 250, global round = 1250), Loss/Aggregation: 0.4925320535898209\n",
      "(epoch = 5, round = 250, global round = 1250), Accuracy/Aggregation: 82.3529411764706\n",
      "Running (epoch = 5, round = 250, global round = 1250) for Eval\n",
      "(epoch = 5, round = 250, global round = 1250), Loss/Eval: 0.6965511285225837\n",
      "(epoch = 5, round = 250, global round = 1250), Accuracy/Eval: 55.985915492957744\n",
      "Current eval accuracy: {'Accuracy': 55.985915492957744}%, Best so far: {'Accuracy': 61.16197183098591}%\n"
     ]
    },
    {
     "name": "stderr",
     "output_type": "stream",
     "text": [
      "Round: 100%|███████████████████████████████████████████████████████████████████████| 250/250 [00:57<00:00,  4.34round/s]\n",
      "Round: 100%|██████████████████████████████████████████████████████████████████████▋| 249/250 [00:57<00:00,  4.24round/s]"
     ]
    },
    {
     "name": "stdout",
     "output_type": "stream",
     "text": [
      "Train finished Global Round: 1500\n",
      "(epoch = 6, round = 250, global round = 1500), Loss/Training: 0.6635129671887845\n",
      "(epoch = 6, round = 250, global round = 1500), Accuracy/Training: 59.51683748169839\n",
      "reporting (epoch = 6, round = 250, global round = 1500) for aggregation\n",
      "(epoch = 6, round = 250, global round = 1500), Loss/Aggregation: 0.3714158147573471\n",
      "(epoch = 6, round = 250, global round = 1500), Accuracy/Aggregation: 96.55172413793103\n",
      "Running (epoch = 6, round = 250, global round = 1500) for Eval\n",
      "(epoch = 6, round = 250, global round = 1500), Loss/Eval: 0.7188282654113766\n",
      "(epoch = 6, round = 250, global round = 1500), Accuracy/Eval: 55.105633802816904\n",
      "Current eval accuracy: {'Accuracy': 55.105633802816904}%, Best so far: {'Accuracy': 61.16197183098591}%\n"
     ]
    },
    {
     "name": "stderr",
     "output_type": "stream",
     "text": [
      "Round: 100%|███████████████████████████████████████████████████████████████████████| 250/250 [01:00<00:00,  4.14round/s]\n",
      "Round: 100%|██████████████████████████████████████████████████████████████████████▋| 249/250 [00:57<00:00,  4.36round/s]"
     ]
    },
    {
     "name": "stdout",
     "output_type": "stream",
     "text": [
      "Train finished Global Round: 1750\n",
      "(epoch = 7, round = 250, global round = 1750), Loss/Training: 0.659968911988206\n",
      "(epoch = 7, round = 250, global round = 1750), Accuracy/Training: 60.38961038961039\n",
      "reporting (epoch = 7, round = 250, global round = 1750) for aggregation\n",
      "(epoch = 7, round = 250, global round = 1750), Loss/Aggregation: 0.5703587621450424\n",
      "(epoch = 7, round = 250, global round = 1750), Accuracy/Aggregation: 81.08108108108108\n",
      "Running (epoch = 7, round = 250, global round = 1750) for Eval\n",
      "(epoch = 7, round = 250, global round = 1750), Loss/Eval: 0.6691262462066925\n",
      "(epoch = 7, round = 250, global round = 1750), Accuracy/Eval: 58.80281690140845\n",
      "Current eval accuracy: {'Accuracy': 58.80281690140845}%, Best so far: {'Accuracy': 61.16197183098591}%\n"
     ]
    },
    {
     "name": "stderr",
     "output_type": "stream",
     "text": [
      "Round: 100%|███████████████████████████████████████████████████████████████████████| 250/250 [01:00<00:00,  4.11round/s]\n",
      "Round: 100%|██████████████████████████████████████████████████████████████████████▋| 249/250 [00:54<00:00,  4.54round/s]"
     ]
    },
    {
     "name": "stdout",
     "output_type": "stream",
     "text": [
      "Train finished Global Round: 2000\n",
      "(epoch = 8, round = 250, global round = 2000), Loss/Training: 0.6591000846883351\n",
      "(epoch = 8, round = 250, global round = 2000), Accuracy/Training: 61.792\n",
      "reporting (epoch = 8, round = 250, global round = 2000) for aggregation\n",
      "(epoch = 8, round = 250, global round = 2000), Loss/Aggregation: 0.6174393206834793\n",
      "(epoch = 8, round = 250, global round = 2000), Accuracy/Aggregation: 75.75757575757575\n",
      "Running (epoch = 8, round = 250, global round = 2000) for Eval\n",
      "(epoch = 8, round = 250, global round = 2000), Loss/Eval: 0.6757225729749234\n",
      "(epoch = 8, round = 250, global round = 2000), Accuracy/Eval: 57.95774647887324\n",
      "Current eval accuracy: {'Accuracy': 57.95774647887324}%, Best so far: {'Accuracy': 61.16197183098591}%\n"
     ]
    },
    {
     "name": "stderr",
     "output_type": "stream",
     "text": [
      "Round: 100%|███████████████████████████████████████████████████████████████████████| 250/250 [00:57<00:00,  4.34round/s]\n",
      "Round: 100%|██████████████████████████████████████████████████████████████████████▋| 249/250 [00:56<00:00,  4.45round/s]"
     ]
    },
    {
     "name": "stdout",
     "output_type": "stream",
     "text": [
      "Train finished Global Round: 2250\n",
      "(epoch = 9, round = 250, global round = 2250), Loss/Training: 0.650683685351292\n",
      "(epoch = 9, round = 250, global round = 2250), Accuracy/Training: 61.5493455960382\n",
      "reporting (epoch = 9, round = 250, global round = 2250) for aggregation\n",
      "(epoch = 9, round = 250, global round = 2250), Loss/Aggregation: 0.5201726049184799\n",
      "(epoch = 9, round = 250, global round = 2250), Accuracy/Aggregation: 72.41379310344827\n",
      "Running (epoch = 9, round = 250, global round = 2250) for Eval\n",
      "(epoch = 9, round = 250, global round = 2250), Loss/Eval: 0.6903485178475249\n",
      "(epoch = 9, round = 250, global round = 2250), Accuracy/Eval: 59.04929577464789\n",
      "Current eval accuracy: {'Accuracy': 59.04929577464789}%, Best so far: {'Accuracy': 61.16197183098591}%\n"
     ]
    },
    {
     "name": "stderr",
     "output_type": "stream",
     "text": [
      "Round: 100%|███████████████████████████████████████████████████████████████████████| 250/250 [01:00<00:00,  4.16round/s]\n",
      "Round: 100%|██████████████████████████████████████████████████████████████████████▋| 249/250 [00:54<00:00,  4.67round/s]"
     ]
    },
    {
     "name": "stdout",
     "output_type": "stream",
     "text": [
      "Train finished Global Round: 2500\n",
      "(epoch = 10, round = 250, global round = 2500), Loss/Training: 0.6322061984644767\n",
      "(epoch = 10, round = 250, global round = 2500), Accuracy/Training: 63.08239742021572\n",
      "reporting (epoch = 10, round = 250, global round = 2500) for aggregation\n",
      "(epoch = 10, round = 250, global round = 2500), Loss/Aggregation: 0.39605758190155027\n",
      "(epoch = 10, round = 250, global round = 2500), Accuracy/Aggregation: 96.7741935483871\n",
      "Running (epoch = 10, round = 250, global round = 2500) for Eval\n",
      "(epoch = 10, round = 250, global round = 2500), Loss/Eval: 0.6828361592090039\n",
      "(epoch = 10, round = 250, global round = 2500), Accuracy/Eval: 58.028169014084504\n",
      "Current eval accuracy: {'Accuracy': 58.028169014084504}%, Best so far: {'Accuracy': 61.16197183098591}%\n"
     ]
    },
    {
     "name": "stderr",
     "output_type": "stream",
     "text": [
      "Round: 100%|███████████████████████████████████████████████████████████████████████| 250/250 [00:58<00:00,  4.28round/s]\n",
      "Round: 100%|██████████████████████████████████████████████████████████████████████▋| 249/250 [00:54<00:00,  4.66round/s]"
     ]
    },
    {
     "name": "stdout",
     "output_type": "stream",
     "text": [
      "Train finished Global Round: 2750\n",
      "(epoch = 11, round = 250, global round = 2750), Loss/Training: 0.6393199260091383\n",
      "(epoch = 11, round = 250, global round = 2750), Accuracy/Training: 62.59653049804141\n",
      "reporting (epoch = 11, round = 250, global round = 2750) for aggregation\n",
      "(epoch = 11, round = 250, global round = 2750), Loss/Aggregation: 0.44049797505140303\n",
      "(epoch = 11, round = 250, global round = 2750), Accuracy/Aggregation: 91.17647058823529\n",
      "Running (epoch = 11, round = 250, global round = 2750) for Eval\n",
      "(epoch = 11, round = 250, global round = 2750), Loss/Eval: 0.6787886146203467\n",
      "(epoch = 11, round = 250, global round = 2750), Accuracy/Eval: 58.23943661971831\n",
      "Current eval accuracy: {'Accuracy': 58.23943661971831}%, Best so far: {'Accuracy': 61.16197183098591}%\n"
     ]
    },
    {
     "name": "stderr",
     "output_type": "stream",
     "text": [
      "Round: 100%|███████████████████████████████████████████████████████████████████████| 250/250 [00:58<00:00,  4.26round/s]\n",
      "Round: 100%|██████████████████████████████████████████████████████████████████████▋| 249/250 [00:54<00:00,  4.66round/s]"
     ]
    },
    {
     "name": "stdout",
     "output_type": "stream",
     "text": [
      "Train finished Global Round: 3000\n",
      "(epoch = 12, round = 250, global round = 3000), Loss/Training: 0.6402825951417019\n",
      "(epoch = 12, round = 250, global round = 3000), Accuracy/Training: 63.16381638163816\n",
      "reporting (epoch = 12, round = 250, global round = 3000) for aggregation\n",
      "(epoch = 12, round = 250, global round = 3000), Loss/Aggregation: 0.4003444492816925\n",
      "(epoch = 12, round = 250, global round = 3000), Accuracy/Aggregation: 90.38461538461539\n",
      "Running (epoch = 12, round = 250, global round = 3000) for Eval\n",
      "(epoch = 12, round = 250, global round = 3000), Loss/Eval: 0.7009889723675536\n",
      "(epoch = 12, round = 250, global round = 3000), Accuracy/Eval: 57.147887323943664\n",
      "Current eval accuracy: {'Accuracy': 57.147887323943664}%, Best so far: {'Accuracy': 61.16197183098591}%\n"
     ]
    },
    {
     "name": "stderr",
     "output_type": "stream",
     "text": [
      "Round: 100%|███████████████████████████████████████████████████████████████████████| 250/250 [00:57<00:00,  4.35round/s]\n",
      "Round: 100%|██████████████████████████████████████████████████████████████████████▋| 249/250 [00:58<00:00,  4.64round/s]"
     ]
    },
    {
     "name": "stdout",
     "output_type": "stream",
     "text": [
      "Train finished Global Round: 3250\n",
      "(epoch = 13, round = 250, global round = 3250), Loss/Training: 0.6347940748281665\n",
      "(epoch = 13, round = 250, global round = 3250), Accuracy/Training: 63.71999102535338\n",
      "reporting (epoch = 13, round = 250, global round = 3250) for aggregation\n",
      "(epoch = 13, round = 250, global round = 3250), Loss/Aggregation: 0.35360522866249083\n",
      "(epoch = 13, round = 250, global round = 3250), Accuracy/Aggregation: 94.73684210526316\n",
      "Running (epoch = 13, round = 250, global round = 3250) for Eval\n",
      "(epoch = 13, round = 250, global round = 3250), Loss/Eval: 0.6916120789998921\n",
      "(epoch = 13, round = 250, global round = 3250), Accuracy/Eval: 57.640845070422536\n",
      "Current eval accuracy: {'Accuracy': 57.640845070422536}%, Best so far: {'Accuracy': 61.16197183098591}%\n"
     ]
    },
    {
     "name": "stderr",
     "output_type": "stream",
     "text": [
      "Round: 100%|███████████████████████████████████████████████████████████████████████| 250/250 [01:01<00:00,  4.06round/s]\n",
      "Round: 100%|██████████████████████████████████████████████████████████████████████▋| 249/250 [00:54<00:00,  4.62round/s]"
     ]
    },
    {
     "name": "stdout",
     "output_type": "stream",
     "text": [
      "Train finished Global Round: 3500\n",
      "(epoch = 14, round = 250, global round = 3500), Loss/Training: 0.6402975709865922\n",
      "(epoch = 14, round = 250, global round = 3500), Accuracy/Training: 63.48025812096686\n",
      "reporting (epoch = 14, round = 250, global round = 3500) for aggregation\n",
      "(epoch = 14, round = 250, global round = 3500), Loss/Aggregation: 0.503715631365776\n",
      "(epoch = 14, round = 250, global round = 3500), Accuracy/Aggregation: 78.57142857142857\n",
      "Running (epoch = 14, round = 250, global round = 3500) for Eval\n",
      "(epoch = 14, round = 250, global round = 3500), Loss/Eval: 0.7218619067426599\n",
      "(epoch = 14, round = 250, global round = 3500), Accuracy/Eval: 56.30281690140845\n",
      "Current eval accuracy: {'Accuracy': 56.30281690140845}%, Best so far: {'Accuracy': 61.16197183098591}%\n"
     ]
    },
    {
     "name": "stderr",
     "output_type": "stream",
     "text": [
      "Round: 100%|███████████████████████████████████████████████████████████████████████| 250/250 [00:57<00:00,  4.33round/s]\n",
      "Round: 100%|██████████████████████████████████████████████████████████████████████▋| 249/250 [00:54<00:00,  4.65round/s]"
     ]
    },
    {
     "name": "stdout",
     "output_type": "stream",
     "text": [
      "Train finished Global Round: 3750\n",
      "(epoch = 15, round = 250, global round = 3750), Loss/Training: 0.6473994007419448\n",
      "(epoch = 15, round = 250, global round = 3750), Accuracy/Training: 62.592469912774646\n",
      "reporting (epoch = 15, round = 250, global round = 3750) for aggregation\n",
      "(epoch = 15, round = 250, global round = 3750), Loss/Aggregation: 0.5900274872779846\n",
      "(epoch = 15, round = 250, global round = 3750), Accuracy/Aggregation: 76.92307692307692\n",
      "Running (epoch = 15, round = 250, global round = 3750) for Eval\n",
      "(epoch = 15, round = 250, global round = 3750), Loss/Eval: 0.6826096830020647\n",
      "(epoch = 15, round = 250, global round = 3750), Accuracy/Eval: 57.7112676056338\n",
      "Current eval accuracy: {'Accuracy': 57.7112676056338}%, Best so far: {'Accuracy': 61.16197183098591}%\n"
     ]
    },
    {
     "name": "stderr",
     "output_type": "stream",
     "text": [
      "Round: 100%|███████████████████████████████████████████████████████████████████████| 250/250 [00:57<00:00,  4.33round/s]\n",
      "Round: 100%|██████████████████████████████████████████████████████████████████████▋| 249/250 [00:54<00:00,  5.08round/s]"
     ]
    },
    {
     "name": "stdout",
     "output_type": "stream",
     "text": [
      "Train finished Global Round: 4000\n",
      "(epoch = 16, round = 250, global round = 4000), Loss/Training: 0.6415690699809848\n",
      "(epoch = 16, round = 250, global round = 4000), Accuracy/Training: 63.153803442531924\n",
      "reporting (epoch = 16, round = 250, global round = 4000) for aggregation\n",
      "(epoch = 16, round = 250, global round = 4000), Loss/Aggregation: 0.5493583923036401\n",
      "(epoch = 16, round = 250, global round = 4000), Accuracy/Aggregation: 75.47169811320755\n",
      "Running (epoch = 16, round = 250, global round = 4000) for Eval\n",
      "(epoch = 16, round = 250, global round = 4000), Loss/Eval: 0.687105051990833\n",
      "(epoch = 16, round = 250, global round = 4000), Accuracy/Eval: 56.901408450704224\n",
      "Current eval accuracy: {'Accuracy': 56.901408450704224}%, Best so far: {'Accuracy': 61.16197183098591}%\n"
     ]
    },
    {
     "name": "stderr",
     "output_type": "stream",
     "text": [
      "Round: 100%|██████████████████████████████████████████████████████████████████████▋| 249/250 [00:57<00:00,  4.35round/s]\n",
      "Epoch:  94%|████████████████████████████████████████████████████████████████████▍    | 15/16 [15:41<01:02, 62.80s/epoch]"
     ]
    },
    {
     "name": "stdout",
     "output_type": "stream",
     "text": [
      "Running (epoch = 1, round = 1, global round = 1) for Test\n"
     ]
    },
    {
     "name": "stderr",
     "output_type": "stream",
     "text": [
      "\n",
      " 96%|█████████████████████████████████████▏ | 382.0/400 [6:23:09<17:56, 59.79s/it, min_score=-60.4, models_evaluated=60]"
     ]
    },
    {
     "name": "stdout",
     "output_type": "stream",
     "text": [
      "(epoch = 1, round = 1, global round = 1), Loss/Test: 0.6871050520625595\n",
      "(epoch = 1, round = 1, global round = 1), Accuracy/Test: 56.901408450704224\n"
     ]
    },
    {
     "name": "stderr",
     "output_type": "stream",
     "text": [
      "Round: 100%|██████████████████████████████████████████████████████████████████████▋| 249/250 [00:58<00:00,  4.66round/s]"
     ]
    },
    {
     "name": "stdout",
     "output_type": "stream",
     "text": [
      "Train finished Global Round: 250\n",
      "(epoch = 1, round = 250, global round = 250), Loss/Training: 0.708813495146081\n",
      "(epoch = 1, round = 250, global round = 250), Accuracy/Training: 51.158084101641556\n",
      "reporting (epoch = 1, round = 250, global round = 250) for aggregation\n",
      "(epoch = 1, round = 250, global round = 250), Loss/Aggregation: 0.6787010539661754\n",
      "(epoch = 1, round = 250, global round = 250), Accuracy/Aggregation: 40.90909090909091\n",
      "Running (epoch = 1, round = 250, global round = 250) for Eval\n",
      "(epoch = 1, round = 250, global round = 250), Loss/Eval: 0.6928541178905099\n",
      "(epoch = 1, round = 250, global round = 250), Accuracy/Eval: 49.75352112676056\n",
      "Current eval accuracy: {'Accuracy': 49.75352112676056}%, Best so far: {'Accuracy': 61.16197183098591}%\n"
     ]
    },
    {
     "name": "stderr",
     "output_type": "stream",
     "text": [
      "Round: 100%|███████████████████████████████████████████████████████████████████████| 250/250 [01:01<00:00,  4.06round/s]\n",
      "Round: 100%|██████████████████████████████████████████████████████████████████████▋| 249/250 [00:56<00:00,  4.05round/s]"
     ]
    },
    {
     "name": "stdout",
     "output_type": "stream",
     "text": [
      "Train finished Global Round: 500\n",
      "(epoch = 2, round = 250, global round = 500), Loss/Training: 0.6962687080582519\n",
      "(epoch = 2, round = 250, global round = 500), Accuracy/Training: 49.32199741713302\n",
      "reporting (epoch = 2, round = 250, global round = 500) for aggregation\n",
      "(epoch = 2, round = 250, global round = 500), Loss/Aggregation: 0.6901619911193848\n",
      "(epoch = 2, round = 250, global round = 500), Accuracy/Aggregation: 54.54545454545455\n",
      "Running (epoch = 2, round = 250, global round = 500) for Eval\n",
      "(epoch = 2, round = 250, global round = 500), Loss/Eval: 0.6929349708260659\n",
      "(epoch = 2, round = 250, global round = 500), Accuracy/Eval: 50.070422535211264\n",
      "Current eval accuracy: {'Accuracy': 50.070422535211264}%, Best so far: {'Accuracy': 61.16197183098591}%\n"
     ]
    },
    {
     "name": "stderr",
     "output_type": "stream",
     "text": [
      "Round: 100%|███████████████████████████████████████████████████████████████████████| 250/250 [00:59<00:00,  4.23round/s]\n",
      "Round: 100%|██████████████████████████████████████████████████████████████████████▋| 249/250 [00:53<00:00,  4.69round/s]"
     ]
    },
    {
     "name": "stdout",
     "output_type": "stream",
     "text": [
      "Train finished Global Round: 750\n",
      "(epoch = 3, round = 250, global round = 750), Loss/Training: 0.6967645362461448\n",
      "(epoch = 3, round = 250, global round = 750), Accuracy/Training: 52.32229630466719\n",
      "reporting (epoch = 3, round = 250, global round = 750) for aggregation\n",
      "(epoch = 3, round = 250, global round = 750), Loss/Aggregation: 0.7078465223312378\n",
      "(epoch = 3, round = 250, global round = 750), Accuracy/Aggregation: 32.0\n",
      "Running (epoch = 3, round = 250, global round = 750) for Eval\n",
      "(epoch = 3, round = 250, global round = 750), Loss/Eval: 0.6934248350778833\n",
      "(epoch = 3, round = 250, global round = 750), Accuracy/Eval: 49.894366197183096\n",
      "Current eval accuracy: {'Accuracy': 49.894366197183096}%, Best so far: {'Accuracy': 61.16197183098591}%\n"
     ]
    },
    {
     "name": "stderr",
     "output_type": "stream",
     "text": [
      "Round: 100%|███████████████████████████████████████████████████████████████████████| 250/250 [00:56<00:00,  4.41round/s]\n",
      "Round: 100%|██████████████████████████████████████████████████████████████████████▋| 249/250 [00:56<00:00,  4.63round/s]"
     ]
    },
    {
     "name": "stdout",
     "output_type": "stream",
     "text": [
      "Train finished Global Round: 1000\n",
      "(epoch = 4, round = 250, global round = 1000), Loss/Training: 0.6975282348121117\n",
      "(epoch = 4, round = 250, global round = 1000), Accuracy/Training: 48.99251583189407\n",
      "reporting (epoch = 4, round = 250, global round = 1000) for aggregation\n",
      "(epoch = 4, round = 250, global round = 1000), Loss/Aggregation: 0.6899082958698273\n",
      "(epoch = 4, round = 250, global round = 1000), Accuracy/Aggregation: 52.38095238095238\n",
      "Running (epoch = 4, round = 250, global round = 1000) for Eval\n",
      "(epoch = 4, round = 250, global round = 1000), Loss/Eval: 0.6934284337591178\n",
      "(epoch = 4, round = 250, global round = 1000), Accuracy/Eval: 49.894366197183096\n",
      "Current eval accuracy: {'Accuracy': 49.894366197183096}%, Best so far: {'Accuracy': 61.16197183098591}%\n"
     ]
    },
    {
     "name": "stderr",
     "output_type": "stream",
     "text": [
      "Round: 100%|███████████████████████████████████████████████████████████████████████| 250/250 [00:59<00:00,  4.21round/s]\n",
      "Round: 100%|██████████████████████████████████████████████████████████████████████▋| 249/250 [00:54<00:00,  4.39round/s]"
     ]
    },
    {
     "name": "stdout",
     "output_type": "stream",
     "text": [
      "Train finished Global Round: 1250\n",
      "(epoch = 5, round = 250, global round = 1250), Loss/Training: 0.6939117038297274\n",
      "(epoch = 5, round = 250, global round = 1250), Accuracy/Training: 51.6491067338525\n",
      "reporting (epoch = 5, round = 250, global round = 1250) for aggregation\n",
      "(epoch = 5, round = 250, global round = 1250), Loss/Aggregation: 0.6790718078613281\n",
      "(epoch = 5, round = 250, global round = 1250), Accuracy/Aggregation: 63.41463414634146\n",
      "Running (epoch = 5, round = 250, global round = 1250) for Eval\n",
      "(epoch = 5, round = 250, global round = 1250), Loss/Eval: 0.69370306965533\n",
      "(epoch = 5, round = 250, global round = 1250), Accuracy/Eval: 49.894366197183096\n",
      "Current eval accuracy: {'Accuracy': 49.894366197183096}%, Best so far: {'Accuracy': 61.16197183098591}%\n"
     ]
    },
    {
     "name": "stderr",
     "output_type": "stream",
     "text": [
      "Round: 100%|███████████████████████████████████████████████████████████████████████| 250/250 [00:58<00:00,  4.31round/s]\n",
      "Round: 100%|██████████████████████████████████████████████████████████████████████▋| 249/250 [00:57<00:00,  4.59round/s]"
     ]
    },
    {
     "name": "stdout",
     "output_type": "stream",
     "text": [
      "Train finished Global Round: 1500\n",
      "(epoch = 6, round = 250, global round = 1500), Loss/Training: 0.7004505507795236\n",
      "(epoch = 6, round = 250, global round = 1500), Accuracy/Training: 51.44143178651806\n",
      "reporting (epoch = 6, round = 250, global round = 1500) for aggregation\n",
      "(epoch = 6, round = 250, global round = 1500), Loss/Aggregation: 0.6938605844974518\n",
      "(epoch = 6, round = 250, global round = 1500), Accuracy/Aggregation: 57.142857142857146\n",
      "Running (epoch = 6, round = 250, global round = 1500) for Eval\n",
      "(epoch = 6, round = 250, global round = 1500), Loss/Eval: 0.6963368983236222\n",
      "(epoch = 6, round = 250, global round = 1500), Accuracy/Eval: 49.894366197183096\n",
      "Current eval accuracy: {'Accuracy': 49.894366197183096}%, Best so far: {'Accuracy': 61.16197183098591}%\n"
     ]
    },
    {
     "name": "stderr",
     "output_type": "stream",
     "text": [
      "Round: 100%|███████████████████████████████████████████████████████████████████████| 250/250 [01:00<00:00,  4.14round/s]\n",
      "Round: 100%|██████████████████████████████████████████████████████████████████████▋| 249/250 [01:02<00:00,  4.45round/s]"
     ]
    },
    {
     "name": "stdout",
     "output_type": "stream",
     "text": [
      "Train finished Global Round: 1750\n",
      "(epoch = 7, round = 250, global round = 1750), Loss/Training: 0.6974501965356394\n",
      "(epoch = 7, round = 250, global round = 1750), Accuracy/Training: 48.83850172279649\n",
      "reporting (epoch = 7, round = 250, global round = 1750) for aggregation\n",
      "(epoch = 7, round = 250, global round = 1750), Loss/Aggregation: 0.6849522650241852\n",
      "(epoch = 7, round = 250, global round = 1750), Accuracy/Aggregation: 46.15384615384615\n",
      "Running (epoch = 7, round = 250, global round = 1750) for Eval\n",
      "(epoch = 7, round = 250, global round = 1750), Loss/Eval: 0.6940459453146285\n",
      "(epoch = 7, round = 250, global round = 1750), Accuracy/Eval: 49.894366197183096\n",
      "Current eval accuracy: {'Accuracy': 49.894366197183096}%, Best so far: {'Accuracy': 61.16197183098591}%\n"
     ]
    },
    {
     "name": "stderr",
     "output_type": "stream",
     "text": [
      "Round: 100%|███████████████████████████████████████████████████████████████████████| 250/250 [01:05<00:00,  3.83round/s]\n",
      "Round: 100%|██████████████████████████████████████████████████████████████████████▋| 249/250 [00:56<00:00,  4.66round/s]"
     ]
    },
    {
     "name": "stdout",
     "output_type": "stream",
     "text": [
      "Train finished Global Round: 2000\n",
      "(epoch = 8, round = 250, global round = 2000), Loss/Training: 0.7168078689928289\n",
      "(epoch = 8, round = 250, global round = 2000), Accuracy/Training: 52.16968911917098\n",
      "reporting (epoch = 8, round = 250, global round = 2000) for aggregation\n",
      "(epoch = 8, round = 250, global round = 2000), Loss/Aggregation: 0.7341254353523254\n",
      "(epoch = 8, round = 250, global round = 2000), Accuracy/Aggregation: 50.0\n",
      "Running (epoch = 8, round = 250, global round = 2000) for Eval\n",
      "(epoch = 8, round = 250, global round = 2000), Loss/Eval: 0.7649566578281677\n",
      "(epoch = 8, round = 250, global round = 2000), Accuracy/Eval: 49.894366197183096\n",
      "Current eval accuracy: {'Accuracy': 49.894366197183096}%, Best so far: {'Accuracy': 61.16197183098591}%\n"
     ]
    },
    {
     "name": "stderr",
     "output_type": "stream",
     "text": [
      "Round: 100%|███████████████████████████████████████████████████████████████████████| 250/250 [00:59<00:00,  4.24round/s]\n",
      "Round: 100%|██████████████████████████████████████████████████████████████████████▋| 249/250 [00:54<00:00,  4.67round/s]"
     ]
    },
    {
     "name": "stdout",
     "output_type": "stream",
     "text": [
      "Train finished Global Round: 2250\n",
      "(epoch = 9, round = 250, global round = 2250), Loss/Training: 0.7053099021811886\n",
      "(epoch = 9, round = 250, global round = 2250), Accuracy/Training: 50.24555659494855\n",
      "reporting (epoch = 9, round = 250, global round = 2250) for aggregation\n",
      "(epoch = 9, round = 250, global round = 2250), Loss/Aggregation: 0.7236193933270194\n",
      "(epoch = 9, round = 250, global round = 2250), Accuracy/Aggregation: 74.39024390243902\n",
      "Running (epoch = 9, round = 250, global round = 2250) for Eval\n",
      "(epoch = 9, round = 250, global round = 2250), Loss/Eval: 0.8162274540092301\n",
      "(epoch = 9, round = 250, global round = 2250), Accuracy/Eval: 49.894366197183096\n",
      "Current eval accuracy: {'Accuracy': 49.894366197183096}%, Best so far: {'Accuracy': 61.16197183098591}%\n"
     ]
    },
    {
     "name": "stderr",
     "output_type": "stream",
     "text": [
      "Round: 100%|███████████████████████████████████████████████████████████████████████| 250/250 [00:57<00:00,  4.36round/s]\n",
      "Round: 100%|██████████████████████████████████████████████████████████████████████▋| 249/250 [00:54<00:00,  4.66round/s]"
     ]
    },
    {
     "name": "stdout",
     "output_type": "stream",
     "text": [
      "Train finished Global Round: 2500\n",
      "(epoch = 10, round = 250, global round = 2500), Loss/Training: 0.7089941604697572\n",
      "(epoch = 10, round = 250, global round = 2500), Accuracy/Training: 49.614367562803\n",
      "reporting (epoch = 10, round = 250, global round = 2500) for aggregation\n",
      "(epoch = 10, round = 250, global round = 2500), Loss/Aggregation: 0.6971980392932892\n",
      "(epoch = 10, round = 250, global round = 2500), Accuracy/Aggregation: 23.529411764705884\n",
      "Running (epoch = 10, round = 250, global round = 2500) for Eval\n",
      "(epoch = 10, round = 250, global round = 2500), Loss/Eval: 0.6932840736764433\n",
      "(epoch = 10, round = 250, global round = 2500), Accuracy/Eval: 50.105633802816904\n",
      "Current eval accuracy: {'Accuracy': 50.105633802816904}%, Best so far: {'Accuracy': 61.16197183098591}%\n"
     ]
    },
    {
     "name": "stderr",
     "output_type": "stream",
     "text": [
      "Round: 100%|███████████████████████████████████████████████████████████████████████| 250/250 [00:57<00:00,  4.34round/s]\n",
      "Round: 100%|██████████████████████████████████████████████████████████████████████▋| 249/250 [00:55<00:00,  4.66round/s]"
     ]
    },
    {
     "name": "stdout",
     "output_type": "stream",
     "text": [
      "Train finished Global Round: 2750\n",
      "(epoch = 11, round = 250, global round = 2750), Loss/Training: 0.6988611590236911\n",
      "(epoch = 11, round = 250, global round = 2750), Accuracy/Training: 51.21789193976971\n",
      "reporting (epoch = 11, round = 250, global round = 2750) for aggregation\n",
      "(epoch = 11, round = 250, global round = 2750), Loss/Aggregation: 0.6977804183959961\n",
      "(epoch = 11, round = 250, global round = 2750), Accuracy/Aggregation: 52.17391304347826\n",
      "Running (epoch = 11, round = 250, global round = 2750) for Eval\n",
      "(epoch = 11, round = 250, global round = 2750), Loss/Eval: 0.6938758436284101\n",
      "(epoch = 11, round = 250, global round = 2750), Accuracy/Eval: 50.105633802816904\n",
      "Current eval accuracy: {'Accuracy': 50.105633802816904}%, Best so far: {'Accuracy': 61.16197183098591}%\n"
     ]
    },
    {
     "name": "stderr",
     "output_type": "stream",
     "text": [
      "Round: 100%|███████████████████████████████████████████████████████████████████████| 250/250 [00:58<00:00,  4.29round/s]\n",
      "Round: 100%|██████████████████████████████████████████████████████████████████████▋| 249/250 [00:55<00:00,  4.59round/s]"
     ]
    },
    {
     "name": "stdout",
     "output_type": "stream",
     "text": [
      "Train finished Global Round: 3000\n",
      "(epoch = 12, round = 250, global round = 3000), Loss/Training: 0.6936772464527449\n",
      "(epoch = 12, round = 250, global round = 3000), Accuracy/Training: 51.435084447207544\n",
      "reporting (epoch = 12, round = 250, global round = 3000) for aggregation\n",
      "(epoch = 12, round = 250, global round = 3000), Loss/Aggregation: 0.6909765779972077\n",
      "(epoch = 12, round = 250, global round = 3000), Accuracy/Aggregation: 53.125\n",
      "Running (epoch = 12, round = 250, global round = 3000) for Eval\n",
      "(epoch = 12, round = 250, global round = 3000), Loss/Eval: 0.6940433620163298\n",
      "(epoch = 12, round = 250, global round = 3000), Accuracy/Eval: 50.105633802816904\n",
      "Current eval accuracy: {'Accuracy': 50.105633802816904}%, Best so far: {'Accuracy': 61.16197183098591}%\n"
     ]
    },
    {
     "name": "stderr",
     "output_type": "stream",
     "text": [
      "Round: 100%|███████████████████████████████████████████████████████████████████████| 250/250 [00:58<00:00,  4.30round/s]\n",
      "Round: 100%|██████████████████████████████████████████████████████████████████████▋| 249/250 [00:54<00:00,  4.64round/s]"
     ]
    },
    {
     "name": "stdout",
     "output_type": "stream",
     "text": [
      "Train finished Global Round: 3250\n",
      "(epoch = 13, round = 250, global round = 3250), Loss/Training: 0.6967516833605129\n",
      "(epoch = 13, round = 250, global round = 3250), Accuracy/Training: 52.4681878016674\n",
      "reporting (epoch = 13, round = 250, global round = 3250) for aggregation\n",
      "(epoch = 13, round = 250, global round = 3250), Loss/Aggregation: 0.6879820048809051\n",
      "(epoch = 13, round = 250, global round = 3250), Accuracy/Aggregation: 54.166666666666664\n",
      "Running (epoch = 13, round = 250, global round = 3250) for Eval\n",
      "(epoch = 13, round = 250, global round = 3250), Loss/Eval: 0.6939481988375894\n",
      "(epoch = 13, round = 250, global round = 3250), Accuracy/Eval: 50.105633802816904\n",
      "Current eval accuracy: {'Accuracy': 50.105633802816904}%, Best so far: {'Accuracy': 61.16197183098591}%\n"
     ]
    },
    {
     "name": "stderr",
     "output_type": "stream",
     "text": [
      "Round: 100%|███████████████████████████████████████████████████████████████████████| 250/250 [00:57<00:00,  4.35round/s]\n",
      "Round: 100%|██████████████████████████████████████████████████████████████████████▋| 249/250 [01:00<00:00,  4.40round/s]"
     ]
    },
    {
     "name": "stdout",
     "output_type": "stream",
     "text": [
      "Train finished Global Round: 3500\n",
      "(epoch = 14, round = 250, global round = 3500), Loss/Training: 0.7058649357742928\n",
      "(epoch = 14, round = 250, global round = 3500), Accuracy/Training: 51.12711333750783\n",
      "reporting (epoch = 14, round = 250, global round = 3500) for aggregation\n",
      "(epoch = 14, round = 250, global round = 3500), Loss/Aggregation: 0.7137420058250428\n",
      "(epoch = 14, round = 250, global round = 3500), Accuracy/Aggregation: 46.15384615384615\n",
      "Running (epoch = 14, round = 250, global round = 3500) for Eval\n",
      "(epoch = 14, round = 250, global round = 3500), Loss/Eval: 0.6945268516793004\n",
      "(epoch = 14, round = 250, global round = 3500), Accuracy/Eval: 50.105633802816904\n",
      "Current eval accuracy: {'Accuracy': 50.105633802816904}%, Best so far: {'Accuracy': 61.16197183098591}%\n"
     ]
    },
    {
     "name": "stderr",
     "output_type": "stream",
     "text": [
      "Round: 100%|███████████████████████████████████████████████████████████████████████| 250/250 [01:03<00:00,  3.94round/s]\n",
      "Round: 100%|██████████████████████████████████████████████████████████████████████▋| 249/250 [00:58<00:00,  4.42round/s]"
     ]
    },
    {
     "name": "stdout",
     "output_type": "stream",
     "text": [
      "Train finished Global Round: 3750\n",
      "(epoch = 15, round = 250, global round = 3750), Loss/Training: 0.7143588557768548\n",
      "(epoch = 15, round = 250, global round = 3750), Accuracy/Training: 47.42482230727173\n",
      "reporting (epoch = 15, round = 250, global round = 3750) for aggregation\n",
      "(epoch = 15, round = 250, global round = 3750), Loss/Aggregation: 0.6842413961887359\n",
      "(epoch = 15, round = 250, global round = 3750), Accuracy/Aggregation: 74.0\n",
      "Running (epoch = 15, round = 250, global round = 3750) for Eval\n",
      "(epoch = 15, round = 250, global round = 3750), Loss/Eval: 0.6932279591191212\n",
      "(epoch = 15, round = 250, global round = 3750), Accuracy/Eval: 49.894366197183096\n",
      "Current eval accuracy: {'Accuracy': 49.894366197183096}%, Best so far: {'Accuracy': 61.16197183098591}%\n"
     ]
    },
    {
     "name": "stderr",
     "output_type": "stream",
     "text": [
      "Round: 100%|███████████████████████████████████████████████████████████████████████| 250/250 [01:01<00:00,  4.09round/s]\n",
      "Round: 100%|██████████████████████████████████████████████████████████████████████▋| 249/250 [00:57<00:00,  4.35round/s]"
     ]
    },
    {
     "name": "stdout",
     "output_type": "stream",
     "text": [
      "Train finished Global Round: 4000\n",
      "(epoch = 16, round = 250, global round = 4000), Loss/Training: 0.7177827012892997\n",
      "(epoch = 16, round = 250, global round = 4000), Accuracy/Training: 52.16686480060521\n",
      "reporting (epoch = 16, round = 250, global round = 4000) for aggregation\n",
      "(epoch = 16, round = 250, global round = 4000), Loss/Aggregation: 0.6926134169101715\n",
      "(epoch = 16, round = 250, global round = 4000), Accuracy/Aggregation: 62.857142857142854\n",
      "Running (epoch = 16, round = 250, global round = 4000) for Eval\n",
      "(epoch = 16, round = 250, global round = 4000), Loss/Eval: 0.693206798489965\n",
      "(epoch = 16, round = 250, global round = 4000), Accuracy/Eval: 50.105633802816904\n",
      "Current eval accuracy: {'Accuracy': 50.105633802816904}%, Best so far: {'Accuracy': 61.16197183098591}%\n"
     ]
    },
    {
     "name": "stderr",
     "output_type": "stream",
     "text": [
      "Round: 100%|██████████████████████████████████████████████████████████████████████▋| 249/250 [01:00<00:00,  4.11round/s]\n",
      "Epoch:  94%|████████████████████████████████████████████████████████████████████▍    | 15/16 [15:53<01:03, 63.58s/epoch]"
     ]
    },
    {
     "name": "stdout",
     "output_type": "stream",
     "text": [
      "Running (epoch = 1, round = 1, global round = 1) for Test\n"
     ]
    },
    {
     "name": "stderr",
     "output_type": "stream",
     "text": [
      "\n",
      "100%|██████████████████████████████████████▊| 398.0/400 [6:39:06<02:00, 60.17s/it, min_score=-60.4, models_evaluated=65]"
     ]
    },
    {
     "name": "stdout",
     "output_type": "stream",
     "text": [
      "(epoch = 1, round = 1, global round = 1), Loss/Test: 0.6932067985138738\n",
      "(epoch = 1, round = 1, global round = 1), Accuracy/Test: 50.105633802816904\n",
      "-59.7887323943662 {'lr': 0.0037499225365813745, 'beta1': 0.3748361819724422}\n",
      "-58.41549295774648 {'lr': 0.0025409913083474433, 'beta1': 0.19487603380386884}\n",
      "-60.140845070422536 {'lr': 0.0014552488004682047, 'beta1': 0.2987019621384136}\n",
      "-59.014084507042256 {'lr': 0.009273429111630874, 'beta1': 0.8510905682479463}\n",
      "-51.478873239436616 {'lr': 0.06250435907488071, 'beta1': 0.8318615961940197}\n",
      "-50.95070422535211 {'lr': 0.08968893156118124, 'beta1': 0.15976682738419737}\n",
      "-60.38732394366197 {'lr': 0.0005271495713729194, 'beta1': 0.8442099272949339}\n",
      "-59.683098591549296 {'lr': 0.011817356511057834, 'beta1': 0.8050038508647508}\n",
      "-50.563380281690144 {'lr': 0.027597772628759027, 'beta1': 0.8982058022232952}\n",
      "-50.38732394366197 {'lr': 0.06700380993087887, 'beta1': 0.29485623020619667}\n",
      "-50.316901408450704 {'lr': 0.07859017075007979, 'beta1': 0.5689711616650406}\n",
      "-51.58450704225352 {'lr': 0.07234033811939071, 'beta1': 0.458078634551848}\n",
      "-56.901408450704224 {'lr': 0.01077408637072011, 'beta1': 0.1708301622180061}\n",
      "-50.105633802816904 {'lr': 0.029379821585137654, 'beta1': 0.7657732795684191}\n"
     ]
    },
    {
     "name": "stderr",
     "output_type": "stream",
     "text": [
      "\n"
     ]
    }
   ],
   "source": [
    "accuracies, hps = hyperband(objective=FLSim_Adam_objective, \n",
    "                            dimensions=dimensions,\n",
    "                            downsample=2,\n",
    "                            max_resources_per_model=2**4) # this parameter needs adjusting\n",
    "for acc, hp in zip(accuracies, hps):\n",
    "    print(acc, hp)"
   ]
  },
  {
   "cell_type": "code",
   "execution_count": null,
   "id": "9fbfbcae",
   "metadata": {},
   "outputs": [],
   "source": [
    "accuracies, hps = hyperband(objective=FLSim_Adam_objective, \n",
    "                            dimensions=dimensions,\n",
    "                            downsample=3,\n",
    "                            max_resources_per_model=3**4)\n",
    "for acc, hp in zip(accuracies, hps):\n",
    "    print(acc, hp)"
   ]
  }
 ],
 "metadata": {
  "kernelspec": {
   "display_name": "Python 3 (ipykernel)",
   "language": "python",
   "name": "python3"
  },
  "language_info": {
   "codemirror_mode": {
    "name": "ipython",
    "version": 3
   },
   "file_extension": ".py",
   "mimetype": "text/x-python",
   "name": "python",
   "nbconvert_exporter": "python",
   "pygments_lexer": "ipython3",
   "version": "3.8.12"
  }
 },
 "nbformat": 4,
 "nbformat_minor": 5
}
